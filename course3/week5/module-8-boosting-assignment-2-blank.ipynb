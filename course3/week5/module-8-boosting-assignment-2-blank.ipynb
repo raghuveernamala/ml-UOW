{
 "cells": [
  {
   "cell_type": "markdown",
   "metadata": {},
   "source": [
    "# Boosting a decision stump\n",
    "\n",
    "The goal of this notebook is to implement your own boosting module.\n",
    "\n",
    "**Brace yourselves**! This is going to be a fun and challenging assignment.\n",
    "\n",
    "\n",
    "* Use SFrames to do some feature engineering.\n",
    "* Modify the decision trees to incorporate weights.\n",
    "* Implement Adaboost ensembling.\n",
    "* Use your implementation of Adaboost to train a boosted decision stump ensemble.\n",
    "* Evaluate the effect of boosting (adding more decision stumps) on performance of the model.\n",
    "* Explore the robustness of Adaboost to overfitting.\n",
    "\n",
    "Let's get started!"
   ]
  },
  {
   "cell_type": "markdown",
   "metadata": {},
   "source": [
    "## Fire up GraphLab Create"
   ]
  },
  {
   "cell_type": "markdown",
   "metadata": {},
   "source": [
    "Make sure you have the latest version of GraphLab Create **(1.8.3 or newer)**. Upgrade by\n",
    "```\n",
    "   pip install graphlab-create --upgrade\n",
    "```\n",
    "See [this page](https://dato.com/download/) for detailed instructions on upgrading."
   ]
  },
  {
   "cell_type": "code",
   "execution_count": 1,
   "metadata": {},
   "outputs": [
    {
     "name": "stdout",
     "output_type": "stream",
     "text": [
      "This non-commercial license of GraphLab Create for academic use is assigned to raghuveernamala@gmail.com and will expire on January 08, 2019.\n"
     ]
    },
    {
     "name": "stderr",
     "output_type": "stream",
     "text": [
      "[INFO] graphlab.cython.cy_server: GraphLab Create v2.1 started. Logging: /tmp/graphlab_server_1519695036.log\n"
     ]
    }
   ],
   "source": [
    "import graphlab\n",
    "import matplotlib.pyplot as plt\n",
    "%matplotlib inline"
   ]
  },
  {
   "cell_type": "markdown",
   "metadata": {},
   "source": [
    "# Getting the data ready"
   ]
  },
  {
   "cell_type": "markdown",
   "metadata": {},
   "source": [
    "We will be using the same [LendingClub](https://www.lendingclub.com/) dataset as in the previous assignment."
   ]
  },
  {
   "cell_type": "code",
   "execution_count": 2,
   "metadata": {},
   "outputs": [],
   "source": [
    "loans = graphlab.SFrame('../week3/lending-club-data.gl/')"
   ]
  },
  {
   "cell_type": "markdown",
   "metadata": {},
   "source": [
    "### Extracting the target and the feature columns\n",
    "\n",
    "We will now repeat some of the feature processing steps that we saw in the previous assignment:\n",
    "\n",
    "First, we re-assign the target to have +1 as a safe (good) loan, and -1 as a risky (bad) loan.\n",
    "\n",
    "Next, we select four categorical features: \n",
    "1. grade of the loan \n",
    "2. the length of the loan term\n",
    "3. the home ownership status: own, mortgage, rent\n",
    "4. number of years of employment."
   ]
  },
  {
   "cell_type": "code",
   "execution_count": 3,
   "metadata": {},
   "outputs": [
    {
     "data": {
      "text/html": [
       "<pre>Using default 16 lambda workers.</pre>"
      ],
      "text/plain": [
       "Using default 16 lambda workers."
      ]
     },
     "metadata": {},
     "output_type": "display_data"
    },
    {
     "data": {
      "text/html": [
       "<pre>To maximize the degree of parallelism, add the following code to the beginning of the program:</pre>"
      ],
      "text/plain": [
       "To maximize the degree of parallelism, add the following code to the beginning of the program:"
      ]
     },
     "metadata": {},
     "output_type": "display_data"
    },
    {
     "data": {
      "text/html": [
       "<pre>\"graphlab.set_runtime_config('GRAPHLAB_DEFAULT_NUM_PYLAMBDA_WORKERS', 24)\"</pre>"
      ],
      "text/plain": [
       "\"graphlab.set_runtime_config('GRAPHLAB_DEFAULT_NUM_PYLAMBDA_WORKERS', 24)\""
      ]
     },
     "metadata": {},
     "output_type": "display_data"
    },
    {
     "data": {
      "text/html": [
       "<pre>Note that increasing the degree of parallelism also increases the memory footprint.</pre>"
      ],
      "text/plain": [
       "Note that increasing the degree of parallelism also increases the memory footprint."
      ]
     },
     "metadata": {},
     "output_type": "display_data"
    }
   ],
   "source": [
    "features = ['grade',              # grade of the loan\n",
    "            'term',               # the term of the loan\n",
    "            'home_ownership',     # home ownership status: own, mortgage or rent\n",
    "            'emp_length',         # number of years of employment\n",
    "           ]\n",
    "loans['safe_loans'] = loans['bad_loans'].apply(lambda x : +1 if x==0 else -1)\n",
    "loans.remove_column('bad_loans')\n",
    "target = 'safe_loans'\n",
    "loans = loans[features + [target]]"
   ]
  },
  {
   "cell_type": "markdown",
   "metadata": {},
   "source": [
    "### Subsample dataset to make sure classes are balanced"
   ]
  },
  {
   "cell_type": "markdown",
   "metadata": {},
   "source": [
    "Just as we did in the previous assignment, we will undersample the larger class (safe loans) in order to balance out our dataset. This means we are throwing away many data points. We use `seed=1` so everyone gets the same results."
   ]
  },
  {
   "cell_type": "code",
   "execution_count": 4,
   "metadata": {},
   "outputs": [
    {
     "name": "stdout",
     "output_type": "stream",
     "text": [
      "Percentage of safe loans                 : 0.502236174422\n",
      "Percentage of risky loans                : 0.497763825578\n",
      "Total number of loans in our new dataset : 46508\n"
     ]
    }
   ],
   "source": [
    "safe_loans_raw = loans[loans[target] == 1]\n",
    "risky_loans_raw = loans[loans[target] == -1]\n",
    "\n",
    "# Undersample the safe loans.\n",
    "percentage = len(risky_loans_raw)/float(len(safe_loans_raw))\n",
    "risky_loans = risky_loans_raw\n",
    "safe_loans = safe_loans_raw.sample(percentage, seed=1)\n",
    "loans_data = risky_loans_raw.append(safe_loans)\n",
    "\n",
    "print \"Percentage of safe loans                 :\", len(safe_loans) / float(len(loans_data))\n",
    "print \"Percentage of risky loans                :\", len(risky_loans) / float(len(loans_data))\n",
    "print \"Total number of loans in our new dataset :\", len(loans_data)"
   ]
  },
  {
   "cell_type": "markdown",
   "metadata": {},
   "source": [
    "**Note:** There are many approaches for dealing with imbalanced data, including some where we modify the learning algorithm. These approaches are beyond the scope of this course, but some of them are reviewed in this [paper](http://ieeexplore.ieee.org/xpl/login.jsp?tp=&arnumber=5128907&url=http%3A%2F%2Fieeexplore.ieee.org%2Fiel5%2F69%2F5173046%2F05128907.pdf%3Farnumber%3D5128907 ). For this assignment, we use the simplest possible approach, where we subsample the overly represented class to get a more balanced dataset. In general, and especially when the data is highly imbalanced, we recommend using more advanced methods."
   ]
  },
  {
   "cell_type": "markdown",
   "metadata": {},
   "source": [
    "### Transform categorical data into binary features"
   ]
  },
  {
   "cell_type": "markdown",
   "metadata": {},
   "source": [
    "In this assignment, we will work with **binary decision trees**. Since all of our features are currently categorical features, we want to turn them into binary features using 1-hot encoding. \n",
    "\n",
    "We can do so with the following code block (see the first assignments for more details):"
   ]
  },
  {
   "cell_type": "code",
   "execution_count": 5,
   "metadata": {},
   "outputs": [],
   "source": [
    "loans_data = risky_loans.append(safe_loans)\n",
    "for feature in features:\n",
    "    loans_data_one_hot_encoded = loans_data[feature].apply(lambda x: {x: 1})    \n",
    "    loans_data_unpacked = loans_data_one_hot_encoded.unpack(column_name_prefix=feature)\n",
    "    \n",
    "    # Change None's to 0's\n",
    "    for column in loans_data_unpacked.column_names():\n",
    "        loans_data_unpacked[column] = loans_data_unpacked[column].fillna(0)\n",
    "\n",
    "    loans_data.remove_column(feature)\n",
    "    loans_data.add_columns(loans_data_unpacked)"
   ]
  },
  {
   "cell_type": "markdown",
   "metadata": {},
   "source": [
    "Let's see what the feature columns look like now:"
   ]
  },
  {
   "cell_type": "code",
   "execution_count": 6,
   "metadata": {},
   "outputs": [
    {
     "data": {
      "text/plain": [
       "['grade.A',\n",
       " 'grade.B',\n",
       " 'grade.C',\n",
       " 'grade.D',\n",
       " 'grade.E',\n",
       " 'grade.F',\n",
       " 'grade.G',\n",
       " 'term. 36 months',\n",
       " 'term. 60 months',\n",
       " 'home_ownership.MORTGAGE',\n",
       " 'home_ownership.OTHER',\n",
       " 'home_ownership.OWN',\n",
       " 'home_ownership.RENT',\n",
       " 'emp_length.1 year',\n",
       " 'emp_length.10+ years',\n",
       " 'emp_length.2 years',\n",
       " 'emp_length.3 years',\n",
       " 'emp_length.4 years',\n",
       " 'emp_length.5 years',\n",
       " 'emp_length.6 years',\n",
       " 'emp_length.7 years',\n",
       " 'emp_length.8 years',\n",
       " 'emp_length.9 years',\n",
       " 'emp_length.< 1 year',\n",
       " 'emp_length.n/a']"
      ]
     },
     "execution_count": 6,
     "metadata": {},
     "output_type": "execute_result"
    }
   ],
   "source": [
    "features = loans_data.column_names()\n",
    "features.remove('safe_loans')  # Remove the response variable\n",
    "features"
   ]
  },
  {
   "cell_type": "markdown",
   "metadata": {},
   "source": [
    "### Train-test split\n",
    "\n",
    "We split the data into training and test sets with 80% of the data in the training set and 20% of the data in the test set. We use `seed=1` so that everyone gets the same result."
   ]
  },
  {
   "cell_type": "code",
   "execution_count": 7,
   "metadata": {},
   "outputs": [],
   "source": [
    "train_data, test_data = loans_data.random_split(0.8, seed=1)"
   ]
  },
  {
   "cell_type": "markdown",
   "metadata": {},
   "source": [
    "# Weighted decision trees"
   ]
  },
  {
   "cell_type": "markdown",
   "metadata": {},
   "source": [
    "Let's modify our decision tree code from Module 5 to support weighting of individual data points."
   ]
  },
  {
   "cell_type": "markdown",
   "metadata": {},
   "source": [
    "### Weighted error definition\n",
    "\n",
    "Consider a model with $N$ data points with:\n",
    "* Predictions $\\hat{y}_1 ... \\hat{y}_n$ \n",
    "* Target $y_1 ... y_n$ \n",
    "* Data point weights $\\alpha_1 ... \\alpha_n$.\n",
    "\n",
    "Then the **weighted error** is defined by:\n",
    "$$\n",
    "\\mathrm{E}(\\mathbf{\\alpha}, \\mathbf{\\hat{y}}) = \\frac{\\sum_{i=1}^{n} \\alpha_i \\times 1[y_i \\neq \\hat{y_i}]}{\\sum_{i=1}^{n} \\alpha_i}\n",
    "$$\n",
    "where $1[y_i \\neq \\hat{y_i}]$ is an indicator function that is set to $1$ if $y_i \\neq \\hat{y_i}$.\n",
    "\n",
    "\n",
    "### Write a function to compute weight of mistakes\n",
    "\n",
    "Write a function that calculates the weight of mistakes for making the \"weighted-majority\" predictions for a dataset. The function accepts two inputs:\n",
    "* `labels_in_node`: Targets $y_1 ... y_n$ \n",
    "* `data_weights`: Data point weights $\\alpha_1 ... \\alpha_n$\n",
    "\n",
    "We are interested in computing the (total) weight of mistakes, i.e.\n",
    "$$\n",
    "\\mathrm{WM}(\\mathbf{\\alpha}, \\mathbf{\\hat{y}}) = \\sum_{i=1}^{n} \\alpha_i \\times 1[y_i \\neq \\hat{y_i}].\n",
    "$$\n",
    "This quantity is analogous to the number of mistakes, except that each mistake now carries different weight. It is related to the weighted error in the following way:\n",
    "$$\n",
    "\\mathrm{E}(\\mathbf{\\alpha}, \\mathbf{\\hat{y}}) = \\frac{\\mathrm{WM}(\\mathbf{\\alpha}, \\mathbf{\\hat{y}})}{\\sum_{i=1}^{n} \\alpha_i}\n",
    "$$\n",
    "\n",
    "The function **intermediate_node_weighted_mistakes** should first compute two weights: \n",
    " * $\\mathrm{WM}_{-1}$: weight of mistakes when all predictions are $\\hat{y}_i = -1$ i.e $\\mathrm{WM}(\\mathbf{\\alpha}, \\mathbf{-1}$)\n",
    " * $\\mathrm{WM}_{+1}$: weight of mistakes when all predictions are $\\hat{y}_i = +1$ i.e $\\mbox{WM}(\\mathbf{\\alpha}, \\mathbf{+1}$)\n",
    " \n",
    " where $\\mathbf{-1}$ and $\\mathbf{+1}$ are vectors where all values are -1 and +1 respectively.\n",
    " \n",
    "After computing $\\mathrm{WM}_{-1}$ and $\\mathrm{WM}_{+1}$, the function **intermediate_node_weighted_mistakes** should return the lower of the two weights of mistakes, along with the class associated with that weight. We have provided a skeleton for you with `YOUR CODE HERE` to be filled in several places."
   ]
  },
  {
   "cell_type": "code",
   "execution_count": 8,
   "metadata": {},
   "outputs": [],
   "source": [
    "def intermediate_node_weighted_mistakes(labels_in_node, data_weights):\n",
    "    # Sum the weights of all entries with label +1\n",
    "    total_weight_positive = sum(data_weights[labels_in_node == +1])\n",
    "#     print('total_weight_positive : ', total_weight_positive)\n",
    "    # Weight of mistakes for predicting all -1's is equal to the sum above\n",
    "    ### YOUR CODE HERE\n",
    "    weighted_mistakes_all_negative = sum(data_weights[labels_in_node == -1])\n",
    "    \n",
    "    # Sum the weights of all entries with label -1\n",
    "    ### YOUR CODE HERE\n",
    "    total_weight_negative = sum(data_weights[labels_in_node == -1])\n",
    "#     print('total_weight_negative : ', total_weight_negative)\n",
    "    # Weight of mistakes for predicting all +1's is equal to the sum above\n",
    "    ### YOUR CODE HERE\n",
    "    weighted_mistakes_all_positive = sum(data_weights[labels_in_node == 1])\n",
    "    \n",
    "    # Return the tuple (weight, class_label) representing the lower of the two weights\n",
    "    #    class_label should be an integer of value +1 or -1.\n",
    "    # If the two weights are identical, return (weighted_mistakes_all_positive,+1)\n",
    "    ### YOUR CODE HERE\n",
    "\n",
    "    if total_weight_positive <= total_weight_negative:\n",
    "        weight = weighted_mistakes_all_positive\n",
    "        label = -1\n",
    "    else:\n",
    "        weight = weighted_mistakes_all_negative\n",
    "        label = +1\n",
    "#     print(weight, label)    \n",
    "    return (weight, label)"
   ]
  },
  {
   "cell_type": "markdown",
   "metadata": {},
   "source": [
    "**Checkpoint:** Test your **intermediate_node_weighted_mistakes** function, run the following cell:"
   ]
  },
  {
   "cell_type": "code",
   "execution_count": 9,
   "metadata": {},
   "outputs": [
    {
     "name": "stdout",
     "output_type": "stream",
     "text": [
      "Test passed!\n"
     ]
    }
   ],
   "source": [
    "example_labels = graphlab.SArray([-1, -1, 1, 1, 1])\n",
    "example_data_weights = graphlab.SArray([1., 2., .5, 1., 1.])\n",
    "if intermediate_node_weighted_mistakes(example_labels, example_data_weights) == (2.5, -1):\n",
    "    print 'Test passed!'\n",
    "else:\n",
    "    print 'Test failed... try again!'"
   ]
  },
  {
   "cell_type": "markdown",
   "metadata": {},
   "source": [
    "Recall that the **classification error** is defined as follows:\n",
    "$$\n",
    "\\mbox{classification error} = \\frac{\\mbox{# mistakes}}{\\mbox{# all data points}}\n",
    "$$\n",
    "\n",
    "**Quiz Question:** If we set the weights $\\mathbf{\\alpha} = 1$ for all data points, how is the weight of mistakes $\\mbox{WM}(\\mathbf{\\alpha}, \\mathbf{\\hat{y}})$ related to the `classification error`?"
   ]
  },
  {
   "cell_type": "markdown",
   "metadata": {},
   "source": [
    "### Function to pick best feature to split on"
   ]
  },
  {
   "cell_type": "markdown",
   "metadata": {},
   "source": [
    "We continue modifying our decision tree code from the earlier assignment to incorporate weighting of individual data points. The next step is to pick the best feature to split on.\n",
    "\n",
    "The **best_splitting_feature** function is similar to the one from the earlier assignment with two minor modifications:\n",
    "  1. The function **best_splitting_feature** should now accept an extra parameter `data_weights` to take account of weights of data points.\n",
    "  2. Instead of computing the number of mistakes in the left and right side of the split, we compute the weight of mistakes for both sides, add up the two weights, and divide it by the total weight of the data.\n",
    "  \n",
    "Complete the following function. Comments starting with `DIFFERENT HERE` mark the sections where the weighted version differs from the original implementation."
   ]
  },
  {
   "cell_type": "code",
   "execution_count": 10,
   "metadata": {},
   "outputs": [],
   "source": [
    "def best_splitting_feature(data, features, target, data_weights):\n",
    "    \n",
    "    # These variables will keep track of the best feature and the corresponding error\n",
    "    best_feature = None\n",
    "    best_error = float('+inf') \n",
    "    num_points = float(len(data))\n",
    "\n",
    "    # Loop through each feature to consider splitting on that feature\n",
    "    for feature in features:\n",
    "        \n",
    "        # The left split will have all data points where the feature value is 0\n",
    "        # The right split will have all data points where the feature value is 1\n",
    "        left_split = data[data[feature] == 0]\n",
    "        right_split = data[data[feature] == 1]\n",
    "        \n",
    "        # Apply the same filtering to data_weights to create left_data_weights, right_data_weights\n",
    "        ## YOUR CODE HERE\n",
    "        left_data_weights = data_weights[data[feature] == 0]\n",
    "        right_data_weights = data_weights[data[feature] == 1]\n",
    "                    \n",
    "        # DIFFERENT HERE\n",
    "        # Calculate the weight of mistakes for left and right sides\n",
    "        ## YOUR CODE HERE\n",
    "        left_weighted_mistakes, left_class = intermediate_node_weighted_mistakes(left_split[target], left_data_weights)\n",
    "        right_weighted_mistakes, right_class = intermediate_node_weighted_mistakes(right_split[target], right_data_weights)\n",
    "        \n",
    "        # DIFFERENT HERE\n",
    "        # Compute weighted error by computing\n",
    "        #  ( [weight of mistakes (left)] + [weight of mistakes (right)] ) / [total weight of all data points]\n",
    "        ## YOUR CODE HERE\n",
    "        error = ( left_weighted_mistakes + right_weighted_mistakes ) / float(sum(data_weights))\n",
    "#         print('best_error: ', best_error)\n",
    "#         print('best_feature :', best_feature)\n",
    "        # If this is the best error we have found so far, store the feature and the error\n",
    "        if error < best_error:\n",
    "            best_feature = feature\n",
    "            best_error = error\n",
    "    \n",
    "    # Return the best feature we found\n",
    "    return best_feature"
   ]
  },
  {
   "cell_type": "code",
   "execution_count": null,
   "metadata": {},
   "outputs": [],
   "source": []
  },
  {
   "cell_type": "markdown",
   "metadata": {},
   "source": [
    "**Checkpoint:** Now, we have another checkpoint to make sure you are on the right track."
   ]
  },
  {
   "cell_type": "code",
   "execution_count": 11,
   "metadata": {},
   "outputs": [
    {
     "name": "stdout",
     "output_type": "stream",
     "text": [
      "Test passed!\n"
     ]
    }
   ],
   "source": [
    "example_data_weights = graphlab.SArray(len(train_data)* [1.5])\n",
    "if best_splitting_feature(train_data, features, target, example_data_weights) == 'term. 36 months':\n",
    "    print 'Test passed!'\n",
    "else:\n",
    "    print 'Test failed... try again!'"
   ]
  },
  {
   "cell_type": "markdown",
   "metadata": {},
   "source": [
    "**Note**. If you get an exception in the line of \"the logical filter has different size than the array\", try upgradting your GraphLab Create installation to 1.8.3 or newer."
   ]
  },
  {
   "cell_type": "markdown",
   "metadata": {},
   "source": [
    "**Very Optional**. Relationship between weighted error and weight of mistakes\n",
    "\n",
    "By definition, the weighted error is the weight of mistakes divided by the weight of all data points, so\n",
    "$$\n",
    "\\mathrm{E}(\\mathbf{\\alpha}, \\mathbf{\\hat{y}}) = \\frac{\\sum_{i=1}^{n} \\alpha_i \\times 1[y_i \\neq \\hat{y_i}]}{\\sum_{i=1}^{n} \\alpha_i} = \\frac{\\mathrm{WM}(\\mathbf{\\alpha}, \\mathbf{\\hat{y}})}{\\sum_{i=1}^{n} \\alpha_i}.\n",
    "$$\n",
    "\n",
    "In the code above, we obtain $\\mathrm{E}(\\mathbf{\\alpha}, \\mathbf{\\hat{y}})$ from the two weights of mistakes from both sides, $\\mathrm{WM}(\\mathbf{\\alpha}_{\\mathrm{left}}, \\mathbf{\\hat{y}}_{\\mathrm{left}})$ and $\\mathrm{WM}(\\mathbf{\\alpha}_{\\mathrm{right}}, \\mathbf{\\hat{y}}_{\\mathrm{right}})$. First, notice that the overall weight of mistakes $\\mathrm{WM}(\\mathbf{\\alpha}, \\mathbf{\\hat{y}})$ can be broken into two weights of mistakes over either side of the split:\n",
    "$$\n",
    "\\mathrm{WM}(\\mathbf{\\alpha}, \\mathbf{\\hat{y}})\n",
    "= \\sum_{i=1}^{n} \\alpha_i \\times 1[y_i \\neq \\hat{y_i}]\n",
    "= \\sum_{\\mathrm{left}} \\alpha_i \\times 1[y_i \\neq \\hat{y_i}]\n",
    " + \\sum_{\\mathrm{right}} \\alpha_i \\times 1[y_i \\neq \\hat{y_i}]\\\\\n",
    "= \\mathrm{WM}(\\mathbf{\\alpha}_{\\mathrm{left}}, \\mathbf{\\hat{y}}_{\\mathrm{left}}) + \\mathrm{WM}(\\mathbf{\\alpha}_{\\mathrm{right}}, \\mathbf{\\hat{y}}_{\\mathrm{right}})\n",
    "$$\n",
    "We then divide through by the total weight of all data points to obtain $\\mathrm{E}(\\mathbf{\\alpha}, \\mathbf{\\hat{y}})$:\n",
    "$$\n",
    "\\mathrm{E}(\\mathbf{\\alpha}, \\mathbf{\\hat{y}})\n",
    "= \\frac{\\mathrm{WM}(\\mathbf{\\alpha}_{\\mathrm{left}}, \\mathbf{\\hat{y}}_{\\mathrm{left}}) + \\mathrm{WM}(\\mathbf{\\alpha}_{\\mathrm{right}}, \\mathbf{\\hat{y}}_{\\mathrm{right}})}{\\sum_{i=1}^{n} \\alpha_i}\n",
    "$$"
   ]
  },
  {
   "cell_type": "markdown",
   "metadata": {},
   "source": [
    "### Building the tree\n",
    "\n",
    "With the above functions implemented correctly, we are now ready to build our decision tree. Recall from the previous assignments that each node in the decision tree is represented as a dictionary which contains the following keys:\n",
    "\n",
    "    { \n",
    "       'is_leaf'            : True/False.\n",
    "       'prediction'         : Prediction at the leaf node.\n",
    "       'left'               : (dictionary corresponding to the left tree).\n",
    "       'right'              : (dictionary corresponding to the right tree).\n",
    "       'features_remaining' : List of features that are posible splits.\n",
    "    }\n",
    "    \n",
    "Let us start with a function that creates a leaf node given a set of target values:"
   ]
  },
  {
   "cell_type": "code",
   "execution_count": 12,
   "metadata": {},
   "outputs": [],
   "source": [
    "def create_leaf(target_values, data_weights):\n",
    "    \n",
    "    # Create a leaf node\n",
    "    leaf = {'splitting_feature' : None,\n",
    "            'is_leaf': True}\n",
    "    \n",
    "    # Computed weight of mistakes.\n",
    "    weighted_error, best_class = intermediate_node_weighted_mistakes(target_values, data_weights)\n",
    "    # Store the predicted class (1 or -1) in leaf['prediction']\n",
    "    leaf['prediction'] =  best_class\n",
    "    \n",
    "    return leaf "
   ]
  },
  {
   "cell_type": "markdown",
   "metadata": {},
   "source": [
    "We provide a function that learns a weighted decision tree recursively and implements 3 stopping conditions:\n",
    "1. All data points in a node are from the same class.\n",
    "2. No more features to split on.\n",
    "3. Stop growing the tree when the tree depth reaches **max_depth**. "
   ]
  },
  {
   "cell_type": "code",
   "execution_count": 13,
   "metadata": {},
   "outputs": [],
   "source": [
    "def weighted_decision_tree_create(data, features, target, data_weights, current_depth = 1, max_depth = 10):\n",
    "    remaining_features = features[:] # Make a copy of the features.\n",
    "    target_values = data[target]\n",
    "    print \"--------------------------------------------------------------------\"\n",
    "    print \"Subtree, depth = %s (%s data points).\" % (current_depth, len(target_values))\n",
    "    \n",
    "    # Stopping condition 1. Error is 0.\n",
    "    if intermediate_node_weighted_mistakes(target_values, data_weights)[0] <= 1e-15:\n",
    "        print \"Stopping condition 1 reached.\"                \n",
    "        return create_leaf(target_values, data_weights)\n",
    "    \n",
    "    # Stopping condition 2. No more features.\n",
    "    if remaining_features == []:\n",
    "        print \"Stopping condition 2 reached.\"                \n",
    "        return create_leaf(target_values, data_weights)    \n",
    "    \n",
    "    # Additional stopping condition (limit tree depth)\n",
    "    if current_depth > max_depth:\n",
    "        print \"Reached maximum depth. Stopping for now.\"\n",
    "        return create_leaf(target_values, data_weights)\n",
    "    \n",
    "    splitting_feature = best_splitting_feature(data, features, target, data_weights)\n",
    "    remaining_features.remove(splitting_feature)\n",
    "        \n",
    "    left_split = data[data[splitting_feature] == 0]\n",
    "    right_split = data[data[splitting_feature] == 1]\n",
    "    \n",
    "    left_data_weights = data_weights[data[splitting_feature] == 0]\n",
    "    right_data_weights = data_weights[data[splitting_feature] == 1]\n",
    "    \n",
    "    print \"Split on feature %s. (%s, %s)\" % (\\\n",
    "              splitting_feature, len(left_split), len(right_split))\n",
    "    \n",
    "    # Create a leaf node if the split is \"perfect\"\n",
    "    if len(left_split) == len(data):\n",
    "        print \"Creating leaf node.\"\n",
    "        return create_leaf(left_split[target], data_weights)\n",
    "    if len(right_split) == len(data):\n",
    "        print \"Creating leaf node.\"\n",
    "        return create_leaf(right_split[target], data_weights)\n",
    "    \n",
    "    # Repeat (recurse) on left and right subtrees\n",
    "    left_tree = weighted_decision_tree_create(\n",
    "        left_split, remaining_features, target, left_data_weights, current_depth + 1, max_depth)\n",
    "    right_tree = weighted_decision_tree_create(\n",
    "        right_split, remaining_features, target, right_data_weights, current_depth + 1, max_depth)\n",
    "    \n",
    "    return {'is_leaf'          : False, \n",
    "            'prediction'       : None,\n",
    "            'splitting_feature': splitting_feature,\n",
    "            'left'             : left_tree, \n",
    "            'right'            : right_tree}"
   ]
  },
  {
   "cell_type": "markdown",
   "metadata": {},
   "source": [
    "Here is a recursive function to count the nodes in your tree:"
   ]
  },
  {
   "cell_type": "code",
   "execution_count": 14,
   "metadata": {},
   "outputs": [],
   "source": [
    "def count_nodes(tree):\n",
    "    if tree['is_leaf']:\n",
    "        return 1\n",
    "    return 1 + count_nodes(tree['left']) + count_nodes(tree['right'])"
   ]
  },
  {
   "cell_type": "markdown",
   "metadata": {},
   "source": [
    "Run the following test code to check your implementation. Make sure you get **'Test passed'** before proceeding."
   ]
  },
  {
   "cell_type": "code",
   "execution_count": 15,
   "metadata": {},
   "outputs": [
    {
     "name": "stdout",
     "output_type": "stream",
     "text": [
      "--------------------------------------------------------------------\n",
      "Subtree, depth = 1 (37224 data points).\n",
      "Split on feature term. 36 months. (9223, 28001)\n",
      "--------------------------------------------------------------------\n",
      "Subtree, depth = 2 (9223 data points).\n",
      "Split on feature grade.A. (9122, 101)\n",
      "--------------------------------------------------------------------\n",
      "Subtree, depth = 3 (9122 data points).\n",
      "Reached maximum depth. Stopping for now.\n",
      "--------------------------------------------------------------------\n",
      "Subtree, depth = 3 (101 data points).\n",
      "Reached maximum depth. Stopping for now.\n",
      "--------------------------------------------------------------------\n",
      "Subtree, depth = 2 (28001 data points).\n",
      "Split on feature grade.D. (23300, 4701)\n",
      "--------------------------------------------------------------------\n",
      "Subtree, depth = 3 (23300 data points).\n",
      "Reached maximum depth. Stopping for now.\n",
      "--------------------------------------------------------------------\n",
      "Subtree, depth = 3 (4701 data points).\n",
      "Reached maximum depth. Stopping for now.\n",
      "Test passed!\n"
     ]
    }
   ],
   "source": [
    "example_data_weights = graphlab.SArray([1.0 for i in range(len(train_data))])\n",
    "small_data_decision_tree = weighted_decision_tree_create(train_data, features, target,\n",
    "                                        example_data_weights, max_depth=2)\n",
    "if count_nodes(small_data_decision_tree) == 7:\n",
    "    print 'Test passed!'\n",
    "else:\n",
    "    print 'Test failed... try again!'\n",
    "    print 'Number of nodes found:', count_nodes(small_data_decision_tree)\n",
    "    print 'Number of nodes that should be there: 7' "
   ]
  },
  {
   "cell_type": "markdown",
   "metadata": {},
   "source": [
    "Let us take a quick look at what the trained tree is like. You should get something that looks like the following\n",
    "\n",
    "```\n",
    "{'is_leaf': False,\n",
    "    'left': {'is_leaf': False,\n",
    "        'left': {'is_leaf': True, 'prediction': -1, 'splitting_feature': None},\n",
    "        'prediction': None,\n",
    "        'right': {'is_leaf': True, 'prediction': 1, 'splitting_feature': None},\n",
    "        'splitting_feature': 'grade.A'\n",
    "     },\n",
    "    'prediction': None,\n",
    "    'right': {'is_leaf': False,\n",
    "        'left': {'is_leaf': True, 'prediction': 1, 'splitting_feature': None},\n",
    "        'prediction': None,\n",
    "        'right': {'is_leaf': True, 'prediction': -1, 'splitting_feature': None},\n",
    "        'splitting_feature': 'grade.D'\n",
    "     },\n",
    "     'splitting_feature': 'term. 36 months'\n",
    "}```"
   ]
  },
  {
   "cell_type": "code",
   "execution_count": 16,
   "metadata": {},
   "outputs": [
    {
     "data": {
      "text/plain": [
       "{'is_leaf': False,\n",
       " 'left': {'is_leaf': False,\n",
       "  'left': {'is_leaf': True, 'prediction': -1, 'splitting_feature': None},\n",
       "  'prediction': None,\n",
       "  'right': {'is_leaf': True, 'prediction': 1, 'splitting_feature': None},\n",
       "  'splitting_feature': 'grade.A'},\n",
       " 'prediction': None,\n",
       " 'right': {'is_leaf': False,\n",
       "  'left': {'is_leaf': True, 'prediction': 1, 'splitting_feature': None},\n",
       "  'prediction': None,\n",
       "  'right': {'is_leaf': True, 'prediction': -1, 'splitting_feature': None},\n",
       "  'splitting_feature': 'grade.D'},\n",
       " 'splitting_feature': 'term. 36 months'}"
      ]
     },
     "execution_count": 16,
     "metadata": {},
     "output_type": "execute_result"
    }
   ],
   "source": [
    "small_data_decision_tree"
   ]
  },
  {
   "cell_type": "markdown",
   "metadata": {},
   "source": [
    "### Making predictions with a weighted decision tree"
   ]
  },
  {
   "cell_type": "markdown",
   "metadata": {},
   "source": [
    "We give you a function that classifies one data point. It can also return the probability if you want to play around with that as well."
   ]
  },
  {
   "cell_type": "code",
   "execution_count": 17,
   "metadata": {},
   "outputs": [],
   "source": [
    "def classify(tree, x, annotate = False):   \n",
    "    # If the node is a leaf node.\n",
    "    if tree['is_leaf']:\n",
    "        if annotate: \n",
    "            print \"At leaf, predicting %s\" % tree['prediction']\n",
    "        return tree['prediction'] \n",
    "    else:\n",
    "        # Split on feature.\n",
    "        split_feature_value = x[tree['splitting_feature']]\n",
    "        if annotate: \n",
    "            print \"Split on %s = %s\" % (tree['splitting_feature'], split_feature_value)\n",
    "        if split_feature_value == 0:\n",
    "            return classify(tree['left'], x, annotate)\n",
    "        else:\n",
    "            return classify(tree['right'], x, annotate)"
   ]
  },
  {
   "cell_type": "markdown",
   "metadata": {},
   "source": [
    "### Evaluating the tree\n",
    "\n",
    "Now, we will write a function to evaluate a decision tree by computing the classification error of the tree on the given dataset.\n",
    "\n",
    "Again, recall that the **classification error** is defined as follows:\n",
    "$$\n",
    "\\mbox{classification error} = \\frac{\\mbox{# mistakes}}{\\mbox{# all data points}}\n",
    "$$\n",
    "\n",
    "The function called **evaluate_classification_error** takes in as input:\n",
    "1. `tree` (as described above)\n",
    "2. `data` (an SFrame)\n",
    "\n",
    "The function does not change because of adding data point weights."
   ]
  },
  {
   "cell_type": "code",
   "execution_count": 18,
   "metadata": {},
   "outputs": [],
   "source": [
    "def evaluate_classification_error(tree, data):\n",
    "    # Apply the classify(tree, x) to each row in your data\n",
    "    prediction = data.apply(lambda x: classify(tree, x))\n",
    "    \n",
    "    # Once you've made the predictions, calculate the classification error\n",
    "    return (prediction != data[target]).sum() / float(len(data))"
   ]
  },
  {
   "cell_type": "code",
   "execution_count": 19,
   "metadata": {},
   "outputs": [
    {
     "data": {
      "text/plain": [
       "0.3981042654028436"
      ]
     },
     "execution_count": 19,
     "metadata": {},
     "output_type": "execute_result"
    }
   ],
   "source": [
    "evaluate_classification_error(small_data_decision_tree, test_data)"
   ]
  },
  {
   "cell_type": "markdown",
   "metadata": {},
   "source": [
    "### Example: Training a weighted decision tree\n",
    "\n",
    "To build intuition on how weighted data points affect the tree being built, consider the following:\n",
    "\n",
    "Suppose we only care about making good predictions for the **first 10 and last 10 items** in `train_data`, we assign weights:\n",
    "* 1 to the last 10 items \n",
    "* 1 to the first 10 items \n",
    "* and 0 to the rest. \n",
    "\n",
    "Let us fit a weighted decision tree with `max_depth = 2`."
   ]
  },
  {
   "cell_type": "code",
   "execution_count": 20,
   "metadata": {},
   "outputs": [
    {
     "name": "stdout",
     "output_type": "stream",
     "text": [
      "--------------------------------------------------------------------\n",
      "Subtree, depth = 1 (37224 data points).\n",
      "Split on feature home_ownership.RENT. (20514, 16710)\n",
      "--------------------------------------------------------------------\n",
      "Subtree, depth = 2 (20514 data points).\n",
      "Split on feature grade.F. (19613, 901)\n",
      "--------------------------------------------------------------------\n",
      "Subtree, depth = 3 (19613 data points).\n",
      "Reached maximum depth. Stopping for now.\n",
      "--------------------------------------------------------------------\n",
      "Subtree, depth = 3 (901 data points).\n",
      "Stopping condition 1 reached.\n",
      "--------------------------------------------------------------------\n",
      "Subtree, depth = 2 (16710 data points).\n",
      "Split on feature grade.D. (13315, 3395)\n",
      "--------------------------------------------------------------------\n",
      "Subtree, depth = 3 (13315 data points).\n",
      "Stopping condition 1 reached.\n",
      "--------------------------------------------------------------------\n",
      "Subtree, depth = 3 (3395 data points).\n",
      "Stopping condition 1 reached.\n"
     ]
    }
   ],
   "source": [
    "# Assign weights\n",
    "example_data_weights = graphlab.SArray([1.] * 10 + [0.]*(len(train_data) - 20) + [1.] * 10)\n",
    "\n",
    "# Train a weighted decision tree model.\n",
    "small_data_decision_tree_subset_20 = weighted_decision_tree_create(train_data, features, target,\n",
    "                         example_data_weights, max_depth=2)"
   ]
  },
  {
   "cell_type": "markdown",
   "metadata": {},
   "source": [
    "Now, we will compute the classification error on the `subset_20`, i.e. the subset of data points whose weight is 1 (namely the first and last 10 data points)."
   ]
  },
  {
   "cell_type": "code",
   "execution_count": null,
   "metadata": {},
   "outputs": [],
   "source": []
  },
  {
   "cell_type": "code",
   "execution_count": 21,
   "metadata": {},
   "outputs": [
    {
     "data": {
      "text/plain": [
       "0.05"
      ]
     },
     "execution_count": 21,
     "metadata": {},
     "output_type": "execute_result"
    }
   ],
   "source": [
    "subset_20 = train_data.head(10).append(train_data.tail(10))\n",
    "evaluate_classification_error(small_data_decision_tree_subset_20, subset_20)"
   ]
  },
  {
   "cell_type": "markdown",
   "metadata": {},
   "source": [
    "Now, let us compare the classification error of the model `small_data_decision_tree_subset_20` on the entire test set `train_data`:"
   ]
  },
  {
   "cell_type": "code",
   "execution_count": 22,
   "metadata": {},
   "outputs": [
    {
     "data": {
      "text/plain": [
       "0.48124865678057166"
      ]
     },
     "execution_count": 22,
     "metadata": {},
     "output_type": "execute_result"
    }
   ],
   "source": [
    "evaluate_classification_error(small_data_decision_tree_subset_20, train_data)"
   ]
  },
  {
   "cell_type": "markdown",
   "metadata": {},
   "source": [
    "The model `small_data_decision_tree_subset_20` performs **a lot** better on `subset_20` than on `train_data`.\n",
    "\n",
    "So, what does this mean?\n",
    "* The points with higher weights are the ones that are more important during the training process of the weighted decision tree.\n",
    "* The points with zero weights are basically ignored during training.\n",
    "\n",
    "**Quiz Question**: Will you get the same model as `small_data_decision_tree_subset_20` if you trained a decision tree with only the 20 data points with non-zero weights from the set of points in `subset_20`?"
   ]
  },
  {
   "cell_type": "markdown",
   "metadata": {},
   "source": [
    "# Implementing your own Adaboost (on decision stumps)"
   ]
  },
  {
   "cell_type": "markdown",
   "metadata": {},
   "source": [
    "Now that we have a weighted decision tree working, it takes only a bit of work to implement Adaboost. For the sake of simplicity, let us stick with **decision tree stumps** by training trees with **`max_depth=1`**."
   ]
  },
  {
   "cell_type": "markdown",
   "metadata": {},
   "source": [
    "Recall from the lecture the procedure for Adaboost:\n",
    "\n",
    "1\\. Start with unweighted data with $\\alpha_j = 1$\n",
    "\n",
    "2\\. For t = 1,...T:\n",
    "  * Learn $f_t(x)$ with data weights $\\alpha_j$\n",
    "  * Compute coefficient $\\hat{w}_t$:\n",
    "     $$\\hat{w}_t = \\frac{1}{2}\\ln{\\left(\\frac{1- \\mbox{E}(\\mathbf{\\alpha}, \\mathbf{\\hat{y}})}{\\mbox{E}(\\mathbf{\\alpha}, \\mathbf{\\hat{y}})}\\right)}$$\n",
    "  * Re-compute weights $\\alpha_j$:\n",
    "     $$\\alpha_j \\gets \\begin{cases}\n",
    "     \\alpha_j \\exp{(-\\hat{w}_t)} & \\text{ if }f_t(x_j) = y_j\\\\\n",
    "     \\alpha_j \\exp{(\\hat{w}_t)} & \\text{ if }f_t(x_j) \\neq y_j\n",
    "     \\end{cases}$$\n",
    "  * Normalize weights $\\alpha_j$:\n",
    "      $$\\alpha_j \\gets \\frac{\\alpha_j}{\\sum_{i=1}^{N}{\\alpha_i}} $$\n",
    "  \n",
    "Complete the skeleton for the following code to implement **adaboost_with_tree_stumps**. Fill in the places with `YOUR CODE HERE`."
   ]
  },
  {
   "cell_type": "code",
   "execution_count": 23,
   "metadata": {},
   "outputs": [],
   "source": [
    "from math import log\n",
    "from math import exp\n",
    "\n",
    "def adaboost_with_tree_stumps(data, features, target, num_tree_stumps):\n",
    "    # start with unweighted data\n",
    "    alpha = graphlab.SArray([1.]*len(data))\n",
    "    weights = []\n",
    "    tree_stumps = []\n",
    "    target_values = data[target]\n",
    "    \n",
    "    for t in xrange(num_tree_stumps):\n",
    "        print '====================================================='\n",
    "        print 'Adaboost Iteration %d' % t\n",
    "        print '====================================================='        \n",
    "        # Learn a weighted decision tree stump. Use max_depth=1\n",
    "        tree_stump = weighted_decision_tree_create(data, features, target, data_weights=alpha, max_depth=1)\n",
    "        tree_stumps.append(tree_stump)\n",
    "        \n",
    "        # Make predictions\n",
    "        predictions = data.apply(lambda x: classify(tree_stump, x))\n",
    "        \n",
    "        # Produce a Boolean array indicating whether\n",
    "        # each data point was correctly classified\n",
    "        is_correct = predictions == target_values\n",
    "        is_wrong   = predictions != target_values\n",
    "        \n",
    "        # Compute weighted error\n",
    "        # YOUR CODE HERE\n",
    "        weighted_error = alpha[is_wrong].sum() / alpha.sum()\n",
    "        \n",
    "        # Compute model coefficient using weighted error\n",
    "        # YOUR CODE HERE\n",
    "        weight = 0.5 * log ((1- weighted_error)/ weighted_error)\n",
    "        weights.append(weight)\n",
    "        \n",
    "        # Adjust weights on data point\n",
    "        adjustment = is_correct.apply(lambda is_correct : exp(-weight) if is_correct else exp(weight))\n",
    "        \n",
    "        # Scale alpha by multiplying by adjustment \n",
    "        # Then normalize data points weights\n",
    "        ## YOUR CODE HERE \n",
    "        alpha *= adjustment\n",
    "        alpha = alpha / alpha.sum()\n",
    "    \n",
    "    return weights, tree_stumps"
   ]
  },
  {
   "cell_type": "markdown",
   "metadata": {},
   "source": [
    "### Checking your Adaboost code\n",
    "\n",
    "Train an ensemble of **two** tree stumps and see which features those stumps split on. We will run the algorithm with the following parameters:\n",
    "* `train_data`\n",
    "* `features`\n",
    "* `target`\n",
    "* `num_tree_stumps = 2`"
   ]
  },
  {
   "cell_type": "code",
   "execution_count": 24,
   "metadata": {},
   "outputs": [
    {
     "name": "stdout",
     "output_type": "stream",
     "text": [
      "=====================================================\n",
      "Adaboost Iteration 0\n",
      "=====================================================\n",
      "--------------------------------------------------------------------\n",
      "Subtree, depth = 1 (37224 data points).\n",
      "Split on feature term. 36 months. (9223, 28001)\n",
      "--------------------------------------------------------------------\n",
      "Subtree, depth = 2 (9223 data points).\n",
      "Reached maximum depth. Stopping for now.\n",
      "--------------------------------------------------------------------\n",
      "Subtree, depth = 2 (28001 data points).\n",
      "Reached maximum depth. Stopping for now.\n",
      "=====================================================\n",
      "Adaboost Iteration 1\n",
      "=====================================================\n",
      "--------------------------------------------------------------------\n",
      "Subtree, depth = 1 (37224 data points).\n",
      "Split on feature grade.A. (32094, 5130)\n",
      "--------------------------------------------------------------------\n",
      "Subtree, depth = 2 (32094 data points).\n",
      "Reached maximum depth. Stopping for now.\n",
      "--------------------------------------------------------------------\n",
      "Subtree, depth = 2 (5130 data points).\n",
      "Reached maximum depth. Stopping for now.\n"
     ]
    }
   ],
   "source": [
    "stump_weights, tree_stumps = adaboost_with_tree_stumps(train_data, features, target, num_tree_stumps=2)"
   ]
  },
  {
   "cell_type": "code",
   "execution_count": 25,
   "metadata": {},
   "outputs": [],
   "source": [
    "def print_stump(tree):\n",
    "    split_name = tree['splitting_feature'] # split_name is something like 'term. 36 months'\n",
    "    if split_name is None:\n",
    "        print \"(leaf, label: %s)\" % tree['prediction']\n",
    "        return None\n",
    "    split_feature, split_value = split_name.split('.')\n",
    "    print '                       root'\n",
    "    print '         |---------------|----------------|'\n",
    "    print '         |                                |'\n",
    "    print '         |                                |'\n",
    "    print '         |                                |'\n",
    "    print '  [{0} == 0]{1}[{0} == 1]    '.format(split_name, ' '*(27-len(split_name)))\n",
    "    print '         |                                |'\n",
    "    print '         |                                |'\n",
    "    print '         |                                |'\n",
    "    print '    (%s)                 (%s)' \\\n",
    "        % (('leaf, label: ' + str(tree['left']['prediction']) if tree['left']['is_leaf'] else 'subtree'),\n",
    "           ('leaf, label: ' + str(tree['right']['prediction']) if tree['right']['is_leaf'] else 'subtree'))"
   ]
  },
  {
   "cell_type": "markdown",
   "metadata": {},
   "source": [
    "Here is what the first stump looks like:"
   ]
  },
  {
   "cell_type": "code",
   "execution_count": 26,
   "metadata": {
    "scrolled": true
   },
   "outputs": [
    {
     "name": "stdout",
     "output_type": "stream",
     "text": [
      "                       root\n",
      "         |---------------|----------------|\n",
      "         |                                |\n",
      "         |                                |\n",
      "         |                                |\n",
      "  [term. 36 months == 0]            [term. 36 months == 1]    \n",
      "         |                                |\n",
      "         |                                |\n",
      "         |                                |\n",
      "    (leaf, label: -1)                 (leaf, label: 1)\n"
     ]
    }
   ],
   "source": [
    "print_stump(tree_stumps[0])"
   ]
  },
  {
   "cell_type": "markdown",
   "metadata": {},
   "source": [
    "Here is what the next stump looks like:"
   ]
  },
  {
   "cell_type": "code",
   "execution_count": 27,
   "metadata": {},
   "outputs": [
    {
     "name": "stdout",
     "output_type": "stream",
     "text": [
      "                       root\n",
      "         |---------------|----------------|\n",
      "         |                                |\n",
      "         |                                |\n",
      "         |                                |\n",
      "  [grade.A == 0]                    [grade.A == 1]    \n",
      "         |                                |\n",
      "         |                                |\n",
      "         |                                |\n",
      "    (leaf, label: -1)                 (leaf, label: 1)\n"
     ]
    }
   ],
   "source": [
    "print_stump(tree_stumps[1])"
   ]
  },
  {
   "cell_type": "code",
   "execution_count": 28,
   "metadata": {},
   "outputs": [
    {
     "name": "stdout",
     "output_type": "stream",
     "text": [
      "[0.15802933659263743, 0.17682363293636694]\n"
     ]
    }
   ],
   "source": [
    "print stump_weights"
   ]
  },
  {
   "cell_type": "markdown",
   "metadata": {},
   "source": [
    "If your Adaboost is correctly implemented, the following things should be true:\n",
    "\n",
    "* `tree_stumps[0]` should split on **term. 36 months** with the prediction -1 on the left and +1 on the right.\n",
    "* `tree_stumps[1]` should split on **grade.A** with the prediction -1 on the left and +1 on the right.\n",
    "* Weights should be approximately `[0.158, 0.177]` \n",
    "\n",
    "**Reminders**\n",
    "- Stump weights ($\\mathbf{\\hat{w}}$) and data point weights ($\\mathbf{\\alpha}$) are two different concepts.\n",
    "- Stump weights ($\\mathbf{\\hat{w}}$) tell you how important each stump is while making predictions with the entire boosted ensemble.\n",
    "- Data point weights ($\\mathbf{\\alpha}$) tell you how important each data point is while training a decision stump."
   ]
  },
  {
   "cell_type": "markdown",
   "metadata": {},
   "source": [
    "### Training a boosted ensemble of 10 stumps"
   ]
  },
  {
   "cell_type": "markdown",
   "metadata": {},
   "source": [
    "Let us train an ensemble of 10 decision tree stumps with Adaboost. We run the **adaboost_with_tree_stumps** function with the following parameters:\n",
    "* `train_data`\n",
    "* `features`\n",
    "* `target`\n",
    "* `num_tree_stumps = 10`"
   ]
  },
  {
   "cell_type": "code",
   "execution_count": 29,
   "metadata": {
    "scrolled": true
   },
   "outputs": [
    {
     "name": "stdout",
     "output_type": "stream",
     "text": [
      "=====================================================\n",
      "Adaboost Iteration 0\n",
      "=====================================================\n",
      "--------------------------------------------------------------------\n",
      "Subtree, depth = 1 (37224 data points).\n",
      "Split on feature term. 36 months. (9223, 28001)\n",
      "--------------------------------------------------------------------\n",
      "Subtree, depth = 2 (9223 data points).\n",
      "Reached maximum depth. Stopping for now.\n",
      "--------------------------------------------------------------------\n",
      "Subtree, depth = 2 (28001 data points).\n",
      "Reached maximum depth. Stopping for now.\n",
      "=====================================================\n",
      "Adaboost Iteration 1\n",
      "=====================================================\n",
      "--------------------------------------------------------------------\n",
      "Subtree, depth = 1 (37224 data points).\n",
      "Split on feature grade.A. (32094, 5130)\n",
      "--------------------------------------------------------------------\n",
      "Subtree, depth = 2 (32094 data points).\n",
      "Reached maximum depth. Stopping for now.\n",
      "--------------------------------------------------------------------\n",
      "Subtree, depth = 2 (5130 data points).\n",
      "Reached maximum depth. Stopping for now.\n",
      "=====================================================\n",
      "Adaboost Iteration 2\n",
      "=====================================================\n",
      "--------------------------------------------------------------------\n",
      "Subtree, depth = 1 (37224 data points).\n",
      "Split on feature grade.D. (30465, 6759)\n",
      "--------------------------------------------------------------------\n",
      "Subtree, depth = 2 (30465 data points).\n",
      "Reached maximum depth. Stopping for now.\n",
      "--------------------------------------------------------------------\n",
      "Subtree, depth = 2 (6759 data points).\n",
      "Reached maximum depth. Stopping for now.\n",
      "=====================================================\n",
      "Adaboost Iteration 3\n",
      "=====================================================\n",
      "--------------------------------------------------------------------\n",
      "Subtree, depth = 1 (37224 data points).\n",
      "Split on feature home_ownership.MORTGAGE. (19846, 17378)\n",
      "--------------------------------------------------------------------\n",
      "Subtree, depth = 2 (19846 data points).\n",
      "Reached maximum depth. Stopping for now.\n",
      "--------------------------------------------------------------------\n",
      "Subtree, depth = 2 (17378 data points).\n",
      "Reached maximum depth. Stopping for now.\n",
      "=====================================================\n",
      "Adaboost Iteration 4\n",
      "=====================================================\n",
      "--------------------------------------------------------------------\n",
      "Subtree, depth = 1 (37224 data points).\n",
      "Split on feature grade.B. (26858, 10366)\n",
      "--------------------------------------------------------------------\n",
      "Subtree, depth = 2 (26858 data points).\n",
      "Reached maximum depth. Stopping for now.\n",
      "--------------------------------------------------------------------\n",
      "Subtree, depth = 2 (10366 data points).\n",
      "Reached maximum depth. Stopping for now.\n",
      "=====================================================\n",
      "Adaboost Iteration 5\n",
      "=====================================================\n",
      "--------------------------------------------------------------------\n",
      "Subtree, depth = 1 (37224 data points).\n",
      "Split on feature grade.E. (33815, 3409)\n",
      "--------------------------------------------------------------------\n",
      "Subtree, depth = 2 (33815 data points).\n",
      "Reached maximum depth. Stopping for now.\n",
      "--------------------------------------------------------------------\n",
      "Subtree, depth = 2 (3409 data points).\n",
      "Reached maximum depth. Stopping for now.\n",
      "=====================================================\n",
      "Adaboost Iteration 6\n",
      "=====================================================\n",
      "--------------------------------------------------------------------\n",
      "Subtree, depth = 1 (37224 data points).\n",
      "Split on feature grade.A. (32094, 5130)\n",
      "--------------------------------------------------------------------\n",
      "Subtree, depth = 2 (32094 data points).\n",
      "Reached maximum depth. Stopping for now.\n",
      "--------------------------------------------------------------------\n",
      "Subtree, depth = 2 (5130 data points).\n",
      "Reached maximum depth. Stopping for now.\n",
      "=====================================================\n",
      "Adaboost Iteration 7\n",
      "=====================================================\n",
      "--------------------------------------------------------------------\n",
      "Subtree, depth = 1 (37224 data points).\n",
      "Split on feature grade.F. (35512, 1712)\n",
      "--------------------------------------------------------------------\n",
      "Subtree, depth = 2 (35512 data points).\n",
      "Reached maximum depth. Stopping for now.\n",
      "--------------------------------------------------------------------\n",
      "Subtree, depth = 2 (1712 data points).\n",
      "Reached maximum depth. Stopping for now.\n",
      "=====================================================\n",
      "Adaboost Iteration 8\n",
      "=====================================================\n",
      "--------------------------------------------------------------------\n",
      "Subtree, depth = 1 (37224 data points).\n",
      "Split on feature grade.A. (32094, 5130)\n",
      "--------------------------------------------------------------------\n",
      "Subtree, depth = 2 (32094 data points).\n",
      "Reached maximum depth. Stopping for now.\n",
      "--------------------------------------------------------------------\n",
      "Subtree, depth = 2 (5130 data points).\n",
      "Reached maximum depth. Stopping for now.\n",
      "=====================================================\n",
      "Adaboost Iteration 9\n",
      "=====================================================\n",
      "--------------------------------------------------------------------\n",
      "Subtree, depth = 1 (37224 data points).\n",
      "Split on feature emp_length.n/a. (35781, 1443)\n",
      "--------------------------------------------------------------------\n",
      "Subtree, depth = 2 (35781 data points).\n",
      "Reached maximum depth. Stopping for now.\n",
      "--------------------------------------------------------------------\n",
      "Subtree, depth = 2 (1443 data points).\n",
      "Reached maximum depth. Stopping for now.\n"
     ]
    }
   ],
   "source": [
    "stump_weights, tree_stumps = adaboost_with_tree_stumps(train_data, features, \n",
    "                                target, num_tree_stumps=10)"
   ]
  },
  {
   "cell_type": "markdown",
   "metadata": {},
   "source": [
    "## Making predictions\n",
    "\n",
    "Recall from the lecture that in order to make predictions, we use the following formula:\n",
    "$$\n",
    "\\hat{y} = sign\\left(\\sum_{t=1}^T \\hat{w}_t f_t(x)\\right)\n",
    "$$\n",
    "\n",
    "We need to do the following things:\n",
    "- Compute the predictions $f_t(x)$ using the $t$-th decision tree\n",
    "- Compute $\\hat{w}_t f_t(x)$ by multiplying the `stump_weights` with the predictions $f_t(x)$ from the decision trees\n",
    "- Sum the weighted predictions over each stump in the ensemble.\n",
    "\n",
    "Complete the following skeleton for making predictions:"
   ]
  },
  {
   "cell_type": "code",
   "execution_count": 46,
   "metadata": {},
   "outputs": [],
   "source": [
    "def predict_adaboost(stump_weights, tree_stumps, data):\n",
    "    scores = graphlab.SArray([0.]*len(data))\n",
    "    print('scores shape: ', scores.shape)\n",
    "    \n",
    "    for i, tree_stump in enumerate(tree_stumps):\n",
    "        predictions = data.apply(lambda x: classify(tree_stump, x))\n",
    "        \n",
    "        # Accumulate predictions on scores array\n",
    "        # YOUR CODE HERE\n",
    "#         print('intermediate weighted prediction : ', stump_weights[i] * predictions)\n",
    "#         print('scores before: ', scores)\n",
    "        scores += stump_weights[i] * predictions\n",
    "        \n",
    "    return scores.apply(lambda score : +1 if score > 0 else -1)"
   ]
  },
  {
   "cell_type": "code",
   "execution_count": 47,
   "metadata": {},
   "outputs": [
    {
     "name": "stdout",
     "output_type": "stream",
     "text": [
      "('scores shape: ', (9284,))\n",
      "('intermediate weighted prediction : ', dtype: float\n",
      "Rows: 9284\n",
      "[-0.15802933659263743, 0.15802933659263743, -0.15802933659263743, -0.15802933659263743, 0.15802933659263743, -0.15802933659263743, -0.15802933659263743, 0.15802933659263743, 0.15802933659263743, 0.15802933659263743, -0.15802933659263743, 0.15802933659263743, 0.15802933659263743, 0.15802933659263743, 0.15802933659263743, 0.15802933659263743, 0.15802933659263743, -0.15802933659263743, -0.15802933659263743, 0.15802933659263743, 0.15802933659263743, 0.15802933659263743, -0.15802933659263743, -0.15802933659263743, -0.15802933659263743, 0.15802933659263743, 0.15802933659263743, -0.15802933659263743, 0.15802933659263743, -0.15802933659263743, -0.15802933659263743, -0.15802933659263743, -0.15802933659263743, 0.15802933659263743, 0.15802933659263743, -0.15802933659263743, 0.15802933659263743, -0.15802933659263743, 0.15802933659263743, -0.15802933659263743, 0.15802933659263743, 0.15802933659263743, 0.15802933659263743, 0.15802933659263743, 0.15802933659263743, -0.15802933659263743, 0.15802933659263743, -0.15802933659263743, 0.15802933659263743, 0.15802933659263743, -0.15802933659263743, -0.15802933659263743, -0.15802933659263743, 0.15802933659263743, -0.15802933659263743, 0.15802933659263743, 0.15802933659263743, 0.15802933659263743, -0.15802933659263743, -0.15802933659263743, 0.15802933659263743, -0.15802933659263743, 0.15802933659263743, -0.15802933659263743, 0.15802933659263743, 0.15802933659263743, 0.15802933659263743, -0.15802933659263743, -0.15802933659263743, -0.15802933659263743, 0.15802933659263743, 0.15802933659263743, -0.15802933659263743, 0.15802933659263743, -0.15802933659263743, -0.15802933659263743, -0.15802933659263743, 0.15802933659263743, -0.15802933659263743, -0.15802933659263743, 0.15802933659263743, -0.15802933659263743, 0.15802933659263743, 0.15802933659263743, 0.15802933659263743, -0.15802933659263743, 0.15802933659263743, 0.15802933659263743, 0.15802933659263743, -0.15802933659263743, -0.15802933659263743, 0.15802933659263743, -0.15802933659263743, -0.15802933659263743, 0.15802933659263743, -0.15802933659263743, 0.15802933659263743, -0.15802933659263743, -0.15802933659263743, -0.15802933659263743, ... ])\n",
      "('scores before: ', dtype: float\n",
      "Rows: 9284\n",
      "[0.0, 0.0, 0.0, 0.0, 0.0, 0.0, 0.0, 0.0, 0.0, 0.0, 0.0, 0.0, 0.0, 0.0, 0.0, 0.0, 0.0, 0.0, 0.0, 0.0, 0.0, 0.0, 0.0, 0.0, 0.0, 0.0, 0.0, 0.0, 0.0, 0.0, 0.0, 0.0, 0.0, 0.0, 0.0, 0.0, 0.0, 0.0, 0.0, 0.0, 0.0, 0.0, 0.0, 0.0, 0.0, 0.0, 0.0, 0.0, 0.0, 0.0, 0.0, 0.0, 0.0, 0.0, 0.0, 0.0, 0.0, 0.0, 0.0, 0.0, 0.0, 0.0, 0.0, 0.0, 0.0, 0.0, 0.0, 0.0, 0.0, 0.0, 0.0, 0.0, 0.0, 0.0, 0.0, 0.0, 0.0, 0.0, 0.0, 0.0, 0.0, 0.0, 0.0, 0.0, 0.0, 0.0, 0.0, 0.0, 0.0, 0.0, 0.0, 0.0, 0.0, 0.0, 0.0, 0.0, 0.0, 0.0, 0.0, 0.0, ... ])\n",
      "('intermediate weighted prediction : ', dtype: float\n",
      "Rows: 9284\n",
      "[-0.17682363293636694, 0.17682363293636694, -0.17682363293636694, -0.17682363293636694, -0.17682363293636694, -0.17682363293636694, -0.17682363293636694, -0.17682363293636694, -0.17682363293636694, -0.17682363293636694, -0.17682363293636694, 0.17682363293636694, -0.17682363293636694, -0.17682363293636694, 0.17682363293636694, -0.17682363293636694, -0.17682363293636694, -0.17682363293636694, -0.17682363293636694, -0.17682363293636694, -0.17682363293636694, 0.17682363293636694, -0.17682363293636694, -0.17682363293636694, -0.17682363293636694, -0.17682363293636694, -0.17682363293636694, -0.17682363293636694, -0.17682363293636694, -0.17682363293636694, -0.17682363293636694, -0.17682363293636694, -0.17682363293636694, -0.17682363293636694, -0.17682363293636694, -0.17682363293636694, -0.17682363293636694, -0.17682363293636694, 0.17682363293636694, -0.17682363293636694, -0.17682363293636694, -0.17682363293636694, -0.17682363293636694, 0.17682363293636694, -0.17682363293636694, -0.17682363293636694, 0.17682363293636694, -0.17682363293636694, -0.17682363293636694, 0.17682363293636694, -0.17682363293636694, -0.17682363293636694, -0.17682363293636694, -0.17682363293636694, -0.17682363293636694, -0.17682363293636694, -0.17682363293636694, -0.17682363293636694, -0.17682363293636694, -0.17682363293636694, -0.17682363293636694, -0.17682363293636694, -0.17682363293636694, -0.17682363293636694, -0.17682363293636694, -0.17682363293636694, -0.17682363293636694, -0.17682363293636694, -0.17682363293636694, -0.17682363293636694, -0.17682363293636694, 0.17682363293636694, -0.17682363293636694, -0.17682363293636694, -0.17682363293636694, -0.17682363293636694, -0.17682363293636694, -0.17682363293636694, -0.17682363293636694, -0.17682363293636694, -0.17682363293636694, -0.17682363293636694, -0.17682363293636694, 0.17682363293636694, -0.17682363293636694, 0.17682363293636694, 0.17682363293636694, -0.17682363293636694, -0.17682363293636694, -0.17682363293636694, -0.17682363293636694, -0.17682363293636694, -0.17682363293636694, -0.17682363293636694, -0.17682363293636694, -0.17682363293636694, -0.17682363293636694, -0.17682363293636694, -0.17682363293636694, -0.17682363293636694, ... ])\n",
      "('scores before: ', dtype: float\n",
      "Rows: 9284\n",
      "[-0.15802933659263743, 0.15802933659263743, -0.15802933659263743, -0.15802933659263743, 0.15802933659263743, -0.15802933659263743, -0.15802933659263743, 0.15802933659263743, 0.15802933659263743, 0.15802933659263743, -0.15802933659263743, 0.15802933659263743, 0.15802933659263743, 0.15802933659263743, 0.15802933659263743, 0.15802933659263743, 0.15802933659263743, -0.15802933659263743, -0.15802933659263743, 0.15802933659263743, 0.15802933659263743, 0.15802933659263743, -0.15802933659263743, -0.15802933659263743, -0.15802933659263743, 0.15802933659263743, 0.15802933659263743, -0.15802933659263743, 0.15802933659263743, -0.15802933659263743, -0.15802933659263743, -0.15802933659263743, -0.15802933659263743, 0.15802933659263743, 0.15802933659263743, -0.15802933659263743, 0.15802933659263743, -0.15802933659263743, 0.15802933659263743, -0.15802933659263743, 0.15802933659263743, 0.15802933659263743, 0.15802933659263743, 0.15802933659263743, 0.15802933659263743, -0.15802933659263743, 0.15802933659263743, -0.15802933659263743, 0.15802933659263743, 0.15802933659263743, -0.15802933659263743, -0.15802933659263743, -0.15802933659263743, 0.15802933659263743, -0.15802933659263743, 0.15802933659263743, 0.15802933659263743, 0.15802933659263743, -0.15802933659263743, -0.15802933659263743, 0.15802933659263743, -0.15802933659263743, 0.15802933659263743, -0.15802933659263743, 0.15802933659263743, 0.15802933659263743, 0.15802933659263743, -0.15802933659263743, -0.15802933659263743, -0.15802933659263743, 0.15802933659263743, 0.15802933659263743, -0.15802933659263743, 0.15802933659263743, -0.15802933659263743, -0.15802933659263743, -0.15802933659263743, 0.15802933659263743, -0.15802933659263743, -0.15802933659263743, 0.15802933659263743, -0.15802933659263743, 0.15802933659263743, 0.15802933659263743, 0.15802933659263743, -0.15802933659263743, 0.15802933659263743, 0.15802933659263743, 0.15802933659263743, -0.15802933659263743, -0.15802933659263743, 0.15802933659263743, -0.15802933659263743, -0.15802933659263743, 0.15802933659263743, -0.15802933659263743, 0.15802933659263743, -0.15802933659263743, -0.15802933659263743, -0.15802933659263743, ... ])\n",
      "('intermediate weighted prediction : ', dtype: float\n",
      "Rows: 9284\n",
      "[-0.0931188897118425, 0.0931188897118425, 0.0931188897118425, -0.0931188897118425, 0.0931188897118425, 0.0931188897118425, 0.0931188897118425, 0.0931188897118425, -0.0931188897118425, -0.0931188897118425, 0.0931188897118425, 0.0931188897118425, 0.0931188897118425, -0.0931188897118425, 0.0931188897118425, 0.0931188897118425, 0.0931188897118425, 0.0931188897118425, 0.0931188897118425, -0.0931188897118425, 0.0931188897118425, 0.0931188897118425, 0.0931188897118425, -0.0931188897118425, 0.0931188897118425, 0.0931188897118425, 0.0931188897118425, 0.0931188897118425, 0.0931188897118425, 0.0931188897118425, 0.0931188897118425, 0.0931188897118425, 0.0931188897118425, 0.0931188897118425, 0.0931188897118425, 0.0931188897118425, 0.0931188897118425, 0.0931188897118425, 0.0931188897118425, 0.0931188897118425, 0.0931188897118425, 0.0931188897118425, 0.0931188897118425, 0.0931188897118425, 0.0931188897118425, 0.0931188897118425, 0.0931188897118425, 0.0931188897118425, 0.0931188897118425, 0.0931188897118425, 0.0931188897118425, -0.0931188897118425, 0.0931188897118425, 0.0931188897118425, 0.0931188897118425, 0.0931188897118425, 0.0931188897118425, 0.0931188897118425, 0.0931188897118425, 0.0931188897118425, 0.0931188897118425, 0.0931188897118425, 0.0931188897118425, 0.0931188897118425, 0.0931188897118425, 0.0931188897118425, -0.0931188897118425, 0.0931188897118425, 0.0931188897118425, 0.0931188897118425, 0.0931188897118425, 0.0931188897118425, -0.0931188897118425, 0.0931188897118425, 0.0931188897118425, 0.0931188897118425, 0.0931188897118425, 0.0931188897118425, 0.0931188897118425, 0.0931188897118425, -0.0931188897118425, 0.0931188897118425, 0.0931188897118425, 0.0931188897118425, 0.0931188897118425, 0.0931188897118425, 0.0931188897118425, 0.0931188897118425, -0.0931188897118425, 0.0931188897118425, 0.0931188897118425, 0.0931188897118425, -0.0931188897118425, 0.0931188897118425, -0.0931188897118425, 0.0931188897118425, -0.0931188897118425, 0.0931188897118425, 0.0931188897118425, 0.0931188897118425, ... ])\n",
      "('scores before: ', dtype: float\n",
      "Rows: 9284\n",
      "[-0.33485296952900434, 0.33485296952900434, -0.33485296952900434, -0.33485296952900434, -0.018794296343729505, -0.33485296952900434, -0.33485296952900434, -0.018794296343729505, -0.018794296343729505, -0.018794296343729505, -0.33485296952900434, 0.33485296952900434, -0.018794296343729505, -0.018794296343729505, 0.33485296952900434, -0.018794296343729505, -0.018794296343729505, -0.33485296952900434, -0.33485296952900434, -0.018794296343729505, -0.018794296343729505, 0.33485296952900434, -0.33485296952900434, -0.33485296952900434, -0.33485296952900434, -0.018794296343729505, -0.018794296343729505, -0.33485296952900434, -0.018794296343729505, -0.33485296952900434, -0.33485296952900434, -0.33485296952900434, -0.33485296952900434, -0.018794296343729505, -0.018794296343729505, -0.33485296952900434, -0.018794296343729505, -0.33485296952900434, 0.33485296952900434, -0.33485296952900434, -0.018794296343729505, -0.018794296343729505, -0.018794296343729505, 0.33485296952900434, -0.018794296343729505, -0.33485296952900434, 0.33485296952900434, -0.33485296952900434, -0.018794296343729505, 0.33485296952900434, -0.33485296952900434, -0.33485296952900434, -0.33485296952900434, -0.018794296343729505, -0.33485296952900434, -0.018794296343729505, -0.018794296343729505, -0.018794296343729505, -0.33485296952900434, -0.33485296952900434, -0.018794296343729505, -0.33485296952900434, -0.018794296343729505, -0.33485296952900434, -0.018794296343729505, -0.018794296343729505, -0.018794296343729505, -0.33485296952900434, -0.33485296952900434, -0.33485296952900434, -0.018794296343729505, 0.33485296952900434, -0.33485296952900434, -0.018794296343729505, -0.33485296952900434, -0.33485296952900434, -0.33485296952900434, -0.018794296343729505, -0.33485296952900434, -0.33485296952900434, -0.018794296343729505, -0.33485296952900434, -0.018794296343729505, 0.33485296952900434, -0.018794296343729505, 0.018794296343729505, 0.33485296952900434, -0.018794296343729505, -0.018794296343729505, -0.33485296952900434, -0.33485296952900434, -0.018794296343729505, -0.33485296952900434, -0.33485296952900434, -0.018794296343729505, -0.33485296952900434, -0.018794296343729505, -0.33485296952900434, -0.33485296952900434, -0.33485296952900434, ... ])\n"
     ]
    },
    {
     "name": "stdout",
     "output_type": "stream",
     "text": [
      "('intermediate weighted prediction : ', dtype: float\n",
      "Rows: 9284\n",
      "[-0.07288885525865149, 0.07288885525865149, -0.07288885525865149, -0.07288885525865149, -0.07288885525865149, -0.07288885525865149, -0.07288885525865149, 0.07288885525865149, -0.07288885525865149, -0.07288885525865149, -0.07288885525865149, -0.07288885525865149, -0.07288885525865149, -0.07288885525865149, -0.07288885525865149, 0.07288885525865149, -0.07288885525865149, -0.07288885525865149, -0.07288885525865149, -0.07288885525865149, 0.07288885525865149, 0.07288885525865149, 0.07288885525865149, -0.07288885525865149, -0.07288885525865149, -0.07288885525865149, -0.07288885525865149, 0.07288885525865149, 0.07288885525865149, 0.07288885525865149, -0.07288885525865149, -0.07288885525865149, -0.07288885525865149, -0.07288885525865149, -0.07288885525865149, 0.07288885525865149, 0.07288885525865149, -0.07288885525865149, -0.07288885525865149, -0.07288885525865149, -0.07288885525865149, -0.07288885525865149, -0.07288885525865149, -0.07288885525865149, -0.07288885525865149, -0.07288885525865149, -0.07288885525865149, 0.07288885525865149, -0.07288885525865149, -0.07288885525865149, -0.07288885525865149, -0.07288885525865149, 0.07288885525865149, 0.07288885525865149, 0.07288885525865149, -0.07288885525865149, -0.07288885525865149, -0.07288885525865149, 0.07288885525865149, -0.07288885525865149, -0.07288885525865149, -0.07288885525865149, 0.07288885525865149, 0.07288885525865149, -0.07288885525865149, 0.07288885525865149, -0.07288885525865149, -0.07288885525865149, 0.07288885525865149, -0.07288885525865149, -0.07288885525865149, -0.07288885525865149, -0.07288885525865149, -0.07288885525865149, 0.07288885525865149, -0.07288885525865149, -0.07288885525865149, 0.07288885525865149, -0.07288885525865149, 0.07288885525865149, -0.07288885525865149, -0.07288885525865149, 0.07288885525865149, -0.07288885525865149, 0.07288885525865149, 0.07288885525865149, -0.07288885525865149, -0.07288885525865149, -0.07288885525865149, 0.07288885525865149, -0.07288885525865149, -0.07288885525865149, -0.07288885525865149, 0.07288885525865149, -0.07288885525865149, 0.07288885525865149, 0.07288885525865149, 0.07288885525865149, -0.07288885525865149, 0.07288885525865149, ... ])\n",
      "('scores before: ', dtype: float\n",
      "Rows: 9284\n",
      "[-0.42797185924084685, 0.42797185924084685, -0.24173407981716183, -0.42797185924084685, 0.07432459336811299, -0.24173407981716183, -0.24173407981716183, 0.07432459336811299, -0.111913186055572, -0.111913186055572, -0.24173407981716183, 0.42797185924084685, 0.07432459336811299, -0.111913186055572, 0.42797185924084685, 0.07432459336811299, 0.07432459336811299, -0.24173407981716183, -0.24173407981716183, -0.111913186055572, 0.07432459336811299, 0.42797185924084685, -0.24173407981716183, -0.42797185924084685, -0.24173407981716183, 0.07432459336811299, 0.07432459336811299, -0.24173407981716183, 0.07432459336811299, -0.24173407981716183, -0.24173407981716183, -0.24173407981716183, -0.24173407981716183, 0.07432459336811299, 0.07432459336811299, -0.24173407981716183, 0.07432459336811299, -0.24173407981716183, 0.42797185924084685, -0.24173407981716183, 0.07432459336811299, 0.07432459336811299, 0.07432459336811299, 0.42797185924084685, 0.07432459336811299, -0.24173407981716183, 0.42797185924084685, -0.24173407981716183, 0.07432459336811299, 0.42797185924084685, -0.24173407981716183, -0.42797185924084685, -0.24173407981716183, 0.07432459336811299, -0.24173407981716183, 0.07432459336811299, 0.07432459336811299, 0.07432459336811299, -0.24173407981716183, -0.24173407981716183, 0.07432459336811299, -0.24173407981716183, 0.07432459336811299, -0.24173407981716183, 0.07432459336811299, 0.07432459336811299, -0.111913186055572, -0.24173407981716183, -0.24173407981716183, -0.24173407981716183, 0.07432459336811299, 0.42797185924084685, -0.42797185924084685, 0.07432459336811299, -0.24173407981716183, -0.24173407981716183, -0.24173407981716183, 0.07432459336811299, -0.24173407981716183, -0.24173407981716183, -0.111913186055572, -0.24173407981716183, 0.07432459336811299, 0.42797185924084685, 0.07432459336811299, 0.111913186055572, 0.42797185924084685, 0.07432459336811299, -0.111913186055572, -0.24173407981716183, -0.24173407981716183, 0.07432459336811299, -0.42797185924084685, -0.24173407981716183, -0.111913186055572, -0.24173407981716183, -0.111913186055572, -0.24173407981716183, -0.24173407981716183, -0.24173407981716183, ... ])\n",
      "('intermediate weighted prediction : ', dtype: float\n",
      "Rows: 9284\n",
      "[-0.06706306914162356, -0.06706306914162356, -0.06706306914162356, -0.06706306914162356, 0.06706306914162356, -0.06706306914162356, 0.06706306914162356, -0.06706306914162356, -0.06706306914162356, -0.06706306914162356, -0.06706306914162356, -0.06706306914162356, 0.06706306914162356, -0.06706306914162356, -0.06706306914162356, 0.06706306914162356, 0.06706306914162356, 0.06706306914162356, -0.06706306914162356, -0.06706306914162356, 0.06706306914162356, -0.06706306914162356, 0.06706306914162356, -0.06706306914162356, -0.06706306914162356, 0.06706306914162356, 0.06706306914162356, -0.06706306914162356, -0.06706306914162356, -0.06706306914162356, -0.06706306914162356, -0.06706306914162356, -0.06706306914162356, -0.06706306914162356, 0.06706306914162356, -0.06706306914162356, -0.06706306914162356, -0.06706306914162356, -0.06706306914162356, -0.06706306914162356, 0.06706306914162356, 0.06706306914162356, 0.06706306914162356, -0.06706306914162356, -0.06706306914162356, -0.06706306914162356, -0.06706306914162356, 0.06706306914162356, 0.06706306914162356, -0.06706306914162356, 0.06706306914162356, -0.06706306914162356, -0.06706306914162356, -0.06706306914162356, -0.06706306914162356, -0.06706306914162356, 0.06706306914162356, 0.06706306914162356, 0.06706306914162356, -0.06706306914162356, 0.06706306914162356, -0.06706306914162356, 0.06706306914162356, -0.06706306914162356, -0.06706306914162356, -0.06706306914162356, -0.06706306914162356, -0.06706306914162356, -0.06706306914162356, -0.06706306914162356, -0.06706306914162356, -0.06706306914162356, -0.06706306914162356, -0.06706306914162356, -0.06706306914162356, -0.06706306914162356, -0.06706306914162356, 0.06706306914162356, -0.06706306914162356, -0.06706306914162356, -0.06706306914162356, -0.06706306914162356, -0.06706306914162356, -0.06706306914162356, -0.06706306914162356, -0.06706306914162356, -0.06706306914162356, -0.06706306914162356, -0.06706306914162356, 0.06706306914162356, -0.06706306914162356, 0.06706306914162356, -0.06706306914162356, -0.06706306914162356, -0.06706306914162356, 0.06706306914162356, -0.06706306914162356, -0.06706306914162356, -0.06706306914162356, -0.06706306914162356, ... ])\n",
      "('scores before: ', dtype: float\n",
      "Rows: 9284\n",
      "[-0.5008607144994983, 0.5008607144994983, -0.3146229350758133, -0.5008607144994983, 0.0014357381094615013, -0.3146229350758133, -0.3146229350758133, 0.1472134486267645, -0.1848020413142235, -0.1848020413142235, -0.3146229350758133, 0.3550830039821954, 0.0014357381094615013, -0.1848020413142235, 0.3550830039821954, 0.1472134486267645, 0.0014357381094615013, -0.3146229350758133, -0.3146229350758133, -0.1848020413142235, 0.1472134486267645, 0.5008607144994983, -0.16884522455851034, -0.5008607144994983, -0.3146229350758133, 0.0014357381094615013, 0.0014357381094615013, -0.16884522455851034, 0.1472134486267645, -0.16884522455851034, -0.3146229350758133, -0.3146229350758133, -0.3146229350758133, 0.0014357381094615013, 0.0014357381094615013, -0.16884522455851034, 0.1472134486267645, -0.3146229350758133, 0.3550830039821954, -0.3146229350758133, 0.0014357381094615013, 0.0014357381094615013, 0.0014357381094615013, 0.3550830039821954, 0.0014357381094615013, -0.3146229350758133, 0.3550830039821954, -0.16884522455851034, 0.0014357381094615013, 0.3550830039821954, -0.3146229350758133, -0.5008607144994983, -0.16884522455851034, 0.1472134486267645, -0.16884522455851034, 0.0014357381094615013, 0.0014357381094615013, 0.0014357381094615013, -0.16884522455851034, -0.3146229350758133, 0.0014357381094615013, -0.3146229350758133, 0.1472134486267645, -0.16884522455851034, 0.0014357381094615013, 0.1472134486267645, -0.1848020413142235, -0.3146229350758133, -0.16884522455851034, -0.3146229350758133, 0.0014357381094615013, 0.3550830039821954, -0.5008607144994983, 0.0014357381094615013, -0.16884522455851034, -0.3146229350758133, -0.3146229350758133, 0.1472134486267645, -0.3146229350758133, -0.16884522455851034, -0.1848020413142235, -0.3146229350758133, 0.1472134486267645, 0.3550830039821954, 0.1472134486267645, 0.1848020413142235, 0.3550830039821954, 0.0014357381094615013, -0.1848020413142235, -0.16884522455851034, -0.3146229350758133, 0.0014357381094615013, -0.5008607144994983, -0.16884522455851034, -0.1848020413142235, -0.16884522455851034, -0.03902433079692051, -0.16884522455851034, -0.3146229350758133, -0.16884522455851034, ... ])\n"
     ]
    },
    {
     "name": "stdout",
     "output_type": "stream",
     "text": [
      "('intermediate weighted prediction : ', dtype: float\n",
      "Rows: 9284\n",
      "[0.06456916961624358, 0.06456916961624358, 0.06456916961624358, 0.06456916961624358, 0.06456916961624358, 0.06456916961624358, 0.06456916961624358, 0.06456916961624358, 0.06456916961624358, 0.06456916961624358, -0.06456916961624358, 0.06456916961624358, 0.06456916961624358, 0.06456916961624358, 0.06456916961624358, 0.06456916961624358, 0.06456916961624358, 0.06456916961624358, -0.06456916961624358, 0.06456916961624358, 0.06456916961624358, 0.06456916961624358, 0.06456916961624358, 0.06456916961624358, -0.06456916961624358, 0.06456916961624358, 0.06456916961624358, -0.06456916961624358, 0.06456916961624358, 0.06456916961624358, 0.06456916961624358, 0.06456916961624358, 0.06456916961624358, 0.06456916961624358, 0.06456916961624358, 0.06456916961624358, 0.06456916961624358, 0.06456916961624358, 0.06456916961624358, -0.06456916961624358, 0.06456916961624358, 0.06456916961624358, 0.06456916961624358, 0.06456916961624358, 0.06456916961624358, 0.06456916961624358, 0.06456916961624358, 0.06456916961624358, 0.06456916961624358, 0.06456916961624358, 0.06456916961624358, 0.06456916961624358, -0.06456916961624358, 0.06456916961624358, 0.06456916961624358, 0.06456916961624358, 0.06456916961624358, 0.06456916961624358, 0.06456916961624358, -0.06456916961624358, 0.06456916961624358, -0.06456916961624358, 0.06456916961624358, -0.06456916961624358, 0.06456916961624358, 0.06456916961624358, 0.06456916961624358, -0.06456916961624358, -0.06456916961624358, 0.06456916961624358, 0.06456916961624358, 0.06456916961624358, 0.06456916961624358, 0.06456916961624358, -0.06456916961624358, -0.06456916961624358, -0.06456916961624358, 0.06456916961624358, -0.06456916961624358, -0.06456916961624358, 0.06456916961624358, 0.06456916961624358, 0.06456916961624358, 0.06456916961624358, 0.06456916961624358, 0.06456916961624358, 0.06456916961624358, 0.06456916961624358, 0.06456916961624358, 0.06456916961624358, 0.06456916961624358, 0.06456916961624358, 0.06456916961624358, -0.06456916961624358, 0.06456916961624358, 0.06456916961624358, 0.06456916961624358, 0.06456916961624358, 0.06456916961624358, 0.06456916961624358, ... ])\n",
      "('scores before: ', dtype: float\n",
      "Rows: 9284\n",
      "[-0.5679237836411218, 0.43379764535787474, -0.38168600421743687, -0.5679237836411218, 0.06849880725108506, -0.38168600421743687, -0.24755986593418972, 0.08015037948514094, -0.2518651104558471, -0.2518651104558471, -0.38168600421743687, 0.2880199348405718, 0.06849880725108506, -0.2518651104558471, 0.2880199348405718, 0.21427651776838808, 0.06849880725108506, -0.24755986593418972, -0.38168600421743687, -0.2518651104558471, 0.21427651776838808, 0.43379764535787474, -0.10178215541688677, -0.5679237836411218, -0.38168600421743687, 0.06849880725108506, 0.06849880725108506, -0.2359082937001339, 0.08015037948514094, -0.2359082937001339, -0.38168600421743687, -0.38168600421743687, -0.38168600421743687, -0.06562733103216206, 0.06849880725108506, -0.2359082937001339, 0.08015037948514094, -0.38168600421743687, 0.2880199348405718, -0.38168600421743687, 0.06849880725108506, 0.06849880725108506, 0.06849880725108506, 0.2880199348405718, -0.06562733103216206, -0.38168600421743687, 0.2880199348405718, -0.10178215541688677, 0.06849880725108506, 0.2880199348405718, -0.24755986593418972, -0.5679237836411218, -0.2359082937001339, 0.08015037948514094, -0.2359082937001339, -0.06562733103216206, 0.06849880725108506, 0.06849880725108506, -0.10178215541688677, -0.38168600421743687, 0.06849880725108506, -0.38168600421743687, 0.21427651776838808, -0.2359082937001339, -0.06562733103216206, 0.08015037948514094, -0.2518651104558471, -0.38168600421743687, -0.2359082937001339, -0.38168600421743687, -0.06562733103216206, 0.2880199348405718, -0.5679237836411218, -0.06562733103216206, -0.2359082937001339, -0.38168600421743687, -0.38168600421743687, 0.21427651776838808, -0.38168600421743687, -0.2359082937001339, -0.2518651104558471, -0.38168600421743687, 0.08015037948514094, 0.2880199348405718, 0.08015037948514094, 0.11773897217259995, 0.2880199348405718, -0.06562733103216206, -0.2518651104558471, -0.10178215541688677, -0.38168600421743687, 0.06849880725108506, -0.5679237836411218, -0.2359082937001339, -0.2518651104558471, -0.10178215541688677, -0.10608739993854407, -0.2359082937001339, -0.38168600421743687, -0.2359082937001339, ... ])\n",
      "('intermediate weighted prediction : ', dtype: float\n",
      "Rows: 9284\n",
      "[-0.05456055779184307, 0.05456055779184307, -0.05456055779184307, -0.05456055779184307, -0.05456055779184307, -0.05456055779184307, -0.05456055779184307, -0.05456055779184307, -0.05456055779184307, -0.05456055779184307, -0.05456055779184307, 0.05456055779184307, -0.05456055779184307, -0.05456055779184307, 0.05456055779184307, -0.05456055779184307, -0.05456055779184307, -0.05456055779184307, -0.05456055779184307, -0.05456055779184307, -0.05456055779184307, 0.05456055779184307, -0.05456055779184307, -0.05456055779184307, -0.05456055779184307, -0.05456055779184307, -0.05456055779184307, -0.05456055779184307, -0.05456055779184307, -0.05456055779184307, -0.05456055779184307, -0.05456055779184307, -0.05456055779184307, -0.05456055779184307, -0.05456055779184307, -0.05456055779184307, -0.05456055779184307, -0.05456055779184307, 0.05456055779184307, -0.05456055779184307, -0.05456055779184307, -0.05456055779184307, -0.05456055779184307, 0.05456055779184307, -0.05456055779184307, -0.05456055779184307, 0.05456055779184307, -0.05456055779184307, -0.05456055779184307, 0.05456055779184307, -0.05456055779184307, -0.05456055779184307, -0.05456055779184307, -0.05456055779184307, -0.05456055779184307, -0.05456055779184307, -0.05456055779184307, -0.05456055779184307, -0.05456055779184307, -0.05456055779184307, -0.05456055779184307, -0.05456055779184307, -0.05456055779184307, -0.05456055779184307, -0.05456055779184307, -0.05456055779184307, -0.05456055779184307, -0.05456055779184307, -0.05456055779184307, -0.05456055779184307, -0.05456055779184307, 0.05456055779184307, -0.05456055779184307, -0.05456055779184307, -0.05456055779184307, -0.05456055779184307, -0.05456055779184307, -0.05456055779184307, -0.05456055779184307, -0.05456055779184307, -0.05456055779184307, -0.05456055779184307, -0.05456055779184307, 0.05456055779184307, -0.05456055779184307, 0.05456055779184307, 0.05456055779184307, -0.05456055779184307, -0.05456055779184307, -0.05456055779184307, -0.05456055779184307, -0.05456055779184307, -0.05456055779184307, -0.05456055779184307, -0.05456055779184307, -0.05456055779184307, -0.05456055779184307, -0.05456055779184307, -0.05456055779184307, -0.05456055779184307, ... ])\n",
      "('scores before: ', dtype: float\n",
      "Rows: 9284\n",
      "[-0.5033546140248782, 0.49836681497411833, -0.3171168346011933, -0.5033546140248782, 0.13306797686732863, -0.3171168346011933, -0.18299069631794612, 0.14471954910138451, -0.1872959408396035, -0.1872959408396035, -0.44625517383368046, 0.3525891044568154, 0.13306797686732863, -0.1872959408396035, 0.3525891044568154, 0.27884568738463167, 0.13306797686732863, -0.18299069631794612, -0.44625517383368046, -0.1872959408396035, 0.27884568738463167, 0.49836681497411833, -0.037212985800643195, -0.5033546140248782, -0.44625517383368046, 0.13306797686732863, 0.13306797686732863, -0.3004774633163775, 0.14471954910138451, -0.1713391240838903, -0.3171168346011933, -0.3171168346011933, -0.3171168346011933, -0.0010581614159184821, 0.13306797686732863, -0.1713391240838903, 0.14471954910138451, -0.3171168346011933, 0.3525891044568154, -0.44625517383368046, 0.13306797686732863, 0.13306797686732863, 0.13306797686732863, 0.3525891044568154, -0.0010581614159184821, -0.3171168346011933, 0.3525891044568154, -0.037212985800643195, 0.13306797686732863, 0.3525891044568154, -0.18299069631794612, -0.5033546140248782, -0.3004774633163775, 0.14471954910138451, -0.1713391240838903, -0.0010581614159184821, 0.13306797686732863, 0.13306797686732863, -0.037212985800643195, -0.44625517383368046, 0.13306797686732863, -0.44625517383368046, 0.27884568738463167, -0.3004774633163775, -0.0010581614159184821, 0.14471954910138451, -0.1872959408396035, -0.44625517383368046, -0.3004774633163775, -0.3171168346011933, -0.0010581614159184821, 0.3525891044568154, -0.5033546140248782, -0.0010581614159184821, -0.3004774633163775, -0.44625517383368046, -0.44625517383368046, 0.27884568738463167, -0.44625517383368046, -0.3004774633163775, -0.1872959408396035, -0.3171168346011933, 0.14471954910138451, 0.3525891044568154, 0.14471954910138451, 0.18230814178884353, 0.3525891044568154, -0.0010581614159184821, -0.1872959408396035, -0.037212985800643195, -0.3171168346011933, 0.13306797686732863, -0.5033546140248782, -0.3004774633163775, -0.1872959408396035, -0.037212985800643195, -0.041518230322300495, -0.1713391240838903, -0.3171168346011933, -0.1713391240838903, ... ])\n"
     ]
    },
    {
     "name": "stdout",
     "output_type": "stream",
     "text": [
      "('intermediate weighted prediction : ', dtype: float\n",
      "Rows: 9284\n",
      "[0.043510936733700704, 0.043510936733700704, -0.043510936733700704, 0.043510936733700704, 0.043510936733700704, -0.043510936733700704, 0.043510936733700704, 0.043510936733700704, 0.043510936733700704, 0.043510936733700704, 0.043510936733700704, 0.043510936733700704, 0.043510936733700704, 0.043510936733700704, 0.043510936733700704, 0.043510936733700704, 0.043510936733700704, 0.043510936733700704, 0.043510936733700704, 0.043510936733700704, 0.043510936733700704, 0.043510936733700704, 0.043510936733700704, 0.043510936733700704, 0.043510936733700704, 0.043510936733700704, 0.043510936733700704, 0.043510936733700704, 0.043510936733700704, -0.043510936733700704, -0.043510936733700704, 0.043510936733700704, 0.043510936733700704, 0.043510936733700704, 0.043510936733700704, -0.043510936733700704, 0.043510936733700704, 0.043510936733700704, 0.043510936733700704, 0.043510936733700704, 0.043510936733700704, 0.043510936733700704, 0.043510936733700704, 0.043510936733700704, 0.043510936733700704, 0.043510936733700704, 0.043510936733700704, 0.043510936733700704, 0.043510936733700704, 0.043510936733700704, 0.043510936733700704, 0.043510936733700704, 0.043510936733700704, 0.043510936733700704, 0.043510936733700704, 0.043510936733700704, 0.043510936733700704, 0.043510936733700704, 0.043510936733700704, 0.043510936733700704, 0.043510936733700704, 0.043510936733700704, 0.043510936733700704, 0.043510936733700704, 0.043510936733700704, 0.043510936733700704, 0.043510936733700704, 0.043510936733700704, 0.043510936733700704, -0.043510936733700704, 0.043510936733700704, 0.043510936733700704, 0.043510936733700704, 0.043510936733700704, 0.043510936733700704, 0.043510936733700704, 0.043510936733700704, 0.043510936733700704, 0.043510936733700704, 0.043510936733700704, 0.043510936733700704, 0.043510936733700704, 0.043510936733700704, 0.043510936733700704, 0.043510936733700704, 0.043510936733700704, 0.043510936733700704, 0.043510936733700704, 0.043510936733700704, 0.043510936733700704, -0.043510936733700704, 0.043510936733700704, 0.043510936733700704, 0.043510936733700704, 0.043510936733700704, 0.043510936733700704, 0.043510936733700704, -0.043510936733700704, -0.043510936733700704, -0.043510936733700704, ... ])\n",
      "('scores before: ', dtype: float\n",
      "Rows: 9284\n",
      "[-0.5579151718167213, 0.5529273727659614, -0.3716773923930363, -0.5579151718167213, 0.07850741907548556, -0.3716773923930363, -0.2375512541097892, 0.09015899130954144, -0.24185649863144656, -0.24185649863144656, -0.5008157316255235, 0.40714966224865845, 0.07850741907548556, -0.24185649863144656, 0.40714966224865845, 0.2242851295927886, 0.07850741907548556, -0.2375512541097892, -0.5008157316255235, -0.24185649863144656, 0.2242851295927886, 0.5529273727659614, -0.09177354359248627, -0.5579151718167213, -0.5008157316255235, 0.07850741907548556, 0.07850741907548556, -0.3550380211082206, 0.09015899130954144, -0.22589968187573337, -0.3716773923930363, -0.3716773923930363, -0.3716773923930363, -0.055618719207761555, 0.07850741907548556, -0.22589968187573337, 0.09015899130954144, -0.3716773923930363, 0.40714966224865845, -0.5008157316255235, 0.07850741907548556, 0.07850741907548556, 0.07850741907548556, 0.40714966224865845, -0.055618719207761555, -0.3716773923930363, 0.40714966224865845, -0.09177354359248627, 0.07850741907548556, 0.40714966224865845, -0.2375512541097892, -0.5579151718167213, -0.3550380211082206, 0.09015899130954144, -0.22589968187573337, -0.055618719207761555, 0.07850741907548556, 0.07850741907548556, -0.09177354359248627, -0.5008157316255235, 0.07850741907548556, -0.5008157316255235, 0.2242851295927886, -0.3550380211082206, -0.055618719207761555, 0.09015899130954144, -0.24185649863144656, -0.5008157316255235, -0.3550380211082206, -0.3716773923930363, -0.055618719207761555, 0.40714966224865845, -0.5579151718167213, -0.055618719207761555, -0.3550380211082206, -0.5008157316255235, -0.5008157316255235, 0.2242851295927886, -0.5008157316255235, -0.3550380211082206, -0.24185649863144656, -0.3716773923930363, 0.09015899130954144, 0.40714966224865845, 0.09015899130954144, 0.2368686995806866, 0.40714966224865845, -0.055618719207761555, -0.24185649863144656, -0.09177354359248627, -0.3716773923930363, 0.07850741907548556, -0.5579151718167213, -0.3550380211082206, -0.24185649863144656, -0.09177354359248627, -0.09607878811414357, -0.22589968187573337, -0.3716773923930363, -0.22589968187573337, ... ])\n",
      "('intermediate weighted prediction : ', dtype: float\n",
      "Rows: 9284\n",
      "[-0.02898871150035158, 0.02898871150035158, -0.02898871150035158, -0.02898871150035158, -0.02898871150035158, -0.02898871150035158, -0.02898871150035158, -0.02898871150035158, -0.02898871150035158, -0.02898871150035158, -0.02898871150035158, 0.02898871150035158, -0.02898871150035158, -0.02898871150035158, 0.02898871150035158, -0.02898871150035158, -0.02898871150035158, -0.02898871150035158, -0.02898871150035158, -0.02898871150035158, -0.02898871150035158, 0.02898871150035158, -0.02898871150035158, -0.02898871150035158, -0.02898871150035158, -0.02898871150035158, -0.02898871150035158, -0.02898871150035158, -0.02898871150035158, -0.02898871150035158, -0.02898871150035158, -0.02898871150035158, -0.02898871150035158, -0.02898871150035158, -0.02898871150035158, -0.02898871150035158, -0.02898871150035158, -0.02898871150035158, 0.02898871150035158, -0.02898871150035158, -0.02898871150035158, -0.02898871150035158, -0.02898871150035158, 0.02898871150035158, -0.02898871150035158, -0.02898871150035158, 0.02898871150035158, -0.02898871150035158, -0.02898871150035158, 0.02898871150035158, -0.02898871150035158, -0.02898871150035158, -0.02898871150035158, -0.02898871150035158, -0.02898871150035158, -0.02898871150035158, -0.02898871150035158, -0.02898871150035158, -0.02898871150035158, -0.02898871150035158, -0.02898871150035158, -0.02898871150035158, -0.02898871150035158, -0.02898871150035158, -0.02898871150035158, -0.02898871150035158, -0.02898871150035158, -0.02898871150035158, -0.02898871150035158, -0.02898871150035158, -0.02898871150035158, 0.02898871150035158, -0.02898871150035158, -0.02898871150035158, -0.02898871150035158, -0.02898871150035158, -0.02898871150035158, -0.02898871150035158, -0.02898871150035158, -0.02898871150035158, -0.02898871150035158, -0.02898871150035158, -0.02898871150035158, 0.02898871150035158, -0.02898871150035158, 0.02898871150035158, 0.02898871150035158, -0.02898871150035158, -0.02898871150035158, -0.02898871150035158, -0.02898871150035158, -0.02898871150035158, -0.02898871150035158, -0.02898871150035158, -0.02898871150035158, -0.02898871150035158, -0.02898871150035158, -0.02898871150035158, -0.02898871150035158, -0.02898871150035158, ... ])\n",
      "('scores before: ', dtype: float\n",
      "Rows: 9284\n",
      "[-0.5144042350830207, 0.596438309499662, -0.41518832912673703, -0.5144042350830207, 0.12201835580918627, -0.41518832912673703, -0.19404031737608848, 0.13366992804324215, -0.19834556189774585, -0.19834556189774585, -0.4573047948918228, 0.45066059898235916, 0.12201835580918627, -0.19834556189774585, 0.45066059898235916, 0.2677960663264893, 0.12201835580918627, -0.19404031737608848, -0.4573047948918228, -0.19834556189774585, 0.2677960663264893, 0.596438309499662, -0.04826260685878556, -0.5144042350830207, -0.4573047948918228, 0.12201835580918627, 0.12201835580918627, -0.31152708437451987, 0.13366992804324215, -0.26941061860943405, -0.41518832912673703, -0.3281664556593356, -0.3281664556593356, -0.01210778247406085, 0.12201835580918627, -0.26941061860943405, 0.13366992804324215, -0.3281664556593356, 0.45066059898235916, -0.4573047948918228, 0.12201835580918627, 0.12201835580918627, 0.12201835580918627, 0.45066059898235916, -0.01210778247406085, -0.3281664556593356, 0.45066059898235916, -0.04826260685878556, 0.12201835580918627, 0.45066059898235916, -0.19404031737608848, -0.5144042350830207, -0.31152708437451987, 0.13366992804324215, -0.18238874514203265, -0.01210778247406085, 0.12201835580918627, 0.12201835580918627, -0.04826260685878556, -0.4573047948918228, 0.12201835580918627, -0.4573047948918228, 0.2677960663264893, -0.31152708437451987, -0.01210778247406085, 0.13366992804324215, -0.19834556189774585, -0.4573047948918228, -0.31152708437451987, -0.41518832912673703, -0.01210778247406085, 0.45066059898235916, -0.5144042350830207, -0.01210778247406085, -0.31152708437451987, -0.4573047948918228, -0.4573047948918228, 0.2677960663264893, -0.4573047948918228, -0.31152708437451987, -0.19834556189774585, -0.3281664556593356, 0.13366992804324215, 0.45066059898235916, 0.13366992804324215, 0.2803796363143873, 0.45066059898235916, -0.01210778247406085, -0.19834556189774585, -0.04826260685878556, -0.41518832912673703, 0.12201835580918627, -0.5144042350830207, -0.31152708437451987, -0.19834556189774585, -0.04826260685878556, -0.052567851380442863, -0.26941061860943405, -0.41518832912673703, -0.26941061860943405, ... ])\n"
     ]
    },
    {
     "name": "stdout",
     "output_type": "stream",
     "text": [
      "('intermediate weighted prediction : ', dtype: float\n",
      "Rows: 9284\n",
      "[0.025962509691371802, 0.025962509691371802, 0.025962509691371802, 0.025962509691371802, 0.025962509691371802, 0.025962509691371802, 0.025962509691371802, 0.025962509691371802, 0.025962509691371802, 0.025962509691371802, 0.025962509691371802, 0.025962509691371802, 0.025962509691371802, 0.025962509691371802, 0.025962509691371802, 0.025962509691371802, 0.025962509691371802, 0.025962509691371802, 0.025962509691371802, 0.025962509691371802, -0.025962509691371802, 0.025962509691371802, 0.025962509691371802, 0.025962509691371802, 0.025962509691371802, 0.025962509691371802, 0.025962509691371802, 0.025962509691371802, 0.025962509691371802, 0.025962509691371802, 0.025962509691371802, 0.025962509691371802, 0.025962509691371802, 0.025962509691371802, 0.025962509691371802, 0.025962509691371802, 0.025962509691371802, 0.025962509691371802, 0.025962509691371802, 0.025962509691371802, 0.025962509691371802, 0.025962509691371802, 0.025962509691371802, 0.025962509691371802, 0.025962509691371802, 0.025962509691371802, 0.025962509691371802, 0.025962509691371802, 0.025962509691371802, 0.025962509691371802, 0.025962509691371802, 0.025962509691371802, 0.025962509691371802, 0.025962509691371802, 0.025962509691371802, 0.025962509691371802, 0.025962509691371802, 0.025962509691371802, 0.025962509691371802, 0.025962509691371802, 0.025962509691371802, 0.025962509691371802, 0.025962509691371802, 0.025962509691371802, 0.025962509691371802, 0.025962509691371802, 0.025962509691371802, 0.025962509691371802, 0.025962509691371802, 0.025962509691371802, 0.025962509691371802, 0.025962509691371802, 0.025962509691371802, 0.025962509691371802, 0.025962509691371802, 0.025962509691371802, 0.025962509691371802, 0.025962509691371802, 0.025962509691371802, 0.025962509691371802, 0.025962509691371802, 0.025962509691371802, 0.025962509691371802, 0.025962509691371802, 0.025962509691371802, 0.025962509691371802, 0.025962509691371802, 0.025962509691371802, -0.025962509691371802, 0.025962509691371802, 0.025962509691371802, 0.025962509691371802, 0.025962509691371802, 0.025962509691371802, 0.025962509691371802, 0.025962509691371802, 0.025962509691371802, 0.025962509691371802, 0.025962509691371802, 0.025962509691371802, ... ])\n",
      "('scores before: ', dtype: float\n",
      "Rows: 9284\n",
      "[-0.5433929465833722, 0.6254270210000136, -0.4441770406270886, -0.5433929465833722, 0.09302964430883469, -0.4441770406270886, -0.22302902887644005, 0.10468121654289057, -0.22733427339809742, -0.22733427339809742, -0.4862935063921744, 0.47964931048271076, 0.09302964430883469, -0.22733427339809742, 0.47964931048271076, 0.23880735482613769, 0.09302964430883469, -0.22302902887644005, -0.4862935063921744, -0.22733427339809742, 0.23880735482613769, 0.6254270210000136, -0.07725131835913715, -0.5433929465833722, -0.4862935063921744, 0.09302964430883469, 0.09302964430883469, -0.34051579587487146, 0.10468121654289057, -0.29839933010978564, -0.4441770406270886, -0.3571551671596872, -0.3571551671596872, -0.04109649397441243, 0.09302964430883469, -0.29839933010978564, 0.10468121654289057, -0.3571551671596872, 0.47964931048271076, -0.4862935063921744, 0.09302964430883469, 0.09302964430883469, 0.09302964430883469, 0.47964931048271076, -0.04109649397441243, -0.3571551671596872, 0.47964931048271076, -0.07725131835913715, 0.09302964430883469, 0.47964931048271076, -0.22302902887644005, -0.5433929465833722, -0.34051579587487146, 0.10468121654289057, -0.21137745664238422, -0.04109649397441243, 0.09302964430883469, 0.09302964430883469, -0.07725131835913715, -0.4862935063921744, 0.09302964430883469, -0.4862935063921744, 0.23880735482613769, -0.34051579587487146, -0.04109649397441243, 0.10468121654289057, -0.22733427339809742, -0.4862935063921744, -0.34051579587487146, -0.4441770406270886, -0.04109649397441243, 0.47964931048271076, -0.5433929465833722, -0.04109649397441243, -0.34051579587487146, -0.4862935063921744, -0.4862935063921744, 0.23880735482613769, -0.4862935063921744, -0.34051579587487146, -0.22733427339809742, -0.3571551671596872, 0.10468121654289057, 0.47964931048271076, 0.10468121654289057, 0.3093683478147389, 0.47964931048271076, -0.04109649397441243, -0.22733427339809742, -0.07725131835913715, -0.4441770406270886, 0.09302964430883469, -0.5433929465833722, -0.34051579587487146, -0.22733427339809742, -0.07725131835913715, -0.08155656288079444, -0.29839933010978564, -0.4441770406270886, -0.29839933010978564, ... ])\n",
      "('intermediate weighted prediction : ', dtype: float\n",
      "Rows: 9284\n",
      "[0.030774421492272958, -0.030774421492272958, -0.030774421492272958, 0.030774421492272958, -0.030774421492272958, -0.030774421492272958, -0.030774421492272958, -0.030774421492272958, 0.030774421492272958, 0.030774421492272958, -0.030774421492272958, -0.030774421492272958, -0.030774421492272958, 0.030774421492272958, -0.030774421492272958, -0.030774421492272958, -0.030774421492272958, -0.030774421492272958, -0.030774421492272958, 0.030774421492272958, -0.030774421492272958, -0.030774421492272958, -0.030774421492272958, 0.030774421492272958, -0.030774421492272958, -0.030774421492272958, -0.030774421492272958, -0.030774421492272958, -0.030774421492272958, -0.030774421492272958, -0.030774421492272958, -0.030774421492272958, -0.030774421492272958, -0.030774421492272958, -0.030774421492272958, -0.030774421492272958, -0.030774421492272958, -0.030774421492272958, -0.030774421492272958, -0.030774421492272958, -0.030774421492272958, -0.030774421492272958, -0.030774421492272958, -0.030774421492272958, -0.030774421492272958, -0.030774421492272958, -0.030774421492272958, -0.030774421492272958, -0.030774421492272958, -0.030774421492272958, -0.030774421492272958, 0.030774421492272958, -0.030774421492272958, -0.030774421492272958, -0.030774421492272958, -0.030774421492272958, -0.030774421492272958, -0.030774421492272958, -0.030774421492272958, -0.030774421492272958, -0.030774421492272958, -0.030774421492272958, -0.030774421492272958, -0.030774421492272958, -0.030774421492272958, -0.030774421492272958, 0.030774421492272958, -0.030774421492272958, -0.030774421492272958, -0.030774421492272958, -0.030774421492272958, -0.030774421492272958, 0.030774421492272958, -0.030774421492272958, -0.030774421492272958, -0.030774421492272958, -0.030774421492272958, -0.030774421492272958, -0.030774421492272958, -0.030774421492272958, 0.030774421492272958, -0.030774421492272958, -0.030774421492272958, -0.030774421492272958, -0.030774421492272958, -0.030774421492272958, -0.030774421492272958, -0.030774421492272958, 0.030774421492272958, -0.030774421492272958, -0.030774421492272958, -0.030774421492272958, 0.030774421492272958, -0.030774421492272958, 0.030774421492272958, -0.030774421492272958, 0.030774421492272958, -0.030774421492272958, -0.030774421492272958, -0.030774421492272958, ... ])\n",
      "('scores before: ', dtype: float\n",
      "Rows: 9284\n",
      "[-0.5174304368920004, 0.6513895306913854, -0.4182145309357168, -0.5174304368920004, 0.11899215400020649, -0.4182145309357168, -0.19706651918506823, 0.13064372623426238, -0.2013717637067256, -0.2013717637067256, -0.4603309967008026, 0.5056118201740826, 0.11899215400020649, -0.2013717637067256, 0.5056118201740826, 0.2647698645175095, 0.11899215400020649, -0.19706651918506823, -0.4603309967008026, -0.2013717637067256, 0.21284484513476587, 0.6513895306913854, -0.05128880866776535, -0.5174304368920004, -0.4603309967008026, 0.11899215400020649, 0.11899215400020649, -0.31455328618349965, 0.13064372623426238, -0.2724368204184138, -0.4182145309357168, -0.3311926574683154, -0.3311926574683154, -0.015133984283040629, 0.11899215400020649, -0.2724368204184138, 0.13064372623426238, -0.3311926574683154, 0.5056118201740826, -0.4603309967008026, 0.11899215400020649, 0.11899215400020649, 0.11899215400020649, 0.5056118201740826, -0.015133984283040629, -0.3311926574683154, 0.5056118201740826, -0.05128880866776535, 0.11899215400020649, 0.5056118201740826, -0.19706651918506823, -0.5174304368920004, -0.31455328618349965, 0.13064372623426238, -0.1854149469510124, -0.015133984283040629, 0.11899215400020649, 0.11899215400020649, -0.05128880866776535, -0.4603309967008026, 0.11899215400020649, -0.4603309967008026, 0.2647698645175095, -0.31455328618349965, -0.015133984283040629, 0.13064372623426238, -0.2013717637067256, -0.4603309967008026, -0.31455328618349965, -0.4182145309357168, -0.015133984283040629, 0.5056118201740826, -0.5174304368920004, -0.015133984283040629, -0.31455328618349965, -0.4603309967008026, -0.4603309967008026, 0.2647698645175095, -0.4603309967008026, -0.31455328618349965, -0.2013717637067256, -0.3311926574683154, 0.13064372623426238, 0.5056118201740826, 0.13064372623426238, 0.3353308575061107, 0.5056118201740826, -0.015133984283040629, -0.25329678308946924, -0.05128880866776535, -0.4182145309357168, 0.11899215400020649, -0.5174304368920004, -0.31455328618349965, -0.2013717637067256, -0.05128880866776535, -0.055594053189422635, -0.2724368204184138, -0.4182145309357168, -0.2724368204184138, ... ])\n"
     ]
    },
    {
     "name": "stdout",
     "output_type": "stream",
     "text": [
      "('intermediate weighted prediction : ', dtype: float\n",
      "Rows: 9284\n",
      "[-0.024437285972730066, -0.024437285972730066, -0.024437285972730066, -0.024437285972730066, 0.024437285972730066, -0.024437285972730066, 0.024437285972730066, -0.024437285972730066, -0.024437285972730066, -0.024437285972730066, -0.024437285972730066, -0.024437285972730066, 0.024437285972730066, -0.024437285972730066, -0.024437285972730066, 0.024437285972730066, 0.024437285972730066, 0.024437285972730066, -0.024437285972730066, -0.024437285972730066, 0.024437285972730066, -0.024437285972730066, 0.024437285972730066, -0.024437285972730066, -0.024437285972730066, 0.024437285972730066, 0.024437285972730066, -0.024437285972730066, -0.024437285972730066, -0.024437285972730066, -0.024437285972730066, -0.024437285972730066, -0.024437285972730066, -0.024437285972730066, 0.024437285972730066, -0.024437285972730066, -0.024437285972730066, -0.024437285972730066, -0.024437285972730066, -0.024437285972730066, 0.024437285972730066, 0.024437285972730066, 0.024437285972730066, -0.024437285972730066, -0.024437285972730066, -0.024437285972730066, -0.024437285972730066, 0.024437285972730066, 0.024437285972730066, -0.024437285972730066, 0.024437285972730066, -0.024437285972730066, -0.024437285972730066, -0.024437285972730066, -0.024437285972730066, -0.024437285972730066, 0.024437285972730066, 0.024437285972730066, 0.024437285972730066, -0.024437285972730066, 0.024437285972730066, -0.024437285972730066, 0.024437285972730066, -0.024437285972730066, -0.024437285972730066, -0.024437285972730066, -0.024437285972730066, -0.024437285972730066, -0.024437285972730066, -0.024437285972730066, -0.024437285972730066, -0.024437285972730066, -0.024437285972730066, -0.024437285972730066, -0.024437285972730066, -0.024437285972730066, -0.024437285972730066, 0.024437285972730066, -0.024437285972730066, -0.024437285972730066, -0.024437285972730066, -0.024437285972730066, -0.024437285972730066, -0.024437285972730066, -0.024437285972730066, -0.024437285972730066, -0.024437285972730066, -0.024437285972730066, -0.024437285972730066, 0.024437285972730066, -0.024437285972730066, 0.024437285972730066, -0.024437285972730066, -0.024437285972730066, -0.024437285972730066, 0.024437285972730066, -0.024437285972730066, -0.024437285972730066, -0.024437285972730066, -0.024437285972730066, ... ])\n",
      "('scores before: ', dtype: float\n",
      "Rows: 9284\n",
      "[-0.48665601539972747, 0.6206151091991124, -0.44898895242798975, -0.48665601539972747, 0.08821773250793354, -0.44898895242798975, -0.2278409406773412, 0.09986930474198942, -0.17059734221445264, -0.17059734221445264, -0.4911054181930755, 0.47483739868180963, 0.08821773250793354, -0.17059734221445264, 0.47483739868180963, 0.23399544302523653, 0.08821773250793354, -0.2278409406773412, -0.4911054181930755, -0.17059734221445264, 0.1820704236424929, 0.6206151091991124, -0.0820632301600383, -0.48665601539972747, -0.4911054181930755, 0.08821773250793354, 0.08821773250793354, -0.3453277076757726, 0.09986930474198942, -0.30321124191068677, -0.44898895242798975, -0.36196707896058833, -0.36196707896058833, -0.04590840577531359, 0.08821773250793354, -0.30321124191068677, 0.09986930474198942, -0.36196707896058833, 0.47483739868180963, -0.4911054181930755, 0.08821773250793354, 0.08821773250793354, 0.08821773250793354, 0.47483739868180963, -0.04590840577531359, -0.36196707896058833, 0.47483739868180963, -0.0820632301600383, 0.08821773250793354, 0.47483739868180963, -0.2278409406773412, -0.48665601539972747, -0.3453277076757726, 0.09986930474198942, -0.21618936844328537, -0.04590840577531359, 0.08821773250793354, 0.08821773250793354, -0.0820632301600383, -0.4911054181930755, 0.08821773250793354, -0.4911054181930755, 0.23399544302523653, -0.3453277076757726, -0.04590840577531359, 0.09986930474198942, -0.17059734221445264, -0.4911054181930755, -0.3453277076757726, -0.44898895242798975, -0.04590840577531359, 0.47483739868180963, -0.48665601539972747, -0.04590840577531359, -0.3453277076757726, -0.4911054181930755, -0.4911054181930755, 0.23399544302523653, -0.4911054181930755, -0.3453277076757726, -0.17059734221445264, -0.36196707896058833, 0.09986930474198942, 0.47483739868180963, 0.09986930474198942, 0.30455643601383775, 0.47483739868180963, -0.04590840577531359, -0.22252236159719627, -0.0820632301600383, -0.44898895242798975, 0.08821773250793354, -0.48665601539972747, -0.3453277076757726, -0.17059734221445264, -0.0820632301600383, -0.024819631697149677, -0.30321124191068677, -0.44898895242798975, -0.30321124191068677, ... ])\n",
      "('intermediate weighted prediction : ', dtype: float\n",
      "Rows: 9284\n",
      "[0.027547467959439704, 0.027547467959439704, 0.027547467959439704, 0.027547467959439704, 0.027547467959439704, 0.027547467959439704, 0.027547467959439704, 0.027547467959439704, 0.027547467959439704, 0.027547467959439704, 0.027547467959439704, 0.027547467959439704, 0.027547467959439704, 0.027547467959439704, 0.027547467959439704, 0.027547467959439704, 0.027547467959439704, 0.027547467959439704, 0.027547467959439704, 0.027547467959439704, -0.027547467959439704, 0.027547467959439704, 0.027547467959439704, 0.027547467959439704, 0.027547467959439704, 0.027547467959439704, 0.027547467959439704, 0.027547467959439704, 0.027547467959439704, 0.027547467959439704, 0.027547467959439704, 0.027547467959439704, 0.027547467959439704, 0.027547467959439704, 0.027547467959439704, 0.027547467959439704, 0.027547467959439704, 0.027547467959439704, 0.027547467959439704, 0.027547467959439704, 0.027547467959439704, 0.027547467959439704, 0.027547467959439704, 0.027547467959439704, 0.027547467959439704, 0.027547467959439704, 0.027547467959439704, 0.027547467959439704, 0.027547467959439704, 0.027547467959439704, 0.027547467959439704, 0.027547467959439704, 0.027547467959439704, 0.027547467959439704, 0.027547467959439704, 0.027547467959439704, 0.027547467959439704, 0.027547467959439704, 0.027547467959439704, 0.027547467959439704, 0.027547467959439704, 0.027547467959439704, 0.027547467959439704, 0.027547467959439704, 0.027547467959439704, 0.027547467959439704, 0.027547467959439704, 0.027547467959439704, 0.027547467959439704, 0.027547467959439704, 0.027547467959439704, 0.027547467959439704, 0.027547467959439704, 0.027547467959439704, 0.027547467959439704, 0.027547467959439704, 0.027547467959439704, 0.027547467959439704, 0.027547467959439704, 0.027547467959439704, 0.027547467959439704, 0.027547467959439704, 0.027547467959439704, 0.027547467959439704, 0.027547467959439704, 0.027547467959439704, 0.027547467959439704, 0.027547467959439704, -0.027547467959439704, 0.027547467959439704, 0.027547467959439704, 0.027547467959439704, 0.027547467959439704, 0.027547467959439704, 0.027547467959439704, 0.027547467959439704, 0.027547467959439704, 0.027547467959439704, 0.027547467959439704, 0.027547467959439704, ... ])\n",
      "('scores before: ', dtype: float\n",
      "Rows: 9284\n",
      "[-0.5110933013724576, 0.5961778232263824, -0.47342623840071985, -0.5110933013724576, 0.1126550184806636, -0.47342623840071985, -0.20340365470461114, 0.07543201876925935, -0.1950346281871827, -0.1950346281871827, -0.5155427041658056, 0.45040011270907954, 0.1126550184806636, -0.1950346281871827, 0.45040011270907954, 0.2584327289979666, 0.1126550184806636, -0.20340365470461114, -0.5155427041658056, -0.1950346281871827, 0.20650770961522297, 0.5961778232263824, -0.05762594418730824, -0.5110933013724576, -0.5155427041658056, 0.1126550184806636, 0.1126550184806636, -0.3697649936485027, 0.07543201876925935, -0.3276485278834168, -0.47342623840071985, -0.3864043649333184, -0.3864043649333184, -0.07034569174804366, 0.1126550184806636, -0.3276485278834168, 0.07543201876925935, -0.3864043649333184, 0.45040011270907954, -0.5155427041658056, 0.1126550184806636, 0.1126550184806636, 0.1126550184806636, 0.45040011270907954, -0.07034569174804366, -0.3864043649333184, 0.45040011270907954, -0.05762594418730824, 0.1126550184806636, 0.45040011270907954, -0.20340365470461114, -0.5110933013724576, -0.3697649936485027, 0.07543201876925935, -0.24062665441601544, -0.07034569174804366, 0.1126550184806636, 0.1126550184806636, -0.05762594418730824, -0.5155427041658056, 0.1126550184806636, -0.5155427041658056, 0.2584327289979666, -0.3697649936485027, -0.07034569174804366, 0.07543201876925935, -0.1950346281871827, -0.5155427041658056, -0.3697649936485027, -0.47342623840071985, -0.07034569174804366, 0.45040011270907954, -0.5110933013724576, -0.07034569174804366, -0.3697649936485027, -0.5155427041658056, -0.5155427041658056, 0.2584327289979666, -0.5155427041658056, -0.3697649936485027, -0.1950346281871827, -0.3864043649333184, 0.07543201876925935, 0.45040011270907954, 0.07543201876925935, 0.28011915004110766, 0.45040011270907954, -0.07034569174804366, -0.24695964756992633, -0.05762594418730824, -0.47342623840071985, 0.1126550184806636, -0.5110933013724576, -0.3697649936485027, -0.1950346281871827, -0.05762594418730824, -0.049256917669879746, -0.3276485278834168, -0.47342623840071985, -0.3276485278834168, ... ])\n"
     ]
    },
    {
     "name": "stdout",
     "output_type": "stream",
     "text": [
      "('intermediate weighted prediction : ', dtype: float\n",
      "Rows: 9284\n",
      "[-0.02217501979828797, -0.02217501979828797, 0.02217501979828797, -0.02217501979828797, -0.02217501979828797, -0.02217501979828797, -0.02217501979828797, -0.02217501979828797, -0.02217501979828797, -0.02217501979828797, -0.02217501979828797, -0.02217501979828797, -0.02217501979828797, -0.02217501979828797, -0.02217501979828797, -0.02217501979828797, -0.02217501979828797, -0.02217501979828797, -0.02217501979828797, -0.02217501979828797, -0.02217501979828797, -0.02217501979828797, -0.02217501979828797, -0.02217501979828797, -0.02217501979828797, -0.02217501979828797, -0.02217501979828797, -0.02217501979828797, -0.02217501979828797, -0.02217501979828797, -0.02217501979828797, -0.02217501979828797, -0.02217501979828797, -0.02217501979828797, 0.02217501979828797, -0.02217501979828797, -0.02217501979828797, -0.02217501979828797, -0.02217501979828797, -0.02217501979828797, -0.02217501979828797, -0.02217501979828797, -0.02217501979828797, -0.02217501979828797, -0.02217501979828797, 0.02217501979828797, -0.02217501979828797, -0.02217501979828797, -0.02217501979828797, -0.02217501979828797, -0.02217501979828797, -0.02217501979828797, 0.02217501979828797, -0.02217501979828797, -0.02217501979828797, -0.02217501979828797, -0.02217501979828797, -0.02217501979828797, -0.02217501979828797, -0.02217501979828797, -0.02217501979828797, -0.02217501979828797, -0.02217501979828797, -0.02217501979828797, 0.02217501979828797, -0.02217501979828797, 0.02217501979828797, -0.02217501979828797, -0.02217501979828797, -0.02217501979828797, 0.02217501979828797, -0.02217501979828797, -0.02217501979828797, -0.02217501979828797, -0.02217501979828797, -0.02217501979828797, -0.02217501979828797, -0.02217501979828797, -0.02217501979828797, -0.02217501979828797, -0.02217501979828797, -0.02217501979828797, -0.02217501979828797, -0.02217501979828797, -0.02217501979828797, -0.02217501979828797, 0.02217501979828797, -0.02217501979828797, -0.02217501979828797, -0.02217501979828797, -0.02217501979828797, -0.02217501979828797, -0.02217501979828797, -0.02217501979828797, -0.02217501979828797, -0.02217501979828797, 0.02217501979828797, -0.02217501979828797, -0.02217501979828797, -0.02217501979828797, ... ])\n",
      "('scores before: ', dtype: float\n",
      "Rows: 9284\n",
      "[-0.4835458334130179, 0.6237252911858221, -0.44587877044128016, -0.4835458334130179, 0.1402024864401033, -0.44587877044128016, -0.17585618674517142, 0.10297948672869905, -0.167487160227743, -0.167487160227743, -0.4879952362063659, 0.4779475806685192, 0.1402024864401033, -0.167487160227743, 0.4779475806685192, 0.2859801969574063, 0.1402024864401033, -0.17585618674517142, -0.4879952362063659, -0.167487160227743, 0.17896024165578325, 0.6237252911858221, -0.030078476227868533, -0.4835458334130179, -0.4879952362063659, 0.1402024864401033, 0.1402024864401033, -0.342217525689063, 0.10297948672869905, -0.3001010599239771, -0.44587877044128016, -0.35885689697387874, -0.35885689697387874, -0.042798223788603956, 0.1402024864401033, -0.3001010599239771, 0.10297948672869905, -0.35885689697387874, 0.4779475806685192, -0.4879952362063659, 0.1402024864401033, 0.1402024864401033, 0.1402024864401033, 0.4779475806685192, -0.042798223788603956, -0.35885689697387874, 0.4779475806685192, -0.030078476227868533, 0.1402024864401033, 0.4779475806685192, -0.17585618674517142, -0.4835458334130179, -0.342217525689063, 0.10297948672869905, -0.21307918645657573, -0.042798223788603956, 0.1402024864401033, 0.1402024864401033, -0.030078476227868533, -0.4879952362063659, 0.1402024864401033, -0.4879952362063659, 0.2859801969574063, -0.342217525689063, -0.042798223788603956, 0.10297948672869905, -0.167487160227743, -0.4879952362063659, -0.342217525689063, -0.44587877044128016, -0.042798223788603956, 0.4779475806685192, -0.4835458334130179, -0.042798223788603956, -0.342217525689063, -0.4879952362063659, -0.4879952362063659, 0.2859801969574063, -0.4879952362063659, -0.342217525689063, -0.167487160227743, -0.35885689697387874, 0.10297948672869905, 0.4779475806685192, 0.10297948672869905, 0.30766661800054734, 0.4779475806685192, -0.042798223788603956, -0.274507115529366, -0.030078476227868533, -0.44587877044128016, 0.1402024864401033, -0.4835458334130179, -0.342217525689063, -0.167487160227743, -0.030078476227868533, -0.021709449710440042, -0.3001010599239771, -0.44587877044128016, -0.3001010599239771, ... ])\n",
      "('intermediate weighted prediction : ', dtype: float\n",
      "Rows: 9284\n",
      "[0.017345529206842427, 0.017345529206842427, 0.017345529206842427, 0.017345529206842427, 0.017345529206842427, 0.017345529206842427, 0.017345529206842427, 0.017345529206842427, 0.017345529206842427, 0.017345529206842427, 0.017345529206842427, 0.017345529206842427, 0.017345529206842427, 0.017345529206842427, 0.017345529206842427, 0.017345529206842427, 0.017345529206842427, 0.017345529206842427, 0.017345529206842427, 0.017345529206842427, -0.017345529206842427, 0.017345529206842427, 0.017345529206842427, 0.017345529206842427, 0.017345529206842427, 0.017345529206842427, 0.017345529206842427, 0.017345529206842427, 0.017345529206842427, 0.017345529206842427, 0.017345529206842427, 0.017345529206842427, 0.017345529206842427, 0.017345529206842427, 0.017345529206842427, 0.017345529206842427, 0.017345529206842427, 0.017345529206842427, 0.017345529206842427, 0.017345529206842427, 0.017345529206842427, 0.017345529206842427, 0.017345529206842427, 0.017345529206842427, 0.017345529206842427, 0.017345529206842427, 0.017345529206842427, 0.017345529206842427, 0.017345529206842427, 0.017345529206842427, 0.017345529206842427, 0.017345529206842427, 0.017345529206842427, 0.017345529206842427, 0.017345529206842427, 0.017345529206842427, 0.017345529206842427, 0.017345529206842427, 0.017345529206842427, 0.017345529206842427, 0.017345529206842427, 0.017345529206842427, 0.017345529206842427, 0.017345529206842427, 0.017345529206842427, 0.017345529206842427, 0.017345529206842427, 0.017345529206842427, 0.017345529206842427, 0.017345529206842427, 0.017345529206842427, 0.017345529206842427, 0.017345529206842427, 0.017345529206842427, 0.017345529206842427, 0.017345529206842427, 0.017345529206842427, 0.017345529206842427, 0.017345529206842427, 0.017345529206842427, 0.017345529206842427, 0.017345529206842427, 0.017345529206842427, 0.017345529206842427, 0.017345529206842427, 0.017345529206842427, 0.017345529206842427, 0.017345529206842427, -0.017345529206842427, 0.017345529206842427, 0.017345529206842427, 0.017345529206842427, 0.017345529206842427, 0.017345529206842427, 0.017345529206842427, 0.017345529206842427, 0.017345529206842427, 0.017345529206842427, 0.017345529206842427, 0.017345529206842427, ... ])\n",
      "('scores before: ', dtype: float\n",
      "Rows: 9284\n",
      "[-0.5057208532113059, 0.6015502713875341, -0.4237037506429922, -0.5057208532113059, 0.11802746664181533, -0.4680537902395681, -0.1980312065434594, 0.08080446693041109, -0.18966218002603097, -0.18966218002603097, -0.5101702560046539, 0.45577256087023127, 0.11802746664181533, -0.18966218002603097, 0.45577256087023127, 0.26380517715911833, 0.11802746664181533, -0.1980312065434594, -0.5101702560046539, -0.18966218002603097, 0.15678522185749527, 0.6015502713875341, -0.052253496026156504, -0.5057208532113059, -0.5101702560046539, 0.11802746664181533, 0.11802746664181533, -0.36439254548735095, 0.08080446693041109, -0.3222760797222651, -0.4680537902395681, -0.3810319167721667, -0.3810319167721667, -0.06497324358689192, 0.16237750623839128, -0.3222760797222651, 0.08080446693041109, -0.3810319167721667, 0.45577256087023127, -0.5101702560046539, 0.11802746664181533, 0.11802746664181533, 0.11802746664181533, 0.45577256087023127, -0.06497324358689192, -0.3366818771755908, 0.45577256087023127, -0.052253496026156504, 0.11802746664181533, 0.45577256087023127, -0.1980312065434594, -0.5057208532113059, -0.32004250589077504, 0.08080446693041109, -0.2352542062548637, -0.06497324358689192, 0.11802746664181533, 0.11802746664181533, -0.052253496026156504, -0.5101702560046539, 0.11802746664181533, -0.5101702560046539, 0.26380517715911833, -0.36439254548735095, -0.020623203990315985, 0.08080446693041109, -0.145312140429455, -0.5101702560046539, -0.36439254548735095, -0.4680537902395681, -0.020623203990315985, 0.45577256087023127, -0.5057208532113059, -0.06497324358689192, -0.36439254548735095, -0.5101702560046539, -0.5101702560046539, 0.26380517715911833, -0.5101702560046539, -0.36439254548735095, -0.18966218002603097, -0.3810319167721667, 0.08080446693041109, 0.45577256087023127, 0.08080446693041109, 0.2854915982022594, 0.5001226004668072, -0.06497324358689192, -0.296682135327654, -0.052253496026156504, -0.4680537902395681, 0.11802746664181533, -0.5057208532113059, -0.36439254548735095, -0.18966218002603097, -0.052253496026156504, 0.0004655700878479288, -0.3222760797222651, -0.4680537902395681, -0.3222760797222651, ... ])\n"
     ]
    },
    {
     "name": "stdout",
     "output_type": "stream",
     "text": [
      "('intermediate weighted prediction : ', dtype: float\n",
      "Rows: 9284\n",
      "[-0.019334134276650303, -0.019334134276650303, -0.019334134276650303, -0.019334134276650303, -0.019334134276650303, -0.019334134276650303, -0.019334134276650303, 0.019334134276650303, -0.019334134276650303, -0.019334134276650303, -0.019334134276650303, -0.019334134276650303, -0.019334134276650303, -0.019334134276650303, -0.019334134276650303, -0.019334134276650303, -0.019334134276650303, -0.019334134276650303, -0.019334134276650303, -0.019334134276650303, -0.019334134276650303, -0.019334134276650303, -0.019334134276650303, -0.019334134276650303, -0.019334134276650303, -0.019334134276650303, -0.019334134276650303, -0.019334134276650303, 0.019334134276650303, -0.019334134276650303, -0.019334134276650303, 0.019334134276650303, 0.019334134276650303, 0.019334134276650303, -0.019334134276650303, -0.019334134276650303, 0.019334134276650303, 0.019334134276650303, -0.019334134276650303, -0.019334134276650303, -0.019334134276650303, -0.019334134276650303, -0.019334134276650303, -0.019334134276650303, 0.019334134276650303, 0.019334134276650303, -0.019334134276650303, -0.019334134276650303, -0.019334134276650303, -0.019334134276650303, -0.019334134276650303, -0.019334134276650303, -0.019334134276650303, 0.019334134276650303, 0.019334134276650303, 0.019334134276650303, -0.019334134276650303, -0.019334134276650303, -0.019334134276650303, -0.019334134276650303, -0.019334134276650303, -0.019334134276650303, -0.019334134276650303, -0.019334134276650303, 0.019334134276650303, 0.019334134276650303, -0.019334134276650303, -0.019334134276650303, -0.019334134276650303, -0.019334134276650303, 0.019334134276650303, -0.019334134276650303, -0.019334134276650303, 0.019334134276650303, -0.019334134276650303, -0.019334134276650303, -0.019334134276650303, -0.019334134276650303, -0.019334134276650303, -0.019334134276650303, -0.019334134276650303, 0.019334134276650303, 0.019334134276650303, -0.019334134276650303, 0.019334134276650303, -0.019334134276650303, -0.019334134276650303, 0.019334134276650303, -0.019334134276650303, -0.019334134276650303, -0.019334134276650303, -0.019334134276650303, -0.019334134276650303, -0.019334134276650303, -0.019334134276650303, -0.019334134276650303, -0.019334134276650303, -0.019334134276650303, -0.019334134276650303, -0.019334134276650303, ... ])\n",
      "('scores before: ', dtype: float\n",
      "Rows: 9284\n",
      "[-0.4883753240044635, 0.6188958005943765, -0.4063582214361498, -0.4883753240044635, 0.13537299584865775, -0.4507082610327257, -0.18068567733661697, 0.09814999613725352, -0.17231665081918854, -0.17231665081918854, -0.49282472679781153, 0.47311809007707367, 0.13537299584865775, -0.17231665081918854, 0.47311809007707367, 0.28115070636596073, 0.13537299584865775, -0.18068567733661697, -0.49282472679781153, -0.17231665081918854, 0.13943969265065284, 0.6188958005943765, -0.034907966819314074, -0.4883753240044635, -0.49282472679781153, 0.13537299584865775, 0.13537299584865775, -0.34704701628050855, 0.09814999613725352, -0.30493055051542267, -0.4507082610327257, -0.3636863875653243, -0.3636863875653243, -0.04762771438004949, 0.17972303544523371, -0.30493055051542267, 0.09814999613725352, -0.3636863875653243, 0.47311809007707367, -0.49282472679781153, 0.13537299584865775, 0.13537299584865775, 0.13537299584865775, 0.47311809007707367, -0.04762771438004949, -0.3193363479687484, 0.47311809007707367, -0.034907966819314074, 0.13537299584865775, 0.47311809007707367, -0.18068567733661697, -0.4883753240044635, -0.30269697668393264, 0.09814999613725352, -0.21790867704802128, -0.04762771438004949, 0.13537299584865775, 0.13537299584865775, -0.034907966819314074, -0.49282472679781153, 0.13537299584865775, -0.49282472679781153, 0.28115070636596073, -0.34704701628050855, -0.003277674783473558, 0.09814999613725352, -0.12796661122261258, -0.49282472679781153, -0.34704701628050855, -0.4507082610327257, -0.003277674783473558, 0.47311809007707367, -0.4883753240044635, -0.04762771438004949, -0.34704701628050855, -0.49282472679781153, -0.49282472679781153, 0.28115070636596073, -0.49282472679781153, -0.34704701628050855, -0.17231665081918854, -0.3636863875653243, 0.09814999613725352, 0.47311809007707367, 0.09814999613725352, 0.3028371274091018, 0.5174681296736496, -0.04762771438004949, -0.3140276645344964, -0.034907966819314074, -0.4507082610327257, 0.13537299584865775, -0.4883753240044635, -0.34704701628050855, -0.17231665081918854, -0.034907966819314074, 0.017811099294690356, -0.30493055051542267, -0.4507082610327257, -0.30493055051542267, ... ])\n",
      "('intermediate weighted prediction : ', dtype: float\n",
      "Rows: 9284\n",
      "[-0.014652160100703162, 0.014652160100703162, -0.014652160100703162, -0.014652160100703162, -0.014652160100703162, -0.014652160100703162, -0.014652160100703162, -0.014652160100703162, -0.014652160100703162, -0.014652160100703162, -0.014652160100703162, 0.014652160100703162, -0.014652160100703162, -0.014652160100703162, 0.014652160100703162, -0.014652160100703162, -0.014652160100703162, -0.014652160100703162, -0.014652160100703162, -0.014652160100703162, -0.014652160100703162, 0.014652160100703162, -0.014652160100703162, -0.014652160100703162, -0.014652160100703162, -0.014652160100703162, -0.014652160100703162, -0.014652160100703162, -0.014652160100703162, -0.014652160100703162, -0.014652160100703162, -0.014652160100703162, -0.014652160100703162, -0.014652160100703162, -0.014652160100703162, -0.014652160100703162, -0.014652160100703162, -0.014652160100703162, 0.014652160100703162, -0.014652160100703162, -0.014652160100703162, -0.014652160100703162, -0.014652160100703162, 0.014652160100703162, -0.014652160100703162, -0.014652160100703162, 0.014652160100703162, -0.014652160100703162, -0.014652160100703162, 0.014652160100703162, -0.014652160100703162, -0.014652160100703162, -0.014652160100703162, -0.014652160100703162, -0.014652160100703162, -0.014652160100703162, -0.014652160100703162, -0.014652160100703162, -0.014652160100703162, -0.014652160100703162, -0.014652160100703162, -0.014652160100703162, -0.014652160100703162, -0.014652160100703162, -0.014652160100703162, -0.014652160100703162, -0.014652160100703162, -0.014652160100703162, -0.014652160100703162, -0.014652160100703162, -0.014652160100703162, 0.014652160100703162, -0.014652160100703162, -0.014652160100703162, -0.014652160100703162, -0.014652160100703162, -0.014652160100703162, -0.014652160100703162, -0.014652160100703162, -0.014652160100703162, -0.014652160100703162, -0.014652160100703162, -0.014652160100703162, 0.014652160100703162, -0.014652160100703162, 0.014652160100703162, 0.014652160100703162, -0.014652160100703162, -0.014652160100703162, -0.014652160100703162, -0.014652160100703162, -0.014652160100703162, -0.014652160100703162, -0.014652160100703162, -0.014652160100703162, -0.014652160100703162, -0.014652160100703162, -0.014652160100703162, -0.014652160100703162, -0.014652160100703162, ... ])\n",
      "('scores before: ', dtype: float\n",
      "Rows: 9284\n",
      "[-0.5077094582811138, 0.5995616663177262, -0.4256923557128001, -0.5077094582811138, 0.11603886157200745, -0.470042395309376, -0.20001981161326726, 0.11748413041390382, -0.19165078509583883, -0.19165078509583883, -0.5121588610744618, 0.45378395580042336, 0.11603886157200745, -0.19165078509583883, 0.45378395580042336, 0.2618165720893104, 0.11603886157200745, -0.20001981161326726, -0.5121588610744618, -0.19165078509583883, 0.12010555837400254, 0.5995616663177262, -0.054242101095964376, -0.5077094582811138, -0.5121588610744618, 0.11603886157200745, 0.11603886157200745, -0.36638115055715886, 0.11748413041390382, -0.324264684792073, -0.470042395309376, -0.34435225328867397, -0.34435225328867397, -0.02829358010339919, 0.1603889011685834, -0.324264684792073, 0.11748413041390382, -0.34435225328867397, 0.45378395580042336, -0.5121588610744618, 0.11603886157200745, 0.11603886157200745, 0.11603886157200745, 0.45378395580042336, -0.02829358010339919, -0.30000221369209806, 0.45378395580042336, -0.054242101095964376, 0.11603886157200745, 0.45378395580042336, -0.20001981161326726, -0.5077094582811138, -0.32203111096058296, 0.11748413041390382, -0.198574542771371, -0.02829358010339919, 0.11603886157200745, 0.11603886157200745, -0.054242101095964376, -0.5121588610744618, 0.11603886157200745, -0.5121588610744618, 0.2618165720893104, -0.36638115055715886, 0.016056459493176745, 0.11748413041390382, -0.14730074549926286, -0.5121588610744618, -0.36638115055715886, -0.470042395309376, 0.016056459493176745, 0.45378395580042336, -0.5077094582811138, -0.02829358010339919, -0.36638115055715886, -0.5121588610744618, -0.5121588610744618, 0.2618165720893104, -0.5121588610744618, -0.36638115055715886, -0.19165078509583883, -0.34435225328867397, 0.11748413041390382, 0.45378395580042336, 0.11748413041390382, 0.2835029931324515, 0.4981339953969993, -0.02829358010339919, -0.3333617988111467, -0.054242101095964376, -0.470042395309376, 0.11603886157200745, -0.5077094582811138, -0.36638115055715886, -0.19165078509583883, -0.054242101095964376, -0.0015230349819599469, -0.324264684792073, -0.470042395309376, -0.324264684792073, ... ])\n"
     ]
    },
    {
     "name": "stdout",
     "output_type": "stream",
     "text": [
      "('intermediate weighted prediction : ', dtype: float\n",
      "Rows: 9284\n",
      "[0.01962424937665444, 0.01962424937665444, -0.01962424937665444, 0.01962424937665444, 0.01962424937665444, -0.01962424937665444, 0.01962424937665444, 0.01962424937665444, 0.01962424937665444, 0.01962424937665444, 0.01962424937665444, 0.01962424937665444, 0.01962424937665444, 0.01962424937665444, 0.01962424937665444, 0.01962424937665444, 0.01962424937665444, 0.01962424937665444, 0.01962424937665444, 0.01962424937665444, 0.01962424937665444, 0.01962424937665444, 0.01962424937665444, 0.01962424937665444, 0.01962424937665444, 0.01962424937665444, 0.01962424937665444, 0.01962424937665444, 0.01962424937665444, -0.01962424937665444, -0.01962424937665444, 0.01962424937665444, 0.01962424937665444, 0.01962424937665444, 0.01962424937665444, -0.01962424937665444, 0.01962424937665444, 0.01962424937665444, 0.01962424937665444, 0.01962424937665444, 0.01962424937665444, 0.01962424937665444, 0.01962424937665444, 0.01962424937665444, 0.01962424937665444, 0.01962424937665444, 0.01962424937665444, 0.01962424937665444, 0.01962424937665444, 0.01962424937665444, 0.01962424937665444, 0.01962424937665444, 0.01962424937665444, 0.01962424937665444, 0.01962424937665444, 0.01962424937665444, 0.01962424937665444, 0.01962424937665444, 0.01962424937665444, 0.01962424937665444, 0.01962424937665444, 0.01962424937665444, 0.01962424937665444, 0.01962424937665444, 0.01962424937665444, 0.01962424937665444, 0.01962424937665444, 0.01962424937665444, 0.01962424937665444, -0.01962424937665444, 0.01962424937665444, 0.01962424937665444, 0.01962424937665444, 0.01962424937665444, 0.01962424937665444, 0.01962424937665444, 0.01962424937665444, 0.01962424937665444, 0.01962424937665444, 0.01962424937665444, 0.01962424937665444, 0.01962424937665444, 0.01962424937665444, 0.01962424937665444, 0.01962424937665444, 0.01962424937665444, 0.01962424937665444, 0.01962424937665444, 0.01962424937665444, 0.01962424937665444, -0.01962424937665444, 0.01962424937665444, 0.01962424937665444, 0.01962424937665444, 0.01962424937665444, 0.01962424937665444, 0.01962424937665444, -0.01962424937665444, -0.01962424937665444, -0.01962424937665444, ... ])\n",
      "('scores before: ', dtype: float\n",
      "Rows: 9284\n",
      "[-0.5223616183818169, 0.6142138264184294, -0.44034451581350326, -0.5223616183818169, 0.10138670147130428, -0.48469455541007916, -0.21467197171397043, 0.10283197031320065, -0.206302945196542, -0.206302945196542, -0.526811021175165, 0.4684361159011265, 0.10138670147130428, -0.206302945196542, 0.4684361159011265, 0.24716441198860725, 0.10138670147130428, -0.21467197171397043, -0.526811021175165, -0.206302945196542, 0.10545339827329937, 0.6142138264184294, -0.06889426119666754, -0.5223616183818169, -0.526811021175165, 0.10138670147130428, 0.10138670147130428, -0.381033310657862, 0.10283197031320065, -0.3389168448927761, -0.48469455541007916, -0.3590044133893771, -0.3590044133893771, -0.042945740204102356, 0.14573674106788023, -0.3389168448927761, 0.10283197031320065, -0.3590044133893771, 0.4684361159011265, -0.526811021175165, 0.10138670147130428, 0.10138670147130428, 0.10138670147130428, 0.4684361159011265, -0.042945740204102356, -0.3146543737928012, 0.4684361159011265, -0.06889426119666754, 0.10138670147130428, 0.4684361159011265, -0.21467197171397043, -0.5223616183818169, -0.3366832710612861, 0.10283197031320065, -0.21322670287207415, -0.042945740204102356, 0.10138670147130428, 0.10138670147130428, -0.06889426119666754, -0.526811021175165, 0.10138670147130428, -0.526811021175165, 0.24716441198860725, -0.381033310657862, 0.0014042993924735826, 0.10283197031320065, -0.16195290559996603, -0.526811021175165, -0.381033310657862, -0.48469455541007916, 0.0014042993924735826, 0.4684361159011265, -0.5223616183818169, -0.042945740204102356, -0.381033310657862, -0.526811021175165, -0.526811021175165, 0.24716441198860725, -0.526811021175165, -0.381033310657862, -0.206302945196542, -0.3590044133893771, 0.10283197031320065, 0.4684361159011265, 0.10283197031320065, 0.2981551532331546, 0.5127861554977025, -0.042945740204102356, -0.34801395891184983, -0.06889426119666754, -0.48469455541007916, 0.10138670147130428, -0.5223616183818169, -0.381033310657862, -0.206302945196542, -0.06889426119666754, -0.01617519508266311, -0.3389168448927761, -0.48469455541007916, -0.3389168448927761, ... ])\n",
      "('intermediate weighted prediction : ', dtype: float\n",
      "Rows: 9284\n",
      "[0.020904230648029636, -0.020904230648029636, 0.020904230648029636, 0.020904230648029636, -0.020904230648029636, 0.020904230648029636, 0.020904230648029636, -0.020904230648029636, -0.020904230648029636, -0.020904230648029636, 0.020904230648029636, -0.020904230648029636, -0.020904230648029636, -0.020904230648029636, -0.020904230648029636, -0.020904230648029636, -0.020904230648029636, 0.020904230648029636, 0.020904230648029636, -0.020904230648029636, -0.020904230648029636, -0.020904230648029636, 0.020904230648029636, 0.020904230648029636, 0.020904230648029636, -0.020904230648029636, -0.020904230648029636, 0.020904230648029636, -0.020904230648029636, 0.020904230648029636, 0.020904230648029636, 0.020904230648029636, 0.020904230648029636, -0.020904230648029636, -0.020904230648029636, 0.020904230648029636, -0.020904230648029636, 0.020904230648029636, -0.020904230648029636, 0.020904230648029636, -0.020904230648029636, -0.020904230648029636, -0.020904230648029636, -0.020904230648029636, -0.020904230648029636, 0.020904230648029636, -0.020904230648029636, 0.020904230648029636, -0.020904230648029636, -0.020904230648029636, 0.020904230648029636, 0.020904230648029636, 0.020904230648029636, -0.020904230648029636, 0.020904230648029636, -0.020904230648029636, -0.020904230648029636, -0.020904230648029636, 0.020904230648029636, 0.020904230648029636, -0.020904230648029636, 0.020904230648029636, -0.020904230648029636, 0.020904230648029636, -0.020904230648029636, -0.020904230648029636, -0.020904230648029636, 0.020904230648029636, 0.020904230648029636, 0.020904230648029636, -0.020904230648029636, -0.020904230648029636, 0.020904230648029636, -0.020904230648029636, 0.020904230648029636, 0.020904230648029636, 0.020904230648029636, -0.020904230648029636, 0.020904230648029636, 0.020904230648029636, -0.020904230648029636, 0.020904230648029636, -0.020904230648029636, -0.020904230648029636, -0.020904230648029636, 0.020904230648029636, -0.020904230648029636, -0.020904230648029636, -0.020904230648029636, 0.020904230648029636, 0.020904230648029636, -0.020904230648029636, 0.020904230648029636, 0.020904230648029636, -0.020904230648029636, 0.020904230648029636, -0.020904230648029636, 0.020904230648029636, 0.020904230648029636, 0.020904230648029636, ... ])\n",
      "('scores before: ', dtype: float\n",
      "Rows: 9284\n",
      "[-0.5027373690051625, 0.6338380757950838, -0.4599687651901577, -0.5027373690051625, 0.12101095084795872, -0.5043188047867336, -0.195047722337316, 0.1224562196898551, -0.18667869581988755, -0.18667869581988755, -0.5071867717985106, 0.48806036527778096, 0.12101095084795872, -0.18667869581988755, 0.48806036527778096, 0.2667886613652617, 0.12101095084795872, -0.195047722337316, -0.5071867717985106, -0.18667869581988755, 0.12507764764995383, 0.6338380757950838, -0.0492700118200131, -0.5027373690051625, -0.5071867717985106, 0.12101095084795872, 0.12101095084795872, -0.36140906128120753, 0.1224562196898551, -0.3585410942694306, -0.5043188047867336, -0.33938016401272264, -0.33938016401272264, -0.023321490827447916, 0.16536099044453467, -0.3585410942694306, 0.1224562196898551, -0.33938016401272264, 0.48806036527778096, -0.5071867717985106, 0.12101095084795872, 0.12101095084795872, 0.12101095084795872, 0.48806036527778096, -0.023321490827447916, -0.29503012441614673, 0.48806036527778096, -0.0492700118200131, 0.12101095084795872, 0.48806036527778096, -0.195047722337316, -0.5027373690051625, -0.3170590216846316, 0.1224562196898551, -0.1936024534954197, -0.023321490827447916, 0.12101095084795872, 0.12101095084795872, -0.0492700118200131, -0.5071867717985106, 0.12101095084795872, -0.5071867717985106, 0.2667886613652617, -0.36140906128120753, 0.021028548769128023, 0.1224562196898551, -0.1423286562233116, -0.5071867717985106, -0.36140906128120753, -0.5043188047867336, 0.021028548769128023, 0.48806036527778096, -0.5027373690051625, -0.023321490827447916, -0.36140906128120753, -0.5071867717985106, -0.5071867717985106, 0.2667886613652617, -0.5071867717985106, -0.36140906128120753, -0.18667869581988755, -0.33938016401272264, 0.1224562196898551, 0.48806036527778096, 0.1224562196898551, 0.3177794026098091, 0.5324104048743569, -0.023321490827447916, -0.3283897095351954, -0.0492700118200131, -0.5043188047867336, 0.12101095084795872, -0.5027373690051625, -0.36140906128120753, -0.18667869581988755, -0.0492700118200131, 0.0034490542939913313, -0.3585410942694306, -0.5043188047867336, -0.3585410942694306, ... ])\n"
     ]
    },
    {
     "name": "stdout",
     "output_type": "stream",
     "text": [
      "('intermediate weighted prediction : ', dtype: float\n",
      "Rows: 9284\n",
      "[-0.014384029614426662, -0.014384029614426662, -0.014384029614426662, -0.014384029614426662, 0.014384029614426662, -0.014384029614426662, 0.014384029614426662, -0.014384029614426662, -0.014384029614426662, -0.014384029614426662, -0.014384029614426662, -0.014384029614426662, 0.014384029614426662, -0.014384029614426662, -0.014384029614426662, 0.014384029614426662, 0.014384029614426662, 0.014384029614426662, -0.014384029614426662, -0.014384029614426662, 0.014384029614426662, -0.014384029614426662, 0.014384029614426662, -0.014384029614426662, -0.014384029614426662, 0.014384029614426662, 0.014384029614426662, -0.014384029614426662, -0.014384029614426662, -0.014384029614426662, -0.014384029614426662, -0.014384029614426662, -0.014384029614426662, -0.014384029614426662, 0.014384029614426662, -0.014384029614426662, -0.014384029614426662, -0.014384029614426662, -0.014384029614426662, -0.014384029614426662, 0.014384029614426662, 0.014384029614426662, 0.014384029614426662, -0.014384029614426662, -0.014384029614426662, -0.014384029614426662, -0.014384029614426662, 0.014384029614426662, 0.014384029614426662, -0.014384029614426662, 0.014384029614426662, -0.014384029614426662, -0.014384029614426662, -0.014384029614426662, -0.014384029614426662, -0.014384029614426662, 0.014384029614426662, 0.014384029614426662, 0.014384029614426662, -0.014384029614426662, 0.014384029614426662, -0.014384029614426662, 0.014384029614426662, -0.014384029614426662, -0.014384029614426662, -0.014384029614426662, -0.014384029614426662, -0.014384029614426662, -0.014384029614426662, -0.014384029614426662, -0.014384029614426662, -0.014384029614426662, -0.014384029614426662, -0.014384029614426662, -0.014384029614426662, -0.014384029614426662, -0.014384029614426662, 0.014384029614426662, -0.014384029614426662, -0.014384029614426662, -0.014384029614426662, -0.014384029614426662, -0.014384029614426662, -0.014384029614426662, -0.014384029614426662, -0.014384029614426662, -0.014384029614426662, -0.014384029614426662, -0.014384029614426662, 0.014384029614426662, -0.014384029614426662, 0.014384029614426662, -0.014384029614426662, -0.014384029614426662, -0.014384029614426662, 0.014384029614426662, -0.014384029614426662, -0.014384029614426662, -0.014384029614426662, -0.014384029614426662, ... ])\n",
      "('scores before: ', dtype: float\n",
      "Rows: 9284\n",
      "[-0.4818331383571329, 0.6129338451470542, -0.43906453454212807, -0.4818331383571329, 0.10010672019992908, -0.483414574138704, -0.17414349168928636, 0.10155198904182546, -0.20758292646791718, -0.20758292646791718, -0.4862825411504809, 0.4671561346297513, 0.10010672019992908, -0.20758292646791718, 0.4671561346297513, 0.24588443071723207, 0.10010672019992908, -0.17414349168928636, -0.4862825411504809, -0.20758292646791718, 0.10417341700192419, 0.6129338451470542, -0.028365781171983465, -0.4818331383571329, -0.4862825411504809, 0.10010672019992908, 0.10010672019992908, -0.3405048306331779, 0.10155198904182546, -0.33763686362140094, -0.483414574138704, -0.318475933364693, -0.318475933364693, -0.044225721475477556, 0.14445675979650505, -0.33763686362140094, 0.10155198904182546, -0.318475933364693, 0.4671561346297513, -0.4862825411504809, 0.10010672019992908, 0.10010672019992908, 0.10010672019992908, 0.4671561346297513, -0.044225721475477556, -0.2741258937681171, 0.4671561346297513, -0.028365781171983465, 0.10010672019992908, 0.4671561346297513, -0.17414349168928636, -0.4818331383571329, -0.29615479103660197, 0.10155198904182546, -0.1726982228473901, -0.044225721475477556, 0.10010672019992908, 0.10010672019992908, -0.028365781171983465, -0.4862825411504809, 0.10010672019992908, -0.4862825411504809, 0.24588443071723207, -0.3405048306331779, 0.00012431812109838652, 0.10155198904182546, -0.16323288687134122, -0.4862825411504809, -0.3405048306331779, -0.483414574138704, 0.00012431812109838652, 0.4671561346297513, -0.4818331383571329, -0.044225721475477556, -0.3405048306331779, -0.4862825411504809, -0.4862825411504809, 0.24588443071723207, -0.4862825411504809, -0.3405048306331779, -0.20758292646791718, -0.318475933364693, 0.10155198904182546, 0.4671561346297513, 0.10155198904182546, 0.33868363325783873, 0.5115061742263273, -0.044225721475477556, -0.34929394018322507, -0.028365781171983465, -0.483414574138704, 0.10010672019992908, -0.4818331383571329, -0.3405048306331779, -0.20758292646791718, -0.028365781171983465, -0.017455176354038305, -0.33763686362140094, -0.483414574138704, -0.33763686362140094, ... ])\n",
      "('intermediate weighted prediction : ', dtype: float\n",
      "Rows: 9284\n",
      "[0.01748785578819864, 0.01748785578819864, 0.01748785578819864, 0.01748785578819864, 0.01748785578819864, 0.01748785578819864, 0.01748785578819864, 0.01748785578819864, 0.01748785578819864, 0.01748785578819864, 0.01748785578819864, 0.01748785578819864, 0.01748785578819864, 0.01748785578819864, 0.01748785578819864, 0.01748785578819864, 0.01748785578819864, 0.01748785578819864, 0.01748785578819864, 0.01748785578819864, -0.01748785578819864, 0.01748785578819864, 0.01748785578819864, 0.01748785578819864, 0.01748785578819864, 0.01748785578819864, 0.01748785578819864, 0.01748785578819864, 0.01748785578819864, 0.01748785578819864, 0.01748785578819864, 0.01748785578819864, 0.01748785578819864, 0.01748785578819864, 0.01748785578819864, 0.01748785578819864, 0.01748785578819864, 0.01748785578819864, 0.01748785578819864, 0.01748785578819864, 0.01748785578819864, 0.01748785578819864, 0.01748785578819864, 0.01748785578819864, 0.01748785578819864, 0.01748785578819864, 0.01748785578819864, 0.01748785578819864, 0.01748785578819864, 0.01748785578819864, 0.01748785578819864, 0.01748785578819864, 0.01748785578819864, 0.01748785578819864, 0.01748785578819864, 0.01748785578819864, 0.01748785578819864, 0.01748785578819864, 0.01748785578819864, 0.01748785578819864, 0.01748785578819864, 0.01748785578819864, 0.01748785578819864, 0.01748785578819864, 0.01748785578819864, 0.01748785578819864, 0.01748785578819864, 0.01748785578819864, 0.01748785578819864, 0.01748785578819864, 0.01748785578819864, 0.01748785578819864, 0.01748785578819864, 0.01748785578819864, 0.01748785578819864, 0.01748785578819864, 0.01748785578819864, 0.01748785578819864, 0.01748785578819864, 0.01748785578819864, 0.01748785578819864, 0.01748785578819864, 0.01748785578819864, 0.01748785578819864, 0.01748785578819864, 0.01748785578819864, 0.01748785578819864, 0.01748785578819864, -0.01748785578819864, 0.01748785578819864, 0.01748785578819864, 0.01748785578819864, 0.01748785578819864, 0.01748785578819864, 0.01748785578819864, 0.01748785578819864, 0.01748785578819864, 0.01748785578819864, 0.01748785578819864, 0.01748785578819864, ... ])\n",
      "('scores before: ', dtype: float\n",
      "Rows: 9284\n",
      "[-0.4962171679715595, 0.5985498155326275, -0.4534485641565547, -0.4962171679715595, 0.11449074981435575, -0.4977986037531306, -0.1597594620748597, 0.0871679594273988, -0.22196695608234385, -0.22196695608234385, -0.5006665707649076, 0.45277210501532467, 0.11449074981435575, -0.22196695608234385, 0.45277210501532467, 0.26026846033165874, 0.11449074981435575, -0.1597594620748597, -0.5006665707649076, -0.22196695608234385, 0.11855744661635084, 0.5985498155326275, -0.013981751557556803, -0.4962171679715595, -0.5006665707649076, 0.11449074981435575, 0.11449074981435575, -0.3548888602476045, 0.0871679594273988, -0.3520208932358276, -0.4977986037531306, -0.33285996297911963, -0.33285996297911963, -0.05860975108990422, 0.15884078941093172, -0.3520208932358276, 0.0871679594273988, -0.33285996297911963, 0.45277210501532467, -0.5006665707649076, 0.11449074981435575, 0.11449074981435575, 0.11449074981435575, 0.45277210501532467, -0.05860975108990422, -0.2885099233825437, 0.45277210501532467, -0.013981751557556803, 0.11449074981435575, 0.45277210501532467, -0.1597594620748597, -0.4962171679715595, -0.3105388206510286, 0.0871679594273988, -0.18708225246181676, -0.05860975108990422, 0.11449074981435575, 0.11449074981435575, -0.013981751557556803, -0.5006665707649076, 0.11449074981435575, -0.5006665707649076, 0.26026846033165874, -0.3548888602476045, -0.014259711493328275, 0.0871679594273988, -0.17761691648576788, -0.5006665707649076, -0.3548888602476045, -0.4977986037531306, -0.014259711493328275, 0.45277210501532467, -0.4962171679715595, -0.05860975108990422, -0.3548888602476045, -0.5006665707649076, -0.5006665707649076, 0.26026846033165874, -0.5006665707649076, -0.3548888602476045, -0.22196695608234385, -0.33285996297911963, 0.0871679594273988, 0.45277210501532467, 0.0871679594273988, 0.3242996036434121, 0.49712214461190063, -0.05860975108990422, -0.3636779697976517, -0.013981751557556803, -0.4977986037531306, 0.11449074981435575, -0.4962171679715595, -0.3548888602476045, -0.22196695608234385, -0.013981751557556803, -0.03183920596846497, -0.3520208932358276, -0.4977986037531306, -0.3520208932358276, ... ])\n"
     ]
    },
    {
     "name": "stdout",
     "output_type": "stream",
     "text": [
      "('intermediate weighted prediction : ', dtype: float\n",
      "Rows: 9284\n",
      "[0.017321692640262277, -0.017321692640262277, -0.017321692640262277, 0.017321692640262277, -0.017321692640262277, -0.017321692640262277, -0.017321692640262277, -0.017321692640262277, 0.017321692640262277, 0.017321692640262277, -0.017321692640262277, -0.017321692640262277, -0.017321692640262277, 0.017321692640262277, -0.017321692640262277, -0.017321692640262277, -0.017321692640262277, -0.017321692640262277, -0.017321692640262277, 0.017321692640262277, -0.017321692640262277, -0.017321692640262277, -0.017321692640262277, 0.017321692640262277, -0.017321692640262277, -0.017321692640262277, -0.017321692640262277, -0.017321692640262277, -0.017321692640262277, -0.017321692640262277, -0.017321692640262277, -0.017321692640262277, -0.017321692640262277, -0.017321692640262277, -0.017321692640262277, -0.017321692640262277, -0.017321692640262277, -0.017321692640262277, -0.017321692640262277, -0.017321692640262277, -0.017321692640262277, -0.017321692640262277, -0.017321692640262277, -0.017321692640262277, -0.017321692640262277, -0.017321692640262277, -0.017321692640262277, -0.017321692640262277, -0.017321692640262277, -0.017321692640262277, -0.017321692640262277, 0.017321692640262277, -0.017321692640262277, -0.017321692640262277, -0.017321692640262277, -0.017321692640262277, -0.017321692640262277, -0.017321692640262277, -0.017321692640262277, -0.017321692640262277, -0.017321692640262277, -0.017321692640262277, -0.017321692640262277, -0.017321692640262277, -0.017321692640262277, -0.017321692640262277, 0.017321692640262277, -0.017321692640262277, -0.017321692640262277, -0.017321692640262277, -0.017321692640262277, -0.017321692640262277, 0.017321692640262277, -0.017321692640262277, -0.017321692640262277, -0.017321692640262277, -0.017321692640262277, -0.017321692640262277, -0.017321692640262277, -0.017321692640262277, 0.017321692640262277, -0.017321692640262277, -0.017321692640262277, -0.017321692640262277, -0.017321692640262277, -0.017321692640262277, -0.017321692640262277, -0.017321692640262277, 0.017321692640262277, -0.017321692640262277, -0.017321692640262277, -0.017321692640262277, 0.017321692640262277, -0.017321692640262277, 0.017321692640262277, -0.017321692640262277, 0.017321692640262277, -0.017321692640262277, -0.017321692640262277, -0.017321692640262277, ... ])\n",
      "('scores before: ', dtype: float\n",
      "Rows: 9284\n",
      "[-0.4787293121833609, 0.6160376713208262, -0.4359607083683561, -0.4787293121833609, 0.1319786056025544, -0.480310747964932, -0.14227160628666105, 0.10465581521559744, -0.2044791002941452, -0.2044791002941452, -0.483178714976709, 0.4702599608035233, 0.1319786056025544, -0.2044791002941452, 0.4702599608035233, 0.27775631611985735, 0.1319786056025544, -0.14227160628666105, -0.483178714976709, -0.2044791002941452, 0.1010695908281522, 0.6160376713208262, 0.003506104230641835, -0.4787293121833609, -0.483178714976709, 0.1319786056025544, 0.1319786056025544, -0.3374010044594059, 0.10465581521559744, -0.33453303744762897, -0.480310747964932, -0.315372107190921, -0.315372107190921, -0.04112189530170558, 0.17632864519913036, -0.33453303744762897, 0.10465581521559744, -0.315372107190921, 0.4702599608035233, -0.483178714976709, 0.1319786056025544, 0.1319786056025544, 0.1319786056025544, 0.4702599608035233, -0.04112189530170558, -0.2710220675943451, 0.4702599608035233, 0.003506104230641835, 0.1319786056025544, 0.4702599608035233, -0.14227160628666105, -0.4787293121833609, -0.29305096486283, 0.10465581521559744, -0.16959439667361811, -0.04112189530170558, 0.1319786056025544, 0.1319786056025544, 0.003506104230641835, -0.483178714976709, 0.1319786056025544, -0.483178714976709, 0.27775631611985735, -0.3374010044594059, 0.003228144294870363, 0.10465581521559744, -0.16012906069756924, -0.483178714976709, -0.3374010044594059, -0.480310747964932, 0.003228144294870363, 0.4702599608035233, -0.4787293121833609, -0.04112189530170558, -0.3374010044594059, -0.483178714976709, -0.483178714976709, 0.27775631611985735, -0.483178714976709, -0.3374010044594059, -0.2044791002941452, -0.315372107190921, 0.10465581521559744, 0.4702599608035233, 0.10465581521559744, 0.3417874594316107, 0.5146100004000993, -0.04112189530170558, -0.3811658255858503, 0.003506104230641835, -0.480310747964932, 0.1319786056025544, -0.4787293121833609, -0.3374010044594059, -0.2044791002941452, 0.003506104230641835, -0.014351350180266332, -0.33453303744762897, -0.480310747964932, -0.33453303744762897, ... ])\n",
      "('intermediate weighted prediction : ', dtype: float\n",
      "Rows: 9284\n",
      "[0.011341390494266072, 0.011341390494266072, -0.011341390494266072, 0.011341390494266072, 0.011341390494266072, -0.011341390494266072, 0.011341390494266072, 0.011341390494266072, 0.011341390494266072, 0.011341390494266072, 0.011341390494266072, 0.011341390494266072, 0.011341390494266072, 0.011341390494266072, 0.011341390494266072, 0.011341390494266072, 0.011341390494266072, 0.011341390494266072, 0.011341390494266072, 0.011341390494266072, 0.011341390494266072, 0.011341390494266072, 0.011341390494266072, 0.011341390494266072, 0.011341390494266072, 0.011341390494266072, 0.011341390494266072, 0.011341390494266072, 0.011341390494266072, -0.011341390494266072, -0.011341390494266072, 0.011341390494266072, 0.011341390494266072, 0.011341390494266072, 0.011341390494266072, -0.011341390494266072, 0.011341390494266072, 0.011341390494266072, 0.011341390494266072, 0.011341390494266072, 0.011341390494266072, 0.011341390494266072, 0.011341390494266072, 0.011341390494266072, 0.011341390494266072, 0.011341390494266072, 0.011341390494266072, 0.011341390494266072, 0.011341390494266072, 0.011341390494266072, 0.011341390494266072, 0.011341390494266072, 0.011341390494266072, 0.011341390494266072, 0.011341390494266072, 0.011341390494266072, 0.011341390494266072, 0.011341390494266072, 0.011341390494266072, 0.011341390494266072, 0.011341390494266072, 0.011341390494266072, 0.011341390494266072, 0.011341390494266072, 0.011341390494266072, 0.011341390494266072, 0.011341390494266072, 0.011341390494266072, 0.011341390494266072, -0.011341390494266072, 0.011341390494266072, 0.011341390494266072, 0.011341390494266072, 0.011341390494266072, 0.011341390494266072, 0.011341390494266072, 0.011341390494266072, 0.011341390494266072, 0.011341390494266072, 0.011341390494266072, 0.011341390494266072, 0.011341390494266072, 0.011341390494266072, 0.011341390494266072, 0.011341390494266072, 0.011341390494266072, 0.011341390494266072, 0.011341390494266072, 0.011341390494266072, 0.011341390494266072, -0.011341390494266072, 0.011341390494266072, 0.011341390494266072, 0.011341390494266072, 0.011341390494266072, 0.011341390494266072, 0.011341390494266072, -0.011341390494266072, -0.011341390494266072, -0.011341390494266072, ... ])\n",
      "('scores before: ', dtype: float\n",
      "Rows: 9284\n",
      "[-0.4614076195430986, 0.5987159786805639, -0.4532824010086184, -0.4614076195430986, 0.11465691296229212, -0.4976324406051943, -0.15959329892692334, 0.08733412257533517, -0.18715740765388292, -0.18715740765388292, -0.5005004076169712, 0.452938268163261, 0.11465691296229212, -0.18715740765388292, 0.452938268163261, 0.26043462347959506, 0.11465691296229212, -0.15959329892692334, -0.5005004076169712, -0.18715740765388292, 0.08374789818788993, 0.5987159786805639, -0.013815588409620442, -0.4614076195430986, -0.5005004076169712, 0.11465691296229212, 0.11465691296229212, -0.3547226970996682, 0.08733412257533517, -0.35185473008789125, -0.4976324406051943, -0.3326937998311833, -0.3326937998311833, -0.058443587941967856, 0.15900695255886807, -0.35185473008789125, 0.08733412257533517, -0.3326937998311833, 0.452938268163261, -0.5005004076169712, 0.11465691296229212, 0.11465691296229212, 0.11465691296229212, 0.452938268163261, -0.058443587941967856, -0.2883437602346074, 0.452938268163261, -0.013815588409620442, 0.11465691296229212, 0.452938268163261, -0.15959329892692334, -0.4614076195430986, -0.3103726575030923, 0.08733412257533517, -0.1869160893138804, -0.058443587941967856, 0.11465691296229212, 0.11465691296229212, -0.013815588409620442, -0.5005004076169712, 0.11465691296229212, -0.5005004076169712, 0.26043462347959506, -0.3547226970996682, -0.014093548345391914, 0.08733412257533517, -0.14280736805730695, -0.5005004076169712, -0.3547226970996682, -0.4976324406051943, -0.014093548345391914, 0.452938268163261, -0.4614076195430986, -0.058443587941967856, -0.3547226970996682, -0.5005004076169712, -0.5005004076169712, 0.26043462347959506, -0.5005004076169712, -0.3547226970996682, -0.18715740765388292, -0.3326937998311833, 0.08733412257533517, 0.452938268163261, 0.08733412257533517, 0.3244657667913484, 0.497288307759837, -0.058443587941967856, -0.36384413294558804, -0.013815588409620442, -0.4976324406051943, 0.11465691296229212, -0.4614076195430986, -0.3547226970996682, -0.18715740765388292, -0.013815588409620442, 0.002970342459995945, -0.35185473008789125, -0.4976324406051943, -0.35185473008789125, ... ])\n"
     ]
    },
    {
     "name": "stdout",
     "output_type": "stream",
     "text": [
      "('intermediate weighted prediction : ', dtype: float\n",
      "Rows: 9284\n",
      "[-0.017916047935579344, 0.017916047935579344, -0.017916047935579344, -0.017916047935579344, -0.017916047935579344, -0.017916047935579344, -0.017916047935579344, -0.017916047935579344, -0.017916047935579344, -0.017916047935579344, -0.017916047935579344, 0.017916047935579344, -0.017916047935579344, -0.017916047935579344, 0.017916047935579344, -0.017916047935579344, -0.017916047935579344, -0.017916047935579344, -0.017916047935579344, -0.017916047935579344, -0.017916047935579344, 0.017916047935579344, -0.017916047935579344, -0.017916047935579344, -0.017916047935579344, -0.017916047935579344, -0.017916047935579344, -0.017916047935579344, -0.017916047935579344, -0.017916047935579344, -0.017916047935579344, -0.017916047935579344, -0.017916047935579344, -0.017916047935579344, -0.017916047935579344, -0.017916047935579344, -0.017916047935579344, -0.017916047935579344, 0.017916047935579344, -0.017916047935579344, -0.017916047935579344, -0.017916047935579344, -0.017916047935579344, 0.017916047935579344, -0.017916047935579344, -0.017916047935579344, 0.017916047935579344, -0.017916047935579344, -0.017916047935579344, 0.017916047935579344, -0.017916047935579344, -0.017916047935579344, -0.017916047935579344, -0.017916047935579344, -0.017916047935579344, -0.017916047935579344, -0.017916047935579344, -0.017916047935579344, -0.017916047935579344, -0.017916047935579344, -0.017916047935579344, -0.017916047935579344, -0.017916047935579344, -0.017916047935579344, -0.017916047935579344, -0.017916047935579344, -0.017916047935579344, -0.017916047935579344, -0.017916047935579344, -0.017916047935579344, -0.017916047935579344, 0.017916047935579344, -0.017916047935579344, -0.017916047935579344, -0.017916047935579344, -0.017916047935579344, -0.017916047935579344, -0.017916047935579344, -0.017916047935579344, -0.017916047935579344, -0.017916047935579344, -0.017916047935579344, -0.017916047935579344, 0.017916047935579344, -0.017916047935579344, 0.017916047935579344, 0.017916047935579344, -0.017916047935579344, -0.017916047935579344, -0.017916047935579344, -0.017916047935579344, -0.017916047935579344, -0.017916047935579344, -0.017916047935579344, -0.017916047935579344, -0.017916047935579344, -0.017916047935579344, -0.017916047935579344, -0.017916047935579344, -0.017916047935579344, ... ])\n",
      "('scores before: ', dtype: float\n",
      "Rows: 9284\n",
      "[-0.45006622904883253, 0.61005736917483, -0.46462379150288446, -0.45006622904883253, 0.12599830345655819, -0.5089738310994604, -0.14825190843265726, 0.09867551306960123, -0.17581601715961684, -0.17581601715961684, -0.48915901712270515, 0.4642796586575271, 0.12599830345655819, -0.17581601715961684, 0.4642796586575271, 0.27177601397386114, 0.12599830345655819, -0.14825190843265726, -0.48915901712270515, -0.17581601715961684, 0.09508928868215599, 0.61005736917483, -0.0024741979153543696, -0.45006622904883253, -0.48915901712270515, 0.12599830345655819, 0.12599830345655819, -0.3433813066054021, 0.09867551306960123, -0.36319612058215733, -0.5089738310994604, -0.3213524093369172, -0.3213524093369172, -0.047102197447701784, 0.17034834305313415, -0.36319612058215733, 0.09867551306960123, -0.3213524093369172, 0.4642796586575271, -0.48915901712270515, 0.12599830345655819, 0.12599830345655819, 0.12599830345655819, 0.4642796586575271, -0.047102197447701784, -0.2770023697403413, 0.4642796586575271, -0.0024741979153543696, 0.12599830345655819, 0.4642796586575271, -0.14825190843265726, -0.45006622904883253, -0.2990312670088262, 0.09867551306960123, -0.17557469881961432, -0.047102197447701784, 0.12599830345655819, 0.12599830345655819, -0.0024741979153543696, -0.48915901712270515, 0.12599830345655819, -0.48915901712270515, 0.27177601397386114, -0.3433813066054021, -0.0027521578511258415, 0.09867551306960123, -0.13146597756304088, -0.48915901712270515, -0.3433813066054021, -0.5089738310994604, -0.0027521578511258415, 0.4642796586575271, -0.45006622904883253, -0.047102197447701784, -0.3433813066054021, -0.48915901712270515, -0.48915901712270515, 0.27177601397386114, -0.48915901712270515, -0.3433813066054021, -0.17581601715961684, -0.3213524093369172, 0.09867551306960123, 0.4642796586575271, 0.09867551306960123, 0.3358071572856145, 0.5086296982541031, -0.047102197447701784, -0.35250274245132196, -0.0024741979153543696, -0.5089738310994604, 0.12599830345655819, -0.45006622904883253, -0.3433813066054021, -0.17581601715961684, -0.0024741979153543696, 0.014311732954262017, -0.36319612058215733, -0.5089738310994604, -0.36319612058215733, ... ])\n",
      "('intermediate weighted prediction : ', dtype: float\n",
      "Rows: 9284\n",
      "[0.013086015871120614, 0.013086015871120614, 0.013086015871120614, 0.013086015871120614, 0.013086015871120614, 0.013086015871120614, 0.013086015871120614, 0.013086015871120614, 0.013086015871120614, 0.013086015871120614, 0.013086015871120614, 0.013086015871120614, 0.013086015871120614, 0.013086015871120614, 0.013086015871120614, 0.013086015871120614, 0.013086015871120614, 0.013086015871120614, 0.013086015871120614, 0.013086015871120614, -0.013086015871120614, 0.013086015871120614, 0.013086015871120614, 0.013086015871120614, 0.013086015871120614, 0.013086015871120614, 0.013086015871120614, 0.013086015871120614, 0.013086015871120614, 0.013086015871120614, 0.013086015871120614, 0.013086015871120614, 0.013086015871120614, 0.013086015871120614, 0.013086015871120614, 0.013086015871120614, 0.013086015871120614, 0.013086015871120614, 0.013086015871120614, 0.013086015871120614, 0.013086015871120614, 0.013086015871120614, 0.013086015871120614, 0.013086015871120614, 0.013086015871120614, 0.013086015871120614, 0.013086015871120614, 0.013086015871120614, 0.013086015871120614, 0.013086015871120614, 0.013086015871120614, 0.013086015871120614, 0.013086015871120614, 0.013086015871120614, 0.013086015871120614, 0.013086015871120614, 0.013086015871120614, 0.013086015871120614, 0.013086015871120614, 0.013086015871120614, 0.013086015871120614, 0.013086015871120614, 0.013086015871120614, 0.013086015871120614, 0.013086015871120614, 0.013086015871120614, 0.013086015871120614, 0.013086015871120614, 0.013086015871120614, 0.013086015871120614, 0.013086015871120614, 0.013086015871120614, 0.013086015871120614, 0.013086015871120614, 0.013086015871120614, 0.013086015871120614, 0.013086015871120614, 0.013086015871120614, 0.013086015871120614, 0.013086015871120614, 0.013086015871120614, 0.013086015871120614, 0.013086015871120614, 0.013086015871120614, 0.013086015871120614, 0.013086015871120614, 0.013086015871120614, 0.013086015871120614, -0.013086015871120614, 0.013086015871120614, 0.013086015871120614, 0.013086015871120614, 0.013086015871120614, 0.013086015871120614, 0.013086015871120614, 0.013086015871120614, 0.013086015871120614, 0.013086015871120614, 0.013086015871120614, 0.013086015871120614, ... ])\n",
      "('scores before: ', dtype: float\n",
      "Rows: 9284\n",
      "[-0.46798227698441186, 0.6279734171104093, -0.4825398394384638, -0.46798227698441186, 0.10808225552097885, -0.5268898790350397, -0.1661679563682366, 0.0807594651340219, -0.1937320650951962, -0.1937320650951962, -0.5070750650582845, 0.4821957065931064, 0.10808225552097885, -0.1937320650951962, 0.4821957065931064, 0.2538599660382818, 0.10808225552097885, -0.1661679563682366, -0.5070750650582845, -0.1937320650951962, 0.07717324074657665, 0.6279734171104093, -0.020390245850933714, -0.46798227698441186, -0.5070750650582845, 0.10808225552097885, 0.10808225552097885, -0.36129735454098144, 0.0807594651340219, -0.38111216851773666, -0.5268898790350397, -0.33926845727249655, -0.33926845727249655, -0.06501824538328113, 0.1524322951175548, -0.38111216851773666, 0.0807594651340219, -0.33926845727249655, 0.4821957065931064, -0.5070750650582845, 0.10808225552097885, 0.10808225552097885, 0.10808225552097885, 0.4821957065931064, -0.06501824538328113, -0.29491841767592064, 0.4821957065931064, -0.020390245850933714, 0.10808225552097885, 0.4821957065931064, -0.1661679563682366, -0.46798227698441186, -0.31694731494440553, 0.0807594651340219, -0.19349074675519368, -0.06501824538328113, 0.10808225552097885, 0.10808225552097885, -0.020390245850933714, -0.5070750650582845, 0.10808225552097885, -0.5070750650582845, 0.2538599660382818, -0.36129735454098144, -0.020668205786705186, 0.0807594651340219, -0.14938202549862023, -0.5070750650582845, -0.36129735454098144, -0.5268898790350397, -0.020668205786705186, 0.4821957065931064, -0.46798227698441186, -0.06501824538328113, -0.36129735454098144, -0.5070750650582845, -0.5070750650582845, 0.2538599660382818, -0.5070750650582845, -0.36129735454098144, -0.1937320650951962, -0.33926845727249655, 0.0807594651340219, 0.4821957065931064, 0.0807594651340219, 0.3537232052211938, 0.5265457461896824, -0.06501824538328113, -0.3704187903869013, -0.020390245850933714, -0.5268898790350397, 0.10808225552097885, -0.46798227698441186, -0.36129735454098144, -0.1937320650951962, -0.020390245850933714, -0.003604314981317327, -0.38111216851773666, -0.5268898790350397, -0.38111216851773666, ... ])\n"
     ]
    },
    {
     "name": "stdout",
     "output_type": "stream",
     "text": [
      "('intermediate weighted prediction : ', dtype: float\n",
      "Rows: 9284\n",
      "[0.014564409290199434, -0.014564409290199434, -0.014564409290199434, -0.014564409290199434, 0.014564409290199434, -0.014564409290199434, -0.014564409290199434, -0.014564409290199434, -0.014564409290199434, -0.014564409290199434, -0.014564409290199434, -0.014564409290199434, -0.014564409290199434, -0.014564409290199434, -0.014564409290199434, -0.014564409290199434, 0.014564409290199434, -0.014564409290199434, -0.014564409290199434, -0.014564409290199434, -0.014564409290199434, -0.014564409290199434, -0.014564409290199434, -0.014564409290199434, -0.014564409290199434, -0.014564409290199434, -0.014564409290199434, -0.014564409290199434, -0.014564409290199434, -0.014564409290199434, -0.014564409290199434, -0.014564409290199434, -0.014564409290199434, -0.014564409290199434, -0.014564409290199434, -0.014564409290199434, -0.014564409290199434, -0.014564409290199434, -0.014564409290199434, -0.014564409290199434, -0.014564409290199434, 0.014564409290199434, -0.014564409290199434, 0.014564409290199434, -0.014564409290199434, -0.014564409290199434, 0.014564409290199434, -0.014564409290199434, 0.014564409290199434, -0.014564409290199434, -0.014564409290199434, -0.014564409290199434, -0.014564409290199434, -0.014564409290199434, -0.014564409290199434, -0.014564409290199434, -0.014564409290199434, 0.014564409290199434, -0.014564409290199434, -0.014564409290199434, -0.014564409290199434, -0.014564409290199434, -0.014564409290199434, -0.014564409290199434, -0.014564409290199434, -0.014564409290199434, -0.014564409290199434, -0.014564409290199434, -0.014564409290199434, 0.014564409290199434, -0.014564409290199434, -0.014564409290199434, -0.014564409290199434, -0.014564409290199434, -0.014564409290199434, -0.014564409290199434, -0.014564409290199434, -0.014564409290199434, -0.014564409290199434, -0.014564409290199434, 0.014564409290199434, -0.014564409290199434, -0.014564409290199434, 0.014564409290199434, -0.014564409290199434, -0.014564409290199434, -0.014564409290199434, -0.014564409290199434, -0.014564409290199434, -0.014564409290199434, -0.014564409290199434, -0.014564409290199434, -0.014564409290199434, -0.014564409290199434, 0.014564409290199434, -0.014564409290199434, -0.014564409290199434, -0.014564409290199434, -0.014564409290199434, -0.014564409290199434, ... ])\n",
      "('scores before: ', dtype: float\n",
      "Rows: 9284\n",
      "[-0.45489626111329123, 0.6410594329815299, -0.46945382356734316, -0.45489626111329123, 0.12116827139209946, -0.5138038631639191, -0.153081940497116, 0.0938454810051425, -0.18064604922407557, -0.18064604922407557, -0.49398904918716385, 0.495281722464227, 0.12116827139209946, -0.18064604922407557, 0.495281722464227, 0.26694598190940244, 0.12116827139209946, -0.153081940497116, -0.49398904918716385, -0.18064604922407557, 0.06408722487545604, 0.6410594329815299, -0.007304229979813099, -0.45489626111329123, -0.49398904918716385, 0.12116827139209946, 0.12116827139209946, -0.3482113386698608, 0.0938454810051425, -0.36802615264661603, -0.5138038631639191, -0.3261824414013759, -0.3261824414013759, -0.05193222951216052, 0.16551831098867542, -0.36802615264661603, 0.0938454810051425, -0.3261824414013759, 0.495281722464227, -0.49398904918716385, 0.12116827139209946, 0.12116827139209946, 0.12116827139209946, 0.495281722464227, -0.05193222951216052, -0.2818324018048, 0.495281722464227, -0.007304229979813099, 0.12116827139209946, 0.495281722464227, -0.153081940497116, -0.45489626111329123, -0.3038612990732849, 0.0938454810051425, -0.18040473088407305, -0.05193222951216052, 0.12116827139209946, 0.12116827139209946, -0.007304229979813099, -0.49398904918716385, 0.12116827139209946, -0.49398904918716385, 0.26694598190940244, -0.3482113386698608, -0.007582189915584571, 0.0938454810051425, -0.1362960096274996, -0.49398904918716385, -0.3482113386698608, -0.5138038631639191, -0.007582189915584571, 0.495281722464227, -0.45489626111329123, -0.05193222951216052, -0.3482113386698608, -0.49398904918716385, -0.49398904918716385, 0.26694598190940244, -0.49398904918716385, -0.3482113386698608, -0.18064604922407557, -0.3261824414013759, 0.0938454810051425, 0.495281722464227, 0.0938454810051425, 0.36680922109231445, 0.539631762060803, -0.05193222951216052, -0.3835048062580219, -0.007304229979813099, -0.5138038631639191, 0.12116827139209946, -0.45489626111329123, -0.3482113386698608, -0.18064604922407557, -0.007304229979813099, 0.009481700889803287, -0.36802615264661603, -0.5138038631639191, -0.36802615264661603, ... ])\n",
      "('intermediate weighted prediction : ', dtype: float\n",
      "Rows: 9284\n",
      "[0.011702579944675011, 0.011702579944675011, -0.011702579944675011, 0.011702579944675011, 0.011702579944675011, -0.011702579944675011, 0.011702579944675011, 0.011702579944675011, 0.011702579944675011, 0.011702579944675011, 0.011702579944675011, 0.011702579944675011, 0.011702579944675011, 0.011702579944675011, 0.011702579944675011, 0.011702579944675011, 0.011702579944675011, 0.011702579944675011, 0.011702579944675011, 0.011702579944675011, 0.011702579944675011, 0.011702579944675011, 0.011702579944675011, 0.011702579944675011, 0.011702579944675011, 0.011702579944675011, 0.011702579944675011, 0.011702579944675011, 0.011702579944675011, -0.011702579944675011, -0.011702579944675011, 0.011702579944675011, 0.011702579944675011, 0.011702579944675011, 0.011702579944675011, -0.011702579944675011, 0.011702579944675011, 0.011702579944675011, 0.011702579944675011, 0.011702579944675011, 0.011702579944675011, 0.011702579944675011, 0.011702579944675011, 0.011702579944675011, 0.011702579944675011, 0.011702579944675011, 0.011702579944675011, 0.011702579944675011, 0.011702579944675011, 0.011702579944675011, 0.011702579944675011, 0.011702579944675011, 0.011702579944675011, 0.011702579944675011, 0.011702579944675011, 0.011702579944675011, 0.011702579944675011, 0.011702579944675011, 0.011702579944675011, 0.011702579944675011, 0.011702579944675011, 0.011702579944675011, 0.011702579944675011, 0.011702579944675011, 0.011702579944675011, 0.011702579944675011, 0.011702579944675011, 0.011702579944675011, 0.011702579944675011, -0.011702579944675011, 0.011702579944675011, 0.011702579944675011, 0.011702579944675011, 0.011702579944675011, 0.011702579944675011, 0.011702579944675011, 0.011702579944675011, 0.011702579944675011, 0.011702579944675011, 0.011702579944675011, 0.011702579944675011, 0.011702579944675011, 0.011702579944675011, 0.011702579944675011, 0.011702579944675011, 0.011702579944675011, 0.011702579944675011, 0.011702579944675011, 0.011702579944675011, 0.011702579944675011, -0.011702579944675011, 0.011702579944675011, 0.011702579944675011, 0.011702579944675011, 0.011702579944675011, 0.011702579944675011, 0.011702579944675011, -0.011702579944675011, -0.011702579944675011, -0.011702579944675011, ... ])\n",
      "('scores before: ', dtype: float\n",
      "Rows: 9284\n",
      "[-0.4403318518230918, 0.6264950236913305, -0.4840182328575426, -0.46946067040349065, 0.13573268068229888, -0.5283682724541185, -0.1676463497873154, 0.07928107171494307, -0.195210458514275, -0.195210458514275, -0.5085534584773633, 0.4807173131740276, 0.10660386210190002, -0.195210458514275, 0.4807173131740276, 0.252381572619203, 0.13573268068229888, -0.1676463497873154, -0.5085534584773633, -0.195210458514275, 0.049522815585256605, 0.6264950236913305, -0.021868639270012535, -0.46946067040349065, -0.5085534584773633, 0.10660386210190002, 0.10660386210190002, -0.36277574796006024, 0.07928107171494307, -0.38259056193681545, -0.5283682724541185, -0.34074685069157534, -0.34074685069157534, -0.06649663880235995, 0.150953901698476, -0.38259056193681545, 0.07928107171494307, -0.34074685069157534, 0.4807173131740276, -0.5085534584773633, 0.10660386210190002, 0.13573268068229888, 0.10660386210190002, 0.5098461317544265, -0.06649663880235995, -0.29639681109499944, 0.5098461317544265, -0.021868639270012535, 0.13573268068229888, 0.4807173131740276, -0.1676463497873154, -0.46946067040349065, -0.3184257083634843, 0.07928107171494307, -0.19496914017427247, -0.06649663880235995, 0.10660386210190002, 0.13573268068229888, -0.021868639270012535, -0.5085534584773633, 0.10660386210190002, -0.5085534584773633, 0.252381572619203, -0.36277574796006024, -0.022146599205784004, 0.07928107171494307, -0.15086041891769902, -0.5085534584773633, -0.36277574796006024, -0.4992394538737197, -0.022146599205784004, 0.4807173131740276, -0.46946067040349065, -0.06649663880235995, -0.36277574796006024, -0.5085534584773633, -0.5085534584773633, 0.252381572619203, -0.5085534584773633, -0.36277574796006024, -0.16608163993387615, -0.34074685069157534, 0.07928107171494307, 0.5098461317544265, 0.07928107171494307, 0.35224481180211503, 0.5250673527706036, -0.06649663880235995, -0.39806921554822133, -0.021868639270012535, -0.5283682724541185, 0.10660386210190002, -0.46946067040349065, -0.36277574796006024, -0.16608163993387615, -0.021868639270012535, -0.005082708400396147, -0.38259056193681545, -0.5283682724541185, -0.38259056193681545, ... ])\n"
     ]
    },
    {
     "name": "stdout",
     "output_type": "stream",
     "text": [
      "('intermediate weighted prediction : ', dtype: float\n",
      "Rows: 9284\n",
      "[-0.013631478294319502, -0.013631478294319502, -0.013631478294319502, -0.013631478294319502, -0.013631478294319502, -0.013631478294319502, -0.013631478294319502, -0.013631478294319502, -0.013631478294319502, -0.013631478294319502, 0.013631478294319502, -0.013631478294319502, -0.013631478294319502, -0.013631478294319502, -0.013631478294319502, -0.013631478294319502, -0.013631478294319502, -0.013631478294319502, -0.013631478294319502, -0.013631478294319502, -0.013631478294319502, -0.013631478294319502, -0.013631478294319502, -0.013631478294319502, -0.013631478294319502, -0.013631478294319502, -0.013631478294319502, -0.013631478294319502, -0.013631478294319502, -0.013631478294319502, -0.013631478294319502, -0.013631478294319502, -0.013631478294319502, -0.013631478294319502, -0.013631478294319502, -0.013631478294319502, -0.013631478294319502, -0.013631478294319502, 0.013631478294319502, 0.013631478294319502, -0.013631478294319502, 0.013631478294319502, -0.013631478294319502, -0.013631478294319502, -0.013631478294319502, -0.013631478294319502, -0.013631478294319502, -0.013631478294319502, -0.013631478294319502, -0.013631478294319502, -0.013631478294319502, -0.013631478294319502, -0.013631478294319502, -0.013631478294319502, -0.013631478294319502, -0.013631478294319502, -0.013631478294319502, -0.013631478294319502, -0.013631478294319502, -0.013631478294319502, -0.013631478294319502, -0.013631478294319502, -0.013631478294319502, -0.013631478294319502, -0.013631478294319502, -0.013631478294319502, -0.013631478294319502, -0.013631478294319502, -0.013631478294319502, 0.013631478294319502, -0.013631478294319502, -0.013631478294319502, -0.013631478294319502, -0.013631478294319502, -0.013631478294319502, 0.013631478294319502, 0.013631478294319502, -0.013631478294319502, -0.013631478294319502, -0.013631478294319502, -0.013631478294319502, -0.013631478294319502, -0.013631478294319502, -0.013631478294319502, -0.013631478294319502, -0.013631478294319502, -0.013631478294319502, 0.013631478294319502, -0.013631478294319502, -0.013631478294319502, -0.013631478294319502, -0.013631478294319502, -0.013631478294319502, -0.013631478294319502, -0.013631478294319502, -0.013631478294319502, -0.013631478294319502, -0.013631478294319502, -0.013631478294319502, -0.013631478294319502, ... ])\n",
      "('scores before: ', dtype: float\n",
      "Rows: 9284\n",
      "[-0.4286292718784168, 0.6381976036360055, -0.4957208128022176, -0.45775809045881566, 0.1474352606269739, -0.5400708523987936, -0.15594376984264038, 0.09098365165961808, -0.18350787856959996, -0.18350787856959996, -0.49685087853268833, 0.4924198931187026, 0.11830644204657503, -0.18350787856959996, 0.4924198931187026, 0.264084152563878, 0.1474352606269739, -0.15594376984264038, -0.49685087853268833, -0.18350787856959996, 0.061225395529931614, 0.6381976036360055, -0.010166059325337524, -0.45775809045881566, -0.49685087853268833, 0.11830644204657503, 0.11830644204657503, -0.35107316801538524, 0.09098365165961808, -0.39429314188149045, -0.5400708523987936, -0.32904427074690035, -0.32904427074690035, -0.054794058857684944, 0.16265648164315102, -0.39429314188149045, 0.09098365165961808, -0.32904427074690035, 0.4924198931187026, -0.49685087853268833, 0.11830644204657503, 0.1474352606269739, 0.11830644204657503, 0.5215487116991016, -0.054794058857684944, -0.28469423115032444, 0.5215487116991016, -0.010166059325337524, 0.1474352606269739, 0.4924198931187026, -0.15594376984264038, -0.45775809045881566, -0.30672312841880933, 0.09098365165961808, -0.18326656022959745, -0.054794058857684944, 0.11830644204657503, 0.1474352606269739, -0.010166059325337524, -0.49685087853268833, 0.11830644204657503, -0.49685087853268833, 0.264084152563878, -0.35107316801538524, -0.010444019261108993, 0.09098365165961808, -0.139157838973024, -0.49685087853268833, -0.35107316801538524, -0.5109420338183948, -0.010444019261108993, 0.4924198931187026, -0.45775809045881566, -0.054794058857684944, -0.35107316801538524, -0.49685087853268833, -0.49685087853268833, 0.264084152563878, -0.49685087853268833, -0.35107316801538524, -0.15437905998920112, -0.32904427074690035, 0.09098365165961808, 0.5215487116991016, 0.09098365165961808, 0.36394739174679, 0.5367699327152786, -0.054794058857684944, -0.38636663560354634, -0.010166059325337524, -0.5400708523987936, 0.11830644204657503, -0.45775809045881566, -0.35107316801538524, -0.15437905998920112, -0.010166059325337524, 0.006619871544278864, -0.39429314188149045, -0.5400708523987936, -0.39429314188149045, ... ])\n",
      "('intermediate weighted prediction : ', dtype: float\n",
      "Rows: 9284\n",
      "[0.011495143663834332, 0.011495143663834332, 0.011495143663834332, 0.011495143663834332, 0.011495143663834332, 0.011495143663834332, 0.011495143663834332, 0.011495143663834332, 0.011495143663834332, 0.011495143663834332, 0.011495143663834332, 0.011495143663834332, 0.011495143663834332, 0.011495143663834332, 0.011495143663834332, 0.011495143663834332, 0.011495143663834332, 0.011495143663834332, 0.011495143663834332, 0.011495143663834332, -0.011495143663834332, 0.011495143663834332, 0.011495143663834332, 0.011495143663834332, 0.011495143663834332, 0.011495143663834332, 0.011495143663834332, 0.011495143663834332, 0.011495143663834332, 0.011495143663834332, 0.011495143663834332, 0.011495143663834332, 0.011495143663834332, 0.011495143663834332, 0.011495143663834332, 0.011495143663834332, 0.011495143663834332, 0.011495143663834332, 0.011495143663834332, 0.011495143663834332, 0.011495143663834332, 0.011495143663834332, 0.011495143663834332, 0.011495143663834332, 0.011495143663834332, 0.011495143663834332, 0.011495143663834332, 0.011495143663834332, 0.011495143663834332, 0.011495143663834332, 0.011495143663834332, 0.011495143663834332, 0.011495143663834332, 0.011495143663834332, 0.011495143663834332, 0.011495143663834332, 0.011495143663834332, 0.011495143663834332, 0.011495143663834332, 0.011495143663834332, 0.011495143663834332, 0.011495143663834332, 0.011495143663834332, 0.011495143663834332, 0.011495143663834332, 0.011495143663834332, 0.011495143663834332, 0.011495143663834332, 0.011495143663834332, 0.011495143663834332, 0.011495143663834332, 0.011495143663834332, 0.011495143663834332, 0.011495143663834332, 0.011495143663834332, 0.011495143663834332, 0.011495143663834332, 0.011495143663834332, 0.011495143663834332, 0.011495143663834332, 0.011495143663834332, 0.011495143663834332, 0.011495143663834332, 0.011495143663834332, 0.011495143663834332, 0.011495143663834332, 0.011495143663834332, 0.011495143663834332, -0.011495143663834332, 0.011495143663834332, 0.011495143663834332, 0.011495143663834332, 0.011495143663834332, 0.011495143663834332, 0.011495143663834332, 0.011495143663834332, 0.011495143663834332, 0.011495143663834332, 0.011495143663834332, 0.011495143663834332, ... ])\n",
      "('scores before: ', dtype: float\n",
      "Rows: 9284\n",
      "[-0.4422607501727363, 0.624566125341686, -0.5093522910965371, -0.47138956875313515, 0.1338037823326544, -0.5537023306931131, -0.1695752481369599, 0.07735217336529858, -0.19713935686391948, -0.19713935686391948, -0.48321940023836885, 0.4787884148243831, 0.10467496375225553, -0.19713935686391948, 0.4787884148243831, 0.25045267426955853, 0.1338037823326544, -0.1695752481369599, -0.5104823568270078, -0.19713935686391948, 0.04759391723561211, 0.624566125341686, -0.023797537619657028, -0.47138956875313515, -0.5104823568270078, 0.10467496375225553, 0.10467496375225553, -0.3647046463097047, 0.07735217336529858, -0.40792462017580994, -0.5537023306931131, -0.34267574904121983, -0.34267574904121983, -0.06842553715200445, 0.1490250033488315, -0.40792462017580994, 0.07735217336529858, -0.34267574904121983, 0.5060513714130221, -0.48321940023836885, 0.10467496375225553, 0.16106673892129342, 0.10467496375225553, 0.507917233404782, -0.06842553715200445, -0.2983257094446439, 0.507917233404782, -0.023797537619657028, 0.1338037823326544, 0.4787884148243831, -0.1695752481369599, -0.47138956875313515, -0.3203546067131288, 0.07735217336529858, -0.19689803852391696, -0.06842553715200445, 0.10467496375225553, 0.1338037823326544, -0.023797537619657028, -0.5104823568270078, 0.10467496375225553, -0.5104823568270078, 0.25045267426955853, -0.3647046463097047, -0.024075497555428496, 0.07735217336529858, -0.15278931726734352, -0.5104823568270078, -0.3647046463097047, -0.49731055552407527, -0.024075497555428496, 0.4787884148243831, -0.47138956875313515, -0.06842553715200445, -0.3647046463097047, -0.48321940023836885, -0.48321940023836885, 0.25045267426955853, -0.5104823568270078, -0.3647046463097047, -0.16801053828352064, -0.34267574904121983, 0.07735217336529858, 0.507917233404782, 0.07735217336529858, 0.35031591345247054, 0.5231384544209591, -0.04116258056336544, -0.3999981138978658, -0.023797537619657028, -0.5537023306931131, 0.10467496375225553, -0.47138956875313515, -0.3647046463097047, -0.16801053828352064, -0.023797537619657028, -0.007011606750040637, -0.40792462017580994, -0.5537023306931131, -0.40792462017580994, ... ])\n"
     ]
    },
    {
     "name": "stdout",
     "output_type": "stream",
     "text": [
      "('intermediate weighted prediction : ', dtype: float\n",
      "Rows: 9284\n",
      "[-0.011303573315333344, -0.011303573315333344, -0.011303573315333344, -0.011303573315333344, -0.011303573315333344, -0.011303573315333344, -0.011303573315333344, 0.011303573315333344, -0.011303573315333344, -0.011303573315333344, -0.011303573315333344, -0.011303573315333344, -0.011303573315333344, -0.011303573315333344, -0.011303573315333344, -0.011303573315333344, -0.011303573315333344, -0.011303573315333344, -0.011303573315333344, -0.011303573315333344, -0.011303573315333344, -0.011303573315333344, -0.011303573315333344, -0.011303573315333344, -0.011303573315333344, -0.011303573315333344, -0.011303573315333344, -0.011303573315333344, 0.011303573315333344, -0.011303573315333344, -0.011303573315333344, 0.011303573315333344, 0.011303573315333344, 0.011303573315333344, -0.011303573315333344, -0.011303573315333344, 0.011303573315333344, 0.011303573315333344, -0.011303573315333344, -0.011303573315333344, -0.011303573315333344, -0.011303573315333344, -0.011303573315333344, -0.011303573315333344, 0.011303573315333344, 0.011303573315333344, -0.011303573315333344, -0.011303573315333344, -0.011303573315333344, -0.011303573315333344, -0.011303573315333344, -0.011303573315333344, -0.011303573315333344, 0.011303573315333344, 0.011303573315333344, 0.011303573315333344, -0.011303573315333344, -0.011303573315333344, -0.011303573315333344, -0.011303573315333344, -0.011303573315333344, -0.011303573315333344, -0.011303573315333344, -0.011303573315333344, 0.011303573315333344, 0.011303573315333344, -0.011303573315333344, -0.011303573315333344, -0.011303573315333344, -0.011303573315333344, 0.011303573315333344, -0.011303573315333344, -0.011303573315333344, 0.011303573315333344, -0.011303573315333344, -0.011303573315333344, -0.011303573315333344, -0.011303573315333344, -0.011303573315333344, -0.011303573315333344, -0.011303573315333344, 0.011303573315333344, 0.011303573315333344, -0.011303573315333344, 0.011303573315333344, -0.011303573315333344, -0.011303573315333344, 0.011303573315333344, -0.011303573315333344, -0.011303573315333344, -0.011303573315333344, -0.011303573315333344, -0.011303573315333344, -0.011303573315333344, -0.011303573315333344, -0.011303573315333344, -0.011303573315333344, -0.011303573315333344, -0.011303573315333344, -0.011303573315333344, ... ])\n",
      "('scores before: ', dtype: float\n",
      "Rows: 9284\n",
      "[-0.430765606508902, 0.6360612690055203, -0.4978571474327028, -0.45989442508930084, 0.14529892599648872, -0.5422071870292788, -0.15808010447312557, 0.08884731702913291, -0.18564421320008515, -0.18564421320008515, -0.47172425657453454, 0.4902835584882174, 0.11617010741608987, -0.18564421320008515, 0.4902835584882174, 0.26194781793339283, 0.14529892599648872, -0.15808010447312557, -0.4989872131631735, -0.18564421320008515, 0.03609877357177778, 0.6360612690055203, -0.012302393955822695, -0.45989442508930084, -0.4989872131631735, 0.11617010741608987, 0.11617010741608987, -0.3532095026458704, 0.08884731702913291, -0.39642947651197563, -0.5422071870292788, -0.33118060537738553, -0.33118060537738553, -0.05693039348817011, 0.16052014701266584, -0.39642947651197563, 0.08884731702913291, -0.33118060537738553, 0.5175465150768565, -0.47172425657453454, 0.11617010741608987, 0.17256188258512775, 0.11617010741608987, 0.5194123770686163, -0.05693039348817011, -0.2868305657808096, 0.5194123770686163, -0.012302393955822695, 0.14529892599648872, 0.4902835584882174, -0.15808010447312557, -0.45989442508930084, -0.3088594630492945, 0.08884731702913291, -0.18540289486008263, -0.05693039348817011, 0.11617010741608987, 0.14529892599648872, -0.012302393955822695, -0.4989872131631735, 0.11617010741608987, -0.4989872131631735, 0.26194781793339283, -0.3532095026458704, -0.012580353891594164, 0.08884731702913291, -0.14129417360350918, -0.4989872131631735, -0.3532095026458704, -0.48581541186024096, -0.012580353891594164, 0.4902835584882174, -0.45989442508930084, -0.05693039348817011, -0.3532095026458704, -0.47172425657453454, -0.47172425657453454, 0.26194781793339283, -0.4989872131631735, -0.3532095026458704, -0.1565153946196863, -0.33118060537738553, 0.08884731702913291, 0.5194123770686163, 0.08884731702913291, 0.36181105711630485, 0.5346335980847934, -0.029667436899531108, -0.41149325756170013, -0.012302393955822695, -0.5422071870292788, 0.11617010741608987, -0.45989442508930084, -0.3532095026458704, -0.1565153946196863, -0.012302393955822695, 0.004483536913793695, -0.39642947651197563, -0.5422071870292788, -0.39642947651197563, ... ])\n",
      "Accuracy of 10-component ensemble = 0.623222748815\n"
     ]
    }
   ],
   "source": [
    "predictions = predict_adaboost(stump_weights, tree_stumps, test_data)\n",
    "accuracy = graphlab.evaluation.accuracy(test_data[target], predictions)\n",
    "print 'Accuracy of 10-component ensemble = %s' % accuracy "
   ]
  },
  {
   "cell_type": "markdown",
   "metadata": {},
   "source": [
    "Now, let us take a quick look what the `stump_weights` look like at the end of each iteration of the 10-stump ensemble:"
   ]
  },
  {
   "cell_type": "code",
   "execution_count": 32,
   "metadata": {},
   "outputs": [
    {
     "data": {
      "text/plain": [
       "[0.15802933659263743,\n",
       " 0.17682363293636694,\n",
       " 0.0931188897118425,\n",
       " 0.07288885525865149,\n",
       " 0.06706306914162356,\n",
       " 0.06456916961624358,\n",
       " 0.05456055779184307,\n",
       " 0.043510936733700704,\n",
       " 0.02898871150035158,\n",
       " 0.025962509691371802]"
      ]
     },
     "execution_count": 32,
     "metadata": {},
     "output_type": "execute_result"
    }
   ],
   "source": [
    "stump_weights"
   ]
  },
  {
   "cell_type": "markdown",
   "metadata": {},
   "source": [
    "**Quiz Question:** Are the weights monotonically decreasing, monotonically increasing, or neither?\n",
    "\n",
    "**Reminder**: Stump weights ($\\mathbf{\\hat{w}}$) tell you how important each stump is while making predictions with the entire boosted ensemble."
   ]
  },
  {
   "cell_type": "markdown",
   "metadata": {},
   "source": [
    "# Performance plots\n",
    "\n",
    "In this section, we will try to reproduce some of the performance plots dicussed in the lecture.\n",
    "\n",
    "### How does accuracy change with adding stumps to the ensemble?\n",
    "\n",
    "We will now train an ensemble with:\n",
    "* `train_data`\n",
    "* `features`\n",
    "* `target`\n",
    "* `num_tree_stumps = 30`\n",
    "\n",
    "Once we are done with this, we will then do the following:\n",
    "* Compute the classification error at the end of each iteration.\n",
    "* Plot a curve of classification error vs iteration.\n",
    "\n",
    "First, lets train the model."
   ]
  },
  {
   "cell_type": "code",
   "execution_count": 38,
   "metadata": {
    "scrolled": true
   },
   "outputs": [
    {
     "name": "stdout",
     "output_type": "stream",
     "text": [
      "=====================================================\n",
      "Adaboost Iteration 0\n",
      "=====================================================\n",
      "--------------------------------------------------------------------\n",
      "Subtree, depth = 1 (37224 data points).\n",
      "Split on feature term. 36 months. (9223, 28001)\n",
      "--------------------------------------------------------------------\n",
      "Subtree, depth = 2 (9223 data points).\n",
      "Reached maximum depth. Stopping for now.\n",
      "--------------------------------------------------------------------\n",
      "Subtree, depth = 2 (28001 data points).\n",
      "Reached maximum depth. Stopping for now.\n",
      "=====================================================\n",
      "Adaboost Iteration 1\n",
      "=====================================================\n",
      "--------------------------------------------------------------------\n",
      "Subtree, depth = 1 (37224 data points).\n",
      "Split on feature grade.A. (32094, 5130)\n",
      "--------------------------------------------------------------------\n",
      "Subtree, depth = 2 (32094 data points).\n",
      "Reached maximum depth. Stopping for now.\n",
      "--------------------------------------------------------------------\n",
      "Subtree, depth = 2 (5130 data points).\n",
      "Reached maximum depth. Stopping for now.\n",
      "=====================================================\n",
      "Adaboost Iteration 2\n",
      "=====================================================\n",
      "--------------------------------------------------------------------\n",
      "Subtree, depth = 1 (37224 data points).\n",
      "Split on feature grade.D. (30465, 6759)\n",
      "--------------------------------------------------------------------\n",
      "Subtree, depth = 2 (30465 data points).\n",
      "Reached maximum depth. Stopping for now.\n",
      "--------------------------------------------------------------------\n",
      "Subtree, depth = 2 (6759 data points).\n",
      "Reached maximum depth. Stopping for now.\n",
      "=====================================================\n",
      "Adaboost Iteration 3\n",
      "=====================================================\n",
      "--------------------------------------------------------------------\n",
      "Subtree, depth = 1 (37224 data points).\n",
      "Split on feature home_ownership.MORTGAGE. (19846, 17378)\n",
      "--------------------------------------------------------------------\n",
      "Subtree, depth = 2 (19846 data points).\n",
      "Reached maximum depth. Stopping for now.\n",
      "--------------------------------------------------------------------\n",
      "Subtree, depth = 2 (17378 data points).\n",
      "Reached maximum depth. Stopping for now.\n",
      "=====================================================\n",
      "Adaboost Iteration 4\n",
      "=====================================================\n",
      "--------------------------------------------------------------------\n",
      "Subtree, depth = 1 (37224 data points).\n",
      "Split on feature grade.B. (26858, 10366)\n",
      "--------------------------------------------------------------------\n",
      "Subtree, depth = 2 (26858 data points).\n",
      "Reached maximum depth. Stopping for now.\n",
      "--------------------------------------------------------------------\n",
      "Subtree, depth = 2 (10366 data points).\n",
      "Reached maximum depth. Stopping for now.\n",
      "=====================================================\n",
      "Adaboost Iteration 5\n",
      "=====================================================\n",
      "--------------------------------------------------------------------\n",
      "Subtree, depth = 1 (37224 data points).\n",
      "Split on feature grade.E. (33815, 3409)\n",
      "--------------------------------------------------------------------\n",
      "Subtree, depth = 2 (33815 data points).\n",
      "Reached maximum depth. Stopping for now.\n",
      "--------------------------------------------------------------------\n",
      "Subtree, depth = 2 (3409 data points).\n",
      "Reached maximum depth. Stopping for now.\n",
      "=====================================================\n",
      "Adaboost Iteration 6\n",
      "=====================================================\n",
      "--------------------------------------------------------------------\n",
      "Subtree, depth = 1 (37224 data points).\n",
      "Split on feature grade.A. (32094, 5130)\n",
      "--------------------------------------------------------------------\n",
      "Subtree, depth = 2 (32094 data points).\n",
      "Reached maximum depth. Stopping for now.\n",
      "--------------------------------------------------------------------\n",
      "Subtree, depth = 2 (5130 data points).\n",
      "Reached maximum depth. Stopping for now.\n",
      "=====================================================\n",
      "Adaboost Iteration 7\n",
      "=====================================================\n",
      "--------------------------------------------------------------------\n",
      "Subtree, depth = 1 (37224 data points).\n",
      "Split on feature grade.F. (35512, 1712)\n",
      "--------------------------------------------------------------------\n",
      "Subtree, depth = 2 (35512 data points).\n",
      "Reached maximum depth. Stopping for now.\n",
      "--------------------------------------------------------------------\n",
      "Subtree, depth = 2 (1712 data points).\n",
      "Reached maximum depth. Stopping for now.\n",
      "=====================================================\n",
      "Adaboost Iteration 8\n",
      "=====================================================\n",
      "--------------------------------------------------------------------\n",
      "Subtree, depth = 1 (37224 data points).\n",
      "Split on feature grade.A. (32094, 5130)\n",
      "--------------------------------------------------------------------\n",
      "Subtree, depth = 2 (32094 data points).\n",
      "Reached maximum depth. Stopping for now.\n",
      "--------------------------------------------------------------------\n",
      "Subtree, depth = 2 (5130 data points).\n",
      "Reached maximum depth. Stopping for now.\n",
      "=====================================================\n",
      "Adaboost Iteration 9\n",
      "=====================================================\n",
      "--------------------------------------------------------------------\n",
      "Subtree, depth = 1 (37224 data points).\n",
      "Split on feature emp_length.n/a. (35781, 1443)\n",
      "--------------------------------------------------------------------\n",
      "Subtree, depth = 2 (35781 data points).\n",
      "Reached maximum depth. Stopping for now.\n",
      "--------------------------------------------------------------------\n",
      "Subtree, depth = 2 (1443 data points).\n",
      "Reached maximum depth. Stopping for now.\n",
      "=====================================================\n",
      "Adaboost Iteration 10\n",
      "=====================================================\n",
      "--------------------------------------------------------------------\n",
      "Subtree, depth = 1 (37224 data points).\n",
      "Split on feature grade.D. (30465, 6759)\n",
      "--------------------------------------------------------------------\n",
      "Subtree, depth = 2 (30465 data points).\n",
      "Reached maximum depth. Stopping for now.\n",
      "--------------------------------------------------------------------\n",
      "Subtree, depth = 2 (6759 data points).\n",
      "Reached maximum depth. Stopping for now.\n",
      "=====================================================\n",
      "Adaboost Iteration 11\n",
      "=====================================================\n",
      "--------------------------------------------------------------------\n",
      "Subtree, depth = 1 (37224 data points).\n",
      "Split on feature grade.B. (26858, 10366)\n",
      "--------------------------------------------------------------------\n",
      "Subtree, depth = 2 (26858 data points).\n",
      "Reached maximum depth. Stopping for now.\n",
      "--------------------------------------------------------------------\n",
      "Subtree, depth = 2 (10366 data points).\n",
      "Reached maximum depth. Stopping for now.\n",
      "=====================================================\n",
      "Adaboost Iteration 12\n",
      "=====================================================\n",
      "--------------------------------------------------------------------\n",
      "Subtree, depth = 1 (37224 data points).\n",
      "Split on feature emp_length.n/a. (35781, 1443)\n",
      "--------------------------------------------------------------------\n",
      "Subtree, depth = 2 (35781 data points).\n",
      "Reached maximum depth. Stopping for now.\n",
      "--------------------------------------------------------------------\n",
      "Subtree, depth = 2 (1443 data points).\n",
      "Reached maximum depth. Stopping for now.\n",
      "=====================================================\n",
      "Adaboost Iteration 13\n",
      "=====================================================\n",
      "--------------------------------------------------------------------\n",
      "Subtree, depth = 1 (37224 data points).\n",
      "Split on feature emp_length.4 years. (34593, 2631)\n",
      "--------------------------------------------------------------------\n",
      "Subtree, depth = 2 (34593 data points).\n",
      "Reached maximum depth. Stopping for now.\n",
      "--------------------------------------------------------------------\n",
      "Subtree, depth = 2 (2631 data points).\n",
      "Reached maximum depth. Stopping for now.\n",
      "=====================================================\n",
      "Adaboost Iteration 14\n",
      "=====================================================\n",
      "--------------------------------------------------------------------\n",
      "Subtree, depth = 1 (37224 data points).\n"
     ]
    },
    {
     "name": "stdout",
     "output_type": "stream",
     "text": [
      "Split on feature emp_length.n/a. (35781, 1443)\n",
      "--------------------------------------------------------------------\n",
      "Subtree, depth = 2 (35781 data points).\n",
      "Reached maximum depth. Stopping for now.\n",
      "--------------------------------------------------------------------\n",
      "Subtree, depth = 2 (1443 data points).\n",
      "Reached maximum depth. Stopping for now.\n",
      "=====================================================\n",
      "Adaboost Iteration 15\n",
      "=====================================================\n",
      "--------------------------------------------------------------------\n",
      "Subtree, depth = 1 (37224 data points).\n",
      "Split on feature grade.C. (27812, 9412)\n",
      "--------------------------------------------------------------------\n",
      "Subtree, depth = 2 (27812 data points).\n",
      "Reached maximum depth. Stopping for now.\n",
      "--------------------------------------------------------------------\n",
      "Subtree, depth = 2 (9412 data points).\n",
      "Reached maximum depth. Stopping for now.\n",
      "=====================================================\n",
      "Adaboost Iteration 16\n",
      "=====================================================\n",
      "--------------------------------------------------------------------\n",
      "Subtree, depth = 1 (37224 data points).\n",
      "Split on feature grade.A. (32094, 5130)\n",
      "--------------------------------------------------------------------\n",
      "Subtree, depth = 2 (32094 data points).\n",
      "Reached maximum depth. Stopping for now.\n",
      "--------------------------------------------------------------------\n",
      "Subtree, depth = 2 (5130 data points).\n",
      "Reached maximum depth. Stopping for now.\n",
      "=====================================================\n",
      "Adaboost Iteration 17\n",
      "=====================================================\n",
      "--------------------------------------------------------------------\n",
      "Subtree, depth = 1 (37224 data points).\n",
      "Split on feature grade.F. (35512, 1712)\n",
      "--------------------------------------------------------------------\n",
      "Subtree, depth = 2 (35512 data points).\n",
      "Reached maximum depth. Stopping for now.\n",
      "--------------------------------------------------------------------\n",
      "Subtree, depth = 2 (1712 data points).\n",
      "Reached maximum depth. Stopping for now.\n",
      "=====================================================\n",
      "Adaboost Iteration 18\n",
      "=====================================================\n",
      "--------------------------------------------------------------------\n",
      "Subtree, depth = 1 (37224 data points).\n",
      "Split on feature term. 36 months. (9223, 28001)\n",
      "--------------------------------------------------------------------\n",
      "Subtree, depth = 2 (9223 data points).\n",
      "Reached maximum depth. Stopping for now.\n",
      "--------------------------------------------------------------------\n",
      "Subtree, depth = 2 (28001 data points).\n",
      "Reached maximum depth. Stopping for now.\n",
      "=====================================================\n",
      "Adaboost Iteration 19\n",
      "=====================================================\n",
      "--------------------------------------------------------------------\n",
      "Subtree, depth = 1 (37224 data points).\n",
      "Split on feature grade.B. (26858, 10366)\n",
      "--------------------------------------------------------------------\n",
      "Subtree, depth = 2 (26858 data points).\n",
      "Reached maximum depth. Stopping for now.\n",
      "--------------------------------------------------------------------\n",
      "Subtree, depth = 2 (10366 data points).\n",
      "Reached maximum depth. Stopping for now.\n",
      "=====================================================\n",
      "Adaboost Iteration 20\n",
      "=====================================================\n",
      "--------------------------------------------------------------------\n",
      "Subtree, depth = 1 (37224 data points).\n",
      "Split on feature emp_length.n/a. (35781, 1443)\n",
      "--------------------------------------------------------------------\n",
      "Subtree, depth = 2 (35781 data points).\n",
      "Reached maximum depth. Stopping for now.\n",
      "--------------------------------------------------------------------\n",
      "Subtree, depth = 2 (1443 data points).\n",
      "Reached maximum depth. Stopping for now.\n",
      "=====================================================\n",
      "Adaboost Iteration 21\n",
      "=====================================================\n",
      "--------------------------------------------------------------------\n",
      "Subtree, depth = 1 (37224 data points).\n",
      "Split on feature grade.D. (30465, 6759)\n",
      "--------------------------------------------------------------------\n",
      "Subtree, depth = 2 (30465 data points).\n",
      "Reached maximum depth. Stopping for now.\n",
      "--------------------------------------------------------------------\n",
      "Subtree, depth = 2 (6759 data points).\n",
      "Reached maximum depth. Stopping for now.\n",
      "=====================================================\n",
      "Adaboost Iteration 22\n",
      "=====================================================\n",
      "--------------------------------------------------------------------\n",
      "Subtree, depth = 1 (37224 data points).\n",
      "Split on feature grade.F. (35512, 1712)\n",
      "--------------------------------------------------------------------\n",
      "Subtree, depth = 2 (35512 data points).\n",
      "Reached maximum depth. Stopping for now.\n",
      "--------------------------------------------------------------------\n",
      "Subtree, depth = 2 (1712 data points).\n",
      "Reached maximum depth. Stopping for now.\n",
      "=====================================================\n",
      "Adaboost Iteration 23\n",
      "=====================================================\n",
      "--------------------------------------------------------------------\n",
      "Subtree, depth = 1 (37224 data points).\n",
      "Split on feature grade.A. (32094, 5130)\n",
      "--------------------------------------------------------------------\n",
      "Subtree, depth = 2 (32094 data points).\n",
      "Reached maximum depth. Stopping for now.\n",
      "--------------------------------------------------------------------\n",
      "Subtree, depth = 2 (5130 data points).\n",
      "Reached maximum depth. Stopping for now.\n",
      "=====================================================\n",
      "Adaboost Iteration 24\n",
      "=====================================================\n",
      "--------------------------------------------------------------------\n",
      "Subtree, depth = 1 (37224 data points).\n",
      "Split on feature emp_length.n/a. (35781, 1443)\n",
      "--------------------------------------------------------------------\n",
      "Subtree, depth = 2 (35781 data points).\n",
      "Reached maximum depth. Stopping for now.\n",
      "--------------------------------------------------------------------\n",
      "Subtree, depth = 2 (1443 data points).\n",
      "Reached maximum depth. Stopping for now.\n",
      "=====================================================\n",
      "Adaboost Iteration 25\n",
      "=====================================================\n",
      "--------------------------------------------------------------------\n",
      "Subtree, depth = 1 (37224 data points).\n",
      "Split on feature emp_length.2 years. (33652, 3572)\n",
      "--------------------------------------------------------------------\n",
      "Subtree, depth = 2 (33652 data points).\n",
      "Reached maximum depth. Stopping for now.\n",
      "--------------------------------------------------------------------\n",
      "Subtree, depth = 2 (3572 data points).\n",
      "Reached maximum depth. Stopping for now.\n",
      "=====================================================\n",
      "Adaboost Iteration 26\n",
      "=====================================================\n",
      "--------------------------------------------------------------------\n",
      "Subtree, depth = 1 (37224 data points).\n",
      "Split on feature grade.F. (35512, 1712)\n",
      "--------------------------------------------------------------------\n",
      "Subtree, depth = 2 (35512 data points).\n",
      "Reached maximum depth. Stopping for now.\n",
      "--------------------------------------------------------------------\n",
      "Subtree, depth = 2 (1712 data points).\n",
      "Reached maximum depth. Stopping for now.\n",
      "=====================================================\n",
      "Adaboost Iteration 27\n",
      "=====================================================\n",
      "--------------------------------------------------------------------\n",
      "Subtree, depth = 1 (37224 data points).\n",
      "Split on feature home_ownership.OWN. (34149, 3075)\n",
      "--------------------------------------------------------------------\n",
      "Subtree, depth = 2 (34149 data points).\n",
      "Reached maximum depth. Stopping for now.\n",
      "--------------------------------------------------------------------\n",
      "Subtree, depth = 2 (3075 data points).\n",
      "Reached maximum depth. Stopping for now.\n",
      "=====================================================\n",
      "Adaboost Iteration 28\n",
      "=====================================================\n",
      "--------------------------------------------------------------------\n",
      "Subtree, depth = 1 (37224 data points).\n",
      "Split on feature emp_length.n/a. (35781, 1443)\n",
      "--------------------------------------------------------------------\n",
      "Subtree, depth = 2 (35781 data points).\n",
      "Reached maximum depth. Stopping for now.\n"
     ]
    },
    {
     "name": "stdout",
     "output_type": "stream",
     "text": [
      "--------------------------------------------------------------------\n",
      "Subtree, depth = 2 (1443 data points).\n",
      "Reached maximum depth. Stopping for now.\n",
      "=====================================================\n",
      "Adaboost Iteration 29\n",
      "=====================================================\n",
      "--------------------------------------------------------------------\n",
      "Subtree, depth = 1 (37224 data points).\n",
      "Split on feature grade.C. (27812, 9412)\n",
      "--------------------------------------------------------------------\n",
      "Subtree, depth = 2 (27812 data points).\n",
      "Reached maximum depth. Stopping for now.\n",
      "--------------------------------------------------------------------\n",
      "Subtree, depth = 2 (9412 data points).\n",
      "Reached maximum depth. Stopping for now.\n"
     ]
    }
   ],
   "source": [
    "# this may take a while... \n",
    "stump_weights, tree_stumps = adaboost_with_tree_stumps(train_data, \n",
    "                                 features, target, num_tree_stumps=30)"
   ]
  },
  {
   "cell_type": "markdown",
   "metadata": {},
   "source": [
    "### Computing training error at the end of each iteration\n",
    "\n",
    "Now, we will compute the classification error on the **train_data** and see how it is reduced as trees are added."
   ]
  },
  {
   "cell_type": "code",
   "execution_count": 42,
   "metadata": {},
   "outputs": [
    {
     "name": "stdout",
     "output_type": "stream",
     "text": [
      "('scores shape: ', (37224,))\n",
      "Iteration 1, training error = 0.421636578551\n",
      "('scores shape: ', (37224,))\n",
      "Iteration 2, training error = 0.433430045132\n",
      "('scores shape: ', (37224,))\n",
      "Iteration 3, training error = 0.400037610144\n",
      "('scores shape: ', (37224,))\n",
      "Iteration 4, training error = 0.400037610144\n",
      "('scores shape: ', (37224,))\n",
      "Iteration 5, training error = 0.384724908661\n",
      "('scores shape: ', (37224,))\n",
      "Iteration 6, training error = 0.384617451107\n",
      "('scores shape: ', (37224,))\n",
      "Iteration 7, training error = 0.382763808296\n",
      "('scores shape: ', (37224,))\n",
      "Iteration 8, training error = 0.384617451107\n",
      "('scores shape: ', (37224,))\n",
      "Iteration 9, training error = 0.382763808296\n",
      "('scores shape: ', (37224,))\n",
      "Iteration 10, training error = 0.384483129164\n",
      "('scores shape: ', (37224,))\n",
      "Iteration 11, training error = 0.382736943907\n",
      "('scores shape: ', (37224,))\n",
      "Iteration 12, training error = 0.381447453256\n",
      "('scores shape: ', (37224,))\n",
      "Iteration 13, training error = 0.381528046422\n",
      "('scores shape: ', (37224,))\n",
      "Iteration 14, training error = 0.380560928433\n",
      "('scores shape: ', (37224,))\n",
      "Iteration 15, training error = 0.380507199656\n",
      "('scores shape: ', (37224,))\n",
      "Iteration 16, training error = 0.378223726628\n",
      "('scores shape: ', (37224,))\n",
      "Iteration 17, training error = 0.378277455405\n",
      "('scores shape: ', (37224,))\n",
      "Iteration 18, training error = 0.378411777348\n",
      "('scores shape: ', (37224,))\n",
      "Iteration 19, training error = 0.378062540297\n",
      "('scores shape: ', (37224,))\n",
      "Iteration 20, training error = 0.378761014399\n",
      "('scores shape: ', (37224,))\n",
      "Iteration 21, training error = 0.379566946056\n",
      "('scores shape: ', (37224,))\n",
      "Iteration 22, training error = 0.378895336342\n",
      "('scores shape: ', (37224,))\n",
      "Iteration 23, training error = 0.378895336342\n",
      "('scores shape: ', (37224,))\n",
      "Iteration 24, training error = 0.378761014399\n",
      "('scores shape: ', (37224,))\n",
      "Iteration 25, training error = 0.378895336342\n",
      "('scores shape: ', (37224,))\n",
      "Iteration 26, training error = 0.378975929508\n",
      "('scores shape: ', (37224,))\n",
      "Iteration 27, training error = 0.379110251451\n",
      "('scores shape: ', (37224,))\n",
      "Iteration 28, training error = 0.378922200731\n",
      "('scores shape: ', (37224,))\n",
      "Iteration 29, training error = 0.379029658285\n",
      "('scores shape: ', (37224,))\n",
      "Iteration 30, training error = 0.378734150011\n"
     ]
    }
   ],
   "source": [
    "error_all = []\n",
    "for n in xrange(1, 31):\n",
    "    predictions = predict_adaboost(stump_weights[:n], tree_stumps[:n], train_data)\n",
    "    error = 1.0 - graphlab.evaluation.accuracy(train_data[target], predictions)\n",
    "    error_all.append(error)\n",
    "    print \"Iteration %s, training error = %s\" % (n, error_all[n-1])"
   ]
  },
  {
   "cell_type": "markdown",
   "metadata": {},
   "source": [
    "### Visualizing training error vs number of iterations\n",
    "\n",
    "We have provided you with a simple code snippet that plots classification error with the number of iterations. "
   ]
  },
  {
   "cell_type": "code",
   "execution_count": 43,
   "metadata": {},
   "outputs": [
    {
     "data": {
      "image/png": "[encoded data removed]",
      "text/plain": [
       "<matplotlib.figure.Figure at 0x7f00507ac150>"
      ]
     },
     "metadata": {},
     "output_type": "display_data"
    }
   ],
   "source": [
    "plt.rcParams['figure.figsize'] = 7, 5\n",
    "plt.plot(range(1,31), error_all, '-', linewidth=4.0, label='Training error')\n",
    "plt.title('Performance of Adaboost ensemble')\n",
    "plt.xlabel('# of iterations')\n",
    "plt.ylabel('Classification error')\n",
    "plt.legend(loc='best', prop={'size':15})\n",
    "\n",
    "plt.rcParams.update({'font.size': 16})"
   ]
  },
  {
   "cell_type": "markdown",
   "metadata": {},
   "source": [
    "**Quiz Question**: Which of the following best describes a **general trend in accuracy** as we add more and more components? Answer based on the 30 components learned so far.\n",
    "\n",
    "1. Training error goes down monotonically, i.e. the training error reduces with each iteration but never increases.\n",
    "2. Training error goes down in general, with some ups and downs in the middle.\n",
    "3. Training error goes up in general, with some ups and downs in the middle.\n",
    "4. Training error goes down in the beginning, achieves the best error, and then goes up sharply.\n",
    "5. None of the above\n",
    "\n",
    "\n",
    "### Evaluation on the test data\n",
    "\n",
    "Performing well on the training data is cheating, so lets make sure it works on the `test_data` as well. Here, we will compute the classification error on the `test_data` at the end of each iteration."
   ]
  },
  {
   "cell_type": "code",
   "execution_count": 44,
   "metadata": {},
   "outputs": [
    {
     "name": "stdout",
     "output_type": "stream",
     "text": [
      "('scores shape: ', (9284,))\n",
      "Iteration 1, test error = 0.42330891857\n",
      "('scores shape: ', (9284,))\n",
      "Iteration 2, test error = 0.428479103835\n",
      "('scores shape: ', (9284,))\n",
      "Iteration 3, test error = 0.398104265403\n",
      "('scores shape: ', (9284,))\n",
      "Iteration 4, test error = 0.398104265403\n",
      "('scores shape: ', (9284,))\n",
      "Iteration 5, test error = 0.379900904782\n",
      "('scores shape: ', (9284,))\n",
      "Iteration 6, test error = 0.380008616975\n",
      "('scores shape: ', (9284,))\n",
      "Iteration 7, test error = 0.379254631624\n",
      "('scores shape: ', (9284,))\n",
      "Iteration 8, test error = 0.380008616975\n",
      "('scores shape: ', (9284,))\n",
      "Iteration 9, test error = 0.379254631624\n",
      "('scores shape: ', (9284,))\n",
      "Iteration 10, test error = 0.379685480396\n",
      "('scores shape: ', (9284,))\n",
      "Iteration 11, test error = 0.379254631624\n",
      "('scores shape: ', (9284,))\n",
      "Iteration 12, test error = 0.377962085308\n",
      "('scores shape: ', (9284,))\n",
      "Iteration 13, test error = 0.379254631624\n",
      "('scores shape: ', (9284,))\n",
      "Iteration 14, test error = 0.377854373115\n",
      "('scores shape: ', (9284,))\n",
      "Iteration 15, test error = 0.378500646273\n",
      "('scores shape: ', (9284,))\n",
      "Iteration 16, test error = 0.377854373115\n",
      "('scores shape: ', (9284,))\n",
      "Iteration 17, test error = 0.377962085308\n",
      "('scores shape: ', (9284,))\n",
      "Iteration 18, test error = 0.377854373115\n",
      "('scores shape: ', (9284,))\n",
      "Iteration 19, test error = 0.378177509694\n",
      "('scores shape: ', (9284,))\n",
      "Iteration 20, test error = 0.376884963378\n",
      "('scores shape: ', (9284,))\n",
      "Iteration 21, test error = 0.377531236536\n",
      "('scores shape: ', (9284,))\n",
      "Iteration 22, test error = 0.376777251185\n",
      "('scores shape: ', (9284,))\n",
      "Iteration 23, test error = 0.376777251185\n",
      "('scores shape: ', (9284,))\n",
      "Iteration 24, test error = 0.376884963378\n",
      "('scores shape: ', (9284,))\n",
      "Iteration 25, test error = 0.376777251185\n",
      "('scores shape: ', (9284,))\n",
      "Iteration 26, test error = 0.376561826799\n",
      "('scores shape: ', (9284,))\n",
      "Iteration 27, test error = 0.376454114606\n",
      "('scores shape: ', (9284,))\n",
      "Iteration 28, test error = 0.376992675571\n",
      "('scores shape: ', (9284,))\n",
      "Iteration 29, test error = 0.376777251185\n",
      "('scores shape: ', (9284,))\n",
      "Iteration 30, test error = 0.376777251185\n"
     ]
    }
   ],
   "source": [
    "test_error_all = []\n",
    "for n in xrange(1, 31):\n",
    "    predictions = predict_adaboost(stump_weights[:n], tree_stumps[:n], test_data)\n",
    "    error = 1.0 - graphlab.evaluation.accuracy(test_data[target], predictions)\n",
    "    test_error_all.append(error)\n",
    "    print \"Iteration %s, test error = %s\" % (n, test_error_all[n-1])"
   ]
  },
  {
   "cell_type": "markdown",
   "metadata": {},
   "source": [
    "### Visualize both the training and test errors\n",
    "\n",
    "Now, let us plot the training & test error with the number of iterations."
   ]
  },
  {
   "cell_type": "code",
   "execution_count": 45,
   "metadata": {},
   "outputs": [
    {
     "data": {
      "image/png": "[encoded data removed]",
      "text/plain": [
       "<matplotlib.figure.Figure at 0x7f005067a510>"
      ]
     },
     "metadata": {},
     "output_type": "display_data"
    }
   ],
   "source": [
    "plt.rcParams['figure.figsize'] = 7, 5\n",
    "plt.plot(range(1,31), error_all, '-', linewidth=4.0, label='Training error')\n",
    "plt.plot(range(1,31), test_error_all, '-', linewidth=4.0, label='Test error')\n",
    "\n",
    "plt.title('Performance of Adaboost ensemble')\n",
    "plt.xlabel('# of iterations')\n",
    "plt.ylabel('Classification error')\n",
    "plt.rcParams.update({'font.size': 16})\n",
    "plt.legend(loc='best', prop={'size':15})\n",
    "plt.tight_layout()"
   ]
  },
  {
   "cell_type": "markdown",
   "metadata": {},
   "source": [
    "** Quiz Question:** From this plot (with 30 trees), is there massive overfitting as the # of iterations increases?"
   ]
  },
  {
   "cell_type": "code",
   "execution_count": null,
   "metadata": {},
   "outputs": [],
   "source": []
  }
 ],
 "metadata": {
  "kernelspec": {
   "display_name": "Python 2",
   "language": "python",
   "name": "python2"
  },
  "language_info": {
   "codemirror_mode": {
    "name": "ipython",
    "version": 2
   },
   "file_extension": ".py",
   "mimetype": "text/x-python",
   "name": "python",
   "nbconvert_exporter": "python",
   "pygments_lexer": "ipython2",
   "version": "2.7.14"
  }
 },
 "nbformat": 4,
 "nbformat_minor": 1
}
