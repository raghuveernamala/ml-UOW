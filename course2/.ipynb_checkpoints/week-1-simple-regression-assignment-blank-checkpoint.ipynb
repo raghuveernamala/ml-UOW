{
 "cells": [
  {
   "cell_type": "markdown",
   "metadata": {},
   "source": [
    "# Regression Week 1: Simple Linear Regression"
   ]
  },
  {
   "cell_type": "markdown",
   "metadata": {},
   "source": [
    "In this notebook we will use data on house sales in King County to predict house prices using simple (one input) linear regression. You will:\n",
    "* Use graphlab SArray and SFrame functions to compute important summary statistics\n",
    "* Write a function to compute the Simple Linear Regression weights using the closed form solution\n",
    "* Write a function to make predictions of the output given the input feature\n",
    "* Turn the regression around to predict the input given the output\n",
    "* Compare two different models for predicting house prices\n",
    "\n",
    "In this notebook you will be provided with some already complete code as well as some code that you should complete yourself in order to answer quiz questions. The code we provide to complte is optional and is there to assist you with solving the problems but feel free to ignore the helper code and write your own."
   ]
  },
  {
   "cell_type": "markdown",
   "metadata": {},
   "source": [
    "# Fire up graphlab create"
   ]
  },
  {
   "cell_type": "code",
   "execution_count": 1,
   "metadata": {},
   "outputs": [],
   "source": [
    "import graphlab"
   ]
  },
  {
   "cell_type": "markdown",
   "metadata": {},
   "source": [
    "# Load house sales data\n",
    "\n",
    "Dataset is from house sales in King County, the region where the city of Seattle, WA is located."
   ]
  },
  {
   "cell_type": "code",
   "execution_count": 2,
   "metadata": {},
   "outputs": [
    {
     "name": "stdout",
     "output_type": "stream",
     "text": [
      "This non-commercial license of GraphLab Create for academic use is assigned to raghuveernamala@gmail.com and will expire on January 08, 2019.\n"
     ]
    },
    {
     "name": "stderr",
     "output_type": "stream",
     "text": [
      "[INFO] graphlab.cython.cy_server: GraphLab Create v2.1 started. Logging: /tmp/graphlab_server_1516932622.log\n"
     ]
    }
   ],
   "source": [
    "sales = graphlab.SFrame('kc_house_data.gl/')"
   ]
  },
  {
   "cell_type": "markdown",
   "metadata": {},
   "source": [
    "# Split data into training and testing"
   ]
  },
  {
   "cell_type": "markdown",
   "metadata": {},
   "source": [
    "We use seed=0 so that everyone running this notebook gets the same results.  In practice, you may set a random seed (or let GraphLab Create pick a random seed for you).  "
   ]
  },
  {
   "cell_type": "code",
   "execution_count": 3,
   "metadata": {},
   "outputs": [],
   "source": [
    "train_data,test_data = sales.random_split(.8,seed=0)"
   ]
  },
  {
   "cell_type": "markdown",
   "metadata": {},
   "source": [
    "# Useful SFrame summary functions"
   ]
  },
  {
   "cell_type": "markdown",
   "metadata": {},
   "source": [
    "In order to make use of the closed form solution as well as take advantage of graphlab's built in functions we will review some important ones. In particular:\n",
    "* Computing the sum of an SArray\n",
    "* Computing the arithmetic average (mean) of an SArray\n",
    "* multiplying SArrays by constants\n",
    "* multiplying SArrays by other SArrays"
   ]
  },
  {
   "cell_type": "code",
   "execution_count": 4,
   "metadata": {},
   "outputs": [
    {
     "name": "stdout",
     "output_type": "stream",
     "text": [
      "average price via method 1: 540088.141905\n",
      "average price via method 2: 540088.141905\n"
     ]
    }
   ],
   "source": [
    "# Let's compute the mean of the House Prices in King County in 2 different ways.\n",
    "prices = sales['price'] # extract the price column of the sales SFrame -- this is now an SArray\n",
    "\n",
    "# recall that the arithmetic average (the mean) is the sum of the prices divided by the total number of houses:\n",
    "sum_prices = prices.sum()\n",
    "num_houses = prices.size() # when prices is an SArray .size() returns its length\n",
    "avg_price_1 = sum_prices/num_houses\n",
    "avg_price_2 = prices.mean() # if you just want the average, the .mean() function\n",
    "print \"average price via method 1: \" + str(avg_price_1)\n",
    "print \"average price via method 2: \" + str(avg_price_2)"
   ]
  },
  {
   "cell_type": "markdown",
   "metadata": {},
   "source": [
    "As we see we get the same answer both ways"
   ]
  },
  {
   "cell_type": "code",
   "execution_count": 5,
   "metadata": {},
   "outputs": [
    {
     "name": "stdout",
     "output_type": "stream",
     "text": [
      "the sum of price squared is: 9.21732513355e+15\n"
     ]
    }
   ],
   "source": [
    "# if we want to multiply every price by 0.5 it's a simple as:\n",
    "half_prices = 0.5*prices\n",
    "# Let's compute the sum of squares of price. We can multiply two SArrays of the same length elementwise also with *\n",
    "prices_squared = prices*prices\n",
    "sum_prices_squared = prices_squared.sum() # price_squared is an SArray of the squares and we want to add them up.\n",
    "print \"the sum of price squared is: \" + str(sum_prices_squared)"
   ]
  },
  {
   "cell_type": "markdown",
   "metadata": {},
   "source": [
    "Aside: The python notation x.xxe+yy means x.xx \\* 10^(yy). e.g 100 = 10^2 = 1*10^2 = 1e2 "
   ]
  },
  {
   "cell_type": "markdown",
   "metadata": {},
   "source": [
    "# Build a generic simple linear regression function "
   ]
  },
  {
   "cell_type": "markdown",
   "metadata": {},
   "source": [
    "Armed with these SArray functions we can use the closed form solution found from lecture to compute the slope and intercept for a simple linear regression on observations stored as SArrays: input_feature, output.\n",
    "\n",
    "Complete the following function (or write your own) to compute the simple linear regression slope and intercept:"
   ]
  },
  {
   "cell_type": "code",
   "execution_count": 10,
   "metadata": {},
   "outputs": [],
   "source": [
    "def simple_linear_regression(input_feature, output):\n",
    "    # compute the sum of input_feature and output\n",
    "    x_sum = input_feature.sum()\n",
    "    y_sum = output.sum()\n",
    "    # compute the product of the output and the input_feature and its sum\n",
    "    product_sum = (input_feature * output).sum()\n",
    "    # compute the squared value of the input_feature and its sum\n",
    "    x_sqrd_sum = (input_feature * input_feature).sum()\n",
    "    # use the formula for the slope\n",
    "    N = output.size()\n",
    "    slope = (product_sum - (input_feature.sum() * output.sum() / N) )/ (x_sqrd_sum - (x_sum * x_sum / N))\n",
    "    # use the formula for the intercept\n",
    "    intercept = (y_sum - (slope * x_sum))/N\n",
    "    return (intercept, slope)"
   ]
  },
  {
   "cell_type": "markdown",
   "metadata": {},
   "source": [
    "We can test that our function works by passing it something where we know the answer. In particular we can generate a feature and then put the output exactly on a line: output = 1 + 1\\*input_feature then we know both our slope and intercept should be 1"
   ]
  },
  {
   "cell_type": "code",
   "execution_count": 11,
   "metadata": {
    "scrolled": true
   },
   "outputs": [
    {
     "name": "stdout",
     "output_type": "stream",
     "text": [
      "Intercept: 1\n",
      "Slope: 1\n"
     ]
    }
   ],
   "source": [
    "test_feature = graphlab.SArray(range(5))\n",
    "test_output = graphlab.SArray(1 + 1*test_feature)\n",
    "(test_intercept, test_slope) =  simple_linear_regression(test_feature, test_output)\n",
    "print \"Intercept: \" + str(test_intercept)\n",
    "print \"Slope: \" + str(test_slope)"
   ]
  },
  {
   "cell_type": "markdown",
   "metadata": {},
   "source": [
    "Now that we know it works let's build a regression model for predicting price based on sqft_living. Rembember that we train on train_data!"
   ]
  },
  {
   "cell_type": "code",
   "execution_count": 12,
   "metadata": {},
   "outputs": [
    {
     "name": "stdout",
     "output_type": "stream",
     "text": [
      "Intercept: -47116.0765749\n",
      "Slope: 281.958838568\n"
     ]
    }
   ],
   "source": [
    "sqft_intercept, sqft_slope = simple_linear_regression(train_data['sqft_living'], train_data['price'])\n",
    "\n",
    "print \"Intercept: \" + str(sqft_intercept)\n",
    "print \"Slope: \" + str(sqft_slope)"
   ]
  },
  {
   "cell_type": "markdown",
   "metadata": {},
   "source": [
    "# Predicting Values"
   ]
  },
  {
   "cell_type": "markdown",
   "metadata": {},
   "source": [
    "Now that we have the model parameters: intercept & slope we can make predictions. Using SArrays it's easy to multiply an SArray by a constant and add a constant value. Complete the following function to return the predicted output given the input_feature, slope and intercept:"
   ]
  },
  {
   "cell_type": "code",
   "execution_count": 13,
   "metadata": {},
   "outputs": [],
   "source": [
    "def get_regression_predictions(input_feature, intercept, slope):\n",
    "    # calculate the predicted values:\n",
    "    predicted_values = intercept + (slope * input_feature)\n",
    "    return predicted_values"
   ]
  },
  {
   "cell_type": "markdown",
   "metadata": {},
   "source": [
    "Now that we can calculate a prediction given the slope and intercept let's make a prediction. Use (or alter) the following to find out the estimated price for a house with 2650 squarefeet according to the squarefeet model we estiamted above.\n",
    "\n",
    "**Quiz Question: Using your Slope and Intercept from (4), What is the predicted price for a house with 2650 sqft?**"
   ]
  },
  {
   "cell_type": "code",
   "execution_count": 14,
   "metadata": {},
   "outputs": [
    {
     "name": "stdout",
     "output_type": "stream",
     "text": [
      "The estimated price for a house with 2650 squarefeet is $700074.85\n"
     ]
    }
   ],
   "source": [
    "my_house_sqft = 2650\n",
    "estimated_price = get_regression_predictions(my_house_sqft, sqft_intercept, sqft_slope)\n",
    "print \"The estimated price for a house with %d squarefeet is $%.2f\" % (my_house_sqft, estimated_price)"
   ]
  },
  {
   "cell_type": "markdown",
   "metadata": {},
   "source": [
    "# Residual Sum of Squares"
   ]
  },
  {
   "cell_type": "markdown",
   "metadata": {},
   "source": [
    "Now that we have a model and can make predictions let's evaluate our model using Residual Sum of Squares (RSS). Recall that RSS is the sum of the squares of the residuals and the residuals is just a fancy word for the difference between the predicted output and the true output. \n",
    "\n",
    "Complete the following (or write your own) function to compute the RSS of a simple linear regression model given the input_feature, output, intercept and slope:"
   ]
  },
  {
   "cell_type": "code",
   "execution_count": 15,
   "metadata": {},
   "outputs": [],
   "source": [
    "def get_residual_sum_of_squares(input_feature, output, intercept, slope):\n",
    "    # First get the predictions\n",
    "    predictions = get_regression_predictions(input_feature, intercept, slope)\n",
    "    # then compute the residuals (since we are squaring it doesn't matter which order you subtract)\n",
    "    residuals = output - predictions\n",
    "    # square the residuals and add them up\n",
    "    RSS = (residuals * residuals).sum()\n",
    "    return(RSS)"
   ]
  },
  {
   "cell_type": "markdown",
   "metadata": {},
   "source": [
    "Let's test our get_residual_sum_of_squares function by applying it to the test model where the data lie exactly on a line. Since they lie exactly on a line the residual sum of squares should be zero!"
   ]
  },
  {
   "cell_type": "code",
   "execution_count": 16,
   "metadata": {},
   "outputs": [
    {
     "name": "stdout",
     "output_type": "stream",
     "text": [
      "0\n"
     ]
    }
   ],
   "source": [
    "print get_residual_sum_of_squares(test_feature, test_output, test_intercept, test_slope) # should be 0.0"
   ]
  },
  {
   "cell_type": "markdown",
   "metadata": {},
   "source": [
    "Now use your function to calculate the RSS on training data from the squarefeet model calculated above.\n",
    "\n",
    "**Quiz Question: According to this function and the slope and intercept from the squarefeet model What is the RSS for the simple linear regression using squarefeet to predict prices on TRAINING data?**"
   ]
  },
  {
   "cell_type": "code",
   "execution_count": 17,
   "metadata": {},
   "outputs": [
    {
     "name": "stdout",
     "output_type": "stream",
     "text": [
      "The RSS of predicting Prices based on Square Feet is : 1.20191835632e+15\n"
     ]
    }
   ],
   "source": [
    "rss_prices_on_sqft = get_residual_sum_of_squares(train_data['sqft_living'], train_data['price'], sqft_intercept, sqft_slope)\n",
    "print 'The RSS of predicting Prices based on Square Feet is : ' + str(rss_prices_on_sqft)"
   ]
  },
  {
   "cell_type": "markdown",
   "metadata": {},
   "source": [
    "# Predict the squarefeet given price"
   ]
  },
  {
   "cell_type": "markdown",
   "metadata": {},
   "source": [
    "What if we want to predict the squarefoot given the price? Since we have an equation y = a + b\\*x we can solve the function for x. So that if we have the intercept (a) and the slope (b) and the price (y) we can solve for the estimated squarefeet (x).\n",
    "\n",
    "Complete the following function to compute the inverse regression estimate, i.e. predict the input_feature given the output."
   ]
  },
  {
   "cell_type": "code",
   "execution_count": 18,
   "metadata": {},
   "outputs": [],
   "source": [
    "def inverse_regression_predictions(output, intercept, slope):\n",
    "    # solve output = intercept + slope*input_feature for input_feature. Use this equation to compute the inverse predictions:\n",
    "    estimated_feature = (output - intercept)/slope\n",
    "    return estimated_feature"
   ]
  },
  {
   "cell_type": "markdown",
   "metadata": {},
   "source": [
    "Now that we have a function to compute the squarefeet given the price from our simple regression model let's see how big we might expect a house that costs $800,000 to be.\n",
    "\n",
    "**Quiz Question: According to this function and the regression slope and intercept from (3) what is the estimated square-feet for a house costing $800,000?**"
   ]
  },
  {
   "cell_type": "code",
   "execution_count": 19,
   "metadata": {},
   "outputs": [
    {
     "name": "stdout",
     "output_type": "stream",
     "text": [
      "The estimated squarefeet for a house worth $800000.00 is 3004\n"
     ]
    }
   ],
   "source": [
    "my_house_price = 800000\n",
    "estimated_squarefeet = inverse_regression_predictions(my_house_price, sqft_intercept, sqft_slope)\n",
    "print \"The estimated squarefeet for a house worth $%.2f is %d\" % (my_house_price, estimated_squarefeet)"
   ]
  },
  {
   "cell_type": "markdown",
   "metadata": {},
   "source": [
    "# New Model: estimate prices from bedrooms"
   ]
  },
  {
   "cell_type": "markdown",
   "metadata": {},
   "source": [
    "We have made one model for predicting house prices using squarefeet, but there are many other features in the sales SFrame. \n",
    "Use your simple linear regression function to estimate the regression parameters from predicting Prices based on number of bedrooms. Use the training data!"
   ]
  },
  {
   "cell_type": "code",
   "execution_count": 21,
   "metadata": {},
   "outputs": [
    {
     "data": {
      "text/html": [
       "<div style=\"max-height:1000px;max-width:1500px;overflow:auto;\"><table frame=\"box\" rules=\"cols\">\n",
       "    <tr>\n",
       "        <th style=\"padding-left: 1em; padding-right: 1em; text-align: center\">id</th>\n",
       "        <th style=\"padding-left: 1em; padding-right: 1em; text-align: center\">date</th>\n",
       "        <th style=\"padding-left: 1em; padding-right: 1em; text-align: center\">price</th>\n",
       "        <th style=\"padding-left: 1em; padding-right: 1em; text-align: center\">bedrooms</th>\n",
       "        <th style=\"padding-left: 1em; padding-right: 1em; text-align: center\">bathrooms</th>\n",
       "        <th style=\"padding-left: 1em; padding-right: 1em; text-align: center\">sqft_living</th>\n",
       "        <th style=\"padding-left: 1em; padding-right: 1em; text-align: center\">sqft_lot</th>\n",
       "        <th style=\"padding-left: 1em; padding-right: 1em; text-align: center\">floors</th>\n",
       "        <th style=\"padding-left: 1em; padding-right: 1em; text-align: center\">waterfront</th>\n",
       "    </tr>\n",
       "    <tr>\n",
       "        <td style=\"padding-left: 1em; padding-right: 1em; text-align: center; vertical-align: top\">7129300520</td>\n",
       "        <td style=\"padding-left: 1em; padding-right: 1em; text-align: center; vertical-align: top\">2014-10-13 00:00:00+00:00</td>\n",
       "        <td style=\"padding-left: 1em; padding-right: 1em; text-align: center; vertical-align: top\">221900.0</td>\n",
       "        <td style=\"padding-left: 1em; padding-right: 1em; text-align: center; vertical-align: top\">3.0</td>\n",
       "        <td style=\"padding-left: 1em; padding-right: 1em; text-align: center; vertical-align: top\">1.0</td>\n",
       "        <td style=\"padding-left: 1em; padding-right: 1em; text-align: center; vertical-align: top\">1180.0</td>\n",
       "        <td style=\"padding-left: 1em; padding-right: 1em; text-align: center; vertical-align: top\">5650</td>\n",
       "        <td style=\"padding-left: 1em; padding-right: 1em; text-align: center; vertical-align: top\">1</td>\n",
       "        <td style=\"padding-left: 1em; padding-right: 1em; text-align: center; vertical-align: top\">0</td>\n",
       "    </tr>\n",
       "    <tr>\n",
       "        <td style=\"padding-left: 1em; padding-right: 1em; text-align: center; vertical-align: top\">6414100192</td>\n",
       "        <td style=\"padding-left: 1em; padding-right: 1em; text-align: center; vertical-align: top\">2014-12-09 00:00:00+00:00</td>\n",
       "        <td style=\"padding-left: 1em; padding-right: 1em; text-align: center; vertical-align: top\">538000.0</td>\n",
       "        <td style=\"padding-left: 1em; padding-right: 1em; text-align: center; vertical-align: top\">3.0</td>\n",
       "        <td style=\"padding-left: 1em; padding-right: 1em; text-align: center; vertical-align: top\">2.25</td>\n",
       "        <td style=\"padding-left: 1em; padding-right: 1em; text-align: center; vertical-align: top\">2570.0</td>\n",
       "        <td style=\"padding-left: 1em; padding-right: 1em; text-align: center; vertical-align: top\">7242</td>\n",
       "        <td style=\"padding-left: 1em; padding-right: 1em; text-align: center; vertical-align: top\">2</td>\n",
       "        <td style=\"padding-left: 1em; padding-right: 1em; text-align: center; vertical-align: top\">0</td>\n",
       "    </tr>\n",
       "</table>\n",
       "<table frame=\"box\" rules=\"cols\">\n",
       "    <tr>\n",
       "        <th style=\"padding-left: 1em; padding-right: 1em; text-align: center\">view</th>\n",
       "        <th style=\"padding-left: 1em; padding-right: 1em; text-align: center\">condition</th>\n",
       "        <th style=\"padding-left: 1em; padding-right: 1em; text-align: center\">grade</th>\n",
       "        <th style=\"padding-left: 1em; padding-right: 1em; text-align: center\">sqft_above</th>\n",
       "        <th style=\"padding-left: 1em; padding-right: 1em; text-align: center\">sqft_basement</th>\n",
       "        <th style=\"padding-left: 1em; padding-right: 1em; text-align: center\">yr_built</th>\n",
       "        <th style=\"padding-left: 1em; padding-right: 1em; text-align: center\">yr_renovated</th>\n",
       "        <th style=\"padding-left: 1em; padding-right: 1em; text-align: center\">zipcode</th>\n",
       "        <th style=\"padding-left: 1em; padding-right: 1em; text-align: center\">lat</th>\n",
       "    </tr>\n",
       "    <tr>\n",
       "        <td style=\"padding-left: 1em; padding-right: 1em; text-align: center; vertical-align: top\">0</td>\n",
       "        <td style=\"padding-left: 1em; padding-right: 1em; text-align: center; vertical-align: top\">3</td>\n",
       "        <td style=\"padding-left: 1em; padding-right: 1em; text-align: center; vertical-align: top\">7</td>\n",
       "        <td style=\"padding-left: 1em; padding-right: 1em; text-align: center; vertical-align: top\">1180</td>\n",
       "        <td style=\"padding-left: 1em; padding-right: 1em; text-align: center; vertical-align: top\">0</td>\n",
       "        <td style=\"padding-left: 1em; padding-right: 1em; text-align: center; vertical-align: top\">1955</td>\n",
       "        <td style=\"padding-left: 1em; padding-right: 1em; text-align: center; vertical-align: top\">0</td>\n",
       "        <td style=\"padding-left: 1em; padding-right: 1em; text-align: center; vertical-align: top\">98178</td>\n",
       "        <td style=\"padding-left: 1em; padding-right: 1em; text-align: center; vertical-align: top\">47.51123398</td>\n",
       "    </tr>\n",
       "    <tr>\n",
       "        <td style=\"padding-left: 1em; padding-right: 1em; text-align: center; vertical-align: top\">0</td>\n",
       "        <td style=\"padding-left: 1em; padding-right: 1em; text-align: center; vertical-align: top\">3</td>\n",
       "        <td style=\"padding-left: 1em; padding-right: 1em; text-align: center; vertical-align: top\">7</td>\n",
       "        <td style=\"padding-left: 1em; padding-right: 1em; text-align: center; vertical-align: top\">2170</td>\n",
       "        <td style=\"padding-left: 1em; padding-right: 1em; text-align: center; vertical-align: top\">400</td>\n",
       "        <td style=\"padding-left: 1em; padding-right: 1em; text-align: center; vertical-align: top\">1951</td>\n",
       "        <td style=\"padding-left: 1em; padding-right: 1em; text-align: center; vertical-align: top\">1991</td>\n",
       "        <td style=\"padding-left: 1em; padding-right: 1em; text-align: center; vertical-align: top\">98125</td>\n",
       "        <td style=\"padding-left: 1em; padding-right: 1em; text-align: center; vertical-align: top\">47.72102274</td>\n",
       "    </tr>\n",
       "</table>\n",
       "<table frame=\"box\" rules=\"cols\">\n",
       "    <tr>\n",
       "        <th style=\"padding-left: 1em; padding-right: 1em; text-align: center\">long</th>\n",
       "        <th style=\"padding-left: 1em; padding-right: 1em; text-align: center\">sqft_living15</th>\n",
       "        <th style=\"padding-left: 1em; padding-right: 1em; text-align: center\">sqft_lot15</th>\n",
       "    </tr>\n",
       "    <tr>\n",
       "        <td style=\"padding-left: 1em; padding-right: 1em; text-align: center; vertical-align: top\">-122.25677536</td>\n",
       "        <td style=\"padding-left: 1em; padding-right: 1em; text-align: center; vertical-align: top\">1340.0</td>\n",
       "        <td style=\"padding-left: 1em; padding-right: 1em; text-align: center; vertical-align: top\">5650.0</td>\n",
       "    </tr>\n",
       "    <tr>\n",
       "        <td style=\"padding-left: 1em; padding-right: 1em; text-align: center; vertical-align: top\">-122.3188624</td>\n",
       "        <td style=\"padding-left: 1em; padding-right: 1em; text-align: center; vertical-align: top\">1690.0</td>\n",
       "        <td style=\"padding-left: 1em; padding-right: 1em; text-align: center; vertical-align: top\">7639.0</td>\n",
       "    </tr>\n",
       "</table>\n",
       "[2 rows x 21 columns]<br/>\n",
       "</div>"
      ],
      "text/plain": [
       "Columns:\n",
       "\tid\tstr\n",
       "\tdate\tdatetime\n",
       "\tprice\tfloat\n",
       "\tbedrooms\tfloat\n",
       "\tbathrooms\tfloat\n",
       "\tsqft_living\tfloat\n",
       "\tsqft_lot\tint\n",
       "\tfloors\tstr\n",
       "\twaterfront\tint\n",
       "\tview\tint\n",
       "\tcondition\tint\n",
       "\tgrade\tint\n",
       "\tsqft_above\tint\n",
       "\tsqft_basement\tint\n",
       "\tyr_built\tint\n",
       "\tyr_renovated\tint\n",
       "\tzipcode\tstr\n",
       "\tlat\tfloat\n",
       "\tlong\tfloat\n",
       "\tsqft_living15\tfloat\n",
       "\tsqft_lot15\tfloat\n",
       "\n",
       "Rows: 2\n",
       "\n",
       "Data:\n",
       "+------------+---------------------------+----------+----------+-----------+\n",
       "|     id     |            date           |  price   | bedrooms | bathrooms |\n",
       "+------------+---------------------------+----------+----------+-----------+\n",
       "| 7129300520 | 2014-10-13 00:00:00+00:00 | 221900.0 |   3.0    |    1.0    |\n",
       "| 6414100192 | 2014-12-09 00:00:00+00:00 | 538000.0 |   3.0    |    2.25   |\n",
       "+------------+---------------------------+----------+----------+-----------+\n",
       "+-------------+----------+--------+------------+------+-----------+-------+------------+\n",
       "| sqft_living | sqft_lot | floors | waterfront | view | condition | grade | sqft_above |\n",
       "+-------------+----------+--------+------------+------+-----------+-------+------------+\n",
       "|    1180.0   |   5650   |   1    |     0      |  0   |     3     |   7   |    1180    |\n",
       "|    2570.0   |   7242   |   2    |     0      |  0   |     3     |   7   |    2170    |\n",
       "+-------------+----------+--------+------------+------+-----------+-------+------------+\n",
       "+---------------+----------+--------------+---------+-------------+\n",
       "| sqft_basement | yr_built | yr_renovated | zipcode |     lat     |\n",
       "+---------------+----------+--------------+---------+-------------+\n",
       "|       0       |   1955   |      0       |  98178  | 47.51123398 |\n",
       "|      400      |   1951   |     1991     |  98125  | 47.72102274 |\n",
       "+---------------+----------+--------------+---------+-------------+\n",
       "+---------------+---------------+-----+\n",
       "|      long     | sqft_living15 | ... |\n",
       "+---------------+---------------+-----+\n",
       "| -122.25677536 |     1340.0    | ... |\n",
       "|  -122.3188624 |     1690.0    | ... |\n",
       "+---------------+---------------+-----+\n",
       "[2 rows x 21 columns]"
      ]
     },
     "execution_count": 21,
     "metadata": {},
     "output_type": "execute_result"
    }
   ],
   "source": [
    "sales.head(2)"
   ]
  },
  {
   "cell_type": "code",
   "execution_count": 23,
   "metadata": {},
   "outputs": [],
   "source": [
    "# Estimate the slope and intercept for predicting 'price' based on 'bedrooms'\n",
    "(bedroom_intercept, bedroom_slope) = simple_linear_regression(train_data['bedrooms'], train_data['price'])\n"
   ]
  },
  {
   "cell_type": "markdown",
   "metadata": {},
   "source": [
    "# Test your Linear Regression Algorithm"
   ]
  },
  {
   "cell_type": "markdown",
   "metadata": {},
   "source": [
    "Now we have two models for predicting the price of a house. How do we know which one is better? Calculate the RSS on the TEST data (remember this data wasn't involved in learning the model). Compute the RSS from predicting prices using bedrooms and from predicting prices using squarefeet.\n",
    "\n",
    "**Quiz Question: Which model (square feet or bedrooms) has lowest RSS on TEST data? Think about why this might be the case.**"
   ]
  },
  {
   "cell_type": "code",
   "execution_count": 26,
   "metadata": {},
   "outputs": [
    {
     "name": "stdout",
     "output_type": "stream",
     "text": [
      "('bedroom_rss :', 493364582868288.0)\n"
     ]
    }
   ],
   "source": [
    "# Compute RSS when using bedrooms on TEST data:\n",
    "bedroom_rss = get_residual_sum_of_squares(test_data['bedrooms'], test_data['price'], bedroom_intercept, bedroom_slope)\n",
    "print('bedroom_rss :', bedroom_rss)"
   ]
  },
  {
   "cell_type": "code",
   "execution_count": 27,
   "metadata": {},
   "outputs": [
    {
     "name": "stdout",
     "output_type": "stream",
     "text": [
      "('sqft_rss : ', 275402936247141.38)\n"
     ]
    }
   ],
   "source": [
    "# Compute RSS when using squarefeet on TEST data:\n",
    "sqft_rss = get_residual_sum_of_squares(test_data['sqft_living'], test_data['price'], sqft_intercept,sqft_slope)\n",
    "print('sqft_rss : ', sqft_rss)"
   ]
  },
  {
   "cell_type": "code",
   "execution_count": 28,
   "metadata": {},
   "outputs": [
    {
     "data": {
      "application/javascript": [
       "$(\"head\").append($(\"<link/>\").attr({\n",
       "  rel:  \"stylesheet\",\n",
       "  type: \"text/css\",\n",
       "  href: \"//cdnjs.cloudflare.com/ajax/libs/font-awesome/4.1.0/css/font-awesome.min.css\"\n",
       "}));\n",
       "$(\"head\").append($(\"<link/>\").attr({\n",
       "  rel:  \"stylesheet\",\n",
       "  type: \"text/css\",\n",
       "  href: \"https://static.turi.com/products/graphlab-create/2.1/canvas/css/canvas.css\"\n",
       "}));\n",
       "\n",
       "            (function(){\n",
       "\n",
       "                var e = null;\n",
       "                if (typeof element == 'undefined') {\n",
       "                    var scripts = document.getElementsByTagName('script');\n",
       "                    var thisScriptTag = scripts[scripts.length-1];\n",
       "                    var parentDiv = thisScriptTag.parentNode;\n",
       "                    e = document.createElement('div');\n",
       "                    parentDiv.appendChild(e);\n",
       "                } else {\n",
       "                    e = element[0];\n",
       "                }\n",
       "\n",
       "                if (typeof requirejs !== 'undefined') {\n",
       "                    // disable load timeout; ipython_app.js is large and can take a while to load.\n",
       "                    requirejs.config({waitSeconds: 0});\n",
       "                }\n",
       "\n",
       "                require(['https://static.turi.com/products/graphlab-create/2.1/canvas/js/ipython_app.js'], function(IPythonApp){\n",
       "                    var app = new IPythonApp();\n",
       "                    app.attachView('sframe','Plots', {\"selected_variable\": {\"name\": [\"test_data\"], \"descriptives\": {\"rows\": 4229, \"columns\": 21}, \"view_component\": \"Plots\", \"view_file\": \"sframe\", \"view_params\": {\"y\": \"price\", \"x\": \"bedrooms\", \"columns\": [\"id\", \"date\", \"price\", \"bedrooms\", \"bathrooms\", \"sqft_living\", \"sqft_lot\", \"floors\", \"waterfront\", \"view\", \"condition\", \"grade\", \"sqft_above\", \"sqft_basement\", \"yr_built\", \"yr_renovated\", \"zipcode\", \"lat\", \"long\", \"sqft_living15\", \"sqft_lot15\"], \"view\": \"Scatter Plot\"}, \"view_components\": [\"Summary\", \"Table\", \"Bar Chart\", \"BoxWhisker Plot\", \"Line Chart\", \"Scatter Plot\", \"Heat Map\", \"Plots\"], \"type\": \"SFrame\", \"columns\": [{\"dtype\": \"str\", \"name\": \"id\"}, {\"dtype\": \"datetime\", \"name\": \"date\"}, {\"dtype\": \"float\", \"name\": \"price\"}, {\"dtype\": \"float\", \"name\": \"bedrooms\"}, {\"dtype\": \"float\", \"name\": \"bathrooms\"}, {\"dtype\": \"float\", \"name\": \"sqft_living\"}, {\"dtype\": \"int\", \"name\": \"sqft_lot\"}, {\"dtype\": \"str\", \"name\": \"floors\"}, {\"dtype\": \"int\", \"name\": \"waterfront\"}, {\"dtype\": \"int\", \"name\": \"view\"}, {\"dtype\": \"int\", \"name\": \"condition\"}, {\"dtype\": \"int\", \"name\": \"grade\"}, {\"dtype\": \"int\", \"name\": \"sqft_above\"}, {\"dtype\": \"int\", \"name\": \"sqft_basement\"}, {\"dtype\": \"int\", \"name\": \"yr_built\"}, {\"dtype\": \"int\", \"name\": \"yr_renovated\"}, {\"dtype\": \"str\", \"name\": \"zipcode\"}, {\"dtype\": \"float\", \"name\": \"lat\"}, {\"dtype\": \"float\", \"name\": \"long\"}, {\"dtype\": \"float\", \"name\": \"sqft_living15\"}, {\"dtype\": \"float\", \"name\": \"sqft_lot15\"}], \"column_identifiers\": [\"bathrooms\", \"sqft_living15\", \"sqft_above\", \"grade\", \"yr_built\", \"price\", \"bedrooms\", \"zipcode\", \"long\", \"id\", \"sqft_lot15\", \"sqft_living\", \"floors\", \"sqft_lot\", \"date\", \"waterfront\", \"sqft_basement\", \"yr_renovated\", \"lat\", \"condition\", \"view\"]}, \"complete\": 1, \"ipython\": true, \"progress\": 1.0, \"data\": [[4.0, 185000.0], [4.0, 615000.0], [2.0, 170000.0], [3.0, 219500.0], [5.0, 240000.0], [3.0, 623000.0], [5.0, 1190000.0], [3.0, 615000.0], [3.0, 379950.0], [4.0, 654500.0], [2.0, 231500.0], [3.0, 579000.0], [4.0, 243500.0], [3.0, 518000.0], [4.0, 495000.0], [3.0, 429000.0], [3.0, 1150000.0], [3.0, 329000.0], [5.0, 527700.0], [3.0, 400000.0], [4.0, 890000.0], [2.0, 446000.0], [3.0, 700000.0], [3.0, 420000.0], [4.0, 370000.0], [3.0, 284000.0], [5.0, 393000.0], [3.0, 614950.0], [3.0, 165000.0], [3.0, 230000.0], [2.0, 285000.0], [3.0, 650000.0], [3.0, 677900.0], [4.0, 449000.0], [2.0, 325000.0], [2.0, 479950.0], [4.0, 148900.0], [3.0, 488000.0], [4.0, 2200000.0], [3.0, 260000.0], [2.0, 450000.0], [2.0, 695000.0], [2.0, 290000.0], [4.0, 304900.0], [4.0, 359800.0], [3.0, 350000.0], [4.0, 235000.0], [7.0, 540000.0], [4.0, 1465000.0], [5.0, 541125.0], [4.0, 1200000.0], [3.0, 315000.0], [3.0, 280000.0], [3.0, 335000.0], [2.0, 207000.0], [4.0, 695000.0], [3.0, 230000.0], [6.0, 376000.0], [2.0, 518000.0], [5.0, 999000.0], [3.0, 159000.0], [3.0, 530000.0], [3.0, 785000.0], [3.0, 998800.0], [4.0, 552250.0], [3.0, 206600.0], [4.0, 1940000.0], [4.0, 1850000.0], [5.0, 770000.0], [4.0, 395000.0], [3.0, 348000.0], [2.0, 320000.0], [4.0, 338000.0], [3.0, 234999.0], [3.0, 480000.0], [3.0, 565000.0], [4.0, 403950.0], [3.0, 490000.0], [2.0, 490000.0], [2.0, 403250.0], [4.0, 337000.0], [4.0, 298000.0], [4.0, 230000.0], [4.0, 512500.0], [3.0, 550000.0], [4.0, 1350000.0], [5.0, 292000.0], [2.0, 275000.0], [2.0, 302000.0], [4.0, 272000.0], [4.0, 947500.0], [4.0, 492000.0], [3.0, 205000.0], [4.0, 280000.0], [4.0, 409000.0], [3.0, 348000.0], [4.0, 385000.0], [3.0, 570000.0], [3.0, 463000.0], [4.0, 420000.0], [4.0, 1385000.0], [3.0, 354500.0], [3.0, 210000.0], [3.0, 1325000.0], [4.0, 350000.0], [4.0, 152500.0], [4.0, 825000.0], [4.0, 290000.0], [3.0, 419500.0], [2.0, 450000.0], [4.0, 582000.0], [3.0, 285000.0], [3.0, 358000.0], [4.0, 245000.0], [3.0, 240000.0], [3.0, 380000.0], [3.0, 459500.0], [4.0, 479000.0], [4.0, 725000.0], [2.0, 199950.0], [4.0, 2900000.0], [4.0, 318400.0], [2.0, 442000.0], [2.0, 255000.0], [3.0, 265000.0], [2.0, 372500.0], [4.0, 1565000.0], [4.0, 1220000.0], [4.0, 399950.0], [2.0, 225000.0], [3.0, 485000.0], [4.0, 480000.0], [3.0, 415000.0], [3.0, 315000.0], [2.0, 229950.0], [4.0, 521000.0], [3.0, 1000000.0], [3.0, 885000.0], [4.0, 732600.0], [3.0, 470000.0], [4.0, 810000.0], [2.0, 447000.0], [3.0, 387500.0], [3.0, 373000.0], [4.0, 690000.0], [5.0, 700000.0], [3.0, 469900.0], [5.0, 575000.0], [3.0, 323000.0], [3.0, 358000.0], [2.0, 210000.0], [2.0, 227000.0], [6.0, 800000.0], [2.0, 305000.0], [3.0, 501000.0], [5.0, 338000.0], [4.0, 300000.0], [4.0, 435000.0], [4.0, 650000.0], [2.0, 286000.0], [4.0, 533000.0], [3.0, 425000.0], [3.0, 330000.0], [4.0, 824000.0], [3.0, 390000.0], [3.0, 420000.0], [3.0, 314950.0], [4.0, 1699990.0], [4.0, 600000.0], [4.0, 249950.0], [3.0, 330000.0], [5.0, 338000.0], [3.0, 361000.0], [3.0, 425500.0], [3.0, 310000.0], [4.0, 870000.0], [2.0, 430000.0], [3.0, 320000.0], [4.0, 450000.0], [3.0, 310000.0], [3.0, 315000.0], [3.0, 450000.0], [4.0, 442500.0], [3.0, 365000.0], [4.0, 805000.0], [4.0, 1488000.0], [4.0, 780000.0], [3.0, 237200.0], [3.0, 209000.0], [5.0, 598992.0], [3.0, 205000.0], [3.0, 435000.0], [3.0, 448000.0], [2.0, 299995.0], [4.0, 700000.0], [4.0, 329950.0], [2.0, 483000.0], [4.0, 210000.0], [3.0, 525000.0], [2.0, 589900.0], [4.0, 573000.0], [3.0, 253000.0], [3.0, 335000.0], [2.0, 219000.0], [4.0, 460000.0], [5.0, 420000.0], [2.0, 400000.0], [4.0, 725000.0], [3.0, 221000.0], [3.0, 1810000.0], [3.0, 575000.0], [2.0, 193000.0], [4.0, 460500.0], [3.0, 515000.0], [4.0, 571000.0], [3.0, 645000.0], [3.0, 550000.0], [3.0, 250000.0], [3.0, 570000.0], [2.0, 453000.0], [4.0, 208000.0], [5.0, 750000.0], [3.0, 246950.0], [2.0, 151000.0], [4.0, 1612500.0], [5.0, 1250000.0], [4.0, 910000.0], [4.0, 380000.0], [4.0, 285000.0], [5.0, 473000.0], [3.0, 353000.0], [4.0, 433000.0], [6.0, 760000.0], [3.0, 959000.0], [3.0, 402200.0], [3.0, 260000.0], [3.0, 206000.0], [4.0, 194000.0], [3.0, 195000.0], [3.0, 750000.0], [3.0, 315000.0], [3.0, 575000.0], [3.0, 605000.0], [2.0, 585000.0], [4.0, 902000.0], [3.0, 655000.0], [5.0, 415000.0], [3.0, 632000.0], [4.0, 525000.0], [3.0, 380000.0], [4.0, 430000.0], [3.0, 225000.0], [3.0, 415000.0], [3.0, 425000.0], [2.0, 550500.0], [2.0, 776000.0], [3.0, 289000.0], [2.0, 240000.0], [2.0, 375000.0], [4.0, 410500.0], [4.0, 870515.0], [3.0, 546000.0], [5.0, 707000.0], [3.0, 442500.0], [2.0, 577500.0], [3.0, 368750.0], [3.0, 590000.0], [4.0, 565000.0], [3.0, 290000.0], [4.0, 675000.0], [3.0, 600000.0], [3.0, 267000.0], [2.0, 110000.0], [4.0, 1200000.0], [2.0, 425000.0], [3.0, 375000.0], [4.0, 1700000.0], [3.0, 274500.0], [5.0, 729953.0], [5.0, 1236300.0], [3.0, 330000.0], [4.0, 429900.0], [4.0, 630000.0], [2.0, 260000.0], [2.0, 304000.0], [3.0, 471000.0], [4.0, 651000.0], [4.0, 975000.0], [2.0, 280000.0], [4.0, 635000.0], [4.0, 735000.0], [3.0, 257000.0], [4.0, 264500.0], [2.0, 1175000.0], [5.0, 1010000.0], [2.0, 340895.0], [4.0, 780000.0], [5.0, 1000000.0], [3.0, 255000.0], [2.0, 253000.0], [2.0, 215000.0], [4.0, 530000.0], [3.0, 755000.0], [3.0, 465500.0], [3.0, 175000.0], [3.0, 274950.0], [4.0, 585000.0], [3.0, 530000.0], [3.0, 555000.0], [3.0, 375000.0], [4.0, 430000.0], [3.0, 240000.0], [3.0, 170000.0], [3.0, 340000.0], [2.0, 175000.0], [6.0, 1300000.0], [3.0, 415000.0], [4.0, 741000.0], [2.0, 245000.0], [3.0, 459000.0], [3.0, 488500.0], [5.0, 1454000.0], [3.0, 286000.0], [5.0, 482000.0], [3.0, 359500.0], [2.0, 850000.0], [2.0, 402000.0], [4.0, 207000.0], [2.0, 250000.0], [3.0, 355000.0], [3.0, 419000.0], [4.0, 880000.0], [3.0, 660000.0], [3.0, 589999.0], [3.0, 454000.0], [3.0, 960000.0], [2.0, 169317.0], [3.0, 345000.0], [4.0, 647500.0], [4.0, 358000.0], [2.0, 255000.0], [4.0, 657100.0], [3.0, 250000.0], [3.0, 350000.0], [2.0, 399950.0], [2.0, 337000.0], [3.0, 750000.0], [4.0, 1399950.0], [3.0, 228950.0], [3.0, 350000.0], [4.0, 607500.0], [3.0, 326000.0], [4.0, 588000.0], [5.0, 440000.0], [5.0, 530000.0], [3.0, 530000.0], [3.0, 171500.0], [3.0, 200000.0], [3.0, 285000.0], [1.0, 227000.0], [3.0, 194000.0], [4.0, 424900.0], [3.0, 535000.0], [4.0, 400000.0], [2.0, 285000.0], [5.0, 210000.0], [4.0, 925000.0], [3.0, 277000.0], [3.0, 480000.0], [6.0, 384000.0], [3.0, 242500.0], [4.0, 453250.0], [6.0, 925850.0], [3.0, 415000.0], [4.0, 790000.0], [3.0, 826000.0], [3.0, 249000.0], [3.0, 580000.0], [3.0, 805000.0], [1.0, 380000.0], [5.0, 429000.0], [4.0, 765000.0], [1.0, 293000.0], [4.0, 2135000.0], [4.0, 411800.0], [4.0, 779000.0], [4.0, 300000.0], [3.0, 665000.0], [4.0, 685000.0], [2.0, 458000.0], [3.0, 246000.0], [3.0, 339000.0], [4.0, 690000.0], [3.0, 368000.0], [3.0, 335000.0], [3.0, 1325000.0], [3.0, 485000.0], [4.0, 450000.0], [6.0, 300000.0], [3.0, 450000.0], [4.0, 392000.0], [3.0, 301000.0], [3.0, 315000.0], [4.0, 459995.0], [2.0, 1190000.0], [4.0, 1050000.0], [3.0, 715000.0], [3.0, 475000.0], [3.0, 690000.0], [3.0, 497000.0], [3.0, 825000.0], [3.0, 308950.0], [4.0, 630000.0], [2.0, 350000.0], [3.0, 1568000.0], [4.0, 380000.0], [3.0, 195000.0], [4.0, 323000.0], [3.0, 1400000.0], [4.0, 920000.0], [3.0, 437000.0], [5.0, 800000.0], [2.0, 235000.0], [3.0, 605000.0], [2.0, 440000.0], [5.0, 834995.0], [3.0, 495500.0], [5.0, 1195000.0], [4.0, 477500.0], [4.0, 1680000.0], [2.0, 500000.0], [3.0, 550000.0], [3.0, 375000.0], [3.0, 185000.0], [4.0, 190000.0], [4.0, 436952.0], [3.0, 655000.0], [3.0, 515000.0], [3.0, 550000.0], [2.0, 440150.0], [6.0, 465000.0], [3.0, 342500.0], [4.0, 430000.0], [4.0, 275000.0], [4.0, 225000.0], [3.0, 625000.0], [3.0, 190000.0], [2.0, 536000.0], [3.0, 530000.0], [3.0, 667000.0], [3.0, 322000.0], [4.0, 710000.0], [4.0, 1550000.0], [4.0, 630100.0], [3.0, 238000.0], [4.0, 650000.0], [3.0, 725000.0], [2.0, 488000.0], [3.0, 569000.0], [4.0, 452000.0], [5.0, 660000.0], [3.0, 322500.0], [5.0, 750000.0], [4.0, 269000.0], [3.0, 275000.0], [3.0, 435000.0], [3.0, 283000.0], [2.0, 250000.0], [3.0, 307000.0], [4.0, 895000.0], [2.0, 141800.0], [2.0, 345000.0], [4.0, 1100000.0], [3.0, 472500.0], [5.0, 424950.0], [3.0, 204000.0], [3.0, 279000.0], [3.0, 592000.0], [2.0, 275000.0], [5.0, 1100000.0], [3.0, 325000.0], [4.0, 322500.0], [3.0, 319000.0], [3.0, 180000.0], [3.0, 198000.0], [2.0, 699000.0], [5.0, 400000.0], [3.0, 992000.0], [3.0, 475000.0], [3.0, 570000.0], [3.0, 355000.0], [2.0, 180000.0], [3.0, 143000.0], [3.0, 280000.0], [3.0, 565000.0], [4.0, 265000.0], [4.0, 306000.0], [4.0, 868000.0], [4.0, 229000.0], [3.0, 835000.0], [4.0, 675000.0], [2.0, 550285.0], [6.0, 280000.0], [3.0, 611000.0], [3.0, 634000.0], [2.0, 334998.0], [3.0, 225000.0], [3.0, 489950.0], [4.0, 865000.0], [2.0, 305000.0], [3.0, 465000.0], [4.0, 765000.0], [3.0, 325000.0], [4.0, 796000.0], [4.0, 362000.0], [2.0, 175000.0], [4.0, 1650000.0], [3.0, 289000.0], [5.0, 950000.0], [4.0, 650000.0], [3.0, 229000.0], [2.0, 465000.0], [4.0, 620000.0], [4.0, 210000.0], [3.0, 400000.0], [3.0, 303000.0], [3.0, 172500.0], [2.0, 299000.0], [3.0, 219950.0], [3.0, 729000.0], [4.0, 1360000.0], [2.0, 257000.0], [4.0, 650000.0], [5.0, 1388000.0], [4.0, 475000.0], [2.0, 250000.0], [4.0, 375000.0], [4.0, 324950.0], [4.0, 206000.0], [4.0, 850000.0], [4.0, 575000.0], [5.0, 325000.0], [3.0, 1575000.0], [4.0, 675000.0], [4.0, 342000.0], [3.0, 244500.0], [3.0, 410000.0], [5.0, 585083.0], [3.0, 252000.0], [2.0, 700000.0], [3.0, 400000.0], [5.0, 998000.0], [5.0, 726000.0], [4.0, 465000.0], [4.0, 995000.0], [2.0, 310000.0], [4.0, 605004.0], [4.0, 803100.0], [3.0, 205000.0], [3.0, 257950.0], [4.0, 788600.0], [4.0, 603000.0], [3.0, 476800.0], [4.0, 900000.0], [3.0, 430000.0], [3.0, 975000.0], [4.0, 552500.0], [3.0, 246000.0], [5.0, 790000.0], [4.0, 835000.0], [3.0, 264950.0], [4.0, 550000.0], [4.0, 633000.0], [4.0, 270000.0], [3.0, 685900.0], [3.0, 265950.0], [3.0, 600000.0], [2.0, 370000.0], [3.0, 600000.0], [4.0, 752875.0], [4.0, 725000.0], [4.0, 850000.0], [3.0, 675000.0], [3.0, 324500.0], [4.0, 374500.0], [3.0, 455000.0], [2.0, 335000.0], [4.0, 645000.0], [4.0, 735000.0], [2.0, 545000.0], [3.0, 608000.0], [2.0, 209000.0], [4.0, 550000.0], [3.0, 295500.0], [5.0, 1200000.0], [3.0, 999000.0], [2.0, 389000.0], [2.0, 495000.0], [2.0, 500007.0], [2.0, 800000.0], [6.0, 240000.0], [2.0, 115000.0], [4.0, 639000.0], [3.0, 259000.0], [3.0, 422000.0], [2.0, 395000.0], [4.0, 1120275.0], [3.0, 385000.0], [4.0, 367000.0], [4.0, 565000.0], [3.0, 450000.0], [4.0, 790000.0], [4.0, 345500.0], [3.0, 625000.0], [3.0, 355000.0], [4.0, 1200000.0], [3.0, 759000.0], [4.0, 1900000.0], [3.0, 440000.0], [4.0, 524000.0], [3.0, 759000.0], [4.0, 449999.0], [4.0, 230000.0], [3.0, 178500.0], [3.0, 275000.0], [4.0, 700000.0], [3.0, 280500.0], [4.0, 1160000.0], [3.0, 186000.0], [3.0, 389950.0], [4.0, 760000.0], [3.0, 655000.0], [3.0, 440000.0], [3.0, 564800.0], [3.0, 570000.0], [3.0, 464950.0], [3.0, 568000.0], [3.0, 551000.0], [2.0, 252000.0], [3.0, 491500.0], [4.0, 709000.0], [2.0, 334850.0], [3.0, 449950.0], [5.0, 690700.0], [2.0, 210000.0], [3.0, 281000.0], [3.0, 500000.0], [3.0, 1260000.0], [3.0, 663000.0], [2.0, 215000.0], [1.0, 315000.0], [3.0, 549950.0], [3.0, 555000.0], [3.0, 218250.0], [3.0, 885000.0], [4.0, 950000.0], [3.0, 208000.0], [3.0, 925000.0], [4.0, 515000.0], [3.0, 237000.0], [4.0, 301000.0], [4.0, 590000.0], [3.0, 667000.0], [4.0, 1518634.0], [5.0, 474500.0], [3.0, 598500.0], [3.0, 340000.0], [3.0, 389000.0], [4.0, 980000.0], [2.0, 275500.0], [2.0, 287000.0], [4.0, 1228000.0], [4.0, 970000.0], [2.0, 579000.0], [3.0, 261500.0], [3.0, 130000.0], [4.0, 1570000.0], [4.0, 261000.0], [3.0, 365000.0], [4.0, 650000.0], [4.0, 610000.0], [3.0, 216000.0], [4.0, 799950.0], [2.0, 555950.0], [11.0, 520000.0], [3.0, 2150000.0], [4.0, 535000.0], [3.0, 599380.0], [2.0, 335000.0], [3.0, 209950.0], [3.0, 489950.0], [4.0, 370000.0], [3.0, 471001.0], [4.0, 697000.0], [2.0, 229000.0], [3.0, 260000.0], [3.0, 552000.0], [4.0, 535000.0], [4.0, 320000.0], [4.0, 910000.0], [3.0, 802000.0], [3.0, 400000.0], [3.0, 436000.0], [6.0, 1150000.0], [2.0, 410500.0], [4.0, 749500.0], [3.0, 339900.0], [1.0, 185000.0], [4.0, 322000.0], [4.0, 245000.0], [4.0, 889000.0], [3.0, 258000.0], [3.0, 625000.0], [3.0, 484000.0], [4.0, 420000.0], [2.0, 299000.0], [4.0, 605000.0], [3.0, 361550.0], [3.0, 215000.0], [3.0, 194000.0], [4.0, 385000.0], [3.0, 222000.0], [3.0, 634000.0], [3.0, 480000.0], [3.0, 765000.0], [3.0, 699000.0], [4.0, 385000.0], [5.0, 681500.0], [3.0, 287000.0], [1.0, 299000.0], [5.0, 1180000.0], [3.0, 719000.0], [4.0, 560000.0], [4.0, 1250000.0], [4.0, 449000.0], [4.0, 602000.0], [3.0, 429000.0], [2.0, 435000.0], [3.0, 565000.0], [3.0, 525000.0], [4.0, 648000.0], [2.0, 198000.0], [4.0, 411000.0], [3.0, 374950.0], [4.0, 350000.0], [4.0, 680000.0], [3.0, 307500.0], [1.0, 95000.0], [3.0, 571000.0], [4.0, 242025.0], [3.0, 445000.0], [5.0, 1575000.0], [5.0, 856000.0], [4.0, 399950.0], [3.0, 450000.0], [3.0, 300000.0], [4.0, 975000.0], [5.0, 370000.0], [2.0, 440000.0], [5.0, 480000.0], [3.0, 450000.0], [3.0, 280000.0], [3.0, 485000.0], [4.0, 354950.0], [5.0, 1305000.0], [4.0, 379900.0], [3.0, 245000.0], [3.0, 440000.0], [5.0, 690000.0], [4.0, 442000.0], [5.0, 365000.0], [4.0, 632500.0], [3.0, 876650.0], [4.0, 762500.0], [2.0, 220000.0], [4.0, 408500.0], [3.0, 716000.0], [3.0, 217000.0], [4.0, 450000.0], [3.0, 222500.0], [4.0, 429900.0], [3.0, 635000.0], [4.0, 1925000.0], [3.0, 425000.0], [4.0, 625000.0], [3.0, 589000.0], [3.0, 792500.0], [3.0, 300000.0], [4.0, 335000.0], [3.0, 390000.0], [3.0, 680000.0], [4.0, 926250.0], [3.0, 535000.0], [4.0, 630000.0], [4.0, 400000.0], [3.0, 296500.0], [3.0, 395000.0], [3.0, 350000.0], [3.0, 541000.0], [5.0, 283450.0], [3.0, 485000.0], [2.0, 1087500.0], [3.0, 510000.0], [4.0, 639000.0], [3.0, 780000.0], [2.0, 306000.0], [3.0, 337000.0], [3.0, 690000.0], [4.0, 440000.0], [2.0, 450000.0], [2.0, 394000.0], [4.0, 465000.0], [4.0, 328000.0], [4.0, 395000.0], [3.0, 449000.0], [3.0, 366750.0], [2.0, 524950.0], [3.0, 425000.0], [3.0, 244615.0], [3.0, 264000.0], [2.0, 352900.0], [6.0, 698000.0], [3.0, 239900.0], [4.0, 661000.0], [3.0, 526000.0], [4.0, 455000.0], [3.0, 263900.0], [2.0, 335000.0], [4.0, 701000.0], [4.0, 377000.0], [2.0, 315000.0], [2.0, 304000.0], [3.0, 340000.0], [4.0, 579000.0], [5.0, 1880000.0], [2.0, 775000.0], [3.0, 460000.0], [3.0, 250000.0], [4.0, 520000.0], [4.0, 652600.0], [2.0, 385000.0], [4.0, 325000.0], [4.0, 337000.0], [3.0, 379260.0], [3.0, 432500.0], [3.0, 90000.0], [5.0, 560000.0], [3.0, 250000.0], [4.0, 550000.0], [3.0, 230000.0], [3.0, 192950.0], [3.0, 425000.0], [3.0, 316000.0], [2.0, 374000.0], [3.0, 830000.0], [4.0, 597000.0], [3.0, 395000.0], [3.0, 455000.0], [2.0, 227000.0], [4.0, 978000.0], [3.0, 154000.0], [2.0, 435000.0], [2.0, 195000.0], [3.0, 260000.0], [3.0, 350000.0], [3.0, 799000.0], [3.0, 265000.0], [4.0, 335000.0], [3.0, 445000.0], [2.0, 515000.0], [3.0, 887000.0], [3.0, 475000.0], [3.0, 885000.0], [3.0, 292500.0], [4.0, 571500.0], [2.0, 311300.0], [4.0, 805000.0], [4.0, 700000.0], [3.0, 450000.0], [3.0, 1600000.0], [4.0, 910000.0], [3.0, 360000.0], [2.0, 208000.0], [5.0, 500000.0], [3.0, 347000.0], [4.0, 400000.0], [4.0, 327000.0], [2.0, 234000.0], [3.0, 812000.0], [4.0, 417500.0], [3.0, 412000.0], [4.0, 825000.0], [3.0, 338900.0], [4.0, 1200000.0], [4.0, 529888.0], [3.0, 1190000.0], [2.0, 370000.0], [4.0, 609000.0], [5.0, 805000.0], [4.0, 355000.0], [2.0, 470000.0], [3.0, 640000.0], [3.0, 485000.0], [3.0, 550000.0], [4.0, 555000.0], [3.0, 820000.0], [2.0, 479000.0], [4.0, 435000.0], [3.0, 437500.0], [2.0, 370037.0], [5.0, 713500.0], [4.0, 448000.0], [4.0, 550000.0], [4.0, 249000.0], [3.0, 464000.0], [3.0, 465000.0], [4.0, 685000.0], [4.0, 257500.0], [4.0, 1035000.0], [3.0, 386500.0], [4.0, 506500.0], [4.0, 580000.0], [4.0, 650000.0], [4.0, 380000.0], [3.0, 249000.0], [3.0, 266000.0], [4.0, 860000.0], [2.0, 200000.0], [2.0, 330000.0], [3.0, 220000.0], [5.0, 1850000.0], [4.0, 479900.0], [3.0, 363000.0], [3.0, 310000.0], [4.0, 415000.0], [3.0, 643002.0], [4.0, 661254.0], [4.0, 560000.0], [5.0, 647500.0], [3.0, 235000.0], [3.0, 458000.0], [4.0, 540000.0], [4.0, 675000.0], [3.0, 310000.0], [4.0, 349000.0], [3.0, 760000.0], [3.0, 215000.0], [5.0, 1250000.0], [3.0, 954500.0], [3.0, 369900.0], [3.0, 372000.0], [4.0, 640000.0], [4.0, 1485000.0], [3.0, 415000.0], [4.0, 1260000.0], [4.0, 500000.0], [2.0, 352000.0], [5.0, 1600000.0], [4.0, 985000.0], [6.0, 3650000.0], [2.0, 330000.0], [2.0, 370000.0], [4.0, 762300.0], [3.0, 396500.0], [3.0, 474900.0], [4.0, 504058.0], [3.0, 329999.0], [2.0, 380000.0], [3.0, 740000.0], [4.0, 460000.0], [4.0, 525000.0], [3.0, 450000.0], [4.0, 530000.0], [5.0, 815000.0], [4.0, 287500.0], [2.0, 483000.0], [3.0, 246000.0], [3.0, 265000.0], [4.0, 310000.0], [2.0, 405000.0], [4.0, 619000.0], [5.0, 547000.0], [3.0, 541000.0], [3.0, 800000.0], [4.0, 266000.0], [3.0, 415000.0], [4.0, 653000.0], [3.0, 348125.0], [2.0, 600000.0], [4.0, 337000.0], [4.0, 249000.0], [4.0, 600000.0], [2.0, 107000.0], [3.0, 290000.0], [4.0, 1580000.0], [3.0, 479990.0], [3.0, 539000.0], [2.0, 325000.0], [4.0, 479000.0], [3.0, 240000.0]], \"columns\": [{\"dtype\": \"str\", \"name\": \"id\"}, {\"dtype\": \"datetime\", \"name\": \"date\"}, {\"dtype\": \"float\", \"name\": \"price\"}, {\"dtype\": \"float\", \"name\": \"bedrooms\"}, {\"dtype\": \"float\", \"name\": \"bathrooms\"}, {\"dtype\": \"float\", \"name\": \"sqft_living\"}, {\"dtype\": \"int\", \"name\": \"sqft_lot\"}, {\"dtype\": \"str\", \"name\": \"floors\"}, {\"dtype\": \"int\", \"name\": \"waterfront\"}, {\"dtype\": \"int\", \"name\": \"view\"}, {\"dtype\": \"int\", \"name\": \"condition\"}, {\"dtype\": \"int\", \"name\": \"grade\"}, {\"dtype\": \"int\", \"name\": \"sqft_above\"}, {\"dtype\": \"int\", \"name\": \"sqft_basement\"}, {\"dtype\": \"int\", \"name\": \"yr_built\"}, {\"dtype\": \"int\", \"name\": \"yr_renovated\"}, {\"dtype\": \"str\", \"name\": \"zipcode\"}, {\"dtype\": \"float\", \"name\": \"lat\"}, {\"dtype\": \"float\", \"name\": \"long\"}, {\"dtype\": \"float\", \"name\": \"sqft_living15\"}, {\"dtype\": \"float\", \"name\": \"sqft_lot15\"}]}, e);\n",
       "                });\n",
       "            })();\n",
       "        "
      ]
     },
     "metadata": {},
     "output_type": "display_data"
    }
   ],
   "source": [
    "graphlab.canvas.set_target('ipynb')\n",
    "# Test data\n",
    "test_data.show(view=\"Scatter Plot\", x=\"bedrooms\", y=\"price\")"
   ]
  },
  {
   "cell_type": "code",
   "execution_count": 32,
   "metadata": {},
   "outputs": [
    {
     "data": {
      "application/javascript": [
       "$(\"head\").append($(\"<link/>\").attr({\n",
       "  rel:  \"stylesheet\",\n",
       "  type: \"text/css\",\n",
       "  href: \"//cdnjs.cloudflare.com/ajax/libs/font-awesome/4.1.0/css/font-awesome.min.css\"\n",
       "}));\n",
       "$(\"head\").append($(\"<link/>\").attr({\n",
       "  rel:  \"stylesheet\",\n",
       "  type: \"text/css\",\n",
       "  href: \"https://static.turi.com/products/graphlab-create/2.1/canvas/css/canvas.css\"\n",
       "}));\n",
       "\n",
       "            (function(){\n",
       "\n",
       "                var e = null;\n",
       "                if (typeof element == 'undefined') {\n",
       "                    var scripts = document.getElementsByTagName('script');\n",
       "                    var thisScriptTag = scripts[scripts.length-1];\n",
       "                    var parentDiv = thisScriptTag.parentNode;\n",
       "                    e = document.createElement('div');\n",
       "                    parentDiv.appendChild(e);\n",
       "                } else {\n",
       "                    e = element[0];\n",
       "                }\n",
       "\n",
       "                if (typeof requirejs !== 'undefined') {\n",
       "                    // disable load timeout; ipython_app.js is large and can take a while to load.\n",
       "                    requirejs.config({waitSeconds: 0});\n",
       "                }\n",
       "\n",
       "                require(['https://static.turi.com/products/graphlab-create/2.1/canvas/js/ipython_app.js'], function(IPythonApp){\n",
       "                    var app = new IPythonApp();\n",
       "                    app.attachView('sframe','Plots', {\"selected_variable\": {\"name\": [\"train_data\"], \"descriptives\": {\"rows\": 17384, \"columns\": 21}, \"view_component\": \"Plots\", \"view_file\": \"sframe\", \"view_params\": {\"y\": \"price\", \"x\": \"bedrooms\", \"columns\": [\"id\", \"date\", \"price\", \"bedrooms\", \"bathrooms\", \"sqft_living\", \"sqft_lot\", \"floors\", \"waterfront\", \"view\", \"condition\", \"grade\", \"sqft_above\", \"sqft_basement\", \"yr_built\", \"yr_renovated\", \"zipcode\", \"lat\", \"long\", \"sqft_living15\", \"sqft_lot15\"], \"view\": \"Scatter Plot\"}, \"view_components\": [\"Summary\", \"Table\", \"Bar Chart\", \"BoxWhisker Plot\", \"Line Chart\", \"Scatter Plot\", \"Heat Map\", \"Plots\"], \"type\": \"SFrame\", \"columns\": [{\"dtype\": \"str\", \"name\": \"id\"}, {\"dtype\": \"datetime\", \"name\": \"date\"}, {\"dtype\": \"float\", \"name\": \"price\"}, {\"dtype\": \"float\", \"name\": \"bedrooms\"}, {\"dtype\": \"float\", \"name\": \"bathrooms\"}, {\"dtype\": \"float\", \"name\": \"sqft_living\"}, {\"dtype\": \"int\", \"name\": \"sqft_lot\"}, {\"dtype\": \"str\", \"name\": \"floors\"}, {\"dtype\": \"int\", \"name\": \"waterfront\"}, {\"dtype\": \"int\", \"name\": \"view\"}, {\"dtype\": \"int\", \"name\": \"condition\"}, {\"dtype\": \"int\", \"name\": \"grade\"}, {\"dtype\": \"int\", \"name\": \"sqft_above\"}, {\"dtype\": \"int\", \"name\": \"sqft_basement\"}, {\"dtype\": \"int\", \"name\": \"yr_built\"}, {\"dtype\": \"int\", \"name\": \"yr_renovated\"}, {\"dtype\": \"str\", \"name\": \"zipcode\"}, {\"dtype\": \"float\", \"name\": \"lat\"}, {\"dtype\": \"float\", \"name\": \"long\"}, {\"dtype\": \"float\", \"name\": \"sqft_living15\"}, {\"dtype\": \"float\", \"name\": \"sqft_lot15\"}], \"column_identifiers\": [\"bathrooms\", \"sqft_living15\", \"sqft_above\", \"grade\", \"yr_built\", \"price\", \"bedrooms\", \"zipcode\", \"long\", \"id\", \"sqft_lot15\", \"sqft_living\", \"floors\", \"sqft_lot\", \"date\", \"waterfront\", \"sqft_basement\", \"yr_renovated\", \"lat\", \"condition\", \"view\"]}, \"complete\": 1, \"ipython\": true, \"progress\": 1.0, \"data\": [[3.0, 380000.0], [3.0, 382000.0], [2.0, 180000.0], [3.0, 260000.0], [3.0, 355000.0], [3.0, 1326000.0], [5.0, 515000.0], [3.0, 248500.0], [4.0, 557000.0], [3.0, 395000.0], [2.0, 707000.0], [6.0, 752000.0], [4.0, 400000.0], [3.0, 475000.0], [3.0, 275000.0], [4.0, 1265000.0], [2.0, 325000.0], [3.0, 631750.0], [4.0, 695000.0], [3.0, 255000.0], [3.0, 425000.0], [4.0, 575000.0], [3.0, 405000.0], [4.0, 280927.0], [4.0, 926500.0], [3.0, 438000.0], [3.0, 443750.0], [4.0, 970000.0], [3.0, 480000.0], [3.0, 638000.0], [4.0, 550000.0], [3.0, 493000.0], [3.0, 430000.0], [4.0, 240000.0], [3.0, 209900.0], [4.0, 717000.0], [3.0, 463000.0], [4.0, 3850000.0], [4.0, 779950.0], [2.0, 562500.0], [3.0, 600000.0], [3.0, 342000.0], [4.0, 711800.0], [2.0, 182500.0], [4.0, 383000.0], [4.0, 450000.0], [3.0, 591000.0], [3.0, 315000.0], [5.0, 300000.0], [3.0, 415000.0], [4.0, 863500.0], [2.0, 500000.0], [4.0, 550000.0], [3.0, 285750.0], [4.0, 1146800.0], [3.0, 557500.0], [4.0, 303000.0], [5.0, 530000.0], [4.0, 995000.0], [3.0, 345000.0], [3.0, 149000.0], [3.0, 710000.0], [3.0, 999950.0], [1.0, 410000.0], [3.0, 325000.0], [4.0, 432000.0], [7.0, 999000.0], [4.0, 603500.0], [4.0, 720000.0], [3.0, 1164000.0], [3.0, 416500.0], [3.0, 250000.0], [3.0, 360500.0], [3.0, 311000.0], [3.0, 450000.0], [5.0, 402000.0], [3.0, 1047500.0], [4.0, 460000.0], [4.0, 310000.0], [3.0, 385000.0], [3.0, 394900.0], [3.0, 485000.0], [4.0, 321000.0], [4.0, 199000.0], [4.0, 650000.0], [3.0, 550000.0], [2.0, 219000.0], [4.0, 245000.0], [3.0, 685000.0], [4.0, 247500.0], [4.0, 590000.0], [3.0, 342500.0], [3.0, 460000.0], [4.0, 265000.0], [4.0, 535000.0], [3.0, 340000.0], [3.0, 805000.0], [4.0, 420000.0], [2.0, 168000.0], [2.0, 276200.0], [3.0, 250000.0], [2.0, 205425.0], [3.0, 257000.0], [4.0, 739000.0], [3.0, 263000.0], [3.0, 590000.0], [3.0, 615000.0], [4.0, 445000.0], [5.0, 346500.0], [1.0, 430000.0], [2.0, 460000.0], [3.0, 381000.0], [4.0, 430000.0], [3.0, 212000.0], [3.0, 339950.0], [4.0, 240000.0], [2.0, 217500.0], [4.0, 495000.0], [3.0, 250000.0], [4.0, 730000.0], [3.0, 172380.0], [3.0, 795000.0], [3.0, 246950.0], [2.0, 535000.0], [4.0, 910000.0], [3.0, 225000.0], [1.0, 238000.0], [3.0, 589000.0], [4.0, 465000.0], [2.0, 825000.0], [4.0, 375000.0], [4.0, 2250000.0], [4.0, 602500.0], [4.0, 327000.0], [4.0, 965000.0], [3.0, 250000.0], [4.0, 770000.0], [4.0, 775000.0], [4.0, 325088.0], [4.0, 1557600.0], [2.0, 412000.0], [2.0, 334500.0], [4.0, 397450.0], [3.0, 350000.0], [3.0, 371500.0], [3.0, 353500.0], [3.0, 160000.0], [3.0, 600000.0], [2.0, 477500.0], [3.0, 480000.0], [2.0, 200000.0], [3.0, 420000.0], [4.0, 549000.0], [4.0, 639000.0], [4.0, 495000.0], [3.0, 349000.0], [3.0, 930000.0], [4.0, 600000.0], [3.0, 226740.0], [4.0, 615000.0], [3.0, 585188.0], [4.0, 712000.0], [3.0, 166950.0], [3.0, 670000.0], [3.0, 440000.0], [3.0, 400000.0], [3.0, 256883.0], [3.0, 585000.0], [2.0, 535000.0], [3.0, 700000.0], [4.0, 1000000.0], [2.0, 431000.0], [3.0, 620000.0], [3.0, 718000.0], [2.0, 485500.0], [3.0, 599950.0], [3.0, 460000.0], [4.0, 272000.0], [4.0, 464000.0], [3.0, 415000.0], [4.0, 540000.0], [3.0, 778000.0], [4.0, 286000.0], [4.0, 410000.0], [3.0, 345000.0], [3.0, 291750.0], [4.0, 415000.0], [4.0, 259500.0], [4.0, 655000.0], [4.0, 915000.0], [5.0, 475000.0], [3.0, 529950.0], [3.0, 385000.0], [3.0, 287000.0], [2.0, 495000.0], [6.0, 315000.0], [3.0, 395000.0], [2.0, 582500.0], [3.0, 416000.0], [3.0, 192500.0], [3.0, 610000.0], [4.0, 781000.0], [4.0, 179000.0], [4.0, 550000.0], [3.0, 310000.0], [4.0, 812000.0], [4.0, 620000.0], [3.0, 403000.0], [4.0, 1298000.0], [5.0, 830000.0], [4.0, 525000.0], [4.0, 1258000.0], [3.0, 475000.0], [4.0, 565000.0], [3.0, 431000.0], [4.0, 385000.0], [6.0, 1313000.0], [4.0, 1650000.0], [4.0, 290000.0], [4.0, 442500.0], [3.0, 625000.0], [5.0, 339950.0], [2.0, 385000.0], [4.0, 635000.0], [5.0, 837000.0], [3.0, 255500.0], [5.0, 342500.0], [3.0, 237000.0], [4.0, 289950.0], [3.0, 250800.0], [3.0, 245700.0], [4.0, 825000.0], [3.0, 210000.0], [3.0, 217000.0], [4.0, 770000.0], [2.0, 395000.0], [5.0, 830000.0], [3.0, 522000.0], [4.0, 280000.0], [3.0, 330000.0], [3.0, 606400.0], [3.0, 375000.0], [3.0, 532500.0], [3.0, 720000.0], [4.0, 480000.0], [3.0, 265000.0], [3.0, 387500.0], [3.0, 716000.0], [3.0, 907000.0], [4.0, 235000.0], [3.0, 675000.0], [4.0, 564000.0], [5.0, 515000.0], [3.0, 665000.0], [3.0, 295000.0], [3.0, 210000.0], [3.0, 460000.0], [3.0, 475000.0], [3.0, 580000.0], [3.0, 345000.0], [5.0, 975000.0], [3.0, 440000.0], [3.0, 900000.0], [3.0, 227000.0], [4.0, 278000.0], [2.0, 395000.0], [3.0, 203000.0], [3.0, 314500.0], [3.0, 332900.0], [4.0, 263000.0], [4.0, 220000.0], [4.0, 465000.0], [2.0, 320000.0], [3.0, 430000.0], [2.0, 970000.0], [2.0, 240000.0], [4.0, 675000.0], [2.0, 755000.0], [4.0, 302000.0], [4.0, 272750.0], [6.0, 950000.0], [4.0, 239900.0], [5.0, 1200000.0], [4.0, 500000.0], [3.0, 315000.0], [2.0, 825000.0], [4.0, 305000.0], [3.0, 303100.0], [3.0, 425000.0], [3.0, 310000.0], [2.0, 508000.0], [2.0, 689800.0], [3.0, 562500.0], [3.0, 435000.0], [3.0, 465000.0], [3.0, 865000.0], [3.0, 406500.0], [4.0, 599000.0], [2.0, 90000.0], [3.0, 675000.0], [4.0, 255000.0], [3.0, 692500.0], [3.0, 245000.0], [5.0, 679950.0], [6.0, 5300000.0], [3.0, 196000.0], [3.0, 950000.0], [3.0, 325000.0], [3.0, 535000.0], [3.0, 459990.0], [4.0, 850000.0], [3.0, 480000.0], [4.0, 725000.0], [4.0, 345000.0], [3.0, 345950.0], [6.0, 260000.0], [3.0, 491150.0], [3.0, 378750.0], [2.0, 289000.0], [2.0, 280000.0], [3.0, 718500.0], [3.0, 210000.0], [3.0, 450000.0], [3.0, 552500.0], [3.0, 224000.0], [4.0, 500000.0], [2.0, 195000.0], [4.0, 455000.0], [3.0, 747000.0], [2.0, 230000.0], [4.0, 541100.0], [3.0, 609500.0], [3.0, 324950.0], [4.0, 712000.0], [3.0, 200126.0], [4.0, 510000.0], [4.0, 880000.0], [4.0, 381800.0], [4.0, 364950.0], [3.0, 348000.0], [3.0, 720000.0], [4.0, 328500.0], [3.0, 563225.0], [3.0, 276000.0], [2.0, 189650.0], [4.0, 515000.0], [3.0, 480000.0], [6.0, 405000.0], [4.0, 353000.0], [4.0, 350000.0], [4.0, 922755.0], [2.0, 641000.0], [3.0, 898000.0], [3.0, 491000.0], [3.0, 390000.0], [3.0, 485000.0], [4.0, 865000.0], [4.0, 679000.0], [4.0, 810000.0], [3.0, 284850.0], [2.0, 329950.0], [3.0, 200000.0], [4.0, 753888.0], [3.0, 705000.0], [5.0, 260000.0], [3.0, 578000.0], [4.0, 350000.0], [6.0, 893880.0], [3.0, 460000.0], [5.0, 525000.0], [3.0, 233000.0], [2.0, 255000.0], [3.0, 520000.0], [5.0, 459000.0], [3.0, 495000.0], [4.0, 215000.0], [3.0, 656000.0], [3.0, 251700.0], [3.0, 914154.0], [3.0, 535500.0], [4.0, 1070000.0], [3.0, 202500.0], [4.0, 616500.0], [4.0, 300000.0], [2.0, 235000.0], [4.0, 505000.0], [4.0, 1325000.0], [3.0, 875000.0], [4.0, 2400000.0], [4.0, 489500.0], [3.0, 355300.0], [3.0, 392500.0], [3.0, 1500000.0], [4.0, 324950.0], [3.0, 230000.0], [2.0, 219950.0], [3.0, 375000.0], [4.0, 535000.0], [2.0, 354000.0], [3.0, 415000.0], [4.0, 308950.0], [4.0, 847093.0], [6.0, 730000.0], [4.0, 664000.0], [4.0, 738950.0], [3.0, 538000.0], [3.0, 226000.0], [4.0, 311000.0], [4.0, 263850.0], [4.0, 487500.0], [5.0, 600000.0], [3.0, 265000.0], [3.0, 402000.0], [4.0, 998000.0], [4.0, 479000.0], [3.0, 355000.0], [2.0, 578888.0], [4.0, 965000.0], [4.0, 654950.0], [3.0, 325000.0], [3.0, 495000.0], [4.0, 1280000.0], [4.0, 760000.0], [4.0, 875000.0], [3.0, 802000.0], [4.0, 426000.0], [4.0, 383000.0], [3.0, 372000.0], [4.0, 175000.0], [4.0, 910000.0], [3.0, 340000.0], [4.0, 555000.0], [4.0, 315000.0], [4.0, 323000.0], [4.0, 485000.0], [3.0, 660000.0], [3.0, 550000.0], [4.0, 855000.0], [3.0, 399000.0], [2.0, 356000.0], [4.0, 810000.0], [4.0, 530000.0], [4.0, 404950.0], [4.0, 182568.0], [5.0, 405000.0], [4.0, 495000.0], [3.0, 342400.0], [4.0, 704300.0], [2.0, 335000.0], [3.0, 687500.0], [3.0, 580000.0], [3.0, 834538.0], [4.0, 190848.0], [4.0, 420000.0], [4.0, 270000.0], [3.0, 137000.0], [4.0, 963000.0], [2.0, 389100.0], [4.0, 429900.0], [2.0, 235000.0], [2.0, 499000.0], [5.0, 1735000.0], [3.0, 314000.0], [3.0, 239950.0], [3.0, 524000.0], [3.0, 546000.0], [4.0, 380000.0], [3.0, 565000.0], [5.0, 895950.0], [3.0, 179900.0], [4.0, 347500.0], [3.0, 349900.0], [2.0, 507000.0], [4.0, 416000.0], [3.0, 410000.0], [4.0, 799950.0], [3.0, 500000.0], [3.0, 1050000.0], [4.0, 520000.0], [2.0, 412000.0], [2.0, 340000.0], [2.0, 230000.0], [3.0, 285000.0], [4.0, 509000.0], [2.0, 378000.0], [4.0, 415000.0], [3.0, 790000.0], [4.0, 1315000.0], [3.0, 185000.0], [3.0, 260000.0], [3.0, 505000.0], [3.0, 200000.0], [5.0, 359999.0], [2.0, 235000.0], [4.0, 866500.0], [3.0, 205000.0], [4.0, 422000.0], [3.0, 339000.0], [3.0, 260000.0], [2.0, 565000.0], [4.0, 681000.0], [3.0, 650000.0], [4.0, 984000.0], [4.0, 334950.0], [4.0, 510000.0], [4.0, 345000.0], [3.0, 300000.0], [3.0, 383000.0], [3.0, 610000.0], [3.0, 529500.0], [3.0, 295000.0], [4.0, 940000.0], [3.0, 375000.0], [4.0, 742500.0], [3.0, 280000.0], [2.0, 242000.0], [3.0, 175000.0], [4.0, 642860.0], [10.0, 660000.0], [3.0, 526000.0], [3.0, 208000.0], [4.0, 710000.0], [4.0, 340000.0], [4.0, 680000.0], [3.0, 257000.0], [1.0, 395000.0], [4.0, 833000.0], [3.0, 635000.0], [2.0, 408000.0], [3.0, 244000.0], [3.0, 449500.0], [4.0, 905000.0], [3.0, 520000.0], [3.0, 497000.0], [4.0, 280500.0], [3.0, 239999.0], [3.0, 311000.0], [3.0, 285000.0], [3.0, 416000.0], [2.0, 255000.0], [3.0, 520000.0], [3.0, 408000.0], [3.0, 499950.0], [2.0, 403000.0], [2.0, 413500.0], [4.0, 719521.0], [4.0, 487250.0], [2.0, 475000.0], [5.0, 1710000.0], [2.0, 455000.0], [1.0, 194000.0], [3.0, 255000.0], [2.0, 175000.0], [3.0, 950000.0], [4.0, 310000.0], [4.0, 775000.0], [3.0, 467000.0], [2.0, 822500.0], [3.0, 390000.0], [2.0, 778100.0], [3.0, 360000.0], [3.0, 380000.0], [4.0, 518000.0], [2.0, 114000.0], [4.0, 390000.0], [3.0, 585000.0], [3.0, 333000.0], [4.0, 338500.0], [3.0, 425000.0], [3.0, 625000.0], [4.0, 1270000.0], [5.0, 850000.0], [1.0, 525000.0], [3.0, 330000.0], [3.0, 658588.0], [2.0, 121800.0], [2.0, 450000.0], [5.0, 1800000.0], [3.0, 408000.0], [3.0, 347500.0], [3.0, 310000.0], [3.0, 300000.0], [3.0, 233000.0], [4.0, 249000.0], [3.0, 420000.0], [3.0, 467000.0], [5.0, 988830.0], [6.0, 475000.0], [4.0, 339900.0], [2.0, 411000.0], [3.0, 329900.0], [3.0, 221347.0], [4.0, 275000.0], [3.0, 460000.0], [2.0, 290000.0], [3.0, 410000.0], [4.0, 380000.0], [2.0, 410000.0], [3.0, 670000.0], [2.0, 367500.0], [3.0, 332500.0], [3.0, 435000.0], [3.0, 252000.0], [2.0, 229500.0], [3.0, 255000.0], [5.0, 1670000.0], [3.0, 190000.0], [6.0, 325000.0], [4.0, 785000.0], [3.0, 1385000.0], [3.0, 265000.0], [3.0, 269950.0], [4.0, 705000.0], [2.0, 700000.0], [3.0, 270000.0], [3.0, 225000.0], [4.0, 415000.0], [3.0, 397500.0], [3.0, 430000.0], [2.0, 357562.0], [3.0, 717500.0], [3.0, 818900.0], [5.0, 1800000.0], [4.0, 515000.0], [3.0, 214000.0], [5.0, 949950.0], [4.0, 572000.0], [3.0, 248000.0], [3.0, 246500.0], [3.0, 415000.0], [2.0, 237500.0], [4.0, 671000.0], [4.0, 700000.0], [3.0, 500000.0], [3.0, 392000.0], [3.0, 157500.0], [4.0, 500000.0], [3.0, 288000.0], [2.0, 419000.0], [2.0, 405000.0], [3.0, 488000.0], [3.0, 345000.0], [3.0, 330950.0], [3.0, 385000.0], [4.0, 455000.0], [5.0, 650000.0], [7.0, 750000.0], [3.0, 252500.0], [4.0, 515000.0], [3.0, 208800.0], [4.0, 945800.0], [4.0, 540000.0], [2.0, 358500.0], [3.0, 380000.0], [3.0, 400000.0], [4.0, 407450.0], [1.0, 285000.0], [3.0, 180500.0], [3.0, 324950.0], [3.0, 440000.0], [2.0, 335000.0], [3.0, 259500.0], [3.0, 299900.0], [4.0, 897000.0], [6.0, 725000.0], [2.0, 410000.0], [2.0, 199400.0], [4.0, 320000.0], [3.0, 700000.0], [4.0, 855000.0], [4.0, 627800.0], [2.0, 357186.0], [4.0, 1200000.0], [3.0, 449888.0], [3.0, 375500.0], [3.0, 184000.0], [3.0, 635000.0], [4.0, 545000.0], [4.0, 365500.0], [3.0, 569000.0], [3.0, 300000.0], [3.0, 419500.0], [4.0, 243500.0], [4.0, 411000.0], [2.0, 475000.0], [4.0, 435000.0], [3.0, 257000.0], [4.0, 279000.0], [3.0, 642450.0], [5.0, 1378600.0], [5.0, 593500.0], [3.0, 234000.0], [2.0, 305000.0], [5.0, 1205000.0], [3.0, 235000.0], [4.0, 369000.0], [4.0, 975000.0], [4.0, 885000.0], [2.0, 192500.0], [3.0, 517500.0], [4.0, 483300.0], [2.0, 466000.0], [4.0, 930000.0], [3.0, 231000.0], [3.0, 585000.0], [3.0, 209500.0], [3.0, 715000.0], [2.0, 425000.0], [5.0, 287500.0], [4.0, 1500000.0], [4.0, 435000.0], [3.0, 390000.0], [4.0, 839900.0], [3.0, 399000.0], [3.0, 860000.0], [3.0, 519000.0], [3.0, 533500.0], [4.0, 790000.0], [4.0, 425000.0], [3.0, 324950.0], [3.0, 352950.0], [4.0, 580000.0], [3.0, 300000.0], [3.0, 545000.0], [2.0, 570000.0], [3.0, 570000.0], [4.0, 490000.0], [2.0, 475000.0], [3.0, 370000.0], [4.0, 645000.0], [4.0, 534000.0], [4.0, 636230.0], [3.0, 350000.0], [3.0, 384000.0], [5.0, 268000.0], [4.0, 760005.0], [2.0, 359000.0], [4.0, 353500.0], [4.0, 307000.0], [3.0, 780000.0], [3.0, 545000.0], [3.0, 539000.0], [6.0, 710000.0], [4.0, 355000.0], [3.0, 249950.0], [3.0, 720000.0], [3.0, 350000.0], [3.0, 381000.0], [4.0, 450000.0], [4.0, 569500.0], [3.0, 1321500.0], [3.0, 625000.0], [4.0, 575000.0], [3.0, 675000.0], [4.0, 1250000.0], [3.0, 624000.0], [2.0, 269500.0], [3.0, 464600.0], [5.0, 199950.0], [3.0, 320000.0], [3.0, 540000.0], [3.0, 575000.0], [3.0, 288400.0], [4.0, 774000.0], [4.0, 439950.0], [5.0, 810000.0], [3.0, 345000.0], [3.0, 180000.0], [4.0, 660000.0], [2.0, 165000.0], [3.0, 375000.0], [2.0, 460000.0], [2.0, 306500.0], [4.0, 387990.0], [3.0, 539000.0], [3.0, 685000.0], [5.0, 855000.0], [3.0, 270000.0], [3.0, 237500.0], [3.0, 1025000.0], [4.0, 451000.0], [4.0, 1205000.0], [3.0, 848000.0], [3.0, 480000.0], [6.0, 1125000.0], [4.0, 425500.0], [4.0, 994000.0], [4.0, 303000.0], [3.0, 484950.0], [3.0, 351000.0], [2.0, 824000.0], [3.0, 294570.0], [3.0, 727000.0], [3.0, 310000.0], [3.0, 413252.0], [3.0, 1450000.0], [2.0, 306000.0], [3.0, 350000.0], [1.0, 135000.0], [3.0, 759000.0], [4.0, 782000.0], [3.0, 225000.0], [4.0, 669500.0], [5.0, 475000.0], [2.0, 365500.0], [2.0, 495000.0], [4.0, 340000.0], [3.0, 509950.0], [4.0, 538200.0], [4.0, 345000.0], [3.0, 320000.0], [3.0, 256703.0], [4.0, 330000.0], [3.0, 425000.0], [2.0, 355000.0], [2.0, 395000.0], [3.0, 480000.0], [3.0, 650000.0], [5.0, 889950.0], [3.0, 660000.0], [2.0, 464050.0], [3.0, 550000.0], [4.0, 247500.0], [4.0, 697000.0], [4.0, 475000.0], [4.0, 379000.0], [4.0, 1325000.0], [3.0, 720000.0], [4.0, 762500.0], [2.0, 230000.0], [3.0, 247500.0], [4.0, 899000.0], [3.0, 562000.0], [3.0, 1600000.0], [3.0, 250000.0], [3.0, 510000.0], [2.0, 249950.0], [3.0, 437718.0], [3.0, 435000.0], [4.0, 1150000.0], [4.0, 1750000.0], [3.0, 685000.0], [2.0, 525000.0], [4.0, 824000.0], [4.0, 895000.0], [3.0, 261500.0], [3.0, 229000.0], [2.0, 265000.0], [2.0, 380000.0], [4.0, 615000.0], [3.0, 318000.0], [4.0, 1218000.0], [2.0, 300000.0], [4.0, 400000.0], [2.0, 250000.0], [3.0, 303000.0], [4.0, 946000.0], [3.0, 480000.0], [4.0, 935100.0], [8.0, 373000.0], [4.0, 450000.0], [2.0, 345000.0], [3.0, 370000.0], [4.0, 882566.0], [3.0, 437500.0], [8.0, 700000.0], [3.0, 678000.0], [5.0, 569900.0], [3.0, 340000.0], [4.0, 1500000.0], [4.0, 450000.0], [3.0, 322500.0], [5.0, 1126000.0], [2.0, 139500.0], [4.0, 1225000.0], [3.0, 309212.0], [3.0, 375000.0], [3.0, 309500.0], [3.0, 390000.0], [4.0, 875000.0], [3.0, 457500.0], [3.0, 738000.0], [4.0, 870000.0], [3.0, 369950.0], [5.0, 477500.0], [3.0, 539950.0], [5.0, 349950.0], [3.0, 535000.0], [3.0, 1015000.0], [3.0, 872500.0], [3.0, 315000.0], [3.0, 388000.0], [3.0, 330000.0], [3.0, 699000.0], [2.0, 159100.0], [2.0, 482000.0], [2.0, 795000.0], [4.0, 730000.0], [3.0, 469950.0], [3.0, 221000.0], [2.0, 156000.0], [3.0, 303000.0], [7.0, 420000.0], [4.0, 995000.0], [4.0, 370000.0], [5.0, 480000.0], [2.0, 455000.0], [4.0, 1425000.0], [4.0, 278100.0], [4.0, 468000.0], [4.0, 419000.0], [3.0, 549500.0], [3.0, 385000.0], [2.0, 180000.0], [2.0, 95000.0], [3.0, 429000.0], [3.0, 551000.0], [3.0, 729000.0], [3.0, 255000.0], [2.0, 200000.0], [4.0, 602000.0], [4.0, 1060000.0], [4.0, 253000.0], [4.0, 290000.0], [3.0, 319000.0], [3.0, 515000.0], [4.0, 790000.0], [5.0, 400000.0], [3.0, 235000.0], [4.0, 475000.0], [3.0, 230000.0], [4.0, 813500.0], [3.0, 588000.0], [5.0, 685000.0], [4.0, 328000.0], [4.0, 691000.0], [3.0, 570000.0], [4.0, 261490.0], [4.0, 234000.0], [3.0, 1100000.0], [3.0, 285000.0], [5.0, 632000.0], [4.0, 695000.0], [4.0, 349900.0], [4.0, 415000.0], [3.0, 405000.0], [5.0, 367777.0], [3.0, 403000.0], [3.0, 549000.0], [3.0, 306000.0], [4.0, 667400.0], [3.0, 539950.0], [3.0, 765000.0], [4.0, 400000.0], [4.0, 198000.0], [2.0, 645500.0], [4.0, 540000.0], [2.0, 406500.0], [2.0, 405000.0], [3.0, 158000.0], [2.0, 129888.0], [3.0, 375000.0], [2.0, 585000.0], [4.0, 178000.0], [4.0, 465000.0], [4.0, 395000.0], [4.0, 580000.0], [2.0, 220000.0], [2.0, 208000.0], [4.0, 828000.0], [4.0, 465000.0], [4.0, 335000.0], [4.0, 752000.0], [3.0, 179950.0], [2.0, 545000.0], [3.0, 724800.0], [4.0, 350000.0], [4.0, 583000.0], [2.0, 250275.0], [3.0, 270000.0], [4.0, 975000.0], [3.0, 291000.0], [3.0, 645000.0], [5.0, 925000.0], [4.0, 401500.0], [4.0, 1980000.0], [4.0, 425000.0], [3.0, 549000.0], [2.0, 341000.0], [3.0, 550000.0], [4.0, 855000.0], [4.0, 245000.0], [3.0, 850000.0], [3.0, 589950.0], [4.0, 458000.0], [4.0, 400950.0], [5.0, 852000.0], [3.0, 661000.0], [2.0, 265000.0], [3.0, 285000.0]], \"columns\": [{\"dtype\": \"str\", \"name\": \"id\"}, {\"dtype\": \"datetime\", \"name\": \"date\"}, {\"dtype\": \"float\", \"name\": \"price\"}, {\"dtype\": \"float\", \"name\": \"bedrooms\"}, {\"dtype\": \"float\", \"name\": \"bathrooms\"}, {\"dtype\": \"float\", \"name\": \"sqft_living\"}, {\"dtype\": \"int\", \"name\": \"sqft_lot\"}, {\"dtype\": \"str\", \"name\": \"floors\"}, {\"dtype\": \"int\", \"name\": \"waterfront\"}, {\"dtype\": \"int\", \"name\": \"view\"}, {\"dtype\": \"int\", \"name\": \"condition\"}, {\"dtype\": \"int\", \"name\": \"grade\"}, {\"dtype\": \"int\", \"name\": \"sqft_above\"}, {\"dtype\": \"int\", \"name\": \"sqft_basement\"}, {\"dtype\": \"int\", \"name\": \"yr_built\"}, {\"dtype\": \"int\", \"name\": \"yr_renovated\"}, {\"dtype\": \"str\", \"name\": \"zipcode\"}, {\"dtype\": \"float\", \"name\": \"lat\"}, {\"dtype\": \"float\", \"name\": \"long\"}, {\"dtype\": \"float\", \"name\": \"sqft_living15\"}, {\"dtype\": \"float\", \"name\": \"sqft_lot15\"}]}, e);\n",
       "                });\n",
       "            })();\n",
       "        "
      ]
     },
     "metadata": {},
     "output_type": "display_data"
    }
   ],
   "source": [
    "# Test data\n",
    "train_data.show(view=\"Scatter Plot\", x=\"bedrooms\", y=\"price\")"
   ]
  },
  {
   "cell_type": "code",
   "execution_count": 29,
   "metadata": {},
   "outputs": [
    {
     "data": {
      "application/javascript": [
       "$(\"head\").append($(\"<link/>\").attr({\n",
       "  rel:  \"stylesheet\",\n",
       "  type: \"text/css\",\n",
       "  href: \"//cdnjs.cloudflare.com/ajax/libs/font-awesome/4.1.0/css/font-awesome.min.css\"\n",
       "}));\n",
       "$(\"head\").append($(\"<link/>\").attr({\n",
       "  rel:  \"stylesheet\",\n",
       "  type: \"text/css\",\n",
       "  href: \"https://static.turi.com/products/graphlab-create/2.1/canvas/css/canvas.css\"\n",
       "}));\n",
       "\n",
       "            (function(){\n",
       "\n",
       "                var e = null;\n",
       "                if (typeof element == 'undefined') {\n",
       "                    var scripts = document.getElementsByTagName('script');\n",
       "                    var thisScriptTag = scripts[scripts.length-1];\n",
       "                    var parentDiv = thisScriptTag.parentNode;\n",
       "                    e = document.createElement('div');\n",
       "                    parentDiv.appendChild(e);\n",
       "                } else {\n",
       "                    e = element[0];\n",
       "                }\n",
       "\n",
       "                if (typeof requirejs !== 'undefined') {\n",
       "                    // disable load timeout; ipython_app.js is large and can take a while to load.\n",
       "                    requirejs.config({waitSeconds: 0});\n",
       "                }\n",
       "\n",
       "                require(['https://static.turi.com/products/graphlab-create/2.1/canvas/js/ipython_app.js'], function(IPythonApp){\n",
       "                    var app = new IPythonApp();\n",
       "                    app.attachView('sframe','Plots', {\"selected_variable\": {\"name\": [\"test_data\"], \"descriptives\": {\"rows\": 4229, \"columns\": 21}, \"view_component\": \"Plots\", \"view_file\": \"sframe\", \"view_params\": {\"y\": \"price\", \"x\": \"sqft_living\", \"columns\": [\"id\", \"date\", \"price\", \"bedrooms\", \"bathrooms\", \"sqft_living\", \"sqft_lot\", \"floors\", \"waterfront\", \"view\", \"condition\", \"grade\", \"sqft_above\", \"sqft_basement\", \"yr_built\", \"yr_renovated\", \"zipcode\", \"lat\", \"long\", \"sqft_living15\", \"sqft_lot15\"], \"view\": \"Scatter Plot\"}, \"view_components\": [\"Summary\", \"Table\", \"Bar Chart\", \"BoxWhisker Plot\", \"Line Chart\", \"Scatter Plot\", \"Heat Map\", \"Plots\"], \"type\": \"SFrame\", \"columns\": [{\"dtype\": \"str\", \"name\": \"id\"}, {\"dtype\": \"datetime\", \"name\": \"date\"}, {\"dtype\": \"float\", \"name\": \"price\"}, {\"dtype\": \"float\", \"name\": \"bedrooms\"}, {\"dtype\": \"float\", \"name\": \"bathrooms\"}, {\"dtype\": \"float\", \"name\": \"sqft_living\"}, {\"dtype\": \"int\", \"name\": \"sqft_lot\"}, {\"dtype\": \"str\", \"name\": \"floors\"}, {\"dtype\": \"int\", \"name\": \"waterfront\"}, {\"dtype\": \"int\", \"name\": \"view\"}, {\"dtype\": \"int\", \"name\": \"condition\"}, {\"dtype\": \"int\", \"name\": \"grade\"}, {\"dtype\": \"int\", \"name\": \"sqft_above\"}, {\"dtype\": \"int\", \"name\": \"sqft_basement\"}, {\"dtype\": \"int\", \"name\": \"yr_built\"}, {\"dtype\": \"int\", \"name\": \"yr_renovated\"}, {\"dtype\": \"str\", \"name\": \"zipcode\"}, {\"dtype\": \"float\", \"name\": \"lat\"}, {\"dtype\": \"float\", \"name\": \"long\"}, {\"dtype\": \"float\", \"name\": \"sqft_living15\"}, {\"dtype\": \"float\", \"name\": \"sqft_lot15\"}], \"column_identifiers\": [\"bathrooms\", \"sqft_living15\", \"sqft_above\", \"grade\", \"yr_built\", \"price\", \"bedrooms\", \"zipcode\", \"long\", \"id\", \"sqft_lot15\", \"sqft_living\", \"floors\", \"sqft_lot\", \"date\", \"waterfront\", \"sqft_basement\", \"yr_renovated\", \"lat\", \"condition\", \"view\"]}, \"complete\": 1, \"ipython\": true, \"progress\": 1.0, \"data\": [[3420.0, 655000.0], [790.0, 115000.0], [2400.0, 325000.0], [1480.0, 276000.0], [3220.0, 630000.0], [1500.0, 352500.0], [4220.0, 775000.0], [2150.0, 392500.0], [1820.0, 227490.0], [2420.0, 279950.0], [1790.0, 349000.0], [3190.0, 359500.0], [1980.0, 243500.0], [1960.0, 247500.0], [1000.0, 249000.0], [4070.0, 993500.0], [3280.0, 862500.0], [1420.0, 485000.0], [2280.0, 570000.0], [1760.0, 471000.0], [930.0, 306000.0], [920.0, 255000.0], [1680.0, 286000.0], [1570.0, 350000.0], [2450.0, 682000.0], [2720.0, 632500.0], [1610.0, 270000.0], [730.0, 217000.0], [2810.0, 1565000.0], [1690.0, 230500.0], [1580.0, 289000.0], [2480.0, 840000.0], [4260.0, 3400000.0], [2330.0, 490000.0], [1820.0, 359000.0], [1510.0, 479950.0], [1720.0, 264950.0], [3160.0, 1381000.0], [2010.0, 960000.0], [1650.0, 472500.0], [2170.0, 913000.0], [1370.0, 257950.0], [2310.0, 890000.0], [1760.0, 688500.0], [1150.0, 450000.0], [3350.0, 1110000.0], [2410.0, 735000.0], [2570.0, 625000.0], [1710.0, 488500.0], [2840.0, 557000.0], [1430.0, 403250.0], [2200.0, 315000.0], [2120.0, 300000.0], [3160.0, 1190000.0], [1470.0, 548000.0], [2030.0, 520000.0], [1450.0, 230000.0], [1770.0, 671500.0], [2600.0, 452000.0], [4140.0, 1400000.0], [2010.0, 430000.0], [1430.0, 440000.0], [2620.0, 815000.0], [4720.0, 745000.0], [1690.0, 460000.0], [1390.0, 206600.0], [560.0, 299000.0], [4190.0, 1150000.0], [990.0, 437500.0], [3240.0, 719950.0], [1800.0, 335620.0], [3520.0, 810000.0], [1140.0, 275000.0], [1990.0, 510000.0], [3280.0, 925000.0], [1660.0, 209950.0], [1720.0, 360000.0], [2170.0, 842000.0], [1600.0, 330000.0], [3300.0, 927000.0], [1080.0, 147400.0], [1220.0, 555950.0], [1820.0, 322500.0], [2910.0, 805000.0], [2390.0, 339000.0], [1220.0, 222000.0], [2200.0, 423000.0], [1480.0, 319000.0], [1410.0, 295832.0], [1680.0, 625000.0], [2330.0, 577500.0], [2060.0, 541338.0], [2680.0, 653000.0], [2370.0, 335000.0], [940.0, 325000.0], [2100.0, 483000.0], [1200.0, 234000.0], [1300.0, 400000.0], [1920.0, 429000.0], [630.0, 315000.0], [2870.0, 872750.0], [2430.0, 723000.0], [1680.0, 370000.0], [1660.0, 449000.0], [2110.0, 796000.0], [1670.0, 348000.0], [590.0, 240000.0], [3828.0, 552900.0], [1880.0, 541900.0], [1710.0, 368000.0], [1820.0, 350000.0], [1110.0, 293000.0], [4720.0, 875000.0], [2190.0, 418500.0], [1980.0, 299000.0], [1860.0, 250000.0], [2720.0, 535000.0], [1020.0, 235000.0], [1430.0, 518000.0], [1180.0, 610000.0], [1160.0, 405000.0], [700.0, 199950.0], [1805.0, 266000.0], [1220.0, 253000.0], [2430.0, 485000.0], [1360.0, 329950.0], [3990.0, 2720000.0], [3200.0, 1220000.0], [2420.0, 399950.0], [3100.0, 590000.0], [1880.0, 485000.0], [2540.0, 775000.0], [2790.0, 665000.0], [4050.0, 1380000.0], [920.0, 555500.0], [1750.0, 510000.0], [2490.0, 360000.0], [3550.0, 880000.0], [1760.0, 620047.0], [1230.0, 275000.0], [2680.0, 590000.0], [1800.0, 865000.0], [1220.0, 387500.0], [2020.0, 345000.0], [2900.0, 690000.0], [1220.0, 245000.0], [3420.0, 548000.0], [750.0, 250000.0], [3610.0, 830005.0], [1670.0, 289950.0], [3560.0, 435000.0], [1160.0, 453000.0], [2460.0, 579950.0], [1090.0, 350000.0], [2170.0, 709000.0], [2840.0, 685000.0], [2070.0, 405000.0], [1170.0, 459000.0], [2790.0, 950000.0], [1740.0, 575000.0], [3950.0, 1310000.0], [840.0, 355000.0], [910.0, 301000.0], [1500.0, 239000.0], [2920.0, 555000.0], [3700.0, 540000.0], [3030.0, 799950.0], [1870.0, 330000.0], [1940.0, 232500.0], [3220.0, 384000.0], [1570.0, 281700.0], [770.0, 407500.0], [2050.0, 260000.0], [2732.0, 480000.0], [1030.0, 365000.0], [1530.0, 449950.0], [880.0, 550000.0], [2710.0, 502700.0], [5840.0, 2200000.0], [3220.0, 625000.0], [3140.0, 990000.0], [1180.0, 299000.0], [3064.0, 1095000.0], [1180.0, 215000.0], [2130.0, 850000.0], [3200.0, 1270000.0], [1960.0, 445000.0], [3360.0, 834995.0], [1660.0, 315000.0], [1710.0, 431650.0], [950.0, 304000.0], [1650.0, 730000.0], [1250.0, 288349.0], [1580.0, 325000.0], [1880.0, 435000.0], [1580.0, 350000.0], [1560.0, 500000.0], [1660.0, 484000.0], [2550.0, 525888.0], [2560.0, 655000.0], [1670.0, 697000.0], [1790.0, 560000.0], [740.0, 178500.0], [1840.0, 411715.0], [1750.0, 460000.0], [1930.0, 321500.0], [870.0, 271310.0], [1840.0, 540000.0], [1270.0, 599380.0], [1900.0, 407500.0], [820.0, 197500.0], [1350.0, 429000.0], [1560.0, 590000.0], [3340.0, 962000.0], [1950.0, 360000.0], [2270.0, 479000.0], [1520.0, 550000.0], [1800.0, 362500.0], [1880.0, 306000.0], [1240.0, 259000.0], [1040.0, 361000.0], [1760.0, 500000.0], [990.0, 285000.0], [1120.0, 225000.0], [2440.0, 954500.0], [3260.0, 552500.0], [1970.0, 297000.0], [2340.0, 525000.0], [2150.0, 369900.0], [1190.0, 440000.0], [3290.0, 810000.0], [1320.0, 499000.0], [1190.0, 319500.0], [2030.0, 618080.0], [1020.0, 225000.0], [2400.0, 420000.0], [1860.0, 510000.0], [2540.0, 717000.0], [1160.0, 137900.0], [3230.0, 699000.0], [1570.0, 315000.0], [3040.0, 825000.0], [1110.0, 250000.0], [2560.0, 650000.0], [2530.0, 902000.0], [1530.0, 231000.0], [1500.0, 265000.0], [2010.0, 472217.0], [1580.0, 525000.0], [2140.0, 675000.0], [2090.0, 349950.0], [2800.0, 752875.0], [2180.0, 330000.0], [2280.0, 320000.0], [1690.0, 475000.0], [720.0, 335000.0], [3150.0, 450000.0], [550.0, 188000.0], [1840.0, 375000.0], [1680.0, 308000.0], [1160.0, 380000.0], [3060.0, 390000.0], [1396.0, 225000.0], [1080.0, 325000.0], [2570.0, 360000.0], [2270.0, 619850.0], [1260.0, 259000.0], [1160.0, 340000.0], [2170.0, 489000.0], [1820.0, 265000.0], [1180.0, 249000.0], [1030.0, 305000.0], [830.0, 110000.0], [2120.0, 1200000.0], [1550.0, 805000.0], [2020.0, 868000.0], [2480.0, 1013050.0], [1360.0, 415000.0], [1800.0, 335000.0], [3240.0, 975000.0], [2040.0, 261000.0], [4030.0, 890000.0], [2950.0, 825750.0], [2030.0, 545000.0], [990.0, 220500.0], [1180.0, 250200.0], [2740.0, 651000.0], [2020.0, 1400000.0], [1460.0, 1010000.0], [1920.0, 635000.0], [1890.0, 240000.0], [2100.0, 283500.0], [2630.0, 445000.0], [1770.0, 1175000.0], [2390.0, 799000.0], [2690.0, 760000.0], [1720.0, 500000.0], [3120.0, 575000.0], [960.0, 345000.0], [3770.0, 1229000.0], [1010.0, 215000.0], [1670.0, 180000.0], [1390.0, 191950.0], [3960.0, 1180000.0], [2650.0, 549950.0], [790.0, 342888.0], [820.0, 420000.0], [1350.0, 250000.0], [1320.0, 342000.0], [1090.0, 240000.0], [2840.0, 450000.0], [1640.0, 775000.0], [3520.0, 905000.0], [1530.0, 469775.0], [2510.0, 448000.0], [1840.0, 490000.0], [1300.0, 244500.0], [1730.0, 250000.0], [2360.0, 957500.0], [2200.0, 280000.0], [1980.0, 220000.0], [3100.0, 539950.0], [1210.0, 380000.0], [1150.0, 129000.0], [1820.0, 430000.0], [2720.0, 690000.0], [1300.0, 249000.0], [3000.0, 607500.0], [880.0, 208500.0], [1980.0, 418000.0], [1490.0, 289999.0], [1690.0, 705000.0], [2610.0, 1300000.0], [2110.0, 319000.0], [2530.0, 454000.0], [2780.0, 478000.0], [790.0, 169317.0], [1250.0, 370037.0], [1200.0, 204000.0], [2510.0, 581000.0], [1600.0, 424305.0], [1240.0, 375000.0], [2070.0, 250000.0], [1330.0, 425000.0], [2770.0, 820000.0], [1750.0, 499000.0], [1380.0, 560000.0], [1030.0, 525000.0], [2260.0, 648360.0], [1720.0, 547000.0], [930.0, 281000.0], [2370.0, 387865.0], [3120.0, 1580000.0], [1880.0, 326000.0], [2350.0, 650000.0], [1880.0, 520500.0], [860.0, 353000.0], [1680.0, 453000.0], [2430.0, 490000.0], [2070.0, 379500.0], [1980.0, 725000.0], [1850.0, 611000.0], [860.0, 222900.0], [1580.0, 475000.0], [1880.0, 334950.0], [2420.0, 376000.0], [2600.0, 330000.0], [1440.0, 250000.0], [3600.0, 1350000.0], [1050.0, 285000.0], [830.0, 327500.0], [2730.0, 632000.0], [1240.0, 345000.0], [2360.0, 753000.0], [3420.0, 757500.0], [4170.0, 1088000.0], [780.0, 130000.0], [2990.0, 594491.0], [1010.0, 165000.0], [1400.0, 214950.0], [2660.0, 525000.0], [2100.0, 640000.0], [2100.0, 207000.0], [1100.0, 168500.0], [2280.0, 597000.0], [1150.0, 450000.0], [1080.0, 140000.0], [4250.0, 2196000.0], [2920.0, 795000.0], [2070.0, 372000.0], [5774.0, 740000.0], [1610.0, 269000.0], [2280.0, 750000.0], [2820.0, 853505.0], [1940.0, 359000.0], [1670.0, 456000.0], [3070.0, 804100.0], [2800.0, 1465000.0], [1660.0, 619000.0], [2380.0, 735000.0], [3488.0, 815000.0], [1720.0, 950000.0], [1200.0, 480000.0], [3570.0, 910000.0], [2584.0, 429900.0], [2760.0, 830000.0], [1540.0, 539000.0], [2000.0, 360000.0], [3470.0, 599000.0], [1890.0, 320000.0], [1010.0, 350000.0], [2520.0, 650000.0], [1900.0, 476800.0], [1200.0, 219950.0], [2230.0, 549950.0], [1720.0, 380000.0], [1280.0, 195000.0], [1860.0, 267500.0], [1470.0, 169000.0], [1300.0, 560000.0], [3020.0, 490000.0], [2390.0, 519500.0], [1410.0, 274950.0], [1110.0, 410500.0], [2320.0, 700000.0], [2520.0, 610685.0], [2060.0, 509500.0], [5180.0, 1195000.0], [3430.0, 750000.0], [2180.0, 570000.0], [3040.0, 870000.0], [2120.0, 345000.0], [4660.0, 2147500.0], [1190.0, 229000.0], [990.0, 269950.0], [3000.0, 759900.0], [1410.0, 655000.0], [2850.0, 1325000.0], [3210.0, 565000.0], [2450.0, 537100.0], [1940.0, 635000.0], [4280.0, 734950.0], [1290.0, 370000.0], [2250.0, 395000.0], [1210.0, 310000.0], [2840.0, 375000.0], [1970.0, 352500.0], [2770.0, 347000.0], [1940.0, 565000.0], [4030.0, 920000.0], [2014.0, 321000.0], [2280.0, 560000.0], [2230.0, 900000.0], [1480.0, 468000.0], [1920.0, 571000.0], [1870.0, 310000.0], [980.0, 550000.0], [2180.0, 496000.0], [1990.0, 569000.0], [1210.0, 500000.0], [610.0, 126000.0], [1290.0, 240000.0], [1340.0, 303000.0], [4080.0, 1050000.0], [1370.0, 368000.0], [2200.0, 216600.0], [2460.0, 930000.0], [1850.0, 819000.0], [3150.0, 750000.0], [3310.0, 885000.0], [2500.0, 806000.0], [1390.0, 417500.0], [2300.0, 680000.0], [1520.0, 362500.0], [1940.0, 520000.0], [2310.0, 334000.0], [2190.0, 437000.0], [2370.0, 540000.0], [2300.0, 453500.0], [2270.0, 446000.0], [3130.0, 649000.0], [2760.0, 500000.0], [2550.0, 799000.0], [4190.0, 1160000.0], [2320.0, 335000.0], [1400.0, 699000.0], [3340.0, 311000.0], [2950.0, 992000.0], [2290.0, 440000.0], [1445.0, 387000.0], [1440.0, 472500.0], [1960.0, 355950.0], [1090.0, 143000.0], [1710.0, 470000.0], [3160.0, 1600000.0], [2420.0, 332000.0], [2490.0, 306000.0], [1600.0, 308950.0], [2010.0, 740000.0], [1960.0, 300000.0], [1480.0, 899000.0], [1940.0, 265000.0], [2960.0, 1250000.0], [1350.0, 450000.0], [1220.0, 390000.0], [2190.0, 920000.0], [670.0, 240000.0], [1960.0, 792500.0], [2120.0, 489000.0], [750.0, 135000.0], [2870.0, 650000.0], [2420.0, 369946.0], [2460.0, 646000.0], [1550.0, 453000.0], [2690.0, 333000.0], [2450.0, 696950.0], [3900.0, 1650000.0], [1480.0, 275000.0], [880.0, 128750.0], [1320.0, 304000.0], [1190.0, 555000.0], [1440.0, 375000.0], [860.0, 219900.0], [2290.0, 365000.0], [2660.0, 590000.0], [2770.0, 700000.0], [900.0, 381500.0], [1320.0, 404500.0], [3480.0, 852500.0], [1250.0, 144000.0], [1060.0, 335000.0], [3780.0, 980000.0], [2850.0, 750000.0], [2980.0, 900000.0], [1630.0, 464000.0], [2640.0, 377500.0], [2980.0, 725000.0], [2530.0, 354950.0], [1800.0, 655000.0], [1750.0, 456150.0], [2240.0, 635000.0], [1270.0, 406000.0], [1050.0, 194000.0], [2240.0, 675000.0], [2910.0, 525000.0], [1330.0, 320000.0], [1740.0, 410000.0], [4660.0, 2641100.0], [1540.0, 550000.0], [1890.0, 826000.0], [1540.0, 278500.0], [2120.0, 582000.0], [2120.0, 329950.0], [2180.0, 785000.0], [2040.0, 555000.0], [1580.0, 524500.0], [1730.0, 275000.0], [1830.0, 410000.0], [3480.0, 810000.0], [2550.0, 850000.0], [940.0, 246500.0], [2340.0, 459950.0], [1480.0, 256000.0], [770.0, 385000.0], [2550.0, 512000.0], [2470.0, 337000.0], [2400.0, 300000.0], [1140.0, 576000.0], [3080.0, 1400000.0], [1552.0, 264000.0], [1090.0, 425000.0], [2280.0, 534000.0], [1760.0, 322000.0], [3990.0, 740000.0], [3800.0, 380000.0], [1110.0, 249000.0], [1730.0, 700000.0], [1481.0, 240000.0], [3590.0, 798000.0], [1960.0, 180000.0], [2670.0, 685000.0], [2180.0, 625000.0], [3070.0, 550000.0], [2100.0, 540000.0], [1420.0, 579950.0], [2560.0, 842500.0], [2220.0, 374000.0], [1880.0, 320000.0], [1170.0, 350000.0], [3050.0, 585000.0], [780.0, 167000.0], [2420.0, 649950.0], [2170.0, 550000.0], [1530.0, 500000.0], [2050.0, 550000.0], [2670.0, 669950.0], [1530.0, 570000.0], [1920.0, 495000.0], [2160.0, 385000.0], [2250.0, 765000.0], [2130.0, 802000.0], [1160.0, 440000.0], [1440.0, 375000.0], [1460.0, 427000.0], [960.0, 255000.0], [1340.0, 376000.0], [1560.0, 380000.0], [2010.0, 502000.0], [1190.0, 229000.0], [2470.0, 565000.0], [3930.0, 1799000.0], [2150.0, 229950.0], [2030.0, 595000.0], [1720.0, 770000.0], [1250.0, 225000.0], [2680.0, 1028950.0], [3180.0, 1130000.0], [3920.0, 760000.0], [1630.0, 280000.0], [4190.0, 2546000.0], [2210.0, 353000.0], [2150.0, 550000.0], [410.0, 325000.0], [2080.0, 315000.0], [2750.0, 725000.0], [2230.0, 700000.0], [2060.0, 550000.0], [2790.0, 751000.0], [5470.0, 1612500.0], [2120.0, 370000.0], [1440.0, 437000.0], [2090.0, 311000.0], [1750.0, 415500.0], [1300.0, 427000.0], [1110.0, 229800.0], [770.0, 275000.0], [3430.0, 1202500.0], [1900.0, 360000.0], [1380.0, 295000.0], [1560.0, 491500.0], [1640.0, 308000.0], [2460.0, 600000.0], [790.0, 439000.0], [1060.0, 354000.0], [3640.0, 1200688.0], [2930.0, 1100000.0], [1930.0, 733000.0], [2170.0, 315000.0], [3800.0, 630000.0], [1700.0, 315000.0], [580.0, 315000.0], [3600.0, 875000.0], [3510.0, 970000.0], [1860.0, 380000.0], [2980.0, 575000.0], [2740.0, 657000.0], [2680.0, 599950.0], [4030.0, 855000.0], [2700.0, 1060000.0], [3090.0, 370000.0], [3070.0, 535000.0], [2360.0, 590000.0], [1200.0, 380000.0], [1350.0, 571000.0], [1350.0, 240000.0], [700.0, 250000.0], [3180.0, 340000.0], [1570.0, 835000.0], [1670.0, 476500.0], [1740.0, 299950.0], [700.0, 152000.0], [2305.0, 705000.0], [3890.0, 970000.0], [1760.0, 579000.0], [1590.0, 324500.0], [1571.0, 366750.0], [3290.0, 715000.0], [3820.0, 830000.0], [1010.0, 175000.0], [1990.0, 872500.0], [1470.0, 290000.0], [2350.0, 449000.0], [1320.0, 540000.0], [2230.0, 565000.0], [2160.0, 530000.0], [1770.0, 215000.0], [1980.0, 615000.0], [1810.0, 329500.0], [2350.0, 805000.0], [1640.0, 465000.0], [2000.0, 330000.0], [1770.0, 315000.0], [2190.0, 450000.0], [2000.0, 423500.0], [1020.0, 485000.0], [1860.0, 967000.0], [2020.0, 640000.0], [1790.0, 346000.0], [3090.0, 938000.0], [4520.0, 1250000.0], [2170.0, 802000.0], [1480.0, 439000.0], [1640.0, 443000.0], [3420.0, 657044.0], [2960.0, 1161000.0], [1270.0, 540000.0], [1300.0, 300000.0], [3030.0, 680000.0], [2090.0, 400000.0], [2030.0, 730000.0], [1315.0, 347000.0], [1870.0, 933000.0], [1480.0, 268000.0], [2480.0, 716000.0], [1530.0, 458950.0], [1620.0, 460000.0], [1000.0, 286300.0], [1970.0, 315000.0], [1060.0, 510000.0], [910.0, 275000.0], [2140.0, 330000.0], [3920.0, 825000.0], [1110.0, 440150.0], [1680.0, 480000.0], [3080.0, 585000.0], [850.0, 295000.0], [1730.0, 315000.0], [1010.0, 201700.0], [5230.0, 1350000.0], [1870.0, 455000.0], [1520.0, 640000.0], [840.0, 360000.0], [2460.0, 995000.0], [3890.0, 1185000.0], [3160.0, 589900.0], [990.0, 442000.0], [3400.0, 688000.0], [1410.0, 211000.0], [1100.0, 505000.0], [2720.0, 709050.0], [1720.0, 220000.0], [2770.0, 711000.0], [2380.0, 582000.0], [1140.0, 330000.0], [1520.0, 533250.0], [1480.0, 663000.0], [2270.0, 304999.0], [760.0, 95000.0], [2500.0, 430000.0], [2900.0, 352000.0], [1360.0, 445000.0], [1190.0, 350000.0], [2880.0, 1000000.0], [1360.0, 396500.0], [3510.0, 695000.0], [930.0, 300000.0], [1850.0, 475000.0], [1940.0, 306888.0], [2680.0, 463000.0], [3950.0, 1698000.0], [1230.0, 410000.0], [3010.0, 839950.0], [2170.0, 606500.0], [2390.0, 349950.0], [1010.0, 216000.0], [2000.0, 318989.0], [830.0, 325000.0], [2040.0, 675000.0], [3090.0, 908950.0], [2110.0, 300000.0], [1820.0, 318400.0], [2280.0, 626100.0], [2170.0, 876650.0], [3890.0, 1080000.0], [3920.0, 918000.0], [2020.0, 496600.0], [3000.0, 770000.0], [1760.0, 554000.0], [920.0, 203000.0], [2641.0, 393000.0], [2960.0, 740000.0], [3330.0, 1190000.0], [1590.0, 405000.0], [1590.0, 285000.0], [982.0, 250000.0], [910.0, 221000.0], [2520.0, 780000.0], [2360.0, 1087500.0], [1850.0, 623000.0], [1730.0, 625000.0], [2080.0, 830000.0], [3140.0, 529888.0], [2710.0, 1200000.0], [2340.0, 716500.0], [2160.0, 665000.0], [3610.0, 870000.0], [1730.0, 320000.0], [890.0, 285000.0], [720.0, 155000.0], [3500.0, 790000.0], [1240.0, 471000.0], [2100.0, 283000.0], [1870.0, 559950.0], [990.0, 222500.0], [2400.0, 745000.0], [1520.0, 508450.0], [2860.0, 825050.0], [1509.0, 401500.0], [2570.0, 495000.0], [3030.0, 580000.0], [1790.0, 509900.0], [1730.0, 465000.0], [2090.0, 725000.0], [2930.0, 549950.0], [1380.0, 350000.0], [3360.0, 950000.0], [1660.0, 350000.0], [4070.0, 710000.0], [1800.0, 280000.0], [1420.0, 349950.0], [930.0, 500000.0], [1540.0, 565000.0], [1040.0, 227000.0], [1640.0, 759000.0], [1460.0, 222000.0], [4400.0, 1050000.0], [1630.0, 475000.0], [1680.0, 526000.0], [1470.0, 352500.0], [3030.0, 685000.0], [1800.0, 508000.0], [3080.0, 841000.0], [2010.0, 245000.0], [1400.0, 380000.0], [1180.0, 435000.0], [2430.0, 602000.0], [1230.0, 393500.0], [2950.0, 1045000.0], [2320.0, 307000.0], [810.0, 505000.0], [1340.0, 369000.0], [3020.0, 1900000.0], [3280.0, 1875000.0], [2100.0, 635000.0], [2730.0, 599000.0], [1070.0, 147000.0], [2344.0, 791000.0], [1890.0, 355000.0], [2650.0, 580000.0], [1670.0, 500000.0], [2430.0, 590000.0], [880.0, 427550.0], [2420.0, 376000.0], [540.0, 425000.0], [1700.0, 410000.0], [1730.0, 490000.0], [1180.0, 347500.0], [1870.0, 455000.0], [1480.0, 580000.0], [1370.0, 168000.0], [2810.0, 454450.0], [2270.0, 575000.0], [2400.0, 705640.0], [2750.0, 980000.0], [780.0, 315000.0], [1710.0, 450000.0], [2240.0, 550000.0], [2430.0, 372000.0], [3510.0, 1010000.0], [2540.0, 800000.0], [2320.0, 416100.0], [2090.0, 550000.0], [1650.0, 400000.0], [2680.0, 676000.0], [910.0, 85000.0], [770.0, 257000.0], [960.0, 379500.0], [1940.0, 790000.0], [2280.0, 571000.0], [3050.0, 563950.0], [1530.0, 474000.0], [1730.0, 325000.0], [1720.0, 404000.0], [1630.0, 249000.0], [1780.0, 472000.0], [1310.0, 223000.0], [1740.0, 399000.0], [3120.0, 444900.0], [1370.0, 469000.0], [2830.0, 295500.0], [800.0, 285000.0], [1340.0, 475000.0], [2500.0, 661500.0], [2200.0, 295000.0], [1290.0, 525000.0], [3160.0, 660000.0], [790.0, 198000.0], [2700.0, 525000.0], [3340.0, 910000.0], [1280.0, 272925.0], [1700.0, 550000.0], [2960.0, 385000.0], [2120.0, 625000.0], [1810.0, 585000.0], [3360.0, 412000.0], [1850.0, 268000.0], [1700.0, 534500.0], [2290.0, 530000.0], [1190.0, 390000.0], [1310.0, 405000.0], [1970.0, 291700.0], [1730.0, 335000.0], [840.0, 202000.0], [1140.0, 380000.0], [800.0, 414000.0], [1780.0, 261000.0], [2880.0, 1795000.0], [1960.0, 460000.0], [1820.0, 515000.0], [2050.0, 540000.0], [1450.0, 465000.0], [2640.0, 790000.0], [1020.0, 393000.0], [990.0, 245000.0], [1380.0, 457000.0], [1120.0, 266000.0], [3870.0, 1399950.0], [1010.0, 230000.0], [950.0, 330000.0], [3130.0, 500000.0], [1420.0, 425000.0], [1650.0, 272000.0], [3740.0, 660000.0], [830.0, 345000.0], [2530.0, 429000.0], [1090.0, 345000.0], [1390.0, 259000.0], [1110.0, 369950.0], [2090.0, 289000.0], [2090.0, 274000.0], [1910.0, 650000.0], [2280.0, 395000.0], [1900.0, 675000.0], [1420.0, 340000.0], [4070.0, 1454000.0], [1940.0, 577000.0], [1360.0, 150000.0], [1800.0, 334998.0], [1980.0, 435000.0], [1430.0, 439000.0], [1833.0, 719000.0], [3410.0, 720000.0], [3060.0, 605000.0], [1060.0, 420000.0], [2750.0, 395000.0], [1390.0, 261000.0], [1370.0, 219000.0], [910.0, 350000.0], [2920.0, 713500.0], [2710.0, 690000.0], [910.0, 520000.0], [1680.0, 381000.0], [2670.0, 415000.0], [1730.0, 268000.0], [1690.0, 440000.0], [1670.0, 289000.0], [3360.0, 329999.0], [1240.0, 319950.0], [2210.0, 635250.0], [3680.0, 679000.0], [3760.0, 555000.0], [1640.0, 772000.0], [2670.0, 612000.0], [1200.0, 375000.0], [2280.0, 849900.0], [4030.0, 1312000.0], [3030.0, 790000.0], [1120.0, 329000.0], [1680.0, 525000.0], [3310.0, 1100000.0], [2530.0, 1120275.0], [2150.0, 607000.0], [1020.0, 180000.0], [950.0, 320000.0], [2708.0, 436952.0], [1570.0, 299950.0], [2540.0, 317500.0], [2230.0, 482000.0], [1300.0, 270000.0], [370.0, 276000.0], [2730.0, 1030000.0], [3270.0, 600000.0], [1160.0, 350000.0], [1070.0, 361500.0], [1400.0, 242025.0], [1960.0, 450000.0], [1600.0, 280000.0], [1350.0, 299999.0], [2270.0, 656000.0], [1730.0, 328423.0]], \"columns\": [{\"dtype\": \"str\", \"name\": \"id\"}, {\"dtype\": \"datetime\", \"name\": \"date\"}, {\"dtype\": \"float\", \"name\": \"price\"}, {\"dtype\": \"float\", \"name\": \"bedrooms\"}, {\"dtype\": \"float\", \"name\": \"bathrooms\"}, {\"dtype\": \"float\", \"name\": \"sqft_living\"}, {\"dtype\": \"int\", \"name\": \"sqft_lot\"}, {\"dtype\": \"str\", \"name\": \"floors\"}, {\"dtype\": \"int\", \"name\": \"waterfront\"}, {\"dtype\": \"int\", \"name\": \"view\"}, {\"dtype\": \"int\", \"name\": \"condition\"}, {\"dtype\": \"int\", \"name\": \"grade\"}, {\"dtype\": \"int\", \"name\": \"sqft_above\"}, {\"dtype\": \"int\", \"name\": \"sqft_basement\"}, {\"dtype\": \"int\", \"name\": \"yr_built\"}, {\"dtype\": \"int\", \"name\": \"yr_renovated\"}, {\"dtype\": \"str\", \"name\": \"zipcode\"}, {\"dtype\": \"float\", \"name\": \"lat\"}, {\"dtype\": \"float\", \"name\": \"long\"}, {\"dtype\": \"float\", \"name\": \"sqft_living15\"}, {\"dtype\": \"float\", \"name\": \"sqft_lot15\"}]}, e);\n",
       "                });\n",
       "            })();\n",
       "        "
      ]
     },
     "metadata": {},
     "output_type": "display_data"
    }
   ],
   "source": [
    "graphlab.canvas.set_target('ipynb')\n",
    "test_data.show(view=\"Scatter Plot\", x=\"sqft_living\", y=\"price\")"
   ]
  },
  {
   "cell_type": "code",
   "execution_count": 34,
   "metadata": {},
   "outputs": [],
   "source": [
    "bedroom_test_cleaned = test_data[test_data['bedrooms']<8]\n",
    "bedroom_train_cleaned = train_data[train_data['bedrooms']<8]"
   ]
  },
  {
   "cell_type": "code",
   "execution_count": 35,
   "metadata": {},
   "outputs": [
    {
     "data": {
      "application/javascript": [
       "$(\"head\").append($(\"<link/>\").attr({\n",
       "  rel:  \"stylesheet\",\n",
       "  type: \"text/css\",\n",
       "  href: \"//cdnjs.cloudflare.com/ajax/libs/font-awesome/4.1.0/css/font-awesome.min.css\"\n",
       "}));\n",
       "$(\"head\").append($(\"<link/>\").attr({\n",
       "  rel:  \"stylesheet\",\n",
       "  type: \"text/css\",\n",
       "  href: \"https://static.turi.com/products/graphlab-create/2.1/canvas/css/canvas.css\"\n",
       "}));\n",
       "\n",
       "            (function(){\n",
       "\n",
       "                var e = null;\n",
       "                if (typeof element == 'undefined') {\n",
       "                    var scripts = document.getElementsByTagName('script');\n",
       "                    var thisScriptTag = scripts[scripts.length-1];\n",
       "                    var parentDiv = thisScriptTag.parentNode;\n",
       "                    e = document.createElement('div');\n",
       "                    parentDiv.appendChild(e);\n",
       "                } else {\n",
       "                    e = element[0];\n",
       "                }\n",
       "\n",
       "                if (typeof requirejs !== 'undefined') {\n",
       "                    // disable load timeout; ipython_app.js is large and can take a while to load.\n",
       "                    requirejs.config({waitSeconds: 0});\n",
       "                }\n",
       "\n",
       "                require(['https://static.turi.com/products/graphlab-create/2.1/canvas/js/ipython_app.js'], function(IPythonApp){\n",
       "                    var app = new IPythonApp();\n",
       "                    app.attachView('sframe','Plots', {\"selected_variable\": {\"name\": [\"bedroom_test_cleaned\"], \"descriptives\": {\"rows\": 4225, \"columns\": 21}, \"view_component\": \"Plots\", \"view_file\": \"sframe\", \"view_params\": {\"y\": \"price\", \"x\": \"bedrooms\", \"columns\": [\"id\", \"date\", \"price\", \"bedrooms\", \"bathrooms\", \"sqft_living\", \"sqft_lot\", \"floors\", \"waterfront\", \"view\", \"condition\", \"grade\", \"sqft_above\", \"sqft_basement\", \"yr_built\", \"yr_renovated\", \"zipcode\", \"lat\", \"long\", \"sqft_living15\", \"sqft_lot15\"], \"view\": \"Scatter Plot\"}, \"view_components\": [\"Summary\", \"Table\", \"Bar Chart\", \"BoxWhisker Plot\", \"Line Chart\", \"Scatter Plot\", \"Heat Map\", \"Plots\"], \"type\": \"SFrame\", \"columns\": [{\"dtype\": \"str\", \"name\": \"id\"}, {\"dtype\": \"datetime\", \"name\": \"date\"}, {\"dtype\": \"float\", \"name\": \"price\"}, {\"dtype\": \"float\", \"name\": \"bedrooms\"}, {\"dtype\": \"float\", \"name\": \"bathrooms\"}, {\"dtype\": \"float\", \"name\": \"sqft_living\"}, {\"dtype\": \"int\", \"name\": \"sqft_lot\"}, {\"dtype\": \"str\", \"name\": \"floors\"}, {\"dtype\": \"int\", \"name\": \"waterfront\"}, {\"dtype\": \"int\", \"name\": \"view\"}, {\"dtype\": \"int\", \"name\": \"condition\"}, {\"dtype\": \"int\", \"name\": \"grade\"}, {\"dtype\": \"int\", \"name\": \"sqft_above\"}, {\"dtype\": \"int\", \"name\": \"sqft_basement\"}, {\"dtype\": \"int\", \"name\": \"yr_built\"}, {\"dtype\": \"int\", \"name\": \"yr_renovated\"}, {\"dtype\": \"str\", \"name\": \"zipcode\"}, {\"dtype\": \"float\", \"name\": \"lat\"}, {\"dtype\": \"float\", \"name\": \"long\"}, {\"dtype\": \"float\", \"name\": \"sqft_living15\"}, {\"dtype\": \"float\", \"name\": \"sqft_lot15\"}], \"column_identifiers\": [\"bathrooms\", \"sqft_living15\", \"sqft_above\", \"grade\", \"yr_built\", \"price\", \"bedrooms\", \"zipcode\", \"long\", \"id\", \"sqft_lot15\", \"sqft_living\", \"floors\", \"sqft_lot\", \"date\", \"waterfront\", \"sqft_basement\", \"yr_renovated\", \"lat\", \"condition\", \"view\"]}, \"complete\": 1, \"ipython\": true, \"progress\": 1.0, \"data\": [[4.0, 339888.0], [4.0, 650000.0], [4.0, 239000.0], [2.0, 518000.0], [3.0, 535000.0], [2.0, 476000.0], [4.0, 775000.0], [3.0, 362500.0], [3.0, 625700.0], [4.0, 571000.0], [6.0, 435000.0], [4.0, 360000.0], [3.0, 578000.0], [4.0, 550000.0], [2.0, 275500.0], [3.0, 769950.0], [4.0, 700000.0], [3.0, 377000.0], [4.0, 452000.0], [5.0, 279950.0], [3.0, 550000.0], [3.0, 282950.0], [4.0, 537000.0], [4.0, 560000.0], [3.0, 290000.0], [4.0, 540000.0], [3.0, 530000.0], [5.0, 1800000.0], [5.0, 415000.0], [2.0, 370000.0], [3.0, 713900.0], [3.0, 535000.0], [3.0, 315000.0], [3.0, 482500.0], [3.0, 210000.0], [2.0, 535000.0], [4.0, 264950.0], [5.0, 1454000.0], [2.0, 332544.0], [3.0, 575000.0], [3.0, 525000.0], [1.0, 369900.0], [4.0, 329950.0], [4.0, 304900.0], [2.0, 170000.0], [3.0, 734000.0], [3.0, 240000.0], [4.0, 422000.0], [2.0, 275000.0], [4.0, 540000.0], [5.0, 540000.0], [3.0, 315000.0], [3.0, 410000.0], [4.0, 1400000.0], [4.0, 258000.0], [3.0, 260000.0], [4.0, 335000.0], [2.0, 232000.0], [3.0, 370000.0], [2.0, 640000.0], [4.0, 940000.0], [4.0, 500000.0], [2.0, 490000.0], [4.0, 782000.0], [3.0, 725000.0], [4.0, 240000.0], [3.0, 765000.0], [4.0, 855000.0], [2.0, 450000.0], [3.0, 406000.0], [2.0, 325000.0], [5.0, 660000.0], [4.0, 338000.0], [4.0, 723000.0], [3.0, 390000.0], [3.0, 354000.0], [3.0, 206000.0], [3.0, 435000.0], [4.0, 320000.0], [2.0, 290000.0], [5.0, 530000.0], [4.0, 1665000.0], [3.0, 485000.0], [4.0, 315000.0], [2.0, 285000.0], [4.0, 489000.0], [4.0, 423000.0], [4.0, 345000.0], [3.0, 240000.0], [3.0, 216650.0], [2.0, 595000.0], [3.0, 379000.0], [4.0, 800500.0], [5.0, 950968.0], [3.0, 239950.0], [4.0, 581000.0], [3.0, 329900.0], [4.0, 1320000.0], [2.0, 290900.0], [2.0, 150000.0], [2.0, 645000.0], [4.0, 411000.0], [3.0, 450000.0], [4.0, 725000.0], [2.0, 625000.0], [4.0, 1197354.0], [2.0, 240000.0], [3.0, 716528.0], [4.0, 2250000.0], [4.0, 711000.0], [6.0, 1600000.0], [3.0, 340000.0], [4.0, 752875.0], [2.0, 435000.0], [2.0, 597000.0], [5.0, 565000.0], [3.0, 850000.0], [2.0, 261000.0], [3.0, 517000.0], [4.0, 515000.0], [4.0, 760000.0], [4.0, 2175000.0], [3.0, 266000.0], [2.0, 222900.0], [3.0, 327000.0], [4.0, 1350000.0], [4.0, 1050000.0], [2.0, 227000.0], [3.0, 730000.0], [4.0, 590000.0], [4.0, 632750.0], [2.0, 335000.0], [3.0, 227000.0], [3.0, 314500.0], [4.0, 547000.0], [3.0, 273000.0], [2.0, 435000.0], [3.0, 269900.0], [3.0, 590000.0], [3.0, 312000.0], [3.0, 285000.0], [4.0, 459995.0], [5.0, 950000.0], [3.0, 350000.0], [4.0, 410000.0], [3.0, 585000.0], [4.0, 757500.0], [3.0, 379880.0], [3.0, 365000.0], [2.0, 325000.0], [3.0, 425000.0], [3.0, 206000.0], [2.0, 700000.0], [3.0, 525000.0], [6.0, 376000.0], [3.0, 253500.0], [4.0, 409000.0], [3.0, 570000.0], [3.0, 294000.0], [3.0, 464000.0], [2.0, 1310000.0], [4.0, 856600.0], [5.0, 1375000.0], [4.0, 480000.0], [4.0, 672800.0], [3.0, 280000.0], [3.0, 740000.0], [4.0, 460000.0], [1.0, 245000.0], [3.0, 306500.0], [3.0, 1387800.0], [3.0, 371000.0], [3.0, 147000.0], [3.0, 510000.0], [3.0, 820000.0], [4.0, 270000.0], [4.0, 975000.0], [2.0, 215000.0], [4.0, 450000.0], [3.0, 1000000.0], [7.0, 310000.0], [2.0, 334998.0], [2.0, 811000.0], [2.0, 250000.0], [4.0, 590000.0], [4.0, 306888.0], [2.0, 488000.0], [3.0, 259000.0], [3.0, 770000.0], [2.0, 885000.0], [3.0, 1000000.0], [4.0, 682000.0], [5.0, 559950.0], [3.0, 367000.0], [3.0, 253000.0], [3.0, 350000.0], [3.0, 608000.0], [4.0, 399950.0], [4.0, 490000.0], [3.0, 216000.0], [3.0, 327500.0], [3.0, 253000.0], [5.0, 509500.0], [3.0, 615000.0], [3.0, 690000.0], [4.0, 321500.0], [4.0, 1058000.0], [4.0, 445000.0], [5.0, 975000.0], [4.0, 1267500.0], [3.0, 419000.0], [4.0, 380000.0], [3.0, 759000.0], [5.0, 330000.0], [3.0, 582000.0], [4.0, 430000.0], [4.0, 338000.0], [3.0, 550000.0], [5.0, 707000.0], [1.0, 525000.0], [3.0, 490000.0], [3.0, 500000.0], [3.0, 414500.0], [2.0, 582500.0], [2.0, 285000.0], [3.0, 90000.0], [3.0, 240000.0], [3.0, 525000.0], [3.0, 925000.0], [3.0, 555000.0], [3.0, 600000.0], [4.0, 456000.0], [3.0, 1325000.0], [4.0, 610000.0], [4.0, 385000.0], [3.0, 149000.0], [3.0, 471001.0], [3.0, 1250000.0], [4.0, 425000.0], [3.0, 369900.0], [5.0, 970000.0], [3.0, 565000.0], [4.0, 275000.0], [4.0, 570000.0], [4.0, 902000.0], [2.0, 330000.0], [4.0, 925900.0], [3.0, 231200.0], [3.0, 285000.0], [3.0, 203000.0], [4.0, 403900.0], [5.0, 745000.0], [3.0, 740000.0], [4.0, 475000.0], [4.0, 211000.0], [3.0, 210000.0], [2.0, 435000.0], [4.0, 645000.0], [2.0, 375000.0], [5.0, 420000.0], [3.0, 650000.0], [4.0, 449000.0], [5.0, 283450.0], [5.0, 495000.0], [4.0, 609000.0], [3.0, 503000.0], [3.0, 590000.0], [4.0, 747500.0], [4.0, 425000.0], [4.0, 530000.0], [3.0, 600000.0], [3.0, 279950.0], [3.0, 350000.0], [2.0, 299990.0], [3.0, 261500.0], [3.0, 520000.0], [3.0, 330000.0], [3.0, 542500.0], [2.0, 375000.0], [2.0, 345000.0], [3.0, 242500.0], [3.0, 389000.0], [4.0, 468000.0], [2.0, 170000.0], [3.0, 645000.0], [2.0, 370000.0], [2.0, 141800.0], [4.0, 1062500.0], [3.0, 1015000.0], [4.0, 305000.0], [2.0, 280000.0], [3.0, 268000.0], [3.0, 380000.0], [2.0, 510000.0], [4.0, 640000.0], [4.0, 250600.0], [2.0, 458000.0], [3.0, 349000.0], [2.0, 272925.0], [4.0, 545000.0], [4.0, 895000.0], [4.0, 630000.0], [4.0, 195000.0], [4.0, 392000.0], [4.0, 359000.0], [5.0, 1328000.0], [4.0, 800000.0], [2.0, 350000.0], [3.0, 340000.0], [3.0, 2160000.0], [3.0, 339900.0], [4.0, 640000.0], [6.0, 3650000.0], [5.0, 555000.0], [4.0, 550000.0], [3.0, 303000.0], [4.0, 487000.0], [3.0, 399000.0], [2.0, 375000.0], [4.0, 425000.0], [2.0, 235000.0], [3.0, 473975.0], [2.0, 380000.0], [2.0, 305000.0], [3.0, 443500.0], [3.0, 420000.0], [2.0, 529500.0], [4.0, 1535000.0], [3.0, 372500.0], [3.0, 215000.0], [3.0, 390000.0], [3.0, 570000.0], [4.0, 490000.0], [1.0, 355000.0], [2.0, 675000.0], [2.0, 557000.0], [2.0, 169317.0], [4.0, 870515.0], [3.0, 368888.0], [4.0, 799000.0], [2.0, 275000.0], [2.0, 441000.0], [4.0, 715000.0], [4.0, 335000.0], [3.0, 390000.0], [3.0, 339000.0], [3.0, 235000.0], [2.0, 335000.0], [2.0, 471000.0], [2.0, 467000.0], [3.0, 263900.0], [3.0, 430000.0], [4.0, 630000.0], [5.0, 440000.0], [3.0, 310000.0], [5.0, 357000.0], [2.0, 440000.0], [3.0, 165000.0], [3.0, 650000.0], [4.0, 360000.0], [4.0, 333000.0], [3.0, 463000.0], [4.0, 2350000.0], [3.0, 340000.0], [2.0, 215500.0], [4.0, 950000.0], [5.0, 330000.0], [3.0, 203000.0], [3.0, 721000.0], [6.0, 384000.0], [3.0, 510000.0], [2.0, 640000.0], [4.0, 1100000.0], [3.0, 753000.0], [3.0, 425000.0], [4.0, 1525000.0], [4.0, 1600000.0], [3.0, 217000.0], [3.0, 805000.0], [4.0, 610000.0], [4.0, 279000.0], [2.0, 361500.0], [3.0, 381000.0], [4.0, 685000.0], [3.0, 360000.0], [4.0, 269000.0], [3.0, 835000.0], [2.0, 260000.0], [3.0, 545000.0], [3.0, 740000.0], [4.0, 305000.0], [3.0, 490000.0], [4.0, 690000.0], [3.0, 435000.0], [4.0, 790000.0], [4.0, 433000.0], [5.0, 552500.0], [3.0, 525000.0], [3.0, 274950.0], [2.0, 302000.0], [3.0, 388500.0], [3.0, 315000.0], [4.0, 370000.0], [5.0, 299000.0], [3.0, 286000.0], [3.0, 1430000.0], [3.0, 272000.0], [4.0, 429900.0], [4.0, 319950.0], [3.0, 165000.0], [4.0, 449950.0], [3.0, 493000.0], [3.0, 246000.0], [2.0, 422250.0], [3.0, 315000.0], [2.0, 483000.0], [3.0, 450000.0], [3.0, 220000.0], [3.0, 650000.0], [3.0, 346000.0], [3.0, 437000.0], [3.0, 720000.0], [2.0, 235000.0], [6.0, 767500.0], [3.0, 715000.0], [3.0, 330000.0], [3.0, 439950.0], [3.0, 237200.0], [4.0, 190000.0], [3.0, 250000.0], [4.0, 294000.0], [3.0, 295000.0], [4.0, 640000.0], [4.0, 565000.0], [3.0, 159000.0], [3.0, 299999.0], [3.0, 244500.0], [3.0, 550000.0], [5.0, 550120.0], [3.0, 280000.0], [3.0, 1575000.0], [3.0, 415000.0], [4.0, 520000.0], [5.0, 1550000.0], [2.0, 849900.0], [4.0, 587000.0], [3.0, 470000.0], [4.0, 347000.0], [4.0, 520000.0], [5.0, 469000.0], [2.0, 162950.0], [3.0, 879000.0], [4.0, 734950.0], [3.0, 191000.0], [3.0, 515000.0], [4.0, 398950.0], [3.0, 235000.0], [5.0, 370000.0], [4.0, 352000.0], [5.0, 755000.0], [4.0, 415000.0], [3.0, 322500.0], [2.0, 305000.0], [4.0, 429000.0], [4.0, 437000.0], [4.0, 537000.0], [3.0, 425000.0], [3.0, 345000.0], [2.0, 295000.0], [4.0, 309000.0], [3.0, 618000.0], [4.0, 305000.0], [5.0, 230000.0], [3.0, 1101000.0], [3.0, 206000.0], [3.0, 260000.0], [5.0, 437000.0], [4.0, 1655000.0], [4.0, 335000.0], [3.0, 345000.0], [4.0, 265000.0], [4.0, 412950.0], [4.0, 920000.0], [3.0, 515000.0], [4.0, 571500.0], [4.0, 544300.0], [2.0, 490000.0], [4.0, 675000.0], [3.0, 550000.0], [2.0, 306000.0], [4.0, 370000.0], [4.0, 810000.0], [4.0, 345500.0], [4.0, 269950.0], [3.0, 705000.0], [3.0, 475000.0], [3.0, 452000.0], [4.0, 645000.0], [3.0, 344950.0], [4.0, 236500.0], [3.0, 289000.0], [3.0, 435000.0], [4.0, 318400.0], [2.0, 325000.0], [5.0, 480000.0], [5.0, 1380000.0], [3.0, 442500.0], [4.0, 575000.0], [4.0, 865000.0], [3.0, 460000.0], [4.0, 500000.0], [3.0, 635000.0], [5.0, 400000.0], [5.0, 549950.0], [2.0, 280000.0], [4.0, 520000.0], [4.0, 1650000.0], [3.0, 275000.0], [3.0, 608095.0], [4.0, 525000.0], [3.0, 415000.0], [2.0, 277700.0], [3.0, 685000.0], [3.0, 565000.0], [4.0, 805000.0], [3.0, 535000.0], [2.0, 381500.0], [4.0, 568500.0], [5.0, 779000.0], [3.0, 733500.0], [3.0, 395000.0], [4.0, 457000.0], [2.0, 533050.0], [4.0, 479900.0], [4.0, 635000.0], [5.0, 350000.0], [3.0, 650000.0], [3.0, 1185000.0], [3.0, 306000.0], [4.0, 320000.0], [3.0, 525000.0], [2.0, 257000.0], [4.0, 870000.0], [3.0, 380000.0], [3.0, 244615.0], [2.0, 505000.0], [2.0, 370000.0], [4.0, 298500.0], [3.0, 488000.0], [4.0, 699900.0], [4.0, 278500.0], [4.0, 161000.0], [5.0, 726000.0], [3.0, 465000.0], [3.0, 555000.0], [3.0, 374990.0], [3.0, 385000.0], [4.0, 845800.0], [3.0, 223000.0], [4.0, 711000.0], [3.0, 634000.0], [3.0, 240000.0], [3.0, 552775.0], [4.0, 900000.0], [3.0, 424305.0], [4.0, 450000.0], [4.0, 635000.0], [3.0, 230500.0], [3.0, 770000.0], [3.0, 306000.0], [3.0, 435000.0], [4.0, 1437500.0], [4.0, 328000.0], [2.0, 443000.0], [2.0, 285000.0], [5.0, 492500.0], [4.0, 1309500.0], [2.0, 406650.0], [3.0, 798000.0], [3.0, 180000.0], [5.0, 685000.0], [4.0, 489900.0], [4.0, 801000.0], [4.0, 360000.0], [4.0, 499000.0], [3.0, 620000.0], [4.0, 725000.0], [4.0, 2546000.0], [5.0, 1300000.0], [2.0, 425000.0], [2.0, 225000.0], [2.0, 209000.0], [4.0, 550000.0], [3.0, 759000.0], [5.0, 250750.0], [3.0, 999000.0], [3.0, 770000.0], [2.0, 495000.0], [5.0, 900000.0], [3.0, 765000.0], [4.0, 802000.0], [2.0, 202000.0], [4.0, 350000.0], [3.0, 420000.0], [4.0, 260000.0], [4.0, 525000.0], [4.0, 235000.0], [3.0, 502000.0], [4.0, 607000.0], [4.0, 245000.0], [4.0, 649000.0], [4.0, 148900.0], [3.0, 653000.0], [2.0, 310000.0], [3.0, 525000.0], [3.0, 655000.0], [4.0, 1130000.0], [5.0, 1388000.0], [3.0, 483500.0], [4.0, 254950.0], [4.0, 675000.0], [4.0, 270000.0], [2.0, 450000.0], [4.0, 753000.0], [3.0, 485000.0], [4.0, 700000.0], [3.0, 172500.0], [5.0, 346000.0], [5.0, 1250000.0], [3.0, 270000.0], [3.0, 835000.0], [3.0, 285000.0], [3.0, 287000.0], [3.0, 210000.0], [4.0, 620000.0], [3.0, 194000.0], [4.0, 1200000.0], [4.0, 1388000.0], [2.0, 252000.0], [3.0, 491500.0], [3.0, 308000.0], [2.0, 459500.0], [6.0, 435000.0], [2.0, 380000.0], [3.0, 418000.0], [3.0, 465000.0], [2.0, 217000.0], [5.0, 599950.0], [3.0, 230000.0], [5.0, 550000.0], [1.0, 315000.0], [5.0, 598992.0], [3.0, 555000.0], [4.0, 825750.0], [3.0, 1775000.0], [4.0, 1040000.0], [3.0, 272450.0], [5.0, 1300000.0], [4.0, 756100.0], [3.0, 530000.0], [3.0, 567500.0], [4.0, 590000.0], [4.0, 505000.0], [4.0, 318500.0], [3.0, 200500.0], [2.0, 250000.0], [3.0, 340000.0], [3.0, 649000.0], [2.0, 505000.0], [4.0, 425000.0], [3.0, 660000.0], [3.0, 465000.0], [3.0, 525000.0], [2.0, 579000.0], [3.0, 320000.0], [3.0, 280000.0], [4.0, 1570000.0], [2.0, 810000.0], [2.0, 308500.0], [3.0, 200000.0], [4.0, 880000.0], [2.0, 342888.0], [3.0, 1100000.0], [2.0, 546000.0], [4.0, 734500.0], [4.0, 375000.0], [4.0, 1080000.0], [2.0, 368000.0], [3.0, 265950.0], [2.0, 455000.0], [4.0, 835000.0], [2.0, 249500.0], [3.0, 629000.0], [3.0, 350000.0], [3.0, 690000.0], [2.0, 290000.0], [4.0, 337000.0], [3.0, 500000.0], [3.0, 338500.0], [5.0, 580000.0], [5.0, 775000.0], [3.0, 289000.0], [3.0, 245000.0], [3.0, 720000.0], [3.0, 461000.0], [3.0, 540000.0], [4.0, 550000.0], [2.0, 350000.0], [4.0, 530000.0], [4.0, 908950.0], [2.0, 612125.0], [3.0, 450000.0], [3.0, 625000.0], [4.0, 625000.0], [3.0, 325000.0], [4.0, 475000.0], [3.0, 599995.0], [3.0, 938000.0], [4.0, 510000.0], [3.0, 574800.0], [4.0, 725000.0], [4.0, 715000.0], [3.0, 950000.0], [2.0, 190000.0], [4.0, 1440000.0], [3.0, 352500.0], [3.0, 615000.0], [3.0, 315000.0], [3.0, 464000.0], [4.0, 582000.0], [5.0, 745000.0], [3.0, 589999.0], [6.0, 735000.0], [7.0, 884900.0], [3.0, 450000.0], [3.0, 365000.0], [4.0, 795000.0], [3.0, 211000.0], [2.0, 365000.0], [3.0, 729000.0], [3.0, 725000.0], [4.0, 790000.0], [4.0, 411000.0], [3.0, 670000.0], [4.0, 680000.0], [7.0, 730000.0], [5.0, 1400000.0], [3.0, 471000.0], [5.0, 430000.0], [2.0, 315000.0], [3.0, 542500.0], [4.0, 220000.0], [3.0, 572500.0], [3.0, 815000.0], [4.0, 1160000.0], [2.0, 325000.0], [3.0, 475000.0], [3.0, 280500.0], [3.0, 475000.0], [3.0, 542000.0], [5.0, 713500.0], [3.0, 629950.0], [3.0, 442000.0], [3.0, 635250.0], [1.0, 129000.0], [3.0, 285000.0], [3.0, 315000.0], [2.0, 350000.0], [4.0, 579000.0], [5.0, 1298888.0], [3.0, 781000.0], [4.0, 1225000.0], [3.0, 876650.0], [4.0, 270000.0], [4.0, 624000.0], [4.0, 725000.0], [3.0, 325000.0], [4.0, 500000.0], [4.0, 825000.0], [4.0, 695000.0], [3.0, 716500.0], [3.0, 565000.0], [3.0, 500000.0], [4.0, 695000.0], [3.0, 560000.0], [3.0, 585000.0], [4.0, 563950.0], [5.0, 419000.0], [3.0, 438000.0], [4.0, 1238000.0], [3.0, 317000.0], [3.0, 439000.0], [3.0, 625000.0], [3.0, 305000.0], [4.0, 665000.0], [4.0, 600000.0], [4.0, 502000.0], [2.0, 347000.0], [1.0, 276000.0], [4.0, 790000.0], [2.0, 130000.0], [3.0, 535500.0], [3.0, 425000.0], [4.0, 865000.0], [4.0, 695000.0], [5.0, 490000.0], [3.0, 398000.0], [3.0, 690000.0], [2.0, 455000.0], [2.0, 250000.0], [4.0, 1960000.0], [3.0, 299950.0], [3.0, 725000.0], [3.0, 390000.0], [3.0, 215500.0], [4.0, 415000.0], [3.0, 350000.0], [2.0, 315000.0], [2.0, 320000.0], [2.0, 150000.0], [3.0, 745000.0], [3.0, 214950.0], [3.0, 218250.0], [4.0, 661000.0], [3.0, 625000.0], [3.0, 523000.0], [3.0, 292000.0], [4.0, 552500.0], [4.0, 701000.0], [4.0, 1715000.0], [4.0, 350000.0], [2.0, 232000.0], [3.0, 354500.0], [3.0, 240000.0], [3.0, 440000.0], [2.0, 775000.0], [4.0, 600000.0], [4.0, 1045000.0], [2.0, 346000.0], [3.0, 512500.0], [3.0, 375000.0], [4.0, 1285000.0], [3.0, 554600.0], [3.0, 259950.0], [5.0, 475000.0], [3.0, 541338.0], [4.0, 526000.0], [2.0, 375000.0], [4.0, 2400000.0], [2.0, 615000.0], [2.0, 499950.0], [3.0, 730001.0], [5.0, 1068000.0], [4.0, 289950.0], [4.0, 751000.0], [5.0, 690700.0], [3.0, 500000.0], [3.0, 455000.0], [2.0, 227000.0], [4.0, 978000.0], [3.0, 255000.0], [4.0, 448000.0], [3.0, 399900.0], [4.0, 416100.0], [3.0, 350000.0], [2.0, 140000.0], [3.0, 550000.0], [4.0, 335000.0], [5.0, 1288000.0], [3.0, 565000.0], [3.0, 705000.0], [4.0, 374950.0], [3.0, 667000.0], [4.0, 471000.0], [3.0, 348000.0], [3.0, 483000.0], [3.0, 370000.0], [3.0, 632000.0], [2.0, 246500.0], [5.0, 1138990.0], [3.0, 792500.0], [3.0, 360000.0], [3.0, 252000.0], [3.0, 423500.0], [3.0, 340000.0], [4.0, 590000.0], [4.0, 454450.0], [3.0, 320900.0], [3.0, 469000.0], [4.0, 890000.0], [2.0, 289000.0], [3.0, 255000.0], [4.0, 800000.0], [4.0, 650000.0], [3.0, 521900.0], [3.0, 399000.0], [4.0, 795000.0], [3.0, 280000.0], [4.0, 220000.0], [4.0, 370000.0], [3.0, 362300.0], [5.0, 400000.0], [4.0, 238000.0], [3.0, 609000.0], [3.0, 585000.0], [3.0, 268000.0], [4.0, 440000.0], [4.0, 549995.0], [4.0, 760000.0], [5.0, 541125.0], [4.0, 869950.0], [3.0, 1637500.0], [2.0, 485000.0], [3.0, 368000.0], [4.0, 561600.0], [5.0, 875000.0], [4.0, 668500.0], [3.0, 1450000.0], [4.0, 1035000.0], [3.0, 765000.0], [3.0, 335750.0], [3.0, 257000.0], [5.0, 1200688.0], [6.0, 1125000.0], [3.0, 325500.0], [1.0, 145000.0], [4.0, 696950.0], [3.0, 666000.0], [2.0, 226800.0], [3.0, 222000.0], [3.0, 347500.0], [3.0, 745000.0], [3.0, 180000.0], [3.0, 1312000.0], [3.0, 749950.0], [4.0, 720000.0], [3.0, 400000.0], [3.0, 369950.0], [2.0, 306000.0], [2.0, 400000.0], [4.0, 855000.0], [3.0, 532000.0], [3.0, 765000.0], [3.0, 186000.0], [3.0, 450000.0], [3.0, 760000.0], [4.0, 679000.0], [5.0, 332000.0], [3.0, 248000.0], [4.0, 300000.0], [4.0, 460500.0], [4.0, 312200.0], [3.0, 268000.0], [4.0, 997950.0], [4.0, 260000.0], [4.0, 1400000.0], [4.0, 926250.0], [1.0, 611900.0], [3.0, 270000.0], [3.0, 780000.0], [2.0, 276000.0], [3.0, 258000.0], [4.0, 1099500.0], [3.0, 670000.0], [2.0, 453000.0], [3.0, 305000.0], [3.0, 515000.0], [4.0, 770000.0], [2.0, 450000.0], [5.0, 1000000.0], [4.0, 420000.0], [3.0, 540000.0], [4.0, 340000.0], [4.0, 850000.0], [2.0, 575000.0], [2.0, 175000.0], [3.0, 590000.0], [3.0, 365000.0], [4.0, 324950.0], [3.0, 605000.0], [4.0, 435000.0], [3.0, 583000.0], [3.0, 225000.0], [3.0, 339000.0], [4.0, 1160000.0], [3.0, 275000.0], [3.0, 440000.0], [4.0, 627000.0], [2.0, 465000.0], [4.0, 337000.0], [3.0, 246900.0], [5.0, 875000.0], [3.0, 348000.0], [4.0, 250000.0], [3.0, 795000.0], [4.0, 588000.0], [3.0, 625000.0], [3.0, 420000.0], [2.0, 656000.0], [4.0, 474905.0]], \"columns\": [{\"dtype\": \"str\", \"name\": \"id\"}, {\"dtype\": \"datetime\", \"name\": \"date\"}, {\"dtype\": \"float\", \"name\": \"price\"}, {\"dtype\": \"float\", \"name\": \"bedrooms\"}, {\"dtype\": \"float\", \"name\": \"bathrooms\"}, {\"dtype\": \"float\", \"name\": \"sqft_living\"}, {\"dtype\": \"int\", \"name\": \"sqft_lot\"}, {\"dtype\": \"str\", \"name\": \"floors\"}, {\"dtype\": \"int\", \"name\": \"waterfront\"}, {\"dtype\": \"int\", \"name\": \"view\"}, {\"dtype\": \"int\", \"name\": \"condition\"}, {\"dtype\": \"int\", \"name\": \"grade\"}, {\"dtype\": \"int\", \"name\": \"sqft_above\"}, {\"dtype\": \"int\", \"name\": \"sqft_basement\"}, {\"dtype\": \"int\", \"name\": \"yr_built\"}, {\"dtype\": \"int\", \"name\": \"yr_renovated\"}, {\"dtype\": \"str\", \"name\": \"zipcode\"}, {\"dtype\": \"float\", \"name\": \"lat\"}, {\"dtype\": \"float\", \"name\": \"long\"}, {\"dtype\": \"float\", \"name\": \"sqft_living15\"}, {\"dtype\": \"float\", \"name\": \"sqft_lot15\"}]}, e);\n",
       "                });\n",
       "            })();\n",
       "        "
      ]
     },
     "metadata": {},
     "output_type": "display_data"
    },
    {
     "data": {
      "application/javascript": [
       "$(\"head\").append($(\"<link/>\").attr({\n",
       "  rel:  \"stylesheet\",\n",
       "  type: \"text/css\",\n",
       "  href: \"//cdnjs.cloudflare.com/ajax/libs/font-awesome/4.1.0/css/font-awesome.min.css\"\n",
       "}));\n",
       "$(\"head\").append($(\"<link/>\").attr({\n",
       "  rel:  \"stylesheet\",\n",
       "  type: \"text/css\",\n",
       "  href: \"https://static.turi.com/products/graphlab-create/2.1/canvas/css/canvas.css\"\n",
       "}));\n",
       "\n",
       "            (function(){\n",
       "\n",
       "                var e = null;\n",
       "                if (typeof element == 'undefined') {\n",
       "                    var scripts = document.getElementsByTagName('script');\n",
       "                    var thisScriptTag = scripts[scripts.length-1];\n",
       "                    var parentDiv = thisScriptTag.parentNode;\n",
       "                    e = document.createElement('div');\n",
       "                    parentDiv.appendChild(e);\n",
       "                } else {\n",
       "                    e = element[0];\n",
       "                }\n",
       "\n",
       "                if (typeof requirejs !== 'undefined') {\n",
       "                    // disable load timeout; ipython_app.js is large and can take a while to load.\n",
       "                    requirejs.config({waitSeconds: 0});\n",
       "                }\n",
       "\n",
       "                require(['https://static.turi.com/products/graphlab-create/2.1/canvas/js/ipython_app.js'], function(IPythonApp){\n",
       "                    var app = new IPythonApp();\n",
       "                    app.attachView('sframe','Plots', {\"selected_variable\": {\"name\": [\"bedroom_train_cleaned\"], \"descriptives\": {\"rows\": 17364, \"columns\": 21}, \"view_component\": \"Plots\", \"view_file\": \"sframe\", \"view_params\": {\"y\": \"price\", \"x\": \"bedrooms\", \"columns\": [\"id\", \"date\", \"price\", \"bedrooms\", \"bathrooms\", \"sqft_living\", \"sqft_lot\", \"floors\", \"waterfront\", \"view\", \"condition\", \"grade\", \"sqft_above\", \"sqft_basement\", \"yr_built\", \"yr_renovated\", \"zipcode\", \"lat\", \"long\", \"sqft_living15\", \"sqft_lot15\"], \"view\": \"Scatter Plot\"}, \"view_components\": [\"Summary\", \"Table\", \"Bar Chart\", \"BoxWhisker Plot\", \"Line Chart\", \"Scatter Plot\", \"Heat Map\", \"Plots\"], \"type\": \"SFrame\", \"columns\": [{\"dtype\": \"str\", \"name\": \"id\"}, {\"dtype\": \"datetime\", \"name\": \"date\"}, {\"dtype\": \"float\", \"name\": \"price\"}, {\"dtype\": \"float\", \"name\": \"bedrooms\"}, {\"dtype\": \"float\", \"name\": \"bathrooms\"}, {\"dtype\": \"float\", \"name\": \"sqft_living\"}, {\"dtype\": \"int\", \"name\": \"sqft_lot\"}, {\"dtype\": \"str\", \"name\": \"floors\"}, {\"dtype\": \"int\", \"name\": \"waterfront\"}, {\"dtype\": \"int\", \"name\": \"view\"}, {\"dtype\": \"int\", \"name\": \"condition\"}, {\"dtype\": \"int\", \"name\": \"grade\"}, {\"dtype\": \"int\", \"name\": \"sqft_above\"}, {\"dtype\": \"int\", \"name\": \"sqft_basement\"}, {\"dtype\": \"int\", \"name\": \"yr_built\"}, {\"dtype\": \"int\", \"name\": \"yr_renovated\"}, {\"dtype\": \"str\", \"name\": \"zipcode\"}, {\"dtype\": \"float\", \"name\": \"lat\"}, {\"dtype\": \"float\", \"name\": \"long\"}, {\"dtype\": \"float\", \"name\": \"sqft_living15\"}, {\"dtype\": \"float\", \"name\": \"sqft_lot15\"}], \"column_identifiers\": [\"bathrooms\", \"sqft_living15\", \"sqft_above\", \"grade\", \"yr_built\", \"price\", \"bedrooms\", \"zipcode\", \"long\", \"id\", \"sqft_lot15\", \"sqft_living\", \"floors\", \"sqft_lot\", \"date\", \"waterfront\", \"sqft_basement\", \"yr_renovated\", \"lat\", \"condition\", \"view\"]}, \"complete\": 1, \"ipython\": true, \"progress\": 1.0, \"data\": [[3.0, 221900.0], [4.0, 525000.0], [2.0, 180000.0], [5.0, 650000.0], [2.0, 254000.0], [3.0, 550000.0], [3.0, 374000.0], [3.0, 295000.0], [3.0, 170000.0], [4.0, 817000.0], [1.0, 345000.0], [4.0, 655500.0], [4.0, 799900.0], [4.0, 324888.0], [3.0, 575000.0], [4.0, 485000.0], [3.0, 808250.0], [4.0, 350000.0], [3.0, 1035000.0], [4.0, 243400.0], [3.0, 490000.0], [2.0, 350500.0], [4.0, 1175000.0], [5.0, 1040892.0], [5.0, 280000.0], [4.0, 527500.0], [4.0, 580000.0], [3.0, 550000.0], [2.0, 235000.0], [4.0, 1225000.0], [3.0, 510500.0], [4.0, 329000.0], [6.0, 740000.0], [4.0, 450000.0], [3.0, 299000.0], [3.0, 210000.0], [2.0, 437000.0], [5.0, 437000.0], [1.0, 280000.0], [2.0, 358000.0], [3.0, 299250.0], [2.0, 280000.0], [3.0, 335000.0], [3.0, 375000.0], [4.0, 995000.0], [3.0, 320000.0], [2.0, 585000.0], [3.0, 548500.0], [4.0, 830000.0], [3.0, 552000.0], [4.0, 555000.0], [4.0, 430000.0], [4.0, 250000.0], [3.0, 370000.0], [2.0, 213800.0], [5.0, 545000.0], [6.0, 570000.0], [4.0, 227000.0], [5.0, 277554.0], [3.0, 490000.0], [5.0, 1325000.0], [3.0, 385000.0], [4.0, 270000.0], [4.0, 639000.0], [4.0, 760005.0], [3.0, 502000.0], [4.0, 273500.0], [3.0, 352500.0], [5.0, 575000.0], [3.0, 350000.0], [3.0, 834000.0], [3.0, 489000.0], [5.0, 605000.0], [3.0, 396480.0], [4.0, 495000.0], [3.0, 885000.0], [4.0, 749400.0], [5.0, 519950.0], [2.0, 490000.0], [4.0, 462500.0], [3.0, 394000.0], [3.0, 680000.0], [3.0, 458500.0], [4.0, 429900.0], [4.0, 320000.0], [3.0, 467000.0], [3.0, 317000.0], [3.0, 367000.0], [5.0, 641000.0], [4.0, 605000.0], [3.0, 523950.0], [4.0, 752000.0], [3.0, 237000.0], [3.0, 950000.0], [6.0, 680000.0], [1.0, 680000.0], [3.0, 251000.0], [4.0, 325000.0], [3.0, 375000.0], [2.0, 329445.0], [2.0, 379900.0], [3.0, 374500.0], [3.0, 585000.0], [3.0, 324950.0], [4.0, 840000.0], [3.0, 571000.0], [3.0, 568500.0], [4.0, 545000.0], [3.0, 560000.0], [4.0, 548500.0], [6.0, 630000.0], [4.0, 2300000.0], [4.0, 430236.0], [3.0, 212000.0], [4.0, 610000.0], [2.0, 475000.0], [4.0, 986000.0], [5.0, 411000.0], [3.0, 423000.0], [3.0, 160000.0], [5.0, 307700.0], [3.0, 359950.0], [3.0, 456000.0], [4.0, 356500.0], [3.0, 283500.0], [3.0, 365000.0], [4.0, 1450000.0], [3.0, 388000.0], [3.0, 173250.0], [3.0, 257000.0], [3.0, 313000.0], [5.0, 1150000.0], [5.0, 3000000.0], [4.0, 398000.0], [3.0, 721500.0], [2.0, 625000.0], [5.0, 335500.0], [3.0, 452500.0], [3.0, 350000.0], [4.0, 229000.0], [5.0, 396000.0], [3.0, 380000.0], [3.0, 250000.0], [4.0, 535365.0], [3.0, 371500.0], [3.0, 535000.0], [3.0, 615000.0], [4.0, 673000.0], [3.0, 675000.0], [3.0, 695000.0], [4.0, 437000.0], [4.0, 700000.0], [4.0, 447500.0], [3.0, 244000.0], [2.0, 163500.0], [4.0, 533300.0], [5.0, 279000.0], [4.0, 357000.0], [2.0, 180000.0], [3.0, 539000.0], [4.0, 860000.0], [4.0, 324950.0], [4.0, 365000.0], [4.0, 509000.0], [3.0, 210000.0], [3.0, 470000.0], [3.0, 790000.0], [2.0, 209000.0], [3.0, 525000.0], [4.0, 315000.0], [4.0, 480000.0], [4.0, 585000.0], [3.0, 319990.0], [1.0, 267000.0], [3.0, 515000.0], [4.0, 734000.0], [3.0, 267000.0], [2.0, 310000.0], [3.0, 625504.0], [3.0, 342450.0], [3.0, 465000.0], [2.0, 680200.0], [3.0, 600000.0], [4.0, 255000.0], [3.0, 405000.0], [5.0, 1100000.0], [4.0, 720000.0], [2.0, 139000.0], [3.0, 299950.0], [3.0, 625000.0], [4.0, 1160000.0], [4.0, 1500000.0], [3.0, 424000.0], [4.0, 250000.0], [3.0, 287000.0], [4.0, 339950.0], [3.0, 339000.0], [3.0, 370000.0], [4.0, 920000.0], [3.0, 475580.0], [3.0, 410000.0], [3.0, 291000.0], [3.0, 716000.0], [3.0, 380000.0], [3.0, 1289000.0], [2.0, 110000.0], [3.0, 250000.0], [3.0, 425000.0], [3.0, 325000.0], [4.0, 250000.0], [4.0, 583000.0], [5.0, 278000.0], [2.0, 798750.0], [3.0, 335000.0], [3.0, 248500.0], [3.0, 799000.0], [4.0, 298000.0], [4.0, 640000.0], [4.0, 1150000.0], [3.0, 204000.0], [3.0, 259500.0], [2.0, 375000.0], [3.0, 270000.0], [5.0, 465000.0], [1.0, 275000.0], [3.0, 291600.0], [5.0, 700000.0], [4.0, 707000.0], [3.0, 305000.0], [3.0, 580000.0], [5.0, 775000.0], [4.0, 655000.0], [4.0, 383000.0], [2.0, 935000.0], [3.0, 235000.0], [4.0, 840000.0], [3.0, 179900.0], [6.0, 1680000.0], [4.0, 249900.0], [2.0, 515000.0], [4.0, 1780000.0], [2.0, 233000.0], [4.0, 665000.0], [4.0, 340000.0], [3.0, 658000.0], [4.0, 580000.0], [4.0, 443500.0], [4.0, 490000.0], [3.0, 465000.0], [4.0, 752000.0], [4.0, 205000.0], [3.0, 240000.0], [2.0, 425000.0], [5.0, 985000.0], [4.0, 455000.0], [3.0, 431000.0], [4.0, 325000.0], [4.0, 1290000.0], [3.0, 505000.0], [4.0, 305000.0], [3.0, 277500.0], [3.0, 898000.0], [3.0, 565000.0], [3.0, 200000.0], [5.0, 670000.0], [5.0, 459950.0], [3.0, 346500.0], [4.0, 525000.0], [4.0, 618000.0], [2.0, 150000.0], [3.0, 380000.0], [3.0, 375000.0], [3.0, 278000.0], [2.0, 450000.0], [2.0, 326000.0], [4.0, 560000.0], [4.0, 939000.0], [2.0, 270950.0], [5.0, 547000.0], [4.0, 309600.0], [4.0, 1031000.0], [4.0, 525000.0], [2.0, 320000.0], [2.0, 200000.0], [4.0, 710000.0], [5.0, 440000.0], [3.0, 224000.0], [3.0, 522000.0], [3.0, 575000.0], [4.0, 400000.0], [3.0, 450000.0], [3.0, 229500.0], [3.0, 2250000.0], [3.0, 499000.0], [4.0, 465000.0], [4.0, 730000.0], [3.0, 157000.0], [3.0, 425000.0], [3.0, 187000.0], [3.0, 550000.0], [4.0, 680000.0], [5.0, 465000.0], [2.0, 439950.0], [3.0, 550000.0], [3.0, 449950.0], [3.0, 370000.0], [2.0, 450000.0], [3.0, 615000.0], [3.0, 250000.0], [5.0, 1350000.0], [2.0, 208400.0], [3.0, 1375000.0], [3.0, 392500.0], [3.0, 320000.0], [2.0, 513000.0], [3.0, 560000.0], [3.0, 216000.0], [4.0, 689888.0], [3.0, 323000.0], [2.0, 509500.0], [4.0, 465000.0], [3.0, 970000.0], [2.0, 320000.0], [3.0, 641200.0], [3.0, 252000.0], [3.0, 260000.0], [3.0, 590000.0], [3.0, 334000.0], [3.0, 510000.0], [5.0, 932800.0], [3.0, 395000.0], [3.0, 140000.0], [3.0, 575000.0], [3.0, 625000.0], [5.0, 510000.0], [2.0, 399950.0], [3.0, 214000.0], [3.0, 299500.0], [3.0, 475000.0], [6.0, 302000.0], [4.0, 405000.0], [3.0, 315000.0], [3.0, 1038000.0], [3.0, 387000.0], [4.0, 995000.0], [5.0, 722500.0], [4.0, 677000.0], [2.0, 438000.0], [3.0, 279000.0], [4.0, 1595000.0], [3.0, 447000.0], [3.0, 477590.0], [2.0, 267500.0], [3.0, 255000.0], [3.0, 370000.0], [3.0, 630000.0], [4.0, 465000.0], [2.0, 505000.0], [3.0, 755000.0], [2.0, 435000.0], [3.0, 811000.0], [4.0, 1050000.0], [3.0, 460000.0], [3.0, 246500.0], [3.0, 343000.0], [3.0, 525000.0], [3.0, 302495.0], [4.0, 359500.0], [3.0, 457000.0], [4.0, 339100.0], [3.0, 255000.0], [3.0, 429500.0], [3.0, 527000.0], [4.0, 1651000.0], [5.0, 465000.0], [4.0, 937500.0], [3.0, 375000.0], [3.0, 179000.0], [3.0, 499000.0], [3.0, 725000.0], [3.0, 439000.0], [5.0, 559950.0], [4.0, 415000.0], [3.0, 342000.0], [3.0, 540000.0], [4.0, 833000.0], [4.0, 825000.0], [5.0, 2575000.0], [3.0, 291000.0], [2.0, 255500.0], [6.0, 175000.0], [4.0, 2271150.0], [2.0, 650000.0], [4.0, 455000.0], [3.0, 450000.0], [3.0, 312000.0], [5.0, 825000.0], [3.0, 386380.0], [4.0, 750000.0], [4.0, 679000.0], [2.0, 400000.0], [2.0, 615000.0], [4.0, 729000.0], [5.0, 430000.0], [4.0, 745000.0], [4.0, 518000.0], [5.0, 1234582.0], [3.0, 246950.0], [4.0, 228900.0], [3.0, 762400.0], [4.0, 890000.0], [3.0, 175003.0], [2.0, 276000.0], [3.0, 657500.0], [5.0, 925000.0], [3.0, 410000.0], [3.0, 339950.0], [4.0, 219900.0], [4.0, 499950.0], [4.0, 635000.0], [4.0, 319990.0], [4.0, 740000.0], [2.0, 345000.0], [3.0, 439990.0], [4.0, 720000.0], [3.0, 253000.0], [3.0, 3200000.0], [3.0, 695000.0], [2.0, 377000.0], [5.0, 630000.0], [4.0, 429000.0], [3.0, 550000.0], [4.0, 720000.0], [1.0, 650000.0], [3.0, 490600.0], [3.0, 1145000.0], [2.0, 487028.0], [3.0, 248500.0], [7.0, 1950000.0], [3.0, 252500.0], [4.0, 238000.0], [3.0, 270000.0], [2.0, 669000.0], [2.0, 489000.0], [3.0, 259000.0], [4.0, 521000.0], [2.0, 395000.0], [3.0, 225000.0], [3.0, 225205.0], [3.0, 351000.0], [2.0, 406500.0], [3.0, 482500.0], [5.0, 358000.0], [3.0, 435000.0], [4.0, 426500.0], [4.0, 588000.0], [3.0, 1185001.0], [4.0, 465000.0], [4.0, 785000.0], [4.0, 439000.0], [2.0, 489000.0], [3.0, 440000.0], [3.0, 420000.0], [2.0, 930000.0], [3.0, 540000.0], [4.0, 1150000.0], [3.0, 590000.0], [3.0, 615000.0], [3.0, 435000.0], [3.0, 208950.0], [3.0, 1340000.0], [4.0, 515000.0], [3.0, 428000.0], [3.0, 309500.0], [3.0, 585000.0], [2.0, 341000.0], [4.0, 2880500.0], [3.0, 670000.0], [4.0, 595000.0], [4.0, 2000000.0], [3.0, 415000.0], [3.0, 276000.0], [3.0, 365000.0], [3.0, 507000.0], [3.0, 950000.0], [2.0, 320000.0], [3.0, 377000.0], [6.0, 875000.0], [3.0, 296500.0], [3.0, 875000.0], [3.0, 205000.0], [3.0, 595000.0], [3.0, 411000.0], [3.0, 354000.0], [3.0, 450000.0], [4.0, 248000.0], [3.0, 346000.0], [3.0, 543500.0], [3.0, 219000.0], [3.0, 313500.0], [3.0, 245000.0], [3.0, 390000.0], [3.0, 500000.0], [3.0, 232000.0], [3.0, 358000.0], [2.0, 535000.0], [2.0, 490000.0], [3.0, 675000.0], [4.0, 852000.0], [4.0, 462000.0], [3.0, 587100.0], [4.0, 665000.0], [3.0, 402000.0], [3.0, 212000.0], [4.0, 256000.0], [3.0, 557500.0], [4.0, 740000.0], [4.0, 1500000.0], [3.0, 241500.0], [3.0, 648000.0], [4.0, 465000.0], [6.0, 665000.0], [5.0, 855000.0], [3.0, 408474.0], [3.0, 450000.0], [4.0, 649950.0], [3.0, 738000.0], [3.0, 499950.0], [3.0, 440500.0], [3.0, 166000.0], [3.0, 350000.0], [3.0, 444950.0], [3.0, 649950.0], [3.0, 515000.0], [3.0, 208000.0], [2.0, 395000.0], [3.0, 273148.0], [3.0, 587000.0], [3.0, 286900.0], [5.0, 333800.0], [4.0, 700000.0], [4.0, 690000.0], [3.0, 497000.0], [4.0, 510000.0], [3.0, 539000.0], [3.0, 842000.0], [3.0, 396000.0], [4.0, 325000.0], [6.0, 599950.0], [4.0, 270000.0], [3.0, 398500.0], [4.0, 279000.0], [3.0, 234550.0], [5.0, 600000.0], [4.0, 475000.0], [2.0, 195000.0], [5.0, 600000.0], [5.0, 750000.0], [3.0, 222000.0], [3.0, 612000.0], [3.0, 264000.0], [3.0, 400000.0], [3.0, 1150000.0], [3.0, 530000.0], [4.0, 780000.0], [4.0, 285000.0], [3.0, 265000.0], [5.0, 820000.0], [2.0, 359950.0], [4.0, 497000.0], [4.0, 319000.0], [5.0, 588000.0], [3.0, 591000.0], [4.0, 664000.0], [2.0, 567500.0], [6.0, 915000.0], [2.0, 200000.0], [2.0, 232000.0], [5.0, 530000.0], [4.0, 365000.0], [3.0, 396000.0], [3.0, 316000.0], [3.0, 765000.0], [3.0, 438750.0], [2.0, 302860.0], [3.0, 780000.0], [3.0, 281000.0], [3.0, 299000.0], [3.0, 469950.0], [3.0, 173250.0], [4.0, 316000.0], [3.0, 655275.0], [2.0, 645500.0], [3.0, 327000.0], [2.0, 325000.0], [4.0, 272000.0], [3.0, 475000.0], [3.0, 161500.0], [4.0, 330000.0], [2.0, 276200.0], [4.0, 346300.0], [1.0, 375000.0], [3.0, 235000.0], [3.0, 277284.0], [3.0, 225000.0], [4.0, 329990.0], [3.0, 291750.0], [4.0, 625000.0], [4.0, 659500.0], [2.0, 280000.0], [4.0, 1830000.0], [3.0, 422800.0], [3.0, 315000.0], [3.0, 305000.0], [4.0, 515000.0], [3.0, 350000.0], [4.0, 242150.0], [3.0, 589950.0], [4.0, 685000.0], [3.0, 280000.0], [4.0, 495000.0], [5.0, 306000.0], [4.0, 332000.0], [5.0, 600000.0], [3.0, 419900.0], [5.0, 2321000.0], [4.0, 425000.0], [5.0, 1000000.0], [3.0, 212000.0], [4.0, 435000.0], [3.0, 140000.0], [3.0, 430000.0], [4.0, 574500.0], [4.0, 580000.0], [3.0, 300000.0], [2.0, 410000.0], [2.0, 370000.0], [2.0, 397000.0], [3.0, 280000.0], [4.0, 279000.0], [4.0, 479950.0], [3.0, 379000.0], [2.0, 250000.0], [2.0, 438000.0], [3.0, 310000.0], [3.0, 510000.0], [3.0, 554000.0], [5.0, 2200000.0], [5.0, 504600.0], [4.0, 215000.0], [5.0, 561000.0], [4.0, 375000.0], [4.0, 465000.0], [3.0, 550000.0], [5.0, 610000.0], [2.0, 650000.0], [5.0, 265000.0], [4.0, 853000.0], [3.0, 249900.0], [4.0, 330000.0], [2.0, 419950.0], [5.0, 775000.0], [2.0, 380000.0], [5.0, 1800000.0], [4.0, 825000.0], [4.0, 1198000.0], [6.0, 1500000.0], [4.0, 268500.0], [2.0, 325000.0], [4.0, 422500.0], [2.0, 170000.0], [4.0, 458450.0], [2.0, 358000.0], [3.0, 749000.0], [3.0, 260000.0], [3.0, 465000.0], [4.0, 460000.0], [3.0, 275000.0], [4.0, 750000.0], [2.0, 205000.0], [5.0, 995500.0], [3.0, 235000.0], [4.0, 585000.0], [2.0, 270000.0], [4.0, 456000.0], [2.0, 170000.0], [3.0, 605000.0], [5.0, 289999.0], [4.0, 486000.0], [2.0, 750000.0], [3.0, 635000.0], [5.0, 1610000.0], [2.0, 1262000.0], [4.0, 658100.0], [3.0, 368000.0], [2.0, 425000.0], [5.0, 405000.0], [4.0, 1430000.0], [3.0, 188200.0], [2.0, 286000.0], [3.0, 245000.0], [3.0, 415000.0], [5.0, 458000.0], [3.0, 226450.0], [3.0, 305000.0], [2.0, 259000.0], [3.0, 1500000.0], [3.0, 700000.0], [3.0, 340000.0], [3.0, 291500.0], [2.0, 298800.0], [3.0, 311000.0], [4.0, 465000.0], [2.0, 399000.0], [3.0, 268950.0], [2.0, 425000.0], [4.0, 450000.0], [4.0, 1255000.0], [2.0, 275400.0], [4.0, 476000.0], [2.0, 438400.0], [3.0, 270000.0], [4.0, 339000.0], [4.0, 449950.0], [4.0, 682000.0], [3.0, 850000.0], [4.0, 551000.0], [3.0, 394950.0], [2.0, 290000.0], [4.0, 450000.0], [4.0, 1875000.0], [2.0, 230000.0], [3.0, 417000.0], [3.0, 545000.0], [3.0, 209000.0], [2.0, 502000.0], [3.0, 1110000.0], [5.0, 285900.0], [5.0, 3345000.0], [3.0, 456500.0], [3.0, 821000.0], [3.0, 216500.0], [4.0, 620000.0], [4.0, 378000.0], [2.0, 410000.0], [2.0, 315000.0], [3.0, 256900.0], [3.0, 400000.0], [3.0, 499950.0], [4.0, 633000.0], [3.0, 315000.0], [3.0, 369950.0], [5.0, 1598000.0], [3.0, 437500.0], [3.0, 420000.0], [4.0, 519000.0], [2.0, 155000.0], [3.0, 215000.0], [5.0, 599000.0], [3.0, 435000.0], [4.0, 950000.0], [3.0, 470000.0], [4.0, 349000.0], [3.0, 525000.0], [4.0, 679975.0], [4.0, 332500.0], [2.0, 426000.0], [3.0, 638000.0], [5.0, 945000.0], [1.0, 395000.0], [4.0, 292000.0], [4.0, 395000.0], [2.0, 334000.0], [4.0, 482000.0], [3.0, 440000.0], [5.0, 470000.0], [2.0, 407000.0], [5.0, 528000.0], [4.0, 185000.0], [4.0, 724950.0], [3.0, 280000.0], [3.0, 272500.0], [5.0, 1085000.0], [3.0, 563000.0], [3.0, 320000.0], [3.0, 865000.0], [5.0, 641000.0], [2.0, 395000.0], [3.0, 484950.0], [4.0, 637500.0], [3.0, 215000.0], [5.0, 352000.0], [4.0, 550000.0], [3.0, 199500.0], [3.0, 334000.0], [3.0, 565000.0], [3.0, 499922.0], [3.0, 354950.0], [4.0, 300000.0], [3.0, 990000.0], [4.0, 675000.0], [3.0, 224097.0], [5.0, 515000.0], [4.0, 480000.0], [4.0, 730000.0], [3.0, 570000.0], [4.0, 742500.0], [4.0, 459500.0], [4.0, 306000.0], [4.0, 205000.0], [2.0, 465000.0], [3.0, 405000.0], [3.0, 389700.0], [6.0, 360000.0], [2.0, 320000.0], [3.0, 685650.0], [4.0, 399500.0], [4.0, 625000.0], [5.0, 1240415.0], [3.0, 265000.0], [3.0, 328000.0], [4.0, 604000.0], [5.0, 420000.0], [3.0, 304000.0], [4.0, 429900.0], [3.0, 268500.0], [4.0, 345000.0], [3.0, 375000.0], [4.0, 353500.0], [3.0, 165000.0], [5.0, 299000.0], [4.0, 689000.0], [4.0, 1450000.0], [4.0, 159075.0], [4.0, 2500000.0], [3.0, 650000.0], [6.0, 563000.0], [2.0, 350000.0], [3.0, 785000.0], [4.0, 296000.0], [3.0, 491300.0], [3.0, 529950.0], [5.0, 3000000.0], [2.0, 350000.0], [3.0, 340000.0], [2.0, 345000.0], [3.0, 210000.0], [2.0, 198900.0], [5.0, 830000.0], [3.0, 275000.0], [3.0, 1165000.0], [4.0, 420550.0], [4.0, 1015000.0], [4.0, 610000.0], [3.0, 790000.0], [2.0, 400000.0], [3.0, 355500.0], [3.0, 476900.0], [3.0, 578000.0], [3.0, 775000.0], [3.0, 780000.0], [3.0, 563225.0], [3.0, 229500.0], [5.0, 370000.0], [2.0, 535000.0], [3.0, 409000.0], [3.0, 440000.0], [4.0, 258000.0], [2.0, 1057000.0], [3.0, 570000.0], [5.0, 549900.0], [2.0, 295000.0], [4.0, 360000.0], [3.0, 200500.0], [5.0, 627000.0], [3.0, 665000.0], [2.0, 431000.0], [4.0, 485000.0], [3.0, 440000.0], [3.0, 539900.0], [5.0, 887250.0], [4.0, 464000.0], [3.0, 400000.0], [3.0, 349950.0], [4.0, 546800.0], [4.0, 800000.0], [3.0, 299000.0], [4.0, 505000.0], [3.0, 255000.0], [3.0, 410000.0], [2.0, 570000.0], [4.0, 625000.0], [2.0, 311000.0], [3.0, 475000.0], [3.0, 170000.0], [4.0, 815000.0], [3.0, 464000.0], [3.0, 425000.0], [2.0, 865000.0], [4.0, 329995.0], [3.0, 300000.0], [2.0, 572000.0], [4.0, 312900.0], [4.0, 540000.0], [3.0, 654000.0], [4.0, 625000.0], [4.0, 945000.0], [3.0, 420000.0], [3.0, 665000.0], [3.0, 420000.0], [4.0, 950000.0], [2.0, 457500.0], [4.0, 650000.0], [3.0, 642000.0], [1.0, 655100.0], [3.0, 556000.0], [3.0, 350000.0], [4.0, 790000.0], [4.0, 495000.0], [3.0, 267000.0], [3.0, 305000.0], [6.0, 610000.0], [5.0, 1250000.0], [3.0, 416000.0], [3.0, 530000.0], [3.0, 610000.0], [3.0, 435000.0], [4.0, 274700.0], [4.0, 458000.0], [4.0, 455000.0], [3.0, 359000.0], [4.0, 862000.0], [3.0, 907000.0], [4.0, 245000.0], [3.0, 300000.0], [3.0, 243000.0], [3.0, 409950.0], [3.0, 479950.0], [3.0, 385000.0], [2.0, 319000.0], [3.0, 1810000.0], [2.0, 319950.0], [2.0, 545000.0], [4.0, 240000.0], [4.0, 321000.0], [3.0, 229000.0], [4.0, 570000.0], [4.0, 171000.0], [2.0, 216500.0], [2.0, 150000.0], [3.0, 488000.0], [3.0, 452000.0], [5.0, 770000.0], [2.0, 350000.0], [2.0, 574000.0], [4.0, 400000.0], [4.0, 355000.0], [4.0, 700000.0], [3.0, 169000.0], [2.0, 425000.0], [3.0, 423700.0], [3.0, 350000.0], [2.0, 440000.0], [4.0, 840000.0], [2.0, 271115.0], [3.0, 415000.0], [5.0, 823000.0], [2.0, 370000.0], [4.0, 338500.0], [2.0, 270000.0], [5.0, 460000.0], [4.0, 350000.0], [3.0, 225000.0], [3.0, 521000.0], [4.0, 457000.0], [3.0, 270000.0], [3.0, 250500.0], [3.0, 732500.0], [3.0, 250000.0], [3.0, 270000.0], [4.0, 659950.0], [3.0, 299000.0], [3.0, 227000.0], [3.0, 400000.0], [3.0, 260000.0], [3.0, 530000.0], [5.0, 667000.0], [3.0, 499950.0], [3.0, 182000.0], [3.0, 155000.0], [6.0, 612000.0], [3.0, 453000.0], [3.0, 429000.0], [4.0, 840000.0], [3.0, 359000.0], [2.0, 245000.0], [4.0, 945000.0], [2.0, 440000.0], [4.0, 545000.0], [4.0, 289950.0]], \"columns\": [{\"dtype\": \"str\", \"name\": \"id\"}, {\"dtype\": \"datetime\", \"name\": \"date\"}, {\"dtype\": \"float\", \"name\": \"price\"}, {\"dtype\": \"float\", \"name\": \"bedrooms\"}, {\"dtype\": \"float\", \"name\": \"bathrooms\"}, {\"dtype\": \"float\", \"name\": \"sqft_living\"}, {\"dtype\": \"int\", \"name\": \"sqft_lot\"}, {\"dtype\": \"str\", \"name\": \"floors\"}, {\"dtype\": \"int\", \"name\": \"waterfront\"}, {\"dtype\": \"int\", \"name\": \"view\"}, {\"dtype\": \"int\", \"name\": \"condition\"}, {\"dtype\": \"int\", \"name\": \"grade\"}, {\"dtype\": \"int\", \"name\": \"sqft_above\"}, {\"dtype\": \"int\", \"name\": \"sqft_basement\"}, {\"dtype\": \"int\", \"name\": \"yr_built\"}, {\"dtype\": \"int\", \"name\": \"yr_renovated\"}, {\"dtype\": \"str\", \"name\": \"zipcode\"}, {\"dtype\": \"float\", \"name\": \"lat\"}, {\"dtype\": \"float\", \"name\": \"long\"}, {\"dtype\": \"float\", \"name\": \"sqft_living15\"}, {\"dtype\": \"float\", \"name\": \"sqft_lot15\"}]}, e);\n",
       "                });\n",
       "            })();\n",
       "        "
      ]
     },
     "metadata": {},
     "output_type": "display_data"
    }
   ],
   "source": [
    "bedroom_test_cleaned.show(view=\"Scatter Plot\", x=\"bedrooms\", y=\"price\")\n",
    "bedroom_train_cleaned.show(view=\"Scatter Plot\", x=\"bedrooms\", y=\"price\")"
   ]
  },
  {
   "cell_type": "code",
   "execution_count": 36,
   "metadata": {},
   "outputs": [
    {
     "name": "stdout",
     "output_type": "stream",
     "text": [
      "('clean_bedroom_rss :', 478067792936414.2)\n"
     ]
    }
   ],
   "source": [
    "(clean_bedroom_intercept, clean_bedroom_slope) = simple_linear_regression(bedroom_train_cleaned['bedrooms'], bedroom_train_cleaned['price'])\n",
    "clean_bedroom_rss = get_residual_sum_of_squares(bedroom_test_cleaned['bedrooms'], bedroom_test_cleaned['price'], clean_bedroom_intercept, clean_bedroom_slope)\n",
    "print('clean_bedroom_rss :', clean_bedroom_rss)"
   ]
  },
  {
   "cell_type": "code",
   "execution_count": null,
   "metadata": {},
   "outputs": [],
   "source": []
  }
 ],
 "metadata": {
  "kernelspec": {
   "display_name": "Python 2",
   "language": "python",
   "name": "python2"
  },
  "language_info": {
   "codemirror_mode": {
    "name": "ipython",
    "version": 2
   },
   "file_extension": ".py",
   "mimetype": "text/x-python",
   "name": "python",
   "nbconvert_exporter": "python",
   "pygments_lexer": "ipython2",
   "version": "2.7.14"
  }
 },
 "nbformat": 4,
 "nbformat_minor": 1
}
